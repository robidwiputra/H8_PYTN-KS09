{
 "cells": [
  {
   "cell_type": "markdown",
   "id": "e5052e0c",
   "metadata": {},
   "source": [
    "# Assignment Python 1"
   ]
  },
  {
   "cell_type": "markdown",
   "id": "dfb89b43",
   "metadata": {},
   "source": [
    "oleh Robi Dwiputra Satria\n",
    "\n",
    "PYTN-KS09-024\n",
    "\n",
    "Studi Independen - Kampus Merdeka"
   ]
  },
  {
   "cell_type": "markdown",
   "id": "0691a4bb",
   "metadata": {},
   "source": [
    "---\n",
    "## Project Overview"
   ]
  },
  {
   "cell_type": "markdown",
   "id": "a4c60107",
   "metadata": {},
   "source": [
    "Tujuan dari Assignment 1 ini adalah untuk memperkenalkan pada visualisasi data dengan Python sekonsisten mungkin. Menggunakan apa yang telah dipelajari; unduh Kumpulan Data Kejahatan London dari Kaggle. Dataset ini merupakan catatan kejahatan di wilayah metropolitan besar, seperti London, terjadi dalam pola yang berbeda. \n",
    "\n",
    "\n",
    "> Merumuskan pertanyaan dan mendapatkan uji hipotesis statistik untuk menjawab pertanyaan tersebut dengan membuat keputusan menggunakan data secara ilmiah, dan memvisualisasikan data tersebut. "
   ]
  },
  {
   "cell_type": "markdown",
   "id": "4ad61cb5",
   "metadata": {},
   "source": [
    "---\n",
    "## Import Library"
   ]
  },
  {
   "cell_type": "code",
   "execution_count": 1,
   "id": "450a2ae4",
   "metadata": {},
   "outputs": [],
   "source": [
    "# useful for data processing\n",
    "import numpy as np # useful for many scientific computing in Python\n",
    "import pandas as pd # primary data structure library\n",
    "\n",
    "# for plotting data \n",
    "%matplotlib inline\n",
    "import matplotlib as mpl \n",
    "import matplotlib.pyplot as plt\n",
    "\n",
    "# for converting images into arrays and generating word cloud images\n",
    "from PIL import Image \n",
    "from wordcloud import WordCloud, STOPWORDS\n",
    "\n",
    "# for visualizing data on an interactive Leaflet map\n",
    "import folium\n",
    "from folium import plugins"
   ]
  },
  {
   "cell_type": "code",
   "execution_count": 2,
   "id": "582a0b4c",
   "metadata": {},
   "outputs": [
    {
     "name": "stdout",
     "output_type": "stream",
     "text": [
      "Libraries are already imported!\n"
     ]
    }
   ],
   "source": [
    "print('Libraries are already imported!')"
   ]
  },
  {
   "cell_type": "markdown",
   "id": "cb2454f6",
   "metadata": {},
   "source": [
    "---\n",
    "##  Dataset"
   ]
  },
  {
   "cell_type": "markdown",
   "id": "12865e70",
   "metadata": {},
   "source": [
    "### Deskripsi singkat dataset"
   ]
  },
  {
   "cell_type": "markdown",
   "id": "7a57a8b5",
   "metadata": {},
   "source": [
    "Dataset ini mencakup jumlah laporan kriminal menurut bulan, wilayah LSOA , dan kategori utama/minor dari Jan 2008-Des 2016."
   ]
  },
  {
   "cell_type": "markdown",
   "id": "3b707b1d",
   "metadata": {},
   "source": [
    "### Nama kolom di dataset"
   ]
  },
  {
   "cell_type": "markdown",
   "id": "9989e15d",
   "metadata": {},
   "source": [
    "dataset berisi:\n",
    "\n",
    "- lsoa_code: kode area kepolisian\n",
    "- borough: area administrasi wilayah di kota london \n",
    "- major_category: kategori kejahatan utama\n",
    "- minor_category: kategori kejahatan minor\n",
    "- value: jumlah terjadinya kejahatan pada wilayah tertentu, dalam bulan tertentu\n",
    "- year: ringkasan statistik dalam tahun\n",
    "- month: ringkasan statistik dalam bulan"
   ]
  },
  {
   "cell_type": "markdown",
   "id": "dad17d07",
   "metadata": {},
   "source": [
    "### Import Dataset"
   ]
  },
  {
   "cell_type": "markdown",
   "id": "c9ac542d",
   "metadata": {},
   "source": [
    "Dataset _London Crime LSOA_ dalam rentang Januari 2008 - Desember 2016, dapat diakses pada [link](https://www.kaggle.com/datasets/jboysen/london-crime) berikut ini."
   ]
  },
  {
   "cell_type": "code",
   "execution_count": 3,
   "id": "4ab8a9e2",
   "metadata": {},
   "outputs": [],
   "source": [
    "df_lsoa = pd.read_csv('london_crime_by_lsoa.csv')"
   ]
  },
  {
   "cell_type": "code",
   "execution_count": 4,
   "id": "3070292c",
   "metadata": {},
   "outputs": [
    {
     "data": {
      "text/html": [
       "<div>\n",
       "<style scoped>\n",
       "    .dataframe tbody tr th:only-of-type {\n",
       "        vertical-align: middle;\n",
       "    }\n",
       "\n",
       "    .dataframe tbody tr th {\n",
       "        vertical-align: top;\n",
       "    }\n",
       "\n",
       "    .dataframe thead th {\n",
       "        text-align: right;\n",
       "    }\n",
       "</style>\n",
       "<table border=\"1\" class=\"dataframe\">\n",
       "  <thead>\n",
       "    <tr style=\"text-align: right;\">\n",
       "      <th></th>\n",
       "      <th>lsoa_code</th>\n",
       "      <th>borough</th>\n",
       "      <th>major_category</th>\n",
       "      <th>minor_category</th>\n",
       "      <th>value</th>\n",
       "      <th>year</th>\n",
       "      <th>month</th>\n",
       "    </tr>\n",
       "  </thead>\n",
       "  <tbody>\n",
       "    <tr>\n",
       "      <th>0</th>\n",
       "      <td>E01001116</td>\n",
       "      <td>Croydon</td>\n",
       "      <td>Burglary</td>\n",
       "      <td>Burglary in Other Buildings</td>\n",
       "      <td>0</td>\n",
       "      <td>2016</td>\n",
       "      <td>11</td>\n",
       "    </tr>\n",
       "    <tr>\n",
       "      <th>1</th>\n",
       "      <td>E01001646</td>\n",
       "      <td>Greenwich</td>\n",
       "      <td>Violence Against the Person</td>\n",
       "      <td>Other violence</td>\n",
       "      <td>0</td>\n",
       "      <td>2016</td>\n",
       "      <td>11</td>\n",
       "    </tr>\n",
       "    <tr>\n",
       "      <th>2</th>\n",
       "      <td>E01000677</td>\n",
       "      <td>Bromley</td>\n",
       "      <td>Violence Against the Person</td>\n",
       "      <td>Other violence</td>\n",
       "      <td>0</td>\n",
       "      <td>2015</td>\n",
       "      <td>5</td>\n",
       "    </tr>\n",
       "    <tr>\n",
       "      <th>3</th>\n",
       "      <td>E01003774</td>\n",
       "      <td>Redbridge</td>\n",
       "      <td>Burglary</td>\n",
       "      <td>Burglary in Other Buildings</td>\n",
       "      <td>0</td>\n",
       "      <td>2016</td>\n",
       "      <td>3</td>\n",
       "    </tr>\n",
       "    <tr>\n",
       "      <th>4</th>\n",
       "      <td>E01004563</td>\n",
       "      <td>Wandsworth</td>\n",
       "      <td>Robbery</td>\n",
       "      <td>Personal Property</td>\n",
       "      <td>0</td>\n",
       "      <td>2008</td>\n",
       "      <td>6</td>\n",
       "    </tr>\n",
       "  </tbody>\n",
       "</table>\n",
       "</div>"
      ],
      "text/plain": [
       "   lsoa_code     borough               major_category  \\\n",
       "0  E01001116     Croydon                     Burglary   \n",
       "1  E01001646   Greenwich  Violence Against the Person   \n",
       "2  E01000677     Bromley  Violence Against the Person   \n",
       "3  E01003774   Redbridge                     Burglary   \n",
       "4  E01004563  Wandsworth                      Robbery   \n",
       "\n",
       "                minor_category  value  year  month  \n",
       "0  Burglary in Other Buildings      0  2016     11  \n",
       "1               Other violence      0  2016     11  \n",
       "2               Other violence      0  2015      5  \n",
       "3  Burglary in Other Buildings      0  2016      3  \n",
       "4            Personal Property      0  2008      6  "
      ]
     },
     "execution_count": 4,
     "metadata": {},
     "output_type": "execute_result"
    }
   ],
   "source": [
    "df_lsoa.head() # menampilkan 5 baris pertama"
   ]
  },
  {
   "cell_type": "markdown",
   "id": "16397264",
   "metadata": {},
   "source": [
    "---\n",
    "## Preproses dataset sebelum visualisasi data"
   ]
  },
  {
   "cell_type": "markdown",
   "id": "c1efc383",
   "metadata": {},
   "source": [
    "Hal yang dilakukan pada tahap preproses ini adalah: <br>\n",
    "1. Mengubah semua nama kolom menjadi Bahasa Indonesia sesuai dengan keterangan pada setiap kolom. Hal ini dilakukan \n",
    "untuk memudahkan proses pemrograman.\n",
    "2. Mengenali data dengan mengetahui dimensi (baris, kolom) dari dataset dan fitur/atribut/kolom yang terdapat pada dataset.\n",
    "3. Mengetahui apakah tipe data sudah sesuai dengan masing-masing kolom.\n",
    "4. Mengetahui standard missing values yang terdapat pada dataset, yang meliputi:\n",
    "<br> - _Standard Missing Values_\n",
    "<br> - _Non-Standard Missing Values_\n",
    "<br> - _Unexpected Missing Values_\n",
    "<br> - _Summarizing Missing Values_\n",
    "5. Menangani missing values (jika ada) dengan mengisinya menggunakan nilai median dari kolom yang terdapat missing values."
   ]
  },
  {
   "cell_type": "markdown",
   "id": "ffdbcef1",
   "metadata": {},
   "source": [
    "---\n",
    "## Mengenal dan preproses dataset"
   ]
  },
  {
   "cell_type": "code",
   "execution_count": 5,
   "id": "a5ae0052",
   "metadata": {},
   "outputs": [
    {
     "data": {
      "text/html": [
       "<div>\n",
       "<style scoped>\n",
       "    .dataframe tbody tr th:only-of-type {\n",
       "        vertical-align: middle;\n",
       "    }\n",
       "\n",
       "    .dataframe tbody tr th {\n",
       "        vertical-align: top;\n",
       "    }\n",
       "\n",
       "    .dataframe thead th {\n",
       "        text-align: right;\n",
       "    }\n",
       "</style>\n",
       "<table border=\"1\" class=\"dataframe\">\n",
       "  <thead>\n",
       "    <tr style=\"text-align: right;\">\n",
       "      <th></th>\n",
       "      <th>lsoa_code</th>\n",
       "      <th>borough</th>\n",
       "      <th>major_category</th>\n",
       "      <th>minor_category</th>\n",
       "      <th>value</th>\n",
       "      <th>year</th>\n",
       "      <th>month</th>\n",
       "    </tr>\n",
       "  </thead>\n",
       "  <tbody>\n",
       "    <tr>\n",
       "      <th>0</th>\n",
       "      <td>E01001116</td>\n",
       "      <td>Croydon</td>\n",
       "      <td>Burglary</td>\n",
       "      <td>Burglary in Other Buildings</td>\n",
       "      <td>0</td>\n",
       "      <td>2016</td>\n",
       "      <td>11</td>\n",
       "    </tr>\n",
       "    <tr>\n",
       "      <th>1</th>\n",
       "      <td>E01001646</td>\n",
       "      <td>Greenwich</td>\n",
       "      <td>Violence Against the Person</td>\n",
       "      <td>Other violence</td>\n",
       "      <td>0</td>\n",
       "      <td>2016</td>\n",
       "      <td>11</td>\n",
       "    </tr>\n",
       "    <tr>\n",
       "      <th>2</th>\n",
       "      <td>E01000677</td>\n",
       "      <td>Bromley</td>\n",
       "      <td>Violence Against the Person</td>\n",
       "      <td>Other violence</td>\n",
       "      <td>0</td>\n",
       "      <td>2015</td>\n",
       "      <td>5</td>\n",
       "    </tr>\n",
       "  </tbody>\n",
       "</table>\n",
       "</div>"
      ],
      "text/plain": [
       "   lsoa_code    borough               major_category  \\\n",
       "0  E01001116    Croydon                     Burglary   \n",
       "1  E01001646  Greenwich  Violence Against the Person   \n",
       "2  E01000677    Bromley  Violence Against the Person   \n",
       "\n",
       "                minor_category  value  year  month  \n",
       "0  Burglary in Other Buildings      0  2016     11  \n",
       "1               Other violence      0  2016     11  \n",
       "2               Other violence      0  2015      5  "
      ]
     },
     "execution_count": 5,
     "metadata": {},
     "output_type": "execute_result"
    }
   ],
   "source": [
    "### Menampilkan 3 baris pertama dataset\n",
    "df_lsoa.head(3)"
   ]
  },
  {
   "cell_type": "markdown",
   "id": "5274d3a5",
   "metadata": {},
   "source": [
    "### Mengubah nama pada setiap kolom"
   ]
  },
  {
   "cell_type": "code",
   "execution_count": 6,
   "id": "91329e38",
   "metadata": {},
   "outputs": [],
   "source": [
    "df_lsoa.rename(\n",
    "    columns = {'lsoa_code' : 'kode_area',\n",
    "               'borough' : 'wilayah', \n",
    "               'major_category' : 'kejahatan_mayor',\n",
    "               'minor_category' : 'kejahatan_minor',\n",
    "               'value' : 'jumlah_kasus',\n",
    "               'year' : 'tahun',\n",
    "               'month' : 'bulan'}, \n",
    "    inplace = True)"
   ]
  },
  {
   "cell_type": "code",
   "execution_count": 7,
   "id": "a462f8d9",
   "metadata": {},
   "outputs": [
    {
     "data": {
      "text/html": [
       "<div>\n",
       "<style scoped>\n",
       "    .dataframe tbody tr th:only-of-type {\n",
       "        vertical-align: middle;\n",
       "    }\n",
       "\n",
       "    .dataframe tbody tr th {\n",
       "        vertical-align: top;\n",
       "    }\n",
       "\n",
       "    .dataframe thead th {\n",
       "        text-align: right;\n",
       "    }\n",
       "</style>\n",
       "<table border=\"1\" class=\"dataframe\">\n",
       "  <thead>\n",
       "    <tr style=\"text-align: right;\">\n",
       "      <th></th>\n",
       "      <th>kode_area</th>\n",
       "      <th>wilayah</th>\n",
       "      <th>kejahatan_mayor</th>\n",
       "      <th>kejahatan_minor</th>\n",
       "      <th>jumlah_kasus</th>\n",
       "      <th>tahun</th>\n",
       "      <th>bulan</th>\n",
       "    </tr>\n",
       "  </thead>\n",
       "  <tbody>\n",
       "    <tr>\n",
       "      <th>0</th>\n",
       "      <td>E01001116</td>\n",
       "      <td>Croydon</td>\n",
       "      <td>Burglary</td>\n",
       "      <td>Burglary in Other Buildings</td>\n",
       "      <td>0</td>\n",
       "      <td>2016</td>\n",
       "      <td>11</td>\n",
       "    </tr>\n",
       "    <tr>\n",
       "      <th>1</th>\n",
       "      <td>E01001646</td>\n",
       "      <td>Greenwich</td>\n",
       "      <td>Violence Against the Person</td>\n",
       "      <td>Other violence</td>\n",
       "      <td>0</td>\n",
       "      <td>2016</td>\n",
       "      <td>11</td>\n",
       "    </tr>\n",
       "    <tr>\n",
       "      <th>2</th>\n",
       "      <td>E01000677</td>\n",
       "      <td>Bromley</td>\n",
       "      <td>Violence Against the Person</td>\n",
       "      <td>Other violence</td>\n",
       "      <td>0</td>\n",
       "      <td>2015</td>\n",
       "      <td>5</td>\n",
       "    </tr>\n",
       "  </tbody>\n",
       "</table>\n",
       "</div>"
      ],
      "text/plain": [
       "   kode_area    wilayah              kejahatan_mayor  \\\n",
       "0  E01001116    Croydon                     Burglary   \n",
       "1  E01001646  Greenwich  Violence Against the Person   \n",
       "2  E01000677    Bromley  Violence Against the Person   \n",
       "\n",
       "               kejahatan_minor  jumlah_kasus  tahun  bulan  \n",
       "0  Burglary in Other Buildings             0   2016     11  \n",
       "1               Other violence             0   2016     11  \n",
       "2               Other violence             0   2015      5  "
      ]
     },
     "execution_count": 7,
     "metadata": {},
     "output_type": "execute_result"
    }
   ],
   "source": [
    "df_lsoa.head(3)"
   ]
  },
  {
   "cell_type": "markdown",
   "id": "da088233",
   "metadata": {},
   "source": [
    "### Mengetahui dimensi (baris, kolom) dari dataset"
   ]
  },
  {
   "cell_type": "code",
   "execution_count": 8,
   "id": "02878015",
   "metadata": {},
   "outputs": [
    {
     "name": "stdout",
     "output_type": "stream",
     "text": [
      "13490604 baris\n",
      "7 kolom\n"
     ]
    }
   ],
   "source": [
    "baris, kolom = df_lsoa.shape\n",
    "print(baris, 'baris')\n",
    "print(kolom, 'kolom')"
   ]
  },
  {
   "cell_type": "markdown",
   "id": "5348471e",
   "metadata": {},
   "source": [
    "### Menampilkan ringkasan data"
   ]
  },
  {
   "cell_type": "code",
   "execution_count": 9,
   "id": "5ad20fbd",
   "metadata": {},
   "outputs": [
    {
     "name": "stdout",
     "output_type": "stream",
     "text": [
      "Index(['kode_area', 'wilayah', 'kejahatan_mayor', 'kejahatan_minor',\n",
      "       'jumlah_kasus', 'tahun', 'bulan'],\n",
      "      dtype='object')\n"
     ]
    }
   ],
   "source": [
    "# menampilkan daftar fitur/atribut/kolom yang terdapat pada dataset\n",
    "column_list = df_lsoa.columns\n",
    "print(column_list)"
   ]
  },
  {
   "cell_type": "code",
   "execution_count": 10,
   "id": "435d042f",
   "metadata": {},
   "outputs": [
    {
     "data": {
      "text/html": [
       "<div>\n",
       "<style scoped>\n",
       "    .dataframe tbody tr th:only-of-type {\n",
       "        vertical-align: middle;\n",
       "    }\n",
       "\n",
       "    .dataframe tbody tr th {\n",
       "        vertical-align: top;\n",
       "    }\n",
       "\n",
       "    .dataframe thead th {\n",
       "        text-align: right;\n",
       "    }\n",
       "</style>\n",
       "<table border=\"1\" class=\"dataframe\">\n",
       "  <thead>\n",
       "    <tr style=\"text-align: right;\">\n",
       "      <th></th>\n",
       "      <th>jumlah_kasus</th>\n",
       "      <th>tahun</th>\n",
       "      <th>bulan</th>\n",
       "    </tr>\n",
       "  </thead>\n",
       "  <tbody>\n",
       "    <tr>\n",
       "      <th>count</th>\n",
       "      <td>1.349060e+07</td>\n",
       "      <td>1.349060e+07</td>\n",
       "      <td>1.349060e+07</td>\n",
       "    </tr>\n",
       "    <tr>\n",
       "      <th>mean</th>\n",
       "      <td>4.779444e-01</td>\n",
       "      <td>2.012000e+03</td>\n",
       "      <td>6.500000e+00</td>\n",
       "    </tr>\n",
       "    <tr>\n",
       "      <th>std</th>\n",
       "      <td>1.771513e+00</td>\n",
       "      <td>2.581989e+00</td>\n",
       "      <td>3.452053e+00</td>\n",
       "    </tr>\n",
       "    <tr>\n",
       "      <th>min</th>\n",
       "      <td>0.000000e+00</td>\n",
       "      <td>2.008000e+03</td>\n",
       "      <td>1.000000e+00</td>\n",
       "    </tr>\n",
       "    <tr>\n",
       "      <th>25%</th>\n",
       "      <td>0.000000e+00</td>\n",
       "      <td>2.010000e+03</td>\n",
       "      <td>3.750000e+00</td>\n",
       "    </tr>\n",
       "    <tr>\n",
       "      <th>50%</th>\n",
       "      <td>0.000000e+00</td>\n",
       "      <td>2.012000e+03</td>\n",
       "      <td>6.500000e+00</td>\n",
       "    </tr>\n",
       "    <tr>\n",
       "      <th>75%</th>\n",
       "      <td>1.000000e+00</td>\n",
       "      <td>2.014000e+03</td>\n",
       "      <td>9.250000e+00</td>\n",
       "    </tr>\n",
       "    <tr>\n",
       "      <th>max</th>\n",
       "      <td>3.090000e+02</td>\n",
       "      <td>2.016000e+03</td>\n",
       "      <td>1.200000e+01</td>\n",
       "    </tr>\n",
       "  </tbody>\n",
       "</table>\n",
       "</div>"
      ],
      "text/plain": [
       "       jumlah_kasus         tahun         bulan\n",
       "count  1.349060e+07  1.349060e+07  1.349060e+07\n",
       "mean   4.779444e-01  2.012000e+03  6.500000e+00\n",
       "std    1.771513e+00  2.581989e+00  3.452053e+00\n",
       "min    0.000000e+00  2.008000e+03  1.000000e+00\n",
       "25%    0.000000e+00  2.010000e+03  3.750000e+00\n",
       "50%    0.000000e+00  2.012000e+03  6.500000e+00\n",
       "75%    1.000000e+00  2.014000e+03  9.250000e+00\n",
       "max    3.090000e+02  2.016000e+03  1.200000e+01"
      ]
     },
     "execution_count": 10,
     "metadata": {},
     "output_type": "execute_result"
    }
   ],
   "source": [
    "# Menampilkan statistika deskriptif berdasarkan tipe data numerik\n",
    "df_lsoa.describe()"
   ]
  },
  {
   "cell_type": "code",
   "execution_count": 11,
   "id": "292e7da0",
   "metadata": {},
   "outputs": [
    {
     "data": {
      "text/html": [
       "<div>\n",
       "<style scoped>\n",
       "    .dataframe tbody tr th:only-of-type {\n",
       "        vertical-align: middle;\n",
       "    }\n",
       "\n",
       "    .dataframe tbody tr th {\n",
       "        vertical-align: top;\n",
       "    }\n",
       "\n",
       "    .dataframe thead th {\n",
       "        text-align: right;\n",
       "    }\n",
       "</style>\n",
       "<table border=\"1\" class=\"dataframe\">\n",
       "  <thead>\n",
       "    <tr style=\"text-align: right;\">\n",
       "      <th></th>\n",
       "      <th>kode_area</th>\n",
       "      <th>wilayah</th>\n",
       "      <th>kejahatan_mayor</th>\n",
       "      <th>kejahatan_minor</th>\n",
       "    </tr>\n",
       "  </thead>\n",
       "  <tbody>\n",
       "    <tr>\n",
       "      <th>count</th>\n",
       "      <td>13490604</td>\n",
       "      <td>13490604</td>\n",
       "      <td>13490604</td>\n",
       "      <td>13490604</td>\n",
       "    </tr>\n",
       "    <tr>\n",
       "      <th>unique</th>\n",
       "      <td>4835</td>\n",
       "      <td>33</td>\n",
       "      <td>9</td>\n",
       "      <td>32</td>\n",
       "    </tr>\n",
       "    <tr>\n",
       "      <th>top</th>\n",
       "      <td>E01003689</td>\n",
       "      <td>Croydon</td>\n",
       "      <td>Theft and Handling</td>\n",
       "      <td>Common Assault</td>\n",
       "    </tr>\n",
       "    <tr>\n",
       "      <th>freq</th>\n",
       "      <td>3456</td>\n",
       "      <td>602100</td>\n",
       "      <td>3966300</td>\n",
       "      <td>522180</td>\n",
       "    </tr>\n",
       "  </tbody>\n",
       "</table>\n",
       "</div>"
      ],
      "text/plain": [
       "        kode_area   wilayah     kejahatan_mayor kejahatan_minor\n",
       "count    13490604  13490604            13490604        13490604\n",
       "unique       4835        33                   9              32\n",
       "top     E01003689   Croydon  Theft and Handling  Common Assault\n",
       "freq         3456    602100             3966300          522180"
      ]
     },
     "execution_count": 11,
     "metadata": {},
     "output_type": "execute_result"
    }
   ],
   "source": [
    "# Menampilkan statistika deskriptif berdasarkan tipe data objek\n",
    "df_lsoa.describe(include = 'O')"
   ]
  },
  {
   "cell_type": "markdown",
   "id": "1f906777",
   "metadata": {},
   "source": [
    "## Mengatasi _missing values_  pada dataset"
   ]
  },
  {
   "cell_type": "markdown",
   "id": "e38241fc",
   "metadata": {},
   "source": [
    "### Mengetahui Standard Missing Values dan Non-Standard Missing Values"
   ]
  },
  {
   "cell_type": "markdown",
   "id": "8247a94a",
   "metadata": {},
   "source": [
    "Melakukan preproses dataset dengan mengenali dan mengubah Non-Standard Missing Values (jika ada) menjadi bentuk **Standard Missing Values**."
   ]
  },
  {
   "cell_type": "code",
   "execution_count": 12,
   "id": "a75363be",
   "metadata": {},
   "outputs": [],
   "source": [
    "# mengumpulkan missing values dalam suatu list pada parameter missing_values\n",
    "missing_values = ['n/a', 'NA', '--', 'na']"
   ]
  },
  {
   "cell_type": "code",
   "execution_count": 13,
   "id": "e29265d2",
   "metadata": {},
   "outputs": [
    {
     "name": "stdout",
     "output_type": "stream",
     "text": [
      "Jumlah Standard Missing Values pada kolom kode_area adalah 0\n",
      "Jumlah Standard Missing Values pada kolom wilayah adalah 0\n",
      "Jumlah Standard Missing Values pada kolom kejahatan_mayor adalah 0\n",
      "Jumlah Standard Missing Values pada kolom kejahatan_minor adalah 0\n",
      "Jumlah Standard Missing Values pada kolom jumlah_kasus adalah 0\n",
      "Jumlah Standard Missing Values pada kolom tahun adalah 0\n",
      "Jumlah Standard Missing Values pada kolom bulan adalah 0\n"
     ]
    }
   ],
   "source": [
    "# mengecek standard missing values dan non-standard missing values pada setiap kolom\n",
    "for i in column_list:\n",
    "    print('Jumlah Standard Missing Values pada kolom {} adalah {}'.format(\n",
    "    i, df_lsoa[i].isnull().sum()))"
   ]
  },
  {
   "cell_type": "markdown",
   "id": "3a5f7b53",
   "metadata": {},
   "source": [
    "**Analisis:** Tidak terdapat _standard missing values_ maupun _non-standard missing values_ pada dataset"
   ]
  },
  {
   "cell_type": "markdown",
   "id": "a85c3a53",
   "metadata": {},
   "source": [
    "### Mengetahui Unexpected Missing Values"
   ]
  },
  {
   "cell_type": "markdown",
   "id": "a147750f",
   "metadata": {},
   "source": [
    "Melakukan preproses dataset dengan melihat **kesesuaian** antara kolom dengan tipe data yang dimuat pada setiap kolom"
   ]
  },
  {
   "cell_type": "code",
   "execution_count": 14,
   "id": "76a9ea27",
   "metadata": {},
   "outputs": [
    {
     "name": "stdout",
     "output_type": "stream",
     "text": [
      "<class 'pandas.core.frame.DataFrame'>\n",
      "RangeIndex: 13490604 entries, 0 to 13490603\n",
      "Data columns (total 7 columns):\n",
      " #   Column           Dtype \n",
      "---  ------           ----- \n",
      " 0   kode_area        object\n",
      " 1   wilayah          object\n",
      " 2   kejahatan_mayor  object\n",
      " 3   kejahatan_minor  object\n",
      " 4   jumlah_kasus     int64 \n",
      " 5   tahun            int64 \n",
      " 6   bulan            int64 \n",
      "dtypes: int64(3), object(4)\n",
      "memory usage: 720.5+ MB\n"
     ]
    }
   ],
   "source": [
    "# melihat tipe data untuk setiap kolom\n",
    "df_lsoa.info()"
   ]
  },
  {
   "cell_type": "code",
   "execution_count": 15,
   "id": "9700f640",
   "metadata": {},
   "outputs": [
    {
     "name": "stdout",
     "output_type": "stream",
     "text": [
      "Jumlah nilai unik untuk kolom kode_area bernilai 4835 \n",
      " nilai unik = ['E01001116' 'E01001646' 'E01000677' ... 'E01001562' 'E01002598'\n",
      " 'E01001111']\n",
      "===============================================================\n",
      "\n",
      "Jumlah nilai unik untuk kolom wilayah bernilai 33 \n",
      " nilai unik = ['Croydon' 'Greenwich' 'Bromley' 'Redbridge' 'Wandsworth' 'Ealing'\n",
      " 'Hounslow' 'Newham' 'Sutton' 'Haringey' 'Lambeth' 'Richmond upon Thames'\n",
      " 'Hillingdon' 'Havering' 'Barking and Dagenham' 'Kingston upon Thames'\n",
      " 'Westminster' 'Hackney' 'Enfield' 'Harrow' 'Lewisham' 'Brent' 'Southwark'\n",
      " 'Barnet' 'Waltham Forest' 'Camden' 'Bexley' 'Kensington and Chelsea'\n",
      " 'Islington' 'Tower Hamlets' 'Hammersmith and Fulham' 'Merton'\n",
      " 'City of London']\n",
      "===============================================================\n",
      "\n",
      "Jumlah nilai unik untuk kolom kejahatan_mayor bernilai 9 \n",
      " nilai unik = ['Burglary' 'Violence Against the Person' 'Robbery' 'Theft and Handling'\n",
      " 'Criminal Damage' 'Drugs' 'Fraud or Forgery' 'Other Notifiable Offences'\n",
      " 'Sexual Offences']\n",
      "===============================================================\n",
      "\n",
      "Jumlah nilai unik untuk kolom kejahatan_minor bernilai 32 \n",
      " nilai unik = ['Burglary in Other Buildings' 'Other violence' 'Personal Property'\n",
      " 'Other Theft' 'Offensive Weapon' 'Criminal Damage To Other Building'\n",
      " 'Theft/Taking of Pedal Cycle' 'Motor Vehicle Interference & Tampering'\n",
      " 'Theft/Taking Of Motor Vehicle' 'Wounding/GBH' 'Other Theft Person'\n",
      " 'Common Assault' 'Theft From Shops' 'Possession Of Drugs' 'Harassment'\n",
      " 'Handling Stolen Goods' 'Criminal Damage To Dwelling'\n",
      " 'Burglary in a Dwelling' 'Criminal Damage To Motor Vehicle'\n",
      " 'Other Criminal Damage' 'Counted per Victim' 'Going Equipped'\n",
      " 'Other Fraud & Forgery' 'Assault with Injury' 'Drug Trafficking'\n",
      " 'Other Drugs' 'Business Property' 'Other Notifiable' 'Other Sexual'\n",
      " 'Theft From Motor Vehicle' 'Rape' 'Murder']\n",
      "===============================================================\n",
      "\n",
      "Jumlah nilai unik untuk kolom jumlah_kasus bernilai 247 \n",
      " nilai unik = [  0   1   2   3   4   9   5   6   7  10  18  11  16   8  72  12  53  14\n",
      "  19  15  17  20  43  50  37  57  21  13  80  25  28  22  58  33  29  38\n",
      "  88  23 111  40  39  60  26  48  32  66 122  47  30 118  75  54  51  67\n",
      "  45  35  24 117  27  68  99  65  84  34  55  81 112 119  71 113  36  61\n",
      "  46  31  59  44 149  49 241 104  69  77  41  64  42 167  73  74 165 107\n",
      "  86  52  63  79 103 106  70  90  91 148 130  62 136  98  92 141  78  82\n",
      "  56 194 168 152 204 114 153 116 157 131 120  96 101  97  95 309 142  87\n",
      " 146 195  93 166 144  94 161 135 170  76 127 210  83 150 186 156 124  85\n",
      " 174 221 163 109 110  89 115 138 140 121 139 105 129 177 237 235 226 199\n",
      " 240 189 280 100 102 288 134 244 211 158 187 137 123 164 108 224 201 233\n",
      " 132 220 126 154 133 257 178 214 147 229 176 202 230 155 162 160 203 248\n",
      " 215 172 192 208 232 197 173 216 205 180 151 184 179 243 188 228 159 254\n",
      " 267 247 196 181 193 260 169 281 212 183 128 217 143 239 200 249 125 253\n",
      " 145 185 190 286 258 182 175 198 262 251 236 300 218]\n",
      "===============================================================\n",
      "\n",
      "Jumlah nilai unik untuk kolom tahun bernilai 9 \n",
      " nilai unik = [2016 2015 2008 2012 2010 2013 2014 2011 2009]\n",
      "===============================================================\n",
      "\n",
      "Jumlah nilai unik untuk kolom bulan bernilai 12 \n",
      " nilai unik = [11  5  3  6  7  4  9  8 12  1 10  2]\n",
      "===============================================================\n",
      "\n"
     ]
    }
   ],
   "source": [
    "# Mengetahui jumlah nilai unik setiap kolom\n",
    "\n",
    "for i in df_lsoa.columns:\n",
    "    print('Jumlah nilai unik untuk kolom {} bernilai {} \\n nilai unik = {}'.format\n",
    "          (i, len(df_lsoa[i].unique()), df_lsoa[i].unique()))\n",
    "    print('===============================================================\\n')"
   ]
  },
  {
   "cell_type": "markdown",
   "id": "a57a31d1",
   "metadata": {},
   "source": [
    "**Analisis:** Tidak terdapat _unexpected missing values_, karena setiap data sudah sesuai untuk setiap kolomnya, tipe data string (str) digunakan untuk kolom [**kode_area, wilayah, kejahatan_mayor, kejahatan_minor**] dan tipe data integer (int) digunakan untuk kolom [**jumlah_kasus, tahun, bulan**]."
   ]
  },
  {
   "cell_type": "markdown",
   "id": "3fc15222",
   "metadata": {},
   "source": [
    "### Summarizing Missing Values"
   ]
  },
  {
   "cell_type": "code",
   "execution_count": 16,
   "id": "25b3b0e9",
   "metadata": {},
   "outputs": [
    {
     "name": "stdout",
     "output_type": "stream",
     "text": [
      "Jumlah missing values = 0\n"
     ]
    }
   ],
   "source": [
    "# mengetahui jumlah keseluruhan missing values \n",
    "\n",
    "print('Jumlah missing values =', \n",
    "      df_lsoa.isnull().sum().sum())"
   ]
  },
  {
   "cell_type": "markdown",
   "id": "0a22ce1c",
   "metadata": {},
   "source": [
    "---\n",
    "## Membuat DataFrame baru sesuai kebutuhan"
   ]
  },
  {
   "cell_type": "markdown",
   "id": "918dd93f",
   "metadata": {},
   "source": [
    "### DataFrame untuk melihat total kasus kejahatan pada setiap wilayah untuk setiap tahun"
   ]
  },
  {
   "cell_type": "code",
   "execution_count": 17,
   "id": "948b35a2",
   "metadata": {},
   "outputs": [],
   "source": [
    "data = {}\n",
    "# mengubah atribut tahun menjadi bentuk list tahun\n",
    "years = list(map(int,np.sort(df_lsoa['tahun'].unique())))\n",
    "# memanggil seluruh data fitur tahun, grouping berdasarkan 'wilayah' dan dijumlahkan berdasarkan 'jumlah kasus'\n",
    "for year in years:\n",
    "    wilayah_thn = df_lsoa[df_lsoa['tahun'] == year].groupby(\"wilayah\")[\"jumlah_kasus\"].sum()\n",
    "    \n",
    "    # membuat series untuk mengisi data (jumlah kasus) pada DataFrame\n",
    "    data[year] = pd.Series(data=map(int, wilayah_thn.reset_index()\n",
    "                                    ['jumlah_kasus'].values), \n",
    "                                index = wilayah_thn.index)\n",
    "\n",
    "# Membuat dataframe dengan 'wilayah' sebagai index dan 'years' sebagai columns\n",
    "df_borough_year = pd.DataFrame(data=data,\n",
    "                                 index=list(df_lsoa['wilayah'].unique()),\n",
    "                                 columns=years)\n",
    "\n",
    "# menambahkan kolom baru 'total' yang memuat jumlah total terjadinya kejahatan pada wilayah tertentu\n",
    "df_borough_year['total'] = df_borough_year[years].sum(axis=1)\n",
    "# mengurutkan index dari yang terbesar berdasarkan jumlah total kejahatan\n",
    "df_borough_year.sort_values(by='total', ascending = False, inplace = True)"
   ]
  },
  {
   "cell_type": "code",
   "execution_count": 18,
   "id": "e7fa05fa",
   "metadata": {},
   "outputs": [
    {
     "data": {
      "text/html": [
       "<div>\n",
       "<style scoped>\n",
       "    .dataframe tbody tr th:only-of-type {\n",
       "        vertical-align: middle;\n",
       "    }\n",
       "\n",
       "    .dataframe tbody tr th {\n",
       "        vertical-align: top;\n",
       "    }\n",
       "\n",
       "    .dataframe thead th {\n",
       "        text-align: right;\n",
       "    }\n",
       "</style>\n",
       "<table border=\"1\" class=\"dataframe\">\n",
       "  <thead>\n",
       "    <tr style=\"text-align: right;\">\n",
       "      <th></th>\n",
       "      <th>2008</th>\n",
       "      <th>2009</th>\n",
       "      <th>2010</th>\n",
       "      <th>2011</th>\n",
       "      <th>2012</th>\n",
       "      <th>2013</th>\n",
       "      <th>2014</th>\n",
       "      <th>2015</th>\n",
       "      <th>2016</th>\n",
       "      <th>total</th>\n",
       "    </tr>\n",
       "  </thead>\n",
       "  <tbody>\n",
       "    <tr>\n",
       "      <th>Westminster</th>\n",
       "      <td>47846</td>\n",
       "      <td>48456</td>\n",
       "      <td>48116</td>\n",
       "      <td>54243</td>\n",
       "      <td>59226</td>\n",
       "      <td>53852</td>\n",
       "      <td>47564</td>\n",
       "      <td>47395</td>\n",
       "      <td>48330</td>\n",
       "      <td>455028</td>\n",
       "    </tr>\n",
       "    <tr>\n",
       "      <th>Lambeth</th>\n",
       "      <td>31717</td>\n",
       "      <td>31225</td>\n",
       "      <td>31671</td>\n",
       "      <td>33224</td>\n",
       "      <td>33473</td>\n",
       "      <td>31868</td>\n",
       "      <td>31765</td>\n",
       "      <td>33164</td>\n",
       "      <td>34071</td>\n",
       "      <td>292178</td>\n",
       "    </tr>\n",
       "    <tr>\n",
       "      <th>Southwark</th>\n",
       "      <td>33470</td>\n",
       "      <td>30623</td>\n",
       "      <td>31320</td>\n",
       "      <td>30723</td>\n",
       "      <td>30737</td>\n",
       "      <td>31128</td>\n",
       "      <td>28912</td>\n",
       "      <td>30260</td>\n",
       "      <td>31636</td>\n",
       "      <td>278809</td>\n",
       "    </tr>\n",
       "    <tr>\n",
       "      <th>Camden</th>\n",
       "      <td>32010</td>\n",
       "      <td>31612</td>\n",
       "      <td>31804</td>\n",
       "      <td>33956</td>\n",
       "      <td>31472</td>\n",
       "      <td>28435</td>\n",
       "      <td>27198</td>\n",
       "      <td>29477</td>\n",
       "      <td>29183</td>\n",
       "      <td>275147</td>\n",
       "    </tr>\n",
       "    <tr>\n",
       "      <th>Newham</th>\n",
       "      <td>29752</td>\n",
       "      <td>28610</td>\n",
       "      <td>30728</td>\n",
       "      <td>27978</td>\n",
       "      <td>30067</td>\n",
       "      <td>27577</td>\n",
       "      <td>28005</td>\n",
       "      <td>29217</td>\n",
       "      <td>30090</td>\n",
       "      <td>262024</td>\n",
       "    </tr>\n",
       "  </tbody>\n",
       "</table>\n",
       "</div>"
      ],
      "text/plain": [
       "              2008   2009   2010   2011   2012   2013   2014   2015   2016  \\\n",
       "Westminster  47846  48456  48116  54243  59226  53852  47564  47395  48330   \n",
       "Lambeth      31717  31225  31671  33224  33473  31868  31765  33164  34071   \n",
       "Southwark    33470  30623  31320  30723  30737  31128  28912  30260  31636   \n",
       "Camden       32010  31612  31804  33956  31472  28435  27198  29477  29183   \n",
       "Newham       29752  28610  30728  27978  30067  27577  28005  29217  30090   \n",
       "\n",
       "              total  \n",
       "Westminster  455028  \n",
       "Lambeth      292178  \n",
       "Southwark    278809  \n",
       "Camden       275147  \n",
       "Newham       262024  "
      ]
     },
     "execution_count": 18,
     "metadata": {},
     "output_type": "execute_result"
    }
   ],
   "source": [
    "df_borough_year.head()"
   ]
  },
  {
   "cell_type": "markdown",
   "id": "a2a82931",
   "metadata": {},
   "source": [
    "### DataFrame untuk melihat total kasus kejahatan mayor setiap tahun"
   ]
  },
  {
   "cell_type": "code",
   "execution_count": 19,
   "id": "67517014",
   "metadata": {},
   "outputs": [],
   "source": [
    "data = {}\n",
    "# mengubah atribut tahun menjadi bentuk list tahun\n",
    "years = list(map(int,np.sort(df_lsoa['tahun'].unique())))\n",
    "# memanggil seluruh data fitur tahun, grouping berdasarkan 'kejahatan mayor' dan dijumlahkan berdasarkan 'jumlah kasus'\n",
    "for year in years:\n",
    "    major_crime_year = df_lsoa[df_lsoa['tahun'] == year].groupby(\"kejahatan_mayor\")[\"jumlah_kasus\"].sum()\n",
    "    \n",
    "    # membuat series untuk mengisi data (jumlah kasus) pada DataFrame\n",
    "    data[year] = pd.Series(data=map(int, major_crime_year.reset_index()\n",
    "                                    ['jumlah_kasus'].values), \n",
    "                                index = major_crime_year.index)\n",
    "\n",
    "# Membuat dataframe dengan 'kejahatan mayor' sebagai index dan 'years' sebagai columns\n",
    "df_major_crime = pd.DataFrame(data=data,\n",
    "                                 index=list(df_lsoa['kejahatan_mayor'].unique()),\n",
    "                                 columns=years)\n",
    "\n",
    "# menambahkan kolom baru 'total' yang memuat jumlah total terjadinya kejahatan mayor\n",
    "df_major_crime['total'] = df_major_crime[years].sum(axis=1)\n",
    "# mengurutkan index dari yang terbesar berdasarkan jumlah total kejahatan\n",
    "df_major_crime.sort_values(by='total', ascending = False, inplace = True)"
   ]
  },
  {
   "cell_type": "code",
   "execution_count": 20,
   "id": "75cd91b6",
   "metadata": {},
   "outputs": [
    {
     "data": {
      "text/html": [
       "<div>\n",
       "<style scoped>\n",
       "    .dataframe tbody tr th:only-of-type {\n",
       "        vertical-align: middle;\n",
       "    }\n",
       "\n",
       "    .dataframe tbody tr th {\n",
       "        vertical-align: top;\n",
       "    }\n",
       "\n",
       "    .dataframe thead th {\n",
       "        text-align: right;\n",
       "    }\n",
       "</style>\n",
       "<table border=\"1\" class=\"dataframe\">\n",
       "  <thead>\n",
       "    <tr style=\"text-align: right;\">\n",
       "      <th></th>\n",
       "      <th>2008</th>\n",
       "      <th>2009</th>\n",
       "      <th>2010</th>\n",
       "      <th>2011</th>\n",
       "      <th>2012</th>\n",
       "      <th>2013</th>\n",
       "      <th>2014</th>\n",
       "      <th>2015</th>\n",
       "      <th>2016</th>\n",
       "      <th>total</th>\n",
       "    </tr>\n",
       "  </thead>\n",
       "  <tbody>\n",
       "    <tr>\n",
       "      <th>Theft and Handling</th>\n",
       "      <td>283692</td>\n",
       "      <td>279492</td>\n",
       "      <td>290924</td>\n",
       "      <td>309292</td>\n",
       "      <td>334054</td>\n",
       "      <td>306372</td>\n",
       "      <td>279880</td>\n",
       "      <td>284022</td>\n",
       "      <td>294133</td>\n",
       "      <td>2661861</td>\n",
       "    </tr>\n",
       "    <tr>\n",
       "      <th>Violence Against the Person</th>\n",
       "      <td>159844</td>\n",
       "      <td>160777</td>\n",
       "      <td>157894</td>\n",
       "      <td>146901</td>\n",
       "      <td>150014</td>\n",
       "      <td>146181</td>\n",
       "      <td>185349</td>\n",
       "      <td>218740</td>\n",
       "      <td>232381</td>\n",
       "      <td>1558081</td>\n",
       "    </tr>\n",
       "    <tr>\n",
       "      <th>Burglary</th>\n",
       "      <td>88092</td>\n",
       "      <td>90619</td>\n",
       "      <td>86826</td>\n",
       "      <td>93315</td>\n",
       "      <td>93392</td>\n",
       "      <td>87222</td>\n",
       "      <td>76053</td>\n",
       "      <td>70489</td>\n",
       "      <td>68285</td>\n",
       "      <td>754293</td>\n",
       "    </tr>\n",
       "    <tr>\n",
       "      <th>Criminal Damage</th>\n",
       "      <td>91872</td>\n",
       "      <td>85565</td>\n",
       "      <td>77897</td>\n",
       "      <td>70914</td>\n",
       "      <td>62158</td>\n",
       "      <td>56206</td>\n",
       "      <td>59279</td>\n",
       "      <td>62976</td>\n",
       "      <td>64071</td>\n",
       "      <td>630938</td>\n",
       "    </tr>\n",
       "    <tr>\n",
       "      <th>Drugs</th>\n",
       "      <td>68804</td>\n",
       "      <td>60549</td>\n",
       "      <td>58674</td>\n",
       "      <td>57550</td>\n",
       "      <td>51776</td>\n",
       "      <td>50278</td>\n",
       "      <td>44435</td>\n",
       "      <td>39785</td>\n",
       "      <td>38914</td>\n",
       "      <td>470765</td>\n",
       "    </tr>\n",
       "  </tbody>\n",
       "</table>\n",
       "</div>"
      ],
      "text/plain": [
       "                               2008    2009    2010    2011    2012    2013  \\\n",
       "Theft and Handling           283692  279492  290924  309292  334054  306372   \n",
       "Violence Against the Person  159844  160777  157894  146901  150014  146181   \n",
       "Burglary                      88092   90619   86826   93315   93392   87222   \n",
       "Criminal Damage               91872   85565   77897   70914   62158   56206   \n",
       "Drugs                         68804   60549   58674   57550   51776   50278   \n",
       "\n",
       "                               2014    2015    2016    total  \n",
       "Theft and Handling           279880  284022  294133  2661861  \n",
       "Violence Against the Person  185349  218740  232381  1558081  \n",
       "Burglary                      76053   70489   68285   754293  \n",
       "Criminal Damage               59279   62976   64071   630938  \n",
       "Drugs                         44435   39785   38914   470765  "
      ]
     },
     "execution_count": 20,
     "metadata": {},
     "output_type": "execute_result"
    }
   ],
   "source": [
    "df_major_crime.head()"
   ]
  },
  {
   "cell_type": "markdown",
   "id": "5d55ae30",
   "metadata": {},
   "source": [
    "### DataFrame untuk melihat total kasus kejahatan setiap bulan tiap tahun"
   ]
  },
  {
   "cell_type": "code",
   "execution_count": 21,
   "id": "9a93909e",
   "metadata": {},
   "outputs": [],
   "source": [
    "data = {}\n",
    "# mengubah atribut tahun menjadi bentuk list tahun\n",
    "years = list(map(int,np.sort(df_lsoa['tahun'].unique())))\n",
    "# memanggil seluruh data fitur tahun, grouping berdasarkan 'bulan' dan dijumlahkan berdasarkan jumlah kasus\n",
    "for year in years:\n",
    "    crime_of_year = df_lsoa[df_lsoa['tahun'] == year].groupby(\"bulan\")[\"jumlah_kasus\"].sum()\n",
    "    \n",
    "    # membuat series untuk mengisi data (jumlah kasus) pada DataFrame\n",
    "    data[year] = pd.Series(data=map(int, crime_of_year.reset_index()\n",
    "                                    ['jumlah_kasus'].values), \n",
    "                                index = crime_of_year.index)\n",
    "\n",
    "# Membuat dataframe dengan 'bulan' sebagai index dan 'years' sebagai columns\n",
    "df_crime_month = pd.DataFrame(data=data,\n",
    "                                 index=range(1, 13, 1),\n",
    "                                 columns=years)\n",
    "\n",
    "# menambahkan kolom baru 'total' yang memuat jumlah total terjadinya kejahatan setiap bulannya\n",
    "df_crime_month['total'] = df_crime_month[years].sum(axis=1)\n",
    "\n",
    "# mengubah index 'angka' menjadi 'nama bulan'\n",
    "months_list = ['Jan', 'Feb', 'Mar', 'Apr', 'May', 'Jun', 'Jul', 'Agu', 'Sep', 'Okt', 'Nov', 'Des']\n",
    "dict_of_index = {}\n",
    "for i in range(1, 13, 1):\n",
    "    dict_of_index[i] = months_list[i-1]\n",
    "df_crime_month.rename(index=dict_of_index, inplace = True)"
   ]
  },
  {
   "cell_type": "code",
   "execution_count": 22,
   "id": "35e5a8ba",
   "metadata": {},
   "outputs": [
    {
     "data": {
      "text/html": [
       "<div>\n",
       "<style scoped>\n",
       "    .dataframe tbody tr th:only-of-type {\n",
       "        vertical-align: middle;\n",
       "    }\n",
       "\n",
       "    .dataframe tbody tr th {\n",
       "        vertical-align: top;\n",
       "    }\n",
       "\n",
       "    .dataframe thead th {\n",
       "        text-align: right;\n",
       "    }\n",
       "</style>\n",
       "<table border=\"1\" class=\"dataframe\">\n",
       "  <thead>\n",
       "    <tr style=\"text-align: right;\">\n",
       "      <th></th>\n",
       "      <th>2008</th>\n",
       "      <th>2009</th>\n",
       "      <th>2010</th>\n",
       "      <th>2011</th>\n",
       "      <th>2012</th>\n",
       "      <th>2013</th>\n",
       "      <th>2014</th>\n",
       "      <th>2015</th>\n",
       "      <th>2016</th>\n",
       "      <th>total</th>\n",
       "    </tr>\n",
       "  </thead>\n",
       "  <tbody>\n",
       "    <tr>\n",
       "      <th>Jan</th>\n",
       "      <td>65419</td>\n",
       "      <td>59142</td>\n",
       "      <td>54934</td>\n",
       "      <td>57966</td>\n",
       "      <td>62436</td>\n",
       "      <td>58933</td>\n",
       "      <td>55515</td>\n",
       "      <td>57055</td>\n",
       "      <td>58847</td>\n",
       "      <td>530247</td>\n",
       "    </tr>\n",
       "    <tr>\n",
       "      <th>Feb</th>\n",
       "      <td>62626</td>\n",
       "      <td>54706</td>\n",
       "      <td>55069</td>\n",
       "      <td>54895</td>\n",
       "      <td>56735</td>\n",
       "      <td>55271</td>\n",
       "      <td>51222</td>\n",
       "      <td>53316</td>\n",
       "      <td>56697</td>\n",
       "      <td>500537</td>\n",
       "    </tr>\n",
       "    <tr>\n",
       "      <th>Mar</th>\n",
       "      <td>61343</td>\n",
       "      <td>63482</td>\n",
       "      <td>63629</td>\n",
       "      <td>61282</td>\n",
       "      <td>67537</td>\n",
       "      <td>57590</td>\n",
       "      <td>57669</td>\n",
       "      <td>60096</td>\n",
       "      <td>59167</td>\n",
       "      <td>551795</td>\n",
       "    </tr>\n",
       "    <tr>\n",
       "      <th>Apr</th>\n",
       "      <td>59640</td>\n",
       "      <td>59181</td>\n",
       "      <td>60085</td>\n",
       "      <td>58714</td>\n",
       "      <td>58801</td>\n",
       "      <td>55678</td>\n",
       "      <td>53467</td>\n",
       "      <td>56445</td>\n",
       "      <td>58637</td>\n",
       "      <td>520648</td>\n",
       "    </tr>\n",
       "    <tr>\n",
       "      <th>May</th>\n",
       "      <td>62587</td>\n",
       "      <td>62897</td>\n",
       "      <td>62126</td>\n",
       "      <td>62630</td>\n",
       "      <td>64344</td>\n",
       "      <td>56765</td>\n",
       "      <td>56327</td>\n",
       "      <td>61038</td>\n",
       "      <td>63990</td>\n",
       "      <td>552704</td>\n",
       "    </tr>\n",
       "  </tbody>\n",
       "</table>\n",
       "</div>"
      ],
      "text/plain": [
       "      2008   2009   2010   2011   2012   2013   2014   2015   2016   total\n",
       "Jan  65419  59142  54934  57966  62436  58933  55515  57055  58847  530247\n",
       "Feb  62626  54706  55069  54895  56735  55271  51222  53316  56697  500537\n",
       "Mar  61343  63482  63629  61282  67537  57590  57669  60096  59167  551795\n",
       "Apr  59640  59181  60085  58714  58801  55678  53467  56445  58637  520648\n",
       "May  62587  62897  62126  62630  64344  56765  56327  61038  63990  552704"
      ]
     },
     "execution_count": 22,
     "metadata": {},
     "output_type": "execute_result"
    }
   ],
   "source": [
    "df_crime_month.head()"
   ]
  },
  {
   "cell_type": "markdown",
   "id": "8089c7c8",
   "metadata": {},
   "source": [
    "---\n",
    "## A. Area Plot"
   ]
  },
  {
   "cell_type": "markdown",
   "id": "561e135e",
   "metadata": {},
   "source": [
    "**Question:** \n",
    "1. Bagaimana visualisasi dari 5 wilayah dengan kasus kejahatan tertinggi pada tahun 2008-2013?"
   ]
  },
  {
   "cell_type": "markdown",
   "id": "9bcfce32",
   "metadata": {},
   "source": [
    "**#1 Pre-processing as needed:**"
   ]
  },
  {
   "cell_type": "markdown",
   "id": "c23440a6",
   "metadata": {},
   "source": [
    "Menggunakan DataFrame untuk melihat total kasus kejahatan pada setiap wilayah untuk setiap tahun dengan memanggil parameter df_borough_year <br>"
   ]
  },
  {
   "cell_type": "code",
   "execution_count": 23,
   "id": "a3621923",
   "metadata": {},
   "outputs": [],
   "source": [
    "# Menampilkan 5 baris pertama dengan kasus kejahatan tertinggi pada setiap wilayah\n",
    "df_fig_area = df_borough_year.head().drop('total', axis = 1)\n",
    "# Mentranspose baris jadi kolom\n",
    "df_fig_area = df_fig_area.transpose()"
   ]
  },
  {
   "cell_type": "markdown",
   "id": "f1e0e406",
   "metadata": {},
   "source": [
    "**#2 Visualization:**"
   ]
  },
  {
   "cell_type": "code",
   "execution_count": 24,
   "id": "71f64de9",
   "metadata": {},
   "outputs": [
    {
     "data": {
      "image/png": "[encoded data removed]",
      "text/plain": [
       "<Figure size 1440x720 with 1 Axes>"
      ]
     },
     "metadata": {
      "needs_background": "light"
     },
     "output_type": "display_data"
    }
   ],
   "source": [
    "df_fig_area.plot(kind='area', alpha=0.35, figsize=(20, 10)) \n",
    "plt.title('Trends of Top 5 Criminal Cases per Borough', fontsize = 17, y=1.03)\n",
    "plt.ylabel('Number of Criminal Case', fontsize = 17)\n",
    "plt.xlabel('Years', fontsize = 17)\n",
    "plt.legend(loc='lower left', fontsize = 14)\n",
    "plt.show()"
   ]
  },
  {
   "cell_type": "markdown",
   "id": "8b31a6c3",
   "metadata": {},
   "source": [
    "**#3 Conlusion:**"
   ]
  },
  {
   "cell_type": "markdown",
   "id": "2ec1ffeb",
   "metadata": {},
   "source": [
    "Grafik area di atas menunjukkan visualisasi dari 5 wilayah dengan kasus kejahatan tertinggi pada tahun 2008-2013. Berdasarkan grafik tersebut dapat disimpulkan bahwa:\n",
    "1. Kategori kejahatan Westminster menunjukkan tingkat kumulatif kasus kejahatan tertinggi pada tahun 2008-2013.\n",
    "2. Jumlah total untuk Kelima kategori kejahatan utama mengalami peningkatan pada tahun 2010-2012 dan 2014-2016.\n",
    "3. Jumlah total untuk Kelima kategori kejahatan utama mengalami penurunan pada tahun 2012-2014.\n",
    "4. Kelima kategori kejahatan utama pada tahun 2012 merupakan jumlah kasus kejadian tertinggi untuk setiap wilayah dan tahunnya, ditandai dengan puncak tertinggi yang terletak pada tahun 2012 untuk masing-masing wilayah."
   ]
  },
  {
   "cell_type": "markdown",
   "id": "26fb0e93",
   "metadata": {},
   "source": [
    "---\n",
    "# B. Histogram"
   ]
  },
  {
   "cell_type": "markdown",
   "id": "8facbd33",
   "metadata": {},
   "source": [
    "**#1 Question:**"
   ]
  },
  {
   "cell_type": "markdown",
   "id": "29e16934",
   "metadata": {},
   "source": [
    "1. Bagaimana distribusi frekuensi 3 kasus kejahatan tertinggi untuk setiap wilayah pada tahun 2013-2016?"
   ]
  },
  {
   "cell_type": "markdown",
   "id": "400ad9be",
   "metadata": {},
   "source": [
    "**#2 Pre-processing as needed:**"
   ]
  },
  {
   "cell_type": "markdown",
   "id": "291bf07a",
   "metadata": {},
   "source": [
    "Menggunakan DataFrame untuk melihat total kasus kejahatan untuk setiap tahun dengan memanggil parameter df_major_crime"
   ]
  },
  {
   "cell_type": "code",
   "execution_count": 25,
   "id": "be59c2f3",
   "metadata": {},
   "outputs": [
    {
     "data": {
      "text/html": [
       "<div>\n",
       "<style scoped>\n",
       "    .dataframe tbody tr th:only-of-type {\n",
       "        vertical-align: middle;\n",
       "    }\n",
       "\n",
       "    .dataframe tbody tr th {\n",
       "        vertical-align: top;\n",
       "    }\n",
       "\n",
       "    .dataframe thead th {\n",
       "        text-align: right;\n",
       "    }\n",
       "</style>\n",
       "<table border=\"1\" class=\"dataframe\">\n",
       "  <thead>\n",
       "    <tr style=\"text-align: right;\">\n",
       "      <th></th>\n",
       "      <th>Westminster</th>\n",
       "      <th>Lambeth</th>\n",
       "      <th>Southwark</th>\n",
       "    </tr>\n",
       "  </thead>\n",
       "  <tbody>\n",
       "    <tr>\n",
       "      <th>2013</th>\n",
       "      <td>53852</td>\n",
       "      <td>31868</td>\n",
       "      <td>31128</td>\n",
       "    </tr>\n",
       "    <tr>\n",
       "      <th>2014</th>\n",
       "      <td>47564</td>\n",
       "      <td>31765</td>\n",
       "      <td>28912</td>\n",
       "    </tr>\n",
       "    <tr>\n",
       "      <th>2015</th>\n",
       "      <td>47395</td>\n",
       "      <td>33164</td>\n",
       "      <td>30260</td>\n",
       "    </tr>\n",
       "    <tr>\n",
       "      <th>2016</th>\n",
       "      <td>48330</td>\n",
       "      <td>34071</td>\n",
       "      <td>31636</td>\n",
       "    </tr>\n",
       "  </tbody>\n",
       "</table>\n",
       "</div>"
      ],
      "text/plain": [
       "      Westminster  Lambeth  Southwark\n",
       "2013        53852    31868      31128\n",
       "2014        47564    31765      28912\n",
       "2015        47395    33164      30260\n",
       "2016        48330    34071      31636"
      ]
     },
     "execution_count": 25,
     "metadata": {},
     "output_type": "execute_result"
    }
   ],
   "source": [
    "# Menampilkan 5 baris pertama dengan kasus kejahatan tertinggi pada setiap wilayah\n",
    "df_borough_year.head()\n",
    "dfps = df_borough_year.drop(columns = [2008,2009,2010,2011,2012], axis = 1)\n",
    "dfps.drop(['total'], axis=1, inplace = True)\n",
    "dfps2 = dfps.head(3)\n",
    "df_fig_hist = dfps2.transpose()\n",
    "df_fig_hist"
   ]
  },
  {
   "cell_type": "code",
   "execution_count": 26,
   "id": "7891df08",
   "metadata": {},
   "outputs": [
    {
     "data": {
      "image/png": "[encoded data removed]",
      "text/plain": [
       "<Figure size 720x432 with 1 Axes>"
      ]
     },
     "metadata": {
      "needs_background": "light"
     },
     "output_type": "display_data"
    }
   ],
   "source": [
    "# let's get the x-tick values\n",
    "count, bin_edges = np.histogram(df_fig_hist, 15)\n",
    "\n",
    "# un-stacked histogram\n",
    "df_fig_hist.plot(kind ='hist', \n",
    "          figsize=(10, 6),\n",
    "          bins=15,\n",
    "          alpha=0.6,\n",
    "          xticks=bin_edges,\n",
    "          color=['coral', 'darkslateblue', 'mediumseagreen']\n",
    "         )\n",
    "\n",
    "plt.title('Histogram of Criminal Cases from Westminster, Lambeth, Southwark, from 2013-2016')\n",
    "plt.ylabel('Number of Years')\n",
    "plt.xlabel('Number of Criminal Cases')\n",
    "\n",
    "plt.show()"
   ]
  },
  {
   "cell_type": "markdown",
   "id": "79e2852c",
   "metadata": {},
   "source": [
    "**#3 Conclusion:**"
   ]
  },
  {
   "cell_type": "markdown",
   "id": "6f9a2a89",
   "metadata": {},
   "source": [
    "Grafik Histogram di atas menunjukkan distribusi frekuensi 3 kasus kejahatan tertinggi untuk setiap wilayah pada tahun 2013-2016. Berdasarkan grafik tersebut dapat disimpulkan bahwa:\n",
    "1. Distribusi frekuensi kasus kejahatan di wilayah Westminster cenderung menyebar jika dibandingkan dengan Lambeth dan SouthWark.\n",
    "2. Kejadian kasus kejahatan di wilayah Westminster paling sering terjadi pada tahun 2013-2016, jika dibandingkan dengan Lambeth dan SouthWark."
   ]
  },
  {
   "cell_type": "markdown",
   "id": "3095293f",
   "metadata": {},
   "source": [
    "---\n",
    "# C. Bar Chart"
   ]
  },
  {
   "cell_type": "markdown",
   "id": "85133382",
   "metadata": {},
   "source": [
    "**#1 Question:**"
   ]
  },
  {
   "cell_type": "markdown",
   "id": "93a00481",
   "metadata": {},
   "source": [
    "1. Bagaimana visualisasi dari 3 kasus kejahatan utama tertinggi pada tahun 2008-2016?"
   ]
  },
  {
   "cell_type": "markdown",
   "id": "b43792d6",
   "metadata": {},
   "source": [
    "**#2 Pre-processing as needed:**"
   ]
  },
  {
   "cell_type": "markdown",
   "id": "451d177c",
   "metadata": {},
   "source": [
    "Menggunakan DataFrame untuk melihat total kasus kejahatan untuk setiap tahun dengan memanggil parameter df_major_crime"
   ]
  },
  {
   "cell_type": "code",
   "execution_count": 27,
   "id": "14e25f75",
   "metadata": {},
   "outputs": [
    {
     "data": {
      "text/html": [
       "<div>\n",
       "<style scoped>\n",
       "    .dataframe tbody tr th:only-of-type {\n",
       "        vertical-align: middle;\n",
       "    }\n",
       "\n",
       "    .dataframe tbody tr th {\n",
       "        vertical-align: top;\n",
       "    }\n",
       "\n",
       "    .dataframe thead th {\n",
       "        text-align: right;\n",
       "    }\n",
       "</style>\n",
       "<table border=\"1\" class=\"dataframe\">\n",
       "  <thead>\n",
       "    <tr style=\"text-align: right;\">\n",
       "      <th></th>\n",
       "      <th>Theft and Handling</th>\n",
       "      <th>Violence Against the Person</th>\n",
       "      <th>Burglary</th>\n",
       "    </tr>\n",
       "  </thead>\n",
       "  <tbody>\n",
       "    <tr>\n",
       "      <th>2008</th>\n",
       "      <td>283692</td>\n",
       "      <td>159844</td>\n",
       "      <td>88092</td>\n",
       "    </tr>\n",
       "    <tr>\n",
       "      <th>2009</th>\n",
       "      <td>279492</td>\n",
       "      <td>160777</td>\n",
       "      <td>90619</td>\n",
       "    </tr>\n",
       "    <tr>\n",
       "      <th>2010</th>\n",
       "      <td>290924</td>\n",
       "      <td>157894</td>\n",
       "      <td>86826</td>\n",
       "    </tr>\n",
       "    <tr>\n",
       "      <th>2011</th>\n",
       "      <td>309292</td>\n",
       "      <td>146901</td>\n",
       "      <td>93315</td>\n",
       "    </tr>\n",
       "    <tr>\n",
       "      <th>2012</th>\n",
       "      <td>334054</td>\n",
       "      <td>150014</td>\n",
       "      <td>93392</td>\n",
       "    </tr>\n",
       "  </tbody>\n",
       "</table>\n",
       "</div>"
      ],
      "text/plain": [
       "      Theft and Handling  Violence Against the Person  Burglary\n",
       "2008              283692                       159844     88092\n",
       "2009              279492                       160777     90619\n",
       "2010              290924                       157894     86826\n",
       "2011              309292                       146901     93315\n",
       "2012              334054                       150014     93392"
      ]
     },
     "execution_count": 27,
     "metadata": {},
     "output_type": "execute_result"
    }
   ],
   "source": [
    "# menampilkan 5 baris pertama dengan kasus kejahatan tertinggi kategori kejahatan utama\n",
    "df_major_crime.head()\n",
    "df_major_crime_bar = df_major_crime.drop('total', axis = 1)\n",
    "# mengubah kolom menjadi baris\n",
    "df_major_crime_bar = df_major_crime_bar.transpose()\n",
    "# menggunakan kolom ['Theft and Handling', 'Violence Against the Person', 'Burglary']\n",
    "df_major_crime_bar = df_major_crime_bar.loc[:, ['Theft and Handling', 'Violence Against the Person', 'Burglary']]\n",
    "df_major_crime_bar.head()"
   ]
  },
  {
   "cell_type": "code",
   "execution_count": 28,
   "id": "321d9774",
   "metadata": {},
   "outputs": [
    {
     "data": {
      "image/png": "[encoded data removed]",
      "text/plain": [
       "<Figure size 720x432 with 1 Axes>"
      ]
     },
     "metadata": {
      "needs_background": "light"
     },
     "output_type": "display_data"
    }
   ],
   "source": [
    "# step 2: plot data\n",
    "df_major_crime_bar.plot(kind='bar', figsize=(10, 6))\n",
    "\n",
    "plt.xlabel('Year', fontsize=11) # add to x-label to the plot\n",
    "plt.ylabel('Number of Criminal Cases', fontsize=11) # add y-label to the plot\n",
    "plt.title('Top 3 Highest Major Crime Cases between 2008-2016', fontsize=14, y=1.03)\n",
    "plt.show()"
   ]
  },
  {
   "cell_type": "markdown",
   "id": "b431634b",
   "metadata": {},
   "source": [
    "**#3 Conclusion:**"
   ]
  },
  {
   "cell_type": "markdown",
   "id": "55e2f07d",
   "metadata": {},
   "source": [
    "Grafik Bar chart di atas menunjukkan visualisasi dari 3 total kasus kejahatan tertinggi pada tahun 2008-2016. Berdasarkan grafik tersebut dapat disimpulkan bahwa:\n",
    "1. Kejahatan utama kategori **Theft and Handling** merupakan kasus kejahatan tertinggi pada tahun 2008-2016, jika dibandingkan dengan kategori lainnya, seperti kejatahan **Violence Against the Person** dan **Burglary**, ditandai dengan kejahatan **Theft and Handling** memiliki selisih jangkauan yang sangat jauh jika dibandingkan kejahatan lainnya.\n",
    "2. Tren peningkatan kasus kejahatan utama terjadi pada tahun 2013-2016. Sedangkan tren penurunan kasus kejahatan utama terjadi pada tahun 2012-2016."
   ]
  },
  {
   "cell_type": "markdown",
   "id": "5c785914",
   "metadata": {},
   "source": [
    "---\n",
    "# D. Pie Chart"
   ]
  },
  {
   "cell_type": "markdown",
   "id": "776b4b2d",
   "metadata": {},
   "source": [
    "**#1 Question:**"
   ]
  },
  {
   "cell_type": "markdown",
   "id": "55a8b958",
   "metadata": {},
   "source": [
    "1. Bagaimana persentase kategori kejahatan mayor yang terjadi pada tahun 2008-2016?"
   ]
  },
  {
   "cell_type": "markdown",
   "id": "2f1b76fa",
   "metadata": {},
   "source": [
    "**#2 Pre-processing as needed:**"
   ]
  },
  {
   "cell_type": "markdown",
   "id": "5b3168b8",
   "metadata": {},
   "source": [
    "Menggunakan DataFrame untuk melihat total kasus kejahatan untuk setiap tahun dengan memanggil parameter df_major_crime"
   ]
  },
  {
   "cell_type": "code",
   "execution_count": 29,
   "id": "2b2472ee",
   "metadata": {},
   "outputs": [],
   "source": [
    "# Menampilkan 5 baris pertama dengan kasus kejahatan tertinggi pada setiap wilayah\n",
    "df_major_crime.head()\n",
    "df_fig_pie = df_major_crime['total'].value_counts"
   ]
  },
  {
   "cell_type": "code",
   "execution_count": 30,
   "id": "76443dc5",
   "metadata": {},
   "outputs": [
    {
     "data": {
      "image/png": "[encoded data removed]",
      "text/plain": [
       "<Figure size 1080x432 with 1 Axes>"
      ]
     },
     "metadata": {},
     "output_type": "display_data"
    }
   ],
   "source": [
    "### type your answer here\n",
    "colors_list = ['gold', 'yellowgreen', 'lightcoral', 'lightskyblue', 'lightgreen', 'pink', 'mediumpurple', 'powderblue']\n",
    "explode_list = [0.05, 0.04, 0.12, 0.01, 0, 0, 0.05, 0.05, 0.15] # ratio for each continent with which to offset each wedge.\n",
    "df_fig_pie = df_major_crime['total']\n",
    "\n",
    "df_fig_pie.plot(kind='pie',\n",
    "                            figsize=(15, 6),\n",
    "                            autopct='%1.1f%%', \n",
    "                            startangle=90,    \n",
    "                            shadow=True,       \n",
    "                            labels=None,         # turn off labels on pie chart\n",
    "                            pctdistance=1.2,    # the ratio between the center of each pie slice and the start of the text generated by autopct \n",
    "                            colors=colors_list,  # add custom colors\n",
    "                            explode=explode_list # 'explode' lowest 3 continents\n",
    "                            )\n",
    "\n",
    "# scale the title up by 12% to match pctdistance\n",
    "plt.title('Major Category of London Criminal Cases', y=1.12) \n",
    "\n",
    "plt.axis('equal') \n",
    "\n",
    "# add legend\n",
    "plt.legend(labels=df_fig_pie.index, loc='upper left') \n",
    "\n",
    "plt.show()"
   ]
  },
  {
   "cell_type": "markdown",
   "id": "c596ae03",
   "metadata": {},
   "source": [
    "**#3 Conclusion:**"
   ]
  },
  {
   "cell_type": "markdown",
   "id": "25924bb2",
   "metadata": {},
   "source": [
    "Grafik Pie chart di atas menunjukkan persentase kategori kejahatan mayor yang terjadi pada tahun 2008-2016. Berdasarkan grafik tersebut dapat disimpulkan bahwa:\n",
    "1. Kejahatan **Theft and Handling** menunjukkan kasus kejahatan yang paling sering terjadi pada tahun 2008-2016, ditandai dengan persentase tertinggi bernilai **41.3%**. "
   ]
  },
  {
   "cell_type": "markdown",
   "id": "500244ec",
   "metadata": {},
   "source": [
    "Memadukan pie chart dengan bar horizonal, agar memperoleh nilai yang lebih akurat"
   ]
  },
  {
   "cell_type": "code",
   "execution_count": 31,
   "id": "fa2af6b3",
   "metadata": {},
   "outputs": [
    {
     "data": {
      "image/png": "[encoded data removed]",
      "text/plain": [
       "<Figure size 1008x576 with 1 Axes>"
      ]
     },
     "metadata": {
      "needs_background": "light"
     },
     "output_type": "display_data"
    }
   ],
   "source": [
    "df_major_crime['total'].plot(kind='barh', figsize=(14, 8), color='steelblue')\n",
    "plt.xlabel('Number of Crimes', fontsize = 12)\n",
    "plt.ylabel('Major Crimes', fontsize = 12)\n",
    "plt.title('Top 9 Major Crimes between 2008 - 2016', fontsize = 14, y = 1.02)\n",
    "plt.show()"
   ]
  },
  {
   "cell_type": "markdown",
   "id": "4acd0ada",
   "metadata": {},
   "source": [
    "Berdasarkan grafik Horizontal bar chart, terlihat bahwa **Theft and Handling** merupakan jumlah total kasus kejahatan utama tertinggi, dan **Sexual Offences** jumlah total kasus kejahatan utama terkecil. Hal ini sesuai dengan persentase jumlah total kasus kejadian utama berdasarkan Pie Chart yang telah ditampilkan sebelumnya."
   ]
  },
  {
   "cell_type": "markdown",
   "id": "3f69b8dd",
   "metadata": {},
   "source": [
    "---\n",
    "# E. Box Plot"
   ]
  },
  {
   "cell_type": "markdown",
   "id": "27ba0e17",
   "metadata": {},
   "source": [
    "**#1 Question:**"
   ]
  },
  {
   "cell_type": "markdown",
   "id": "95053fbf",
   "metadata": {},
   "source": [
    "1. Bagaimana visualisasi dari distribusi frekuensi total kasus kejahatan untuk setiap wilayah pada setiap tahun?"
   ]
  },
  {
   "cell_type": "markdown",
   "id": "998b39e1",
   "metadata": {},
   "source": [
    "**#2 Pre-processing as needed:**"
   ]
  },
  {
   "cell_type": "markdown",
   "id": "6390b3cb",
   "metadata": {},
   "source": [
    "Menggunakan DataFrame untuk melihat total kasus kejahatan pada setiap wilayah untuk setiap tahun dengan memanggil df_borough_year"
   ]
  },
  {
   "cell_type": "code",
   "execution_count": 32,
   "id": "ea9557fc",
   "metadata": {},
   "outputs": [
    {
     "data": {
      "text/html": [
       "<div>\n",
       "<style scoped>\n",
       "    .dataframe tbody tr th:only-of-type {\n",
       "        vertical-align: middle;\n",
       "    }\n",
       "\n",
       "    .dataframe tbody tr th {\n",
       "        vertical-align: top;\n",
       "    }\n",
       "\n",
       "    .dataframe thead th {\n",
       "        text-align: right;\n",
       "    }\n",
       "</style>\n",
       "<table border=\"1\" class=\"dataframe\">\n",
       "  <thead>\n",
       "    <tr style=\"text-align: right;\">\n",
       "      <th></th>\n",
       "      <th>2008</th>\n",
       "      <th>2009</th>\n",
       "      <th>2010</th>\n",
       "      <th>2011</th>\n",
       "      <th>2012</th>\n",
       "      <th>2013</th>\n",
       "      <th>2014</th>\n",
       "      <th>2015</th>\n",
       "      <th>2016</th>\n",
       "    </tr>\n",
       "  </thead>\n",
       "  <tbody>\n",
       "    <tr>\n",
       "      <th>Westminster</th>\n",
       "      <td>47846</td>\n",
       "      <td>48456</td>\n",
       "      <td>48116</td>\n",
       "      <td>54243</td>\n",
       "      <td>59226</td>\n",
       "      <td>53852</td>\n",
       "      <td>47564</td>\n",
       "      <td>47395</td>\n",
       "      <td>48330</td>\n",
       "    </tr>\n",
       "    <tr>\n",
       "      <th>Lambeth</th>\n",
       "      <td>31717</td>\n",
       "      <td>31225</td>\n",
       "      <td>31671</td>\n",
       "      <td>33224</td>\n",
       "      <td>33473</td>\n",
       "      <td>31868</td>\n",
       "      <td>31765</td>\n",
       "      <td>33164</td>\n",
       "      <td>34071</td>\n",
       "    </tr>\n",
       "    <tr>\n",
       "      <th>Southwark</th>\n",
       "      <td>33470</td>\n",
       "      <td>30623</td>\n",
       "      <td>31320</td>\n",
       "      <td>30723</td>\n",
       "      <td>30737</td>\n",
       "      <td>31128</td>\n",
       "      <td>28912</td>\n",
       "      <td>30260</td>\n",
       "      <td>31636</td>\n",
       "    </tr>\n",
       "    <tr>\n",
       "      <th>Camden</th>\n",
       "      <td>32010</td>\n",
       "      <td>31612</td>\n",
       "      <td>31804</td>\n",
       "      <td>33956</td>\n",
       "      <td>31472</td>\n",
       "      <td>28435</td>\n",
       "      <td>27198</td>\n",
       "      <td>29477</td>\n",
       "      <td>29183</td>\n",
       "    </tr>\n",
       "    <tr>\n",
       "      <th>Newham</th>\n",
       "      <td>29752</td>\n",
       "      <td>28610</td>\n",
       "      <td>30728</td>\n",
       "      <td>27978</td>\n",
       "      <td>30067</td>\n",
       "      <td>27577</td>\n",
       "      <td>28005</td>\n",
       "      <td>29217</td>\n",
       "      <td>30090</td>\n",
       "    </tr>\n",
       "  </tbody>\n",
       "</table>\n",
       "</div>"
      ],
      "text/plain": [
       "              2008   2009   2010   2011   2012   2013   2014   2015   2016\n",
       "Westminster  47846  48456  48116  54243  59226  53852  47564  47395  48330\n",
       "Lambeth      31717  31225  31671  33224  33473  31868  31765  33164  34071\n",
       "Southwark    33470  30623  31320  30723  30737  31128  28912  30260  31636\n",
       "Camden       32010  31612  31804  33956  31472  28435  27198  29477  29183\n",
       "Newham       29752  28610  30728  27978  30067  27577  28005  29217  30090"
      ]
     },
     "execution_count": 32,
     "metadata": {},
     "output_type": "execute_result"
    }
   ],
   "source": [
    "# Menampilkan 5 baris pertama dengan kasus kejahatan tertinggi pada setiap wilayah\n",
    "df_borough_year.head()\n",
    "df_fig_box = df_borough_year.drop('total', axis = 1)\n",
    "df_fig_box.head()"
   ]
  },
  {
   "cell_type": "code",
   "execution_count": 33,
   "id": "64f50b20",
   "metadata": {},
   "outputs": [
    {
     "data": {
      "image/png": "[encoded data removed]",
      "text/plain": [
       "<Figure size 1008x576 with 1 Axes>"
      ]
     },
     "metadata": {
      "needs_background": "light"
     },
     "output_type": "display_data"
    }
   ],
   "source": [
    "### type your answer here\n",
    "df_fig_box.plot(kind='box', figsize=(14, 8))\n",
    "\n",
    "plt.title('Box plot of London Criminal Cases from 2008 to 2016')\n",
    "plt.ylabel('Number of Criminal Cases')\n",
    "\n",
    "plt.show()"
   ]
  },
  {
   "cell_type": "markdown",
   "id": "175903c4",
   "metadata": {},
   "source": [
    "**#3 Conclusion:**"
   ]
  },
  {
   "cell_type": "markdown",
   "id": "a3841364",
   "metadata": {},
   "source": [
    "Grafik Box plot di atas menunjukkan visualisasi dari distribusi frekuensi total kasus kejahatan untuk setiap wilayah pada setiap tahun. Berdasarkan grafik tersebut dapat disimpulkan bahwa:\n",
    "1. Setiap tahun memiliki rata-rata terjadinya total kasus kejahatan pada setiap wilayah berada dalam kisaran ~25.000.\n",
    "2. Penyebaran kasus kejahatan cenderung sama untuk setiap tahun, namun penyebaran total kasus kejahatan pada tahun 2012 lebih tersebar jika dibandingkan tahun-tahun lainnya. total kasus kejahatan pada tahun 2012 tidak kurang dari (Q1 - (1.5 * IQR)) sehingga tidak terdapat outlier pada kisaran bawah, berbeda dengan tahun lainnya.\n",
    "3. Dari sebaran di atas, terlihat bahwa setiap tahun memiliki outlier karena memiliki nilai yang sangat tinggi di atas normal keragamannya karena total kasus kejahatan setiap tahunnya lebih dari (Q3 + (1.5 * IQR))."
   ]
  },
  {
   "cell_type": "markdown",
   "id": "2688710e",
   "metadata": {},
   "source": [
    "---\n",
    "# F. Scatter Plot"
   ]
  },
  {
   "cell_type": "markdown",
   "id": "ee1ed31f",
   "metadata": {},
   "source": [
    "**#1 Question:**"
   ]
  },
  {
   "cell_type": "markdown",
   "id": "dd42748f",
   "metadata": {},
   "source": [
    "1. Bagaimana hubungan antara total kejahatan yang terjadi pada setiap bulan dari tahun 2008 - 2016?"
   ]
  },
  {
   "cell_type": "markdown",
   "id": "6137ffad",
   "metadata": {},
   "source": [
    "**#2 Pre-processing as needed:**"
   ]
  },
  {
   "cell_type": "markdown",
   "id": "16f911b6",
   "metadata": {},
   "source": [
    "Menggunakan DataFrame untuk melihat total kasus kejahatan pada setiap bulan untuk setiap tahun dengan memanggil df_crime_month"
   ]
  },
  {
   "cell_type": "code",
   "execution_count": 34,
   "id": "59838935",
   "metadata": {},
   "outputs": [
    {
     "data": {
      "text/html": [
       "<div>\n",
       "<style scoped>\n",
       "    .dataframe tbody tr th:only-of-type {\n",
       "        vertical-align: middle;\n",
       "    }\n",
       "\n",
       "    .dataframe tbody tr th {\n",
       "        vertical-align: top;\n",
       "    }\n",
       "\n",
       "    .dataframe thead th {\n",
       "        text-align: right;\n",
       "    }\n",
       "</style>\n",
       "<table border=\"1\" class=\"dataframe\">\n",
       "  <thead>\n",
       "    <tr style=\"text-align: right;\">\n",
       "      <th></th>\n",
       "      <th>2008</th>\n",
       "      <th>2009</th>\n",
       "      <th>2010</th>\n",
       "      <th>2011</th>\n",
       "      <th>2012</th>\n",
       "      <th>2013</th>\n",
       "      <th>2014</th>\n",
       "      <th>2015</th>\n",
       "      <th>2016</th>\n",
       "      <th>total</th>\n",
       "    </tr>\n",
       "  </thead>\n",
       "  <tbody>\n",
       "    <tr>\n",
       "      <th>Jan</th>\n",
       "      <td>65419</td>\n",
       "      <td>59142</td>\n",
       "      <td>54934</td>\n",
       "      <td>57966</td>\n",
       "      <td>62436</td>\n",
       "      <td>58933</td>\n",
       "      <td>55515</td>\n",
       "      <td>57055</td>\n",
       "      <td>58847</td>\n",
       "      <td>530247</td>\n",
       "    </tr>\n",
       "    <tr>\n",
       "      <th>Feb</th>\n",
       "      <td>62626</td>\n",
       "      <td>54706</td>\n",
       "      <td>55069</td>\n",
       "      <td>54895</td>\n",
       "      <td>56735</td>\n",
       "      <td>55271</td>\n",
       "      <td>51222</td>\n",
       "      <td>53316</td>\n",
       "      <td>56697</td>\n",
       "      <td>500537</td>\n",
       "    </tr>\n",
       "    <tr>\n",
       "      <th>Mar</th>\n",
       "      <td>61343</td>\n",
       "      <td>63482</td>\n",
       "      <td>63629</td>\n",
       "      <td>61282</td>\n",
       "      <td>67537</td>\n",
       "      <td>57590</td>\n",
       "      <td>57669</td>\n",
       "      <td>60096</td>\n",
       "      <td>59167</td>\n",
       "      <td>551795</td>\n",
       "    </tr>\n",
       "    <tr>\n",
       "      <th>Apr</th>\n",
       "      <td>59640</td>\n",
       "      <td>59181</td>\n",
       "      <td>60085</td>\n",
       "      <td>58714</td>\n",
       "      <td>58801</td>\n",
       "      <td>55678</td>\n",
       "      <td>53467</td>\n",
       "      <td>56445</td>\n",
       "      <td>58637</td>\n",
       "      <td>520648</td>\n",
       "    </tr>\n",
       "    <tr>\n",
       "      <th>May</th>\n",
       "      <td>62587</td>\n",
       "      <td>62897</td>\n",
       "      <td>62126</td>\n",
       "      <td>62630</td>\n",
       "      <td>64344</td>\n",
       "      <td>56765</td>\n",
       "      <td>56327</td>\n",
       "      <td>61038</td>\n",
       "      <td>63990</td>\n",
       "      <td>552704</td>\n",
       "    </tr>\n",
       "  </tbody>\n",
       "</table>\n",
       "</div>"
      ],
      "text/plain": [
       "      2008   2009   2010   2011   2012   2013   2014   2015   2016   total\n",
       "Jan  65419  59142  54934  57966  62436  58933  55515  57055  58847  530247\n",
       "Feb  62626  54706  55069  54895  56735  55271  51222  53316  56697  500537\n",
       "Mar  61343  63482  63629  61282  67537  57590  57669  60096  59167  551795\n",
       "Apr  59640  59181  60085  58714  58801  55678  53467  56445  58637  520648\n",
       "May  62587  62897  62126  62630  64344  56765  56327  61038  63990  552704"
      ]
     },
     "execution_count": 34,
     "metadata": {},
     "output_type": "execute_result"
    }
   ],
   "source": [
    "# Menampilkan 5 baris pertama dengan kasus kejahatan tertinggi pada setiap wilayah\n",
    "df_crime_month.head()\n",
    "#sctrp1 = df_crime_month.drop('total', axis = 1)"
   ]
  },
  {
   "cell_type": "code",
   "execution_count": 35,
   "id": "ba15177b",
   "metadata": {},
   "outputs": [
    {
     "data": {
      "text/html": [
       "<div>\n",
       "<style scoped>\n",
       "    .dataframe tbody tr th:only-of-type {\n",
       "        vertical-align: middle;\n",
       "    }\n",
       "\n",
       "    .dataframe tbody tr th {\n",
       "        vertical-align: top;\n",
       "    }\n",
       "\n",
       "    .dataframe thead th {\n",
       "        text-align: right;\n",
       "    }\n",
       "</style>\n",
       "<table border=\"1\" class=\"dataframe\">\n",
       "  <thead>\n",
       "    <tr style=\"text-align: right;\">\n",
       "      <th></th>\n",
       "      <th>bulan</th>\n",
       "      <th>total</th>\n",
       "    </tr>\n",
       "  </thead>\n",
       "  <tbody>\n",
       "    <tr>\n",
       "      <th>0</th>\n",
       "      <td>Jan</td>\n",
       "      <td>530247</td>\n",
       "    </tr>\n",
       "    <tr>\n",
       "      <th>1</th>\n",
       "      <td>Feb</td>\n",
       "      <td>500537</td>\n",
       "    </tr>\n",
       "    <tr>\n",
       "      <th>2</th>\n",
       "      <td>Mar</td>\n",
       "      <td>551795</td>\n",
       "    </tr>\n",
       "    <tr>\n",
       "      <th>3</th>\n",
       "      <td>Apr</td>\n",
       "      <td>520648</td>\n",
       "    </tr>\n",
       "    <tr>\n",
       "      <th>4</th>\n",
       "      <td>May</td>\n",
       "      <td>552704</td>\n",
       "    </tr>\n",
       "    <tr>\n",
       "      <th>5</th>\n",
       "      <td>Jun</td>\n",
       "      <td>549041</td>\n",
       "    </tr>\n",
       "    <tr>\n",
       "      <th>6</th>\n",
       "      <td>Jul</td>\n",
       "      <td>563076</td>\n",
       "    </tr>\n",
       "    <tr>\n",
       "      <th>7</th>\n",
       "      <td>Agu</td>\n",
       "      <td>532784</td>\n",
       "    </tr>\n",
       "    <tr>\n",
       "      <th>8</th>\n",
       "      <td>Sep</td>\n",
       "      <td>522377</td>\n",
       "    </tr>\n",
       "    <tr>\n",
       "      <th>9</th>\n",
       "      <td>Okt</td>\n",
       "      <td>558252</td>\n",
       "    </tr>\n",
       "    <tr>\n",
       "      <th>10</th>\n",
       "      <td>Nov</td>\n",
       "      <td>549671</td>\n",
       "    </tr>\n",
       "    <tr>\n",
       "      <th>11</th>\n",
       "      <td>Des</td>\n",
       "      <td>516626</td>\n",
       "    </tr>\n",
       "  </tbody>\n",
       "</table>\n",
       "</div>"
      ],
      "text/plain": [
       "   bulan   total\n",
       "0    Jan  530247\n",
       "1    Feb  500537\n",
       "2    Mar  551795\n",
       "3    Apr  520648\n",
       "4    May  552704\n",
       "5    Jun  549041\n",
       "6    Jul  563076\n",
       "7    Agu  532784\n",
       "8    Sep  522377\n",
       "9    Okt  558252\n",
       "10   Nov  549671\n",
       "11   Des  516626"
      ]
     },
     "execution_count": 35,
     "metadata": {},
     "output_type": "execute_result"
    }
   ],
   "source": [
    "df_fig_scatter = df_crime_month.copy()\n",
    "df_fig_scatter.reset_index(inplace = True)\n",
    "# menggunakan kolom ['total'] dan index\n",
    "df_fig_scatter = df_fig_scatter.loc[:,['index', 'total']]\n",
    "# mengubah nama kolom 'index' menjadi 'bulan'\n",
    "df_fig_scatter = df_fig_scatter.rename(columns={'index' : 'bulan'})\n",
    "df_fig_scatter"
   ]
  },
  {
   "cell_type": "code",
   "execution_count": 36,
   "id": "f22c0139",
   "metadata": {},
   "outputs": [
    {
     "data": {
      "image/png": "[encoded data removed]",
      "text/plain": [
       "<Figure size 720x432 with 1 Axes>"
      ]
     },
     "metadata": {
      "needs_background": "light"
     },
     "output_type": "display_data"
    }
   ],
   "source": [
    "df_fig_scatter.plot(kind='scatter', x='bulan', y='total', figsize=(10, 6), color='darkblue')\n",
    "\n",
    "plt.title('Total London Criminal Cases from 2008 to 2016', y=1.02)\n",
    "plt.xlabel('Year', fontsize = 11)\n",
    "plt.ylabel('Number of Cases', fontsize = 11)\n",
    "\n",
    "plt.show()"
   ]
  },
  {
   "cell_type": "markdown",
   "id": "eafc0648",
   "metadata": {},
   "source": [
    "**#3 Conclusion:**"
   ]
  },
  {
   "cell_type": "markdown",
   "id": "90b3fcc5",
   "metadata": {},
   "source": [
    "Grafik Scatter plot di atas menunjukkan hubungan antara total kejahatan yang terjadi pada setiap bulan dari tahun 2008 - 2016. Berdasarkan grafik tersebut dapat disimpulkan bahwa:\n",
    "1. Kasus tertinggi kejahatan berdasarkan kumulatif jumlah kasus setiap bulannya dari tahun 2008-2016 terjadi pada bulan Juli.\n",
    "2. Jumlah total kasus kejahatan untuk setiap bulan tiap tahunnya memiliki perbedaan yang tidak terlalu signifikan."
   ]
  },
  {
   "cell_type": "markdown",
   "id": "62427af2",
   "metadata": {},
   "source": [
    "---\n",
    "# G. Word Cloud"
   ]
  },
  {
   "cell_type": "markdown",
   "id": "e5b42f37",
   "metadata": {},
   "source": [
    "**#1 Question:**"
   ]
  },
  {
   "cell_type": "markdown",
   "id": "7e466441",
   "metadata": {},
   "source": [
    "Kejahatan mayor apa yang paling sering terjadi pada tahun 2008?"
   ]
  },
  {
   "cell_type": "markdown",
   "id": "cc818251",
   "metadata": {},
   "source": [
    "**#2 Pre-processing as needed:**"
   ]
  },
  {
   "cell_type": "code",
   "execution_count": 37,
   "id": "678eb518",
   "metadata": {},
   "outputs": [],
   "source": [
    "# prepare data\n",
    "df_cloud1 = df_lsoa.loc[:,['kejahatan_mayor', 'tahun']]\n",
    "df_cloud = df_cloud1[df_cloud1['tahun'] == 2008]\n",
    "df_cloud = df_cloud.drop('tahun', axis = 1)\n",
    "df_cloud2 = df_lsoa['kejahatan_mayor']\n",
    "df_cloud_str = df_cloud2.astype(str)"
   ]
  },
  {
   "cell_type": "code",
   "execution_count": 38,
   "id": "843da0ef",
   "metadata": {},
   "outputs": [],
   "source": [
    "# function set to remove any redundant stopwords\n",
    "stopwords = set(STOPWORDS)"
   ]
  },
  {
   "cell_type": "markdown",
   "id": "08b1ebd5",
   "metadata": {},
   "source": [
    "Membuat word cloud dengan masking, unduh [file mask](https://insights-on.com/wp-content/uploads/2021/03/cloud.png) "
   ]
  },
  {
   "cell_type": "code",
   "execution_count": 39,
   "id": "b8b46162",
   "metadata": {},
   "outputs": [
    {
     "data": {
      "image/png": "[encoded data removed]",
      "text/plain": [
       "<Figure size 1008x1296 with 1 Axes>"
      ]
     },
     "metadata": {
      "needs_background": "light"
     },
     "output_type": "display_data"
    }
   ],
   "source": [
    "# save mask to shape_mask\n",
    "shape_mask = np.array(Image.open('cloud_mask.png'))\n",
    "\n",
    "fig = plt.figure()\n",
    "fig.set_figwidth(14) # set width\n",
    "fig.set_figheight(18) # set height\n",
    "\n",
    "plt.imshow(shape_mask, cmap=plt.cm.gray, interpolation='bilinear')\n",
    "plt.axis('off')\n",
    "plt.show()"
   ]
  },
  {
   "cell_type": "code",
   "execution_count": 40,
   "id": "72dff75a",
   "metadata": {},
   "outputs": [],
   "source": [
    "word_string=\" \".join(df_lsoa['kejahatan_mayor'])"
   ]
  },
  {
   "cell_type": "code",
   "execution_count": 41,
   "id": "a8df0050",
   "metadata": {},
   "outputs": [
    {
     "data": {
      "image/png": "[encoded data removed]",
      "text/plain": [
       "<Figure size 1080x1080 with 1 Axes>"
      ]
     },
     "metadata": {
      "needs_background": "light"
     },
     "output_type": "display_data"
    }
   ],
   "source": [
    "plt.figure(figsize=(15,15))\n",
    "# instantiate a word cloud object\n",
    "wc = WordCloud(background_color=\"white\", stopwords = STOPWORDS, mask = shape_mask, max_words=2000, max_font_size= 300,  width=1600, height=800)\n",
    "# generate the word cloud\n",
    "wc.generate(word_string)\n",
    "\n",
    "plt.imshow(wc, cmap=plt.cm.gray, interpolation='bilinear')\n",
    "plt.axis('off')\n",
    "plt.show()"
   ]
  },
  {
   "cell_type": "markdown",
   "id": "a2989c9f",
   "metadata": {},
   "source": [
    "---\n",
    "# H. Folium Maps"
   ]
  },
  {
   "cell_type": "markdown",
   "id": "d817627d",
   "metadata": {},
   "source": [
    "**#1 Question:**"
   ]
  },
  {
   "cell_type": "markdown",
   "id": "b912b86d",
   "metadata": {},
   "source": [
    "Buat peta London dengan tingkat zoom 12!"
   ]
  },
  {
   "cell_type": "markdown",
   "id": "d6b6d9ad",
   "metadata": {},
   "source": [
    "**#2 Pre-processing as needed:**"
   ]
  },
  {
   "cell_type": "code",
   "execution_count": 42,
   "id": "a5babf93",
   "metadata": {},
   "outputs": [],
   "source": [
    "# London latitude and longitude values\n",
    "latitude = 51.507351\n",
    "longitude = -0.127758"
   ]
  },
  {
   "cell_type": "code",
   "execution_count": 43,
   "id": "d30e5fec",
   "metadata": {},
   "outputs": [
    {
     "data": {
      "text/html": [
       "<div style=\"width:100%;\"><div style=\"position:relative;width:100%;height:0;padding-bottom:60%;\"><span style=\"color:#565656\">Make this Notebook Trusted to load map: File -> Trust Notebook</span><iframe srcdoc=\"&lt;!DOCTYPE html&gt;\n",
       "&lt;head&gt;    \n",
       "    &lt;meta http-equiv=&quot;content-type&quot; content=&quot;text/html; charset=UTF-8&quot; /&gt;\n",
       "    \n",
       "        &lt;script&gt;\n",
       "            L_NO_TOUCH = false;\n",
       "            L_DISABLE_3D = false;\n",
       "        &lt;/script&gt;\n",
       "    \n",
       "    &lt;style&gt;html, body {width: 100%;height: 100%;margin: 0;padding: 0;}&lt;/style&gt;\n",
       "    &lt;style&gt;#map {position:absolute;top:0;bottom:0;right:0;left:0;}&lt;/style&gt;\n",
       "    &lt;script src=&quot;https://cdn.jsdelivr.net/npm/leaflet@1.6.0/dist/leaflet.js&quot;&gt;&lt;/script&gt;\n",
       "    &lt;script src=&quot;https://code.jquery.com/jquery-1.12.4.min.js&quot;&gt;&lt;/script&gt;\n",
       "    &lt;script src=&quot;https://maxcdn.bootstrapcdn.com/bootstrap/3.2.0/js/bootstrap.min.js&quot;&gt;&lt;/script&gt;\n",
       "    &lt;script src=&quot;https://cdnjs.cloudflare.com/ajax/libs/Leaflet.awesome-markers/2.0.2/leaflet.awesome-markers.js&quot;&gt;&lt;/script&gt;\n",
       "    &lt;link rel=&quot;stylesheet&quot; href=&quot;https://cdn.jsdelivr.net/npm/leaflet@1.6.0/dist/leaflet.css&quot;/&gt;\n",
       "    &lt;link rel=&quot;stylesheet&quot; href=&quot;https://maxcdn.bootstrapcdn.com/bootstrap/3.2.0/css/bootstrap.min.css&quot;/&gt;\n",
       "    &lt;link rel=&quot;stylesheet&quot; href=&quot;https://maxcdn.bootstrapcdn.com/bootstrap/3.2.0/css/bootstrap-theme.min.css&quot;/&gt;\n",
       "    &lt;link rel=&quot;stylesheet&quot; href=&quot;https://maxcdn.bootstrapcdn.com/font-awesome/4.6.3/css/font-awesome.min.css&quot;/&gt;\n",
       "    &lt;link rel=&quot;stylesheet&quot; href=&quot;https://cdnjs.cloudflare.com/ajax/libs/Leaflet.awesome-markers/2.0.2/leaflet.awesome-markers.css&quot;/&gt;\n",
       "    &lt;link rel=&quot;stylesheet&quot; href=&quot;https://cdn.jsdelivr.net/gh/python-visualization/folium/folium/templates/leaflet.awesome.rotate.min.css&quot;/&gt;\n",
       "    \n",
       "            &lt;meta name=&quot;viewport&quot; content=&quot;width=device-width,\n",
       "                initial-scale=1.0, maximum-scale=1.0, user-scalable=no&quot; /&gt;\n",
       "            &lt;style&gt;\n",
       "                #map_b834bb5d4a947b4a68ec02472babca5b {\n",
       "                    position: relative;\n",
       "                    width: 100.0%;\n",
       "                    height: 100.0%;\n",
       "                    left: 0.0%;\n",
       "                    top: 0.0%;\n",
       "                }\n",
       "            &lt;/style&gt;\n",
       "        \n",
       "&lt;/head&gt;\n",
       "&lt;body&gt;    \n",
       "    \n",
       "            &lt;div class=&quot;folium-map&quot; id=&quot;map_b834bb5d4a947b4a68ec02472babca5b&quot; &gt;&lt;/div&gt;\n",
       "        \n",
       "&lt;/body&gt;\n",
       "&lt;script&gt;    \n",
       "    \n",
       "            var map_b834bb5d4a947b4a68ec02472babca5b = L.map(\n",
       "                &quot;map_b834bb5d4a947b4a68ec02472babca5b&quot;,\n",
       "                {\n",
       "                    center: [51.507351, -0.127758],\n",
       "                    crs: L.CRS.EPSG3857,\n",
       "                    zoom: 12,\n",
       "                    zoomControl: true,\n",
       "                    preferCanvas: false,\n",
       "                }\n",
       "            );\n",
       "\n",
       "            \n",
       "\n",
       "        \n",
       "    \n",
       "            var tile_layer_47c4cfa83e13105cc808e0b01339dc4c = L.tileLayer(\n",
       "                &quot;https://{s}.tile.openstreetmap.org/{z}/{x}/{y}.png&quot;,\n",
       "                {&quot;attribution&quot;: &quot;Data by \\u0026copy; \\u003ca href=\\&quot;http://openstreetmap.org\\&quot;\\u003eOpenStreetMap\\u003c/a\\u003e, under \\u003ca href=\\&quot;http://www.openstreetmap.org/copyright\\&quot;\\u003eODbL\\u003c/a\\u003e.&quot;, &quot;detectRetina&quot;: false, &quot;maxNativeZoom&quot;: 18, &quot;maxZoom&quot;: 18, &quot;minZoom&quot;: 0, &quot;noWrap&quot;: false, &quot;opacity&quot;: 1, &quot;subdomains&quot;: &quot;abc&quot;, &quot;tms&quot;: false}\n",
       "            ).addTo(map_b834bb5d4a947b4a68ec02472babca5b);\n",
       "        \n",
       "&lt;/script&gt;\" style=\"position:absolute;width:100%;height:100%;left:0;top:0;border:none !important;\" allowfullscreen webkitallowfullscreen mozallowfullscreen></iframe></div></div>"
      ],
      "text/plain": [
       "<folium.folium.Map at 0x1c500962af0>"
      ]
     },
     "execution_count": 43,
     "metadata": {},
     "output_type": "execute_result"
    }
   ],
   "source": [
    "# create map and display it\n",
    "london_map = folium.Map(location=[latitude, longitude], zoom_start=12)\n",
    "\n",
    "# display the map of London\n",
    "london_map"
   ]
  },
  {
   "cell_type": "markdown",
   "id": "94253a86",
   "metadata": {},
   "source": [
    "---\n",
    "### Overall Analysis"
   ]
  },
  {
   "cell_type": "markdown",
   "id": "c1d37659",
   "metadata": {},
   "source": [
    "1. Dalam rentang tahun 2008-2016, kasus kejahatan _Theft and Handling_ paling sering terjadi, sedangkan kasus kejahatan _Sexual Offences paling jarang terjadi di London.\n",
    "2. Setiap tahun memiliki rata-rata terjadinya total kasus kejahatan pada setiap wilayah berada dalam kisaran ~25.0003. \n",
    "3. Kasus tertinggi kejahatan berdasarkan kumulatif jumlah kasus setiap bulannya dari tahun 2008-2016 terjadi pada bulan Juli."
   ]
  }
 ],
 "metadata": {
  "kernelspec": {
   "display_name": "Python 3 (ipykernel)",
   "language": "python",
   "name": "python3"
  },
  "language_info": {
   "codemirror_mode": {
    "name": "ipython",
    "version": 3
   },
   "file_extension": ".py",
   "mimetype": "text/x-python",
   "name": "python",
   "nbconvert_exporter": "python",
   "pygments_lexer": "ipython3",
   "version": "3.9.12"
  }
 },
 "nbformat": 4,
 "nbformat_minor": 5
}
