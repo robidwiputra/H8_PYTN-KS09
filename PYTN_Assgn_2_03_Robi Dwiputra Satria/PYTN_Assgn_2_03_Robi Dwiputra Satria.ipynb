{
 "cells": [
  {
   "cell_type": "markdown",
   "id": "20124beb",
   "metadata": {},
   "source": [
    "# Assignment Python 2"
   ]
  },
  {
   "cell_type": "markdown",
   "id": "e98f94b7",
   "metadata": {},
   "source": [
    "Robi Dwiputra Satria\n",
    "\n",
    "PYTN-KS09-024\n",
    "\n",
    "Studi Independen - Kampus Merdeka"
   ]
  },
  {
   "cell_type": "markdown",
   "id": "470a3a9d",
   "metadata": {},
   "source": [
    "---\n",
    "## Project Overview"
   ]
  },
  {
   "cell_type": "markdown",
   "id": "37b85d11",
   "metadata": {},
   "source": [
    "Tujuan dari Assignment 2 ini adalah untuk memperkenalkan pada analisis statistik data dengan Python sekonsisten mungkin. Menggunakan apa yang telah dipelajari; Dataset ini mencakup catatan setiap bangunan atau unit bangunan yang terjual di Dataset NYC Property Sales (pasar properti NYC) selama periode 12 bulan dalam rentang September 2016 - September 2017."
   ]
  },
  {
   "cell_type": "markdown",
   "id": "1573e332",
   "metadata": {},
   "source": [
    "## Import Library"
   ]
  },
  {
   "cell_type": "code",
   "execution_count": 1,
   "id": "bce3927a",
   "metadata": {},
   "outputs": [],
   "source": [
    "import numpy as np\n",
    "import pandas as pd\n",
    "import matplotlib.pyplot as plt\n",
    "%matplotlib inline\n",
    "import math\n",
    "import statistics\n",
    "import scipy.stats\n",
    "from IPython.display import Math, Latex\n",
    "from IPython.core.display import Image\n",
    "import seaborn as sns"
   ]
  },
  {
   "cell_type": "code",
   "execution_count": 2,
   "id": "9c6fd239",
   "metadata": {},
   "outputs": [
    {
     "name": "stdout",
     "output_type": "stream",
     "text": [
      "Libraries are already imported!\n"
     ]
    }
   ],
   "source": [
    "print('Libraries are already imported!')"
   ]
  },
  {
   "cell_type": "markdown",
   "id": "6f242ddd",
   "metadata": {},
   "source": [
    "## Import dataset"
   ]
  },
  {
   "cell_type": "markdown",
   "id": "267b6e7c",
   "metadata": {},
   "source": [
    "Dataset NYC Property Sales dalam rentang September 2016 - September 2017, dapat diakses pada [link](https://www.kaggle.com/datasets/new-york-city/nyc-property-sales) berikut ini."
   ]
  },
  {
   "cell_type": "code",
   "execution_count": 3,
   "id": "e7342150",
   "metadata": {},
   "outputs": [],
   "source": [
    "df_nyc = pd.read_csv('nyc-rolling-sales.csv')"
   ]
  },
  {
   "cell_type": "code",
   "execution_count": 4,
   "id": "7b578426",
   "metadata": {
    "scrolled": true
   },
   "outputs": [
    {
     "data": {
      "text/html": [
       "<div>\n",
       "<style scoped>\n",
       "    .dataframe tbody tr th:only-of-type {\n",
       "        vertical-align: middle;\n",
       "    }\n",
       "\n",
       "    .dataframe tbody tr th {\n",
       "        vertical-align: top;\n",
       "    }\n",
       "\n",
       "    .dataframe thead th {\n",
       "        text-align: right;\n",
       "    }\n",
       "</style>\n",
       "<table border=\"1\" class=\"dataframe\">\n",
       "  <thead>\n",
       "    <tr style=\"text-align: right;\">\n",
       "      <th></th>\n",
       "      <th>Unnamed: 0</th>\n",
       "      <th>BOROUGH</th>\n",
       "      <th>NEIGHBORHOOD</th>\n",
       "      <th>BUILDING CLASS CATEGORY</th>\n",
       "      <th>TAX CLASS AT PRESENT</th>\n",
       "      <th>BLOCK</th>\n",
       "      <th>LOT</th>\n",
       "      <th>EASE-MENT</th>\n",
       "      <th>BUILDING CLASS AT PRESENT</th>\n",
       "      <th>ADDRESS</th>\n",
       "      <th>...</th>\n",
       "      <th>RESIDENTIAL UNITS</th>\n",
       "      <th>COMMERCIAL UNITS</th>\n",
       "      <th>TOTAL UNITS</th>\n",
       "      <th>LAND SQUARE FEET</th>\n",
       "      <th>GROSS SQUARE FEET</th>\n",
       "      <th>YEAR BUILT</th>\n",
       "      <th>TAX CLASS AT TIME OF SALE</th>\n",
       "      <th>BUILDING CLASS AT TIME OF SALE</th>\n",
       "      <th>SALE PRICE</th>\n",
       "      <th>SALE DATE</th>\n",
       "    </tr>\n",
       "  </thead>\n",
       "  <tbody>\n",
       "    <tr>\n",
       "      <th>0</th>\n",
       "      <td>4</td>\n",
       "      <td>1</td>\n",
       "      <td>ALPHABET CITY</td>\n",
       "      <td>07 RENTALS - WALKUP APARTMENTS</td>\n",
       "      <td>2A</td>\n",
       "      <td>392</td>\n",
       "      <td>6</td>\n",
       "      <td></td>\n",
       "      <td>C2</td>\n",
       "      <td>153 AVENUE B</td>\n",
       "      <td>...</td>\n",
       "      <td>5</td>\n",
       "      <td>0</td>\n",
       "      <td>5</td>\n",
       "      <td>1633</td>\n",
       "      <td>6440</td>\n",
       "      <td>1900</td>\n",
       "      <td>2</td>\n",
       "      <td>C2</td>\n",
       "      <td>6625000</td>\n",
       "      <td>2017-07-19 00:00:00</td>\n",
       "    </tr>\n",
       "    <tr>\n",
       "      <th>1</th>\n",
       "      <td>5</td>\n",
       "      <td>1</td>\n",
       "      <td>ALPHABET CITY</td>\n",
       "      <td>07 RENTALS - WALKUP APARTMENTS</td>\n",
       "      <td>2</td>\n",
       "      <td>399</td>\n",
       "      <td>26</td>\n",
       "      <td></td>\n",
       "      <td>C7</td>\n",
       "      <td>234 EAST 4TH   STREET</td>\n",
       "      <td>...</td>\n",
       "      <td>28</td>\n",
       "      <td>3</td>\n",
       "      <td>31</td>\n",
       "      <td>4616</td>\n",
       "      <td>18690</td>\n",
       "      <td>1900</td>\n",
       "      <td>2</td>\n",
       "      <td>C7</td>\n",
       "      <td>-</td>\n",
       "      <td>2016-12-14 00:00:00</td>\n",
       "    </tr>\n",
       "    <tr>\n",
       "      <th>2</th>\n",
       "      <td>6</td>\n",
       "      <td>1</td>\n",
       "      <td>ALPHABET CITY</td>\n",
       "      <td>07 RENTALS - WALKUP APARTMENTS</td>\n",
       "      <td>2</td>\n",
       "      <td>399</td>\n",
       "      <td>39</td>\n",
       "      <td></td>\n",
       "      <td>C7</td>\n",
       "      <td>197 EAST 3RD   STREET</td>\n",
       "      <td>...</td>\n",
       "      <td>16</td>\n",
       "      <td>1</td>\n",
       "      <td>17</td>\n",
       "      <td>2212</td>\n",
       "      <td>7803</td>\n",
       "      <td>1900</td>\n",
       "      <td>2</td>\n",
       "      <td>C7</td>\n",
       "      <td>-</td>\n",
       "      <td>2016-12-09 00:00:00</td>\n",
       "    </tr>\n",
       "    <tr>\n",
       "      <th>3</th>\n",
       "      <td>7</td>\n",
       "      <td>1</td>\n",
       "      <td>ALPHABET CITY</td>\n",
       "      <td>07 RENTALS - WALKUP APARTMENTS</td>\n",
       "      <td>2B</td>\n",
       "      <td>402</td>\n",
       "      <td>21</td>\n",
       "      <td></td>\n",
       "      <td>C4</td>\n",
       "      <td>154 EAST 7TH STREET</td>\n",
       "      <td>...</td>\n",
       "      <td>10</td>\n",
       "      <td>0</td>\n",
       "      <td>10</td>\n",
       "      <td>2272</td>\n",
       "      <td>6794</td>\n",
       "      <td>1913</td>\n",
       "      <td>2</td>\n",
       "      <td>C4</td>\n",
       "      <td>3936272</td>\n",
       "      <td>2016-09-23 00:00:00</td>\n",
       "    </tr>\n",
       "    <tr>\n",
       "      <th>4</th>\n",
       "      <td>8</td>\n",
       "      <td>1</td>\n",
       "      <td>ALPHABET CITY</td>\n",
       "      <td>07 RENTALS - WALKUP APARTMENTS</td>\n",
       "      <td>2A</td>\n",
       "      <td>404</td>\n",
       "      <td>55</td>\n",
       "      <td></td>\n",
       "      <td>C2</td>\n",
       "      <td>301 EAST 10TH   STREET</td>\n",
       "      <td>...</td>\n",
       "      <td>6</td>\n",
       "      <td>0</td>\n",
       "      <td>6</td>\n",
       "      <td>2369</td>\n",
       "      <td>4615</td>\n",
       "      <td>1900</td>\n",
       "      <td>2</td>\n",
       "      <td>C2</td>\n",
       "      <td>8000000</td>\n",
       "      <td>2016-11-17 00:00:00</td>\n",
       "    </tr>\n",
       "  </tbody>\n",
       "</table>\n",
       "<p>5 rows × 22 columns</p>\n",
       "</div>"
      ],
      "text/plain": [
       "   Unnamed: 0  BOROUGH   NEIGHBORHOOD  \\\n",
       "0           4        1  ALPHABET CITY   \n",
       "1           5        1  ALPHABET CITY   \n",
       "2           6        1  ALPHABET CITY   \n",
       "3           7        1  ALPHABET CITY   \n",
       "4           8        1  ALPHABET CITY   \n",
       "\n",
       "                       BUILDING CLASS CATEGORY TAX CLASS AT PRESENT  BLOCK  \\\n",
       "0  07 RENTALS - WALKUP APARTMENTS                                2A    392   \n",
       "1  07 RENTALS - WALKUP APARTMENTS                                 2    399   \n",
       "2  07 RENTALS - WALKUP APARTMENTS                                 2    399   \n",
       "3  07 RENTALS - WALKUP APARTMENTS                                2B    402   \n",
       "4  07 RENTALS - WALKUP APARTMENTS                                2A    404   \n",
       "\n",
       "   LOT EASE-MENT BUILDING CLASS AT PRESENT                 ADDRESS  ...  \\\n",
       "0    6                                  C2            153 AVENUE B  ...   \n",
       "1   26                                  C7   234 EAST 4TH   STREET  ...   \n",
       "2   39                                  C7   197 EAST 3RD   STREET  ...   \n",
       "3   21                                  C4     154 EAST 7TH STREET  ...   \n",
       "4   55                                  C2  301 EAST 10TH   STREET  ...   \n",
       "\n",
       "  RESIDENTIAL UNITS  COMMERCIAL UNITS  TOTAL UNITS  LAND SQUARE FEET  \\\n",
       "0                 5                 0            5              1633   \n",
       "1                28                 3           31              4616   \n",
       "2                16                 1           17              2212   \n",
       "3                10                 0           10              2272   \n",
       "4                 6                 0            6              2369   \n",
       "\n",
       "   GROSS SQUARE FEET YEAR BUILT TAX CLASS AT TIME OF SALE  \\\n",
       "0               6440       1900                         2   \n",
       "1              18690       1900                         2   \n",
       "2               7803       1900                         2   \n",
       "3               6794       1913                         2   \n",
       "4               4615       1900                         2   \n",
       "\n",
       "   BUILDING CLASS AT TIME OF SALE  SALE PRICE            SALE DATE  \n",
       "0                              C2     6625000  2017-07-19 00:00:00  \n",
       "1                              C7         -    2016-12-14 00:00:00  \n",
       "2                              C7         -    2016-12-09 00:00:00  \n",
       "3                              C4     3936272  2016-09-23 00:00:00  \n",
       "4                              C2     8000000  2016-11-17 00:00:00  \n",
       "\n",
       "[5 rows x 22 columns]"
      ]
     },
     "execution_count": 4,
     "metadata": {},
     "output_type": "execute_result"
    }
   ],
   "source": [
    "# menampilkan 5 baris pertama\n",
    "df_nyc.head()"
   ]
  },
  {
   "cell_type": "markdown",
   "id": "0260c19a",
   "metadata": {},
   "source": [
    "---\n",
    "## Pre-processing"
   ]
  },
  {
   "cell_type": "markdown",
   "id": "65f1eb41",
   "metadata": {},
   "source": [
    "### Mengetahui dimensi (baris, kolom) dari dataset"
   ]
  },
  {
   "cell_type": "code",
   "execution_count": 5,
   "id": "6484a617",
   "metadata": {},
   "outputs": [
    {
     "name": "stdout",
     "output_type": "stream",
     "text": [
      "84548 baris\n",
      "22 kolom\n"
     ]
    }
   ],
   "source": [
    "baris, kolom = df_nyc.shape\n",
    "print(baris, 'baris')\n",
    "print(kolom, 'kolom')"
   ]
  },
  {
   "cell_type": "markdown",
   "id": "21773fb4",
   "metadata": {},
   "source": [
    "### Menampilkan fitur DataFrame"
   ]
  },
  {
   "cell_type": "code",
   "execution_count": 6,
   "id": "adb29dcd",
   "metadata": {},
   "outputs": [
    {
     "name": "stdout",
     "output_type": "stream",
     "text": [
      "Index(['Unnamed: 0', 'BOROUGH', 'NEIGHBORHOOD', 'BUILDING CLASS CATEGORY',\n",
      "       'TAX CLASS AT PRESENT', 'BLOCK', 'LOT', 'EASE-MENT',\n",
      "       'BUILDING CLASS AT PRESENT', 'ADDRESS', 'APARTMENT NUMBER', 'ZIP CODE',\n",
      "       'RESIDENTIAL UNITS', 'COMMERCIAL UNITS', 'TOTAL UNITS',\n",
      "       'LAND SQUARE FEET', 'GROSS SQUARE FEET', 'YEAR BUILT',\n",
      "       'TAX CLASS AT TIME OF SALE', 'BUILDING CLASS AT TIME OF SALE',\n",
      "       'SALE PRICE', 'SALE DATE'],\n",
      "      dtype='object')\n"
     ]
    }
   ],
   "source": [
    "# menampilkan daftar fitur/atribut/kolom yang terdapat pada dataset\n",
    "column_list = df_nyc.columns\n",
    "print(column_list)"
   ]
  },
  {
   "cell_type": "markdown",
   "id": "91d1aec9",
   "metadata": {},
   "source": [
    "### Melihat tipe data untuk setiap kolom"
   ]
  },
  {
   "cell_type": "code",
   "execution_count": 7,
   "id": "0fc1c077",
   "metadata": {},
   "outputs": [
    {
     "name": "stdout",
     "output_type": "stream",
     "text": [
      "<class 'pandas.core.frame.DataFrame'>\n",
      "RangeIndex: 84548 entries, 0 to 84547\n",
      "Data columns (total 22 columns):\n",
      " #   Column                          Non-Null Count  Dtype \n",
      "---  ------                          --------------  ----- \n",
      " 0   Unnamed: 0                      84548 non-null  int64 \n",
      " 1   BOROUGH                         84548 non-null  int64 \n",
      " 2   NEIGHBORHOOD                    84548 non-null  object\n",
      " 3   BUILDING CLASS CATEGORY         84548 non-null  object\n",
      " 4   TAX CLASS AT PRESENT            84548 non-null  object\n",
      " 5   BLOCK                           84548 non-null  int64 \n",
      " 6   LOT                             84548 non-null  int64 \n",
      " 7   EASE-MENT                       84548 non-null  object\n",
      " 8   BUILDING CLASS AT PRESENT       84548 non-null  object\n",
      " 9   ADDRESS                         84548 non-null  object\n",
      " 10  APARTMENT NUMBER                84548 non-null  object\n",
      " 11  ZIP CODE                        84548 non-null  int64 \n",
      " 12  RESIDENTIAL UNITS               84548 non-null  int64 \n",
      " 13  COMMERCIAL UNITS                84548 non-null  int64 \n",
      " 14  TOTAL UNITS                     84548 non-null  int64 \n",
      " 15  LAND SQUARE FEET                84548 non-null  object\n",
      " 16  GROSS SQUARE FEET               84548 non-null  object\n",
      " 17  YEAR BUILT                      84548 non-null  int64 \n",
      " 18  TAX CLASS AT TIME OF SALE       84548 non-null  int64 \n",
      " 19  BUILDING CLASS AT TIME OF SALE  84548 non-null  object\n",
      " 20  SALE PRICE                      84548 non-null  object\n",
      " 21  SALE DATE                       84548 non-null  object\n",
      "dtypes: int64(10), object(12)\n",
      "memory usage: 14.2+ MB\n"
     ]
    }
   ],
   "source": [
    "df_nyc.info()"
   ]
  },
  {
   "cell_type": "markdown",
   "id": "655a7510",
   "metadata": {},
   "source": [
    "### Mengetahui jumlah nilai unik setiap kolom"
   ]
  },
  {
   "cell_type": "code",
   "execution_count": 8,
   "id": "349890d5",
   "metadata": {},
   "outputs": [
    {
     "name": "stdout",
     "output_type": "stream",
     "text": [
      "Jumlah nilai unik untuk kolom Unnamed: 0 bernilai 26736 \n",
      " nilai unik = [    4     5     6 ... 26737 26738 26739]\n",
      "===============================================================\n",
      "\n",
      "Jumlah nilai unik untuk kolom BOROUGH bernilai 5 \n",
      " nilai unik = [1 2 3 4 5]\n",
      "===============================================================\n",
      "\n",
      "Jumlah nilai unik untuk kolom NEIGHBORHOOD bernilai 254 \n",
      " nilai unik = ['ALPHABET CITY' 'CHELSEA' 'CHINATOWN' 'CIVIC CENTER' 'CLINTON'\n",
      " 'EAST VILLAGE' 'FASHION' 'FINANCIAL' 'FLATIRON' 'GRAMERCY'\n",
      " 'GREENWICH VILLAGE-CENTRAL' 'GREENWICH VILLAGE-WEST' 'HARLEM-CENTRAL'\n",
      " 'HARLEM-EAST' 'HARLEM-UPPER' 'HARLEM-WEST' 'INWOOD' 'JAVITS CENTER'\n",
      " 'KIPS BAY' 'LITTLE ITALY' 'LOWER EAST SIDE' 'MANHATTAN VALLEY'\n",
      " 'MIDTOWN CBD' 'MIDTOWN EAST' 'MIDTOWN WEST' 'MORNINGSIDE HEIGHTS'\n",
      " 'MURRAY HILL' 'ROOSEVELT ISLAND' 'SOHO' 'SOUTHBRIDGE' 'TRIBECA'\n",
      " 'UPPER EAST SIDE (59-79)' 'UPPER EAST SIDE (79-96)'\n",
      " 'UPPER EAST SIDE (96-110)' 'UPPER WEST SIDE (59-79)'\n",
      " 'UPPER WEST SIDE (79-96)' 'UPPER WEST SIDE (96-116)'\n",
      " 'WASHINGTON HEIGHTS LOWER' 'WASHINGTON HEIGHTS UPPER' 'BATHGATE'\n",
      " 'BAYCHESTER' 'BEDFORD PARK/NORWOOD' 'BELMONT' 'BRONX PARK' 'BRONXDALE'\n",
      " 'CASTLE HILL/UNIONPORT' 'CITY ISLAND' 'CITY ISLAND-PELHAM STRIP'\n",
      " 'CO-OP CITY' 'COUNTRY CLUB' 'CROTONA PARK' 'EAST RIVER' 'EAST TREMONT'\n",
      " 'FIELDSTON' 'FORDHAM' 'HIGHBRIDGE/MORRIS HEIGHTS' 'HUNTS POINT'\n",
      " 'KINGSBRIDGE HTS/UNIV HTS' 'KINGSBRIDGE/JEROME PARK' 'MELROSE/CONCOURSE'\n",
      " 'MORRIS PARK/VAN NEST' 'MORRISANIA/LONGWOOD' 'MOTT HAVEN/PORT MORRIS'\n",
      " 'MOUNT HOPE/MOUNT EDEN' 'PARKCHESTER' 'PELHAM BAY' 'PELHAM GARDENS'\n",
      " 'PELHAM PARKWAY NORTH' 'PELHAM PARKWAY SOUTH' 'RIVERDALE'\n",
      " 'SCHUYLERVILLE/PELHAM BAY' 'SOUNDVIEW' 'THROGS NECK' 'VAN CORTLANDT PARK'\n",
      " 'WAKEFIELD' 'WESTCHESTER' 'WILLIAMSBRIDGE' 'WOODLAWN' 'BATH BEACH'\n",
      " 'BAY RIDGE' 'BEDFORD STUYVESANT' 'BENSONHURST' 'BERGEN BEACH'\n",
      " 'BOERUM HILL' 'BOROUGH PARK' 'BRIGHTON BEACH' 'BROOKLYN HEIGHTS'\n",
      " 'BROWNSVILLE' 'BUSH TERMINAL' 'BUSHWICK' 'CANARSIE' 'CARROLL GARDENS'\n",
      " 'CLINTON HILL' 'COBBLE HILL' 'COBBLE HILL-WEST' 'CONEY ISLAND'\n",
      " 'CROWN HEIGHTS' 'CYPRESS HILLS' 'DOWNTOWN-FULTON FERRY'\n",
      " 'DOWNTOWN-FULTON MALL' 'DOWNTOWN-METROTECH' 'DYKER HEIGHTS'\n",
      " 'EAST NEW YORK' 'FLATBUSH-CENTRAL' 'FLATBUSH-EAST'\n",
      " 'FLATBUSH-LEFFERTS GARDEN' 'FLATBUSH-NORTH' 'FLATLANDS' 'FORT GREENE'\n",
      " 'GERRITSEN BEACH' 'GOWANUS' 'GRAVESEND' 'GREENPOINT' 'JAMAICA BAY'\n",
      " 'KENSINGTON' 'MADISON' 'MANHATTAN BEACH' 'MARINE PARK' 'MIDWOOD'\n",
      " 'MILL BASIN' 'NAVY YARD' 'OCEAN HILL' 'OCEAN PARKWAY-NORTH'\n",
      " 'OCEAN PARKWAY-SOUTH' 'OLD MILL BASIN' 'PARK SLOPE' 'PARK SLOPE SOUTH'\n",
      " 'PROSPECT HEIGHTS' 'RED HOOK' 'SEAGATE' 'SHEEPSHEAD BAY' 'SPRING CREEK'\n",
      " 'SUNSET PARK' 'WILLIAMSBURG-CENTRAL' 'WILLIAMSBURG-EAST'\n",
      " 'WILLIAMSBURG-NORTH' 'WILLIAMSBURG-SOUTH' 'WINDSOR TERRACE'\n",
      " 'WYCKOFF HEIGHTS' 'AIRPORT LA GUARDIA' 'ARVERNE' 'ASTORIA' 'BAYSIDE'\n",
      " 'BEECHHURST' 'BELLE HARBOR' 'BELLEROSE' 'BRIARWOOD' 'BROAD CHANNEL'\n",
      " 'CAMBRIA HEIGHTS' 'COLLEGE POINT' 'CORONA' 'DOUGLASTON' 'EAST ELMHURST'\n",
      " 'ELMHURST' 'FAR ROCKAWAY' 'FLORAL PARK' 'FLUSHING MEADOW PARK'\n",
      " 'FLUSHING-NORTH' 'FLUSHING-SOUTH' 'FOREST HILLS' 'FRESH MEADOWS'\n",
      " 'GLEN OAKS' 'GLENDALE' 'HAMMELS' 'HILLCREST' 'HOLLIS' 'HOLLIS HILLS'\n",
      " 'HOLLISWOOD' 'HOWARD BEACH' 'JACKSON HEIGHTS' 'JAMAICA' 'JAMAICA ESTATES'\n",
      " 'JAMAICA HILLS' 'KEW GARDENS' 'LAURELTON' 'LITTLE NECK'\n",
      " 'LONG ISLAND CITY' 'MASPETH' 'MIDDLE VILLAGE' 'NEPONSIT'\n",
      " 'OAKLAND GARDENS' 'OZONE PARK' 'QUEENS VILLAGE' 'REGO PARK'\n",
      " 'RICHMOND HILL' 'RIDGEWOOD' 'ROCKAWAY PARK' 'ROSEDALE'\n",
      " 'SO. JAMAICA-BAISLEY PARK' 'SOUTH JAMAICA' 'SOUTH OZONE PARK'\n",
      " 'SPRINGFIELD GARDENS' 'ST. ALBANS' 'SUNNYSIDE' 'WHITESTONE' 'WOODHAVEN'\n",
      " 'WOODSIDE' 'ANNADALE' 'ARDEN HEIGHTS' 'ARROCHAR' 'ARROCHAR-SHORE ACRES'\n",
      " 'BLOOMFIELD' 'BULLS HEAD' 'CASTLETON CORNERS' 'CLOVE LAKES' 'CONCORD'\n",
      " 'CONCORD-FOX HILLS' 'DONGAN HILLS' 'DONGAN HILLS-COLONY'\n",
      " 'DONGAN HILLS-OLD TOWN' 'ELTINGVILLE' 'EMERSON HILL' 'FRESH KILLS'\n",
      " 'GRANT CITY' 'GRASMERE' 'GREAT KILLS' 'GREAT KILLS-BAY TERRACE'\n",
      " 'GRYMES HILL' 'HUGUENOT' 'LIVINGSTON' 'MANOR HEIGHTS' 'MARINERS HARBOR'\n",
      " 'MIDLAND BEACH' 'NEW BRIGHTON' 'NEW BRIGHTON-ST. GEORGE' 'NEW DORP'\n",
      " 'NEW DORP-BEACH' 'NEW DORP-HEIGHTS' 'NEW SPRINGVILLE' 'OAKWOOD'\n",
      " 'OAKWOOD-BEACH' 'PLEASANT PLAINS' 'PORT IVORY' 'PORT RICHMOND'\n",
      " 'PRINCES BAY' 'RICHMONDTOWN' 'RICHMONDTOWN-LIGHTHS HILL' 'ROSEBANK'\n",
      " 'ROSSVILLE' 'ROSSVILLE-CHARLESTON' 'ROSSVILLE-PORT MOBIL'\n",
      " 'ROSSVILLE-RICHMOND VALLEY' 'SILVER LAKE' 'SOUTH BEACH' 'STAPLETON'\n",
      " 'STAPLETON-CLIFTON' 'TODT HILL' 'TOMPKINSVILLE' 'TOTTENVILLE' 'TRAVIS'\n",
      " 'WEST NEW BRIGHTON' 'WESTERLEIGH' 'WILLOWBROOK' 'WOODROW']\n",
      "===============================================================\n",
      "\n",
      "Jumlah nilai unik untuk kolom BUILDING CLASS CATEGORY bernilai 47 \n",
      " nilai unik = ['07 RENTALS - WALKUP APARTMENTS             '\n",
      " '08 RENTALS - ELEVATOR APARTMENTS           '\n",
      " '09 COOPS - WALKUP APARTMENTS               '\n",
      " '10 COOPS - ELEVATOR APARTMENTS             '\n",
      " '11A CONDO-RENTALS                           '\n",
      " '12 CONDOS - WALKUP APARTMENTS              '\n",
      " '13 CONDOS - ELEVATOR APARTMENTS            '\n",
      " '14 RENTALS - 4-10 UNIT                     '\n",
      " '15 CONDOS - 2-10 UNIT RESIDENTIAL          '\n",
      " '16 CONDOS - 2-10 UNIT WITH COMMERCIAL UNIT '\n",
      " '17 CONDO COOPS                             '\n",
      " '22 STORE BUILDINGS                         '\n",
      " '37 RELIGIOUS FACILITIES                    '\n",
      " '42 CONDO CULTURAL/MEDICAL/EDUCATIONAL/ETC  '\n",
      " '46 CONDO STORE BUILDINGS                   '\n",
      " '47 CONDO NON-BUSINESS STORAGE              '\n",
      " '01 ONE FAMILY DWELLINGS                    '\n",
      " '02 TWO FAMILY DWELLINGS                    '\n",
      " '03 THREE FAMILY DWELLINGS                  '\n",
      " '04 TAX CLASS 1 CONDOS                      '\n",
      " '21 OFFICE BUILDINGS                        '\n",
      " '23 LOFT BUILDINGS                          '\n",
      " '25 LUXURY HOTELS                           '\n",
      " '26 OTHER HOTELS                            '\n",
      " '28 COMMERCIAL CONDOS                       '\n",
      " '29 COMMERCIAL GARAGES                      '\n",
      " '35 INDOOR PUBLIC AND CULTURAL FACILITIES   '\n",
      " '38 ASYLUMS AND HOMES                       '\n",
      " '43 CONDO OFFICE BUILDINGS                  '\n",
      " '44 CONDO PARKING                           '\n",
      " '48 CONDO TERRACES/GARDENS/CABANAS          '\n",
      " '31 COMMERCIAL VACANT LAND                  '\n",
      " '32 HOSPITAL AND HEALTH FACILITIES          '\n",
      " '41 TAX CLASS 4 - OTHER                     '\n",
      " '18 TAX CLASS 3 - UNTILITY PROPERTIES       '\n",
      " '30 WAREHOUSES                              '\n",
      " '36 OUTDOOR RECREATIONAL FACILITIES         '\n",
      " '49 CONDO WAREHOUSES/FACTORY/INDUS          '\n",
      " '34 THEATRES                                '\n",
      " '27 FACTORIES                               '\n",
      " '40 SELECTED GOVERNMENTAL FACILITIES        '\n",
      " '45 CONDO HOTELS                            '\n",
      " '33 EDUCATIONAL FACILITIES                  '\n",
      " '11 SPECIAL CONDO BILLING LOTS              '\n",
      " '05 TAX CLASS 1 VACANT LAND                 '\n",
      " '06 TAX CLASS 1 - OTHER                     '\n",
      " '39 TRANSPORTATION FACILITIES               ']\n",
      "===============================================================\n",
      "\n",
      "Jumlah nilai unik untuk kolom TAX CLASS AT PRESENT bernilai 11 \n",
      " nilai unik = ['2A' '2' '2B' '2C' ' ' '4' '1' '1C' '3' '1A' '1B']\n",
      "===============================================================\n",
      "\n",
      "Jumlah nilai unik untuk kolom BLOCK bernilai 11566 \n",
      " nilai unik = [ 392  399  402 ... 6918 7074 7092]\n",
      "===============================================================\n",
      "\n",
      "Jumlah nilai unik untuk kolom LOT bernilai 2627 \n",
      " nilai unik = [  6  26  39 ... 655 423 679]\n",
      "===============================================================\n",
      "\n",
      "Jumlah nilai unik untuk kolom EASE-MENT bernilai 1 \n",
      " nilai unik = [' ']\n",
      "===============================================================\n",
      "\n",
      "Jumlah nilai unik untuk kolom BUILDING CLASS AT PRESENT bernilai 167 \n",
      " nilai unik = ['C2' 'C7' 'C4' 'D5' 'D9' 'D7' 'D1' 'C6' 'D0' 'D4' 'RR' ' ' 'R2' 'R4' 'S3'\n",
      " 'S4' 'S5' 'R1' 'R8' 'R9' 'K4' 'M9' 'M3' 'RK' 'RS' 'A9' 'A4' 'B3' 'B1'\n",
      " 'S2' 'C0' 'R6' 'C5' 'C3' 'C1' 'D6' 'S9' 'O2' 'O1' 'O3' 'O5' 'O6' 'K1'\n",
      " 'K2' 'L9' 'L8' 'L1' 'H1' 'H8' 'H3' 'R5' 'G6' 'P7' 'M1' 'N2' 'RB' 'RG'\n",
      " 'RT' 'K9' 'V1' 'GW' 'G2' 'I7' 'M4' 'Z9' 'B9' 'D3' 'G9' 'I9' 'U6' 'O4'\n",
      " 'L3' 'H2' 'E1' 'Z3' 'RW' 'C9' 'J5' 'N9' 'S1' 'A5' 'J8' 'B2' 'C8' 'F5'\n",
      " 'Q1' 'G7' 'G5' 'G4' 'P2' 'Q9' 'Y1' 'RA' 'RP' 'O8' 'HR' 'G1' 'E7' 'I5'\n",
      " 'R3' 'I4' 'H9' 'RH' 'D8' 'HB' 'J4' 'W2' 'P9' 'A7' 'D2' 'S0' 'O7' 'O9'\n",
      " 'W3' 'HS' 'H6' 'J9' 'R0' 'HH' 'W8' 'W6' 'A1' 'K5' 'F1' 'V9' 'A2' 'V0'\n",
      " 'G0' 'F4' 'E9' 'I3' 'W4' 'V3' 'I1' 'A6' 'Q8' 'A3' 'Z0' 'W1' 'U1' 'F2'\n",
      " 'F9' 'GU' 'I6' 'G8' 'P5' 'Y3' 'W9' 'M2' 'G3' 'V6' 'K7' 'K3' 'R7' 'P8'\n",
      " 'K6' 'V2' 'E2' 'Z2' 'T2' 'K8' 'P6' 'A0' 'H4' 'J1' 'CM' 'Z7']\n",
      "===============================================================\n",
      "\n",
      "Jumlah nilai unik untuk kolom ADDRESS bernilai 67563 \n",
      " nilai unik = ['153 AVENUE B' '234 EAST 4TH   STREET' '197 EAST 3RD   STREET' ...\n",
      " '49 PITNEY AVENUE' '2730 ARTHUR KILL ROAD' '155 CLAY PIT ROAD']\n",
      "===============================================================\n",
      "\n",
      "Jumlah nilai unik untuk kolom APARTMENT NUMBER bernilai 3989 \n",
      " nilai unik = [' ' 'RES' 'UNIT1' ... '115' 'MS-B' '363']\n",
      "===============================================================\n",
      "\n",
      "Jumlah nilai unik untuk kolom ZIP CODE bernilai 186 \n",
      " nilai unik = [10009     0 10002 10011 10001 10014 10010 10013 10038 10007 10036 10019\n",
      " 10018 10003 10005 10004 10006 10016 10012 10026 10030 10031 10027 10035\n",
      " 10037 10029 10039 10032 10128 10463 10034 10025 10022 10017 10167 10023\n",
      " 10105 10033 10044 10280 10282 10281 10065 10021 10075 10028 10024 10069\n",
      " 10040 10457 10458 10451 10456 10469 10466 10475 10468 10467 10460 10473\n",
      " 10472 10464 10462 10803 10465 10459 10471 10453 10452 10454 10474 10455\n",
      " 10461 10470 11228 11214 11220 11209 11219 11221 11233 11213 11206 11216\n",
      " 11205 11238 11226 11204 11234 11217 11201 11218 11232 11230 11235 11212\n",
      " 11237 11207 11236 11239 11231 11249 11224 11225 11208 11210 11203 11229\n",
      " 11215 11223 11222 11211 11370 11691 11692 11102 11106 11103 11377 11105\n",
      " 11101 11361 11360 11357 11358 11364 11693 11694 11426 11428 11004 11001\n",
      " 11435 11411 11356 11354 11420 11368 11373 11372 11363 11362 11369 11378\n",
      " 11040 11375 11355 11365 11367 11366 11374 11385 11005 11421 11379 11432\n",
      " 11423 11412 11427 11429 11433 11414 11422 11415 11418 11413 11109 11104\n",
      " 11416 11417 11419 11436 11434 11430 10312 10305 10314 10303 10310 10302\n",
      " 10301 10304 10306 10308 10309 10307]\n",
      "===============================================================\n",
      "\n",
      "Jumlah nilai unik untuk kolom RESIDENTIAL UNITS bernilai 176 \n",
      " nilai unik = [   5   28   16   10    6   20    8   44   15   24   30    0   47  132\n",
      "    1    3    4    2   22    9  210   35   17   11    7   18   27   14\n",
      "   12   21   40   19   48   79   55  529  476  317   42   23   25  107\n",
      "  133   31   36   34   33   90   74   29   13  286  256  771  257   38\n",
      "  311   41   51   76   54   45   72   56   68   37   50   26   61   60\n",
      "  894   67  550  184   78  181   86  259  102  233  121   52 1641   96\n",
      "   87  100  113   99   92   70  369   77  232  315   91   32   66   64\n",
      "  109  387  153   59  193   62  103  146  287   94   46   84   75   65\n",
      "   95   49   63   43  716  680  179   71   39   53  283  114   89   73\n",
      "   83  498   81  162  127  222  130   58  159  462  142  948  129  889\n",
      "  271  150  120   57  117  106   85  118  164  139  165  122  134  278\n",
      "  135  324  180  405  136  168  144  152  138   88  244  291 1844  198\n",
      "  148  175  296  446  420  335  143  128]\n",
      "===============================================================\n",
      "\n",
      "Jumlah nilai unik untuk kolom COMMERCIAL UNITS bernilai 55 \n",
      " nilai unik = [   0    3    1    2    4   13    5   24    6   19   10   15   14    8\n",
      "    7   35   42   55   17   38   12   27  422    9   23   52  318   20\n",
      "   67   11  254   26   49   30   91   59   62   31   73   56   34   32\n",
      "   18   22   28  147  184   25  172  436   16 2261   51   21  126]\n",
      "===============================================================\n",
      "\n",
      "Jumlah nilai unik untuk kolom TOTAL UNITS bernilai 192 \n",
      " nilai unik = [   5   31   17   10    6   20    8   46   15   24   34    0   47  132\n",
      "    1    4    2    3    7    9   16  211   32   13   19   35   18   14\n",
      "   30   12   21   23   45   26   11   48   82   55   42   38   27  422\n",
      "  538  482  323   52  318   67   25   22   28  107  137   36   37   96\n",
      "  138   76   33  286  256  771  257   44  315   41   51   40   29   81\n",
      "   54   72   56   68   74   39   50   61  902   70  551  254  185   78\n",
      "  181   49   91   87  269  102  234  235  233   59   62   73   43  121\n",
      " 1653  192  100  113   99   92   75  374   77  238  317   93   69   60\n",
      "   64  111  395  155  193  103  146  287   94   84   65   95   63   71\n",
      "   57  736  680  179   53  291   66  114   79   83  520  163  127  222\n",
      "  130   90   58  159  462  142  955  129  889  109  147  271  150  120\n",
      "  117  106   86  118  164  139  165  122  279  135  324  180  184  104\n",
      "  405  136  168  172  436  145  152  140   89  148  244  295 1866  278\n",
      "  198 2261  176  296  446  420  336  143  126  128]\n",
      "===============================================================\n",
      "\n",
      "Jumlah nilai unik untuk kolom LAND SQUARE FEET bernilai 6062 \n",
      " nilai unik = ['1633' '4616' '2212' ... '11088' '208033' '10796']\n",
      "===============================================================\n",
      "\n",
      "Jumlah nilai unik untuk kolom GROSS SQUARE FEET bernilai 5691 \n",
      " nilai unik = ['6440' '18690' '7803' ... '977' '2683' '64117']\n",
      "===============================================================\n",
      "\n",
      "Jumlah nilai unik untuk kolom YEAR BUILT bernilai 158 \n",
      " nilai unik = [1900 1913 1920 1910 2009 1925 1902 1928 1930 1935 1937 1915 1950 1929\n",
      " 1901 1940 2005    0 1989 2014 2008 1965 2013 2003 2006 2007 1951 1899\n",
      " 1850 1905 1864 1917 1911 1983 1926 1963 1960 1889 1898 1939 1938 1927\n",
      " 1909 1958 1904 1907 1987 1931 1984 1948 2004 1918 1875 2012 1973 2011\n",
      " 1922 2001 1932 1980 1908 1953 1906 2015 1946 1921 2010 1954 1111 1924\n",
      " 1990 1890 1991 1988 1895 2016 1957 1986 1966 1998 1870 1923 1969 2017\n",
      " 1968 1934 1956 1982 1914 1903 1967 1840 1912 1964 1955 1961 1851 2000\n",
      " 1959 1962 1945 1972 1976 1916 1880 1970 1846 1941 1952 1896 1985 1981\n",
      " 1888 1947 1975 1974 2002 1994 1892 1894 1891 1996 1997 1949 1999 1800\n",
      " 1979 1971 1977 1942 1978 1826 1881 1919 1883 1936 1993 1995 1933 1992\n",
      " 1943 1944 1847 1829 1844 1835 1852 1856 1854 1832 1845 1849 1855 1871\n",
      " 1893 1865 1882 1680]\n",
      "===============================================================\n",
      "\n",
      "Jumlah nilai unik untuk kolom TAX CLASS AT TIME OF SALE bernilai 4 \n",
      " nilai unik = [2 4 1 3]\n",
      "===============================================================\n",
      "\n",
      "Jumlah nilai unik untuk kolom BUILDING CLASS AT TIME OF SALE bernilai 166 \n",
      " nilai unik = ['C2' 'C7' 'C4' 'D5' 'D9' 'D7' 'D1' 'C6' 'D0' 'D4' 'RR' 'R2' 'R4' 'S3'\n",
      " 'S4' 'S5' 'R1' 'R8' 'R9' 'K4' 'M9' 'M3' 'RA' 'RK' 'RS' 'A9' 'A4' 'B3'\n",
      " 'B1' 'S2' 'C0' 'R6' 'C5' 'C3' 'C1' 'D6' 'S9' 'O2' 'O1' 'O3' 'O5' 'O6'\n",
      " 'K1' 'K2' 'L9' 'L8' 'L1' 'H1' 'H8' 'H3' 'R5' 'G9' 'G6' 'P7' 'M1' 'N2'\n",
      " 'RB' 'RG' 'RT' 'K9' 'V1' 'GW' 'G2' 'I7' 'M4' 'Z9' 'B9' 'D3' 'I9' 'U6'\n",
      " 'O4' 'L3' 'H2' 'E1' 'Z3' 'Q1' 'RW' 'C9' 'J5' 'N9' 'S1' 'A5' 'J8' 'B2'\n",
      " 'C8' 'F5' 'G7' 'G5' 'G4' 'P2' 'Q9' 'Y1' 'RP' 'O8' 'HR' 'G1' 'E7' 'I5'\n",
      " 'R3' 'I4' 'H9' 'RH' 'D8' 'HB' 'J4' 'W2' 'P9' 'A7' 'D2' 'S0' 'O7' 'O9'\n",
      " 'W3' 'HS' 'H6' 'J9' 'R0' 'HH' 'W8' 'W6' 'A1' 'K5' 'F1' 'V9' 'A2' 'V0'\n",
      " 'G0' 'F4' 'E9' 'I3' 'W4' 'V3' 'I1' 'A6' 'Q8' 'A3' 'Z0' 'W1' 'U1' 'F2'\n",
      " 'F9' 'GU' 'I6' 'G8' 'P5' 'Y3' 'W9' 'M2' 'G3' 'V6' 'K7' 'K3' 'H4' 'R7'\n",
      " 'P8' 'K6' 'V2' 'E2' 'Z2' 'T2' 'K8' 'P6' 'A0' 'J1' 'CM' 'Z7']\n",
      "===============================================================\n",
      "\n",
      "Jumlah nilai unik untuk kolom SALE PRICE bernilai 10008 \n",
      " nilai unik = ['6625000' ' -  ' '3936272' ... '408092' '11693337' '69300']\n",
      "===============================================================\n",
      "\n",
      "Jumlah nilai unik untuk kolom SALE DATE bernilai 364 \n",
      " nilai unik = ['2017-07-19 00:00:00' '2016-12-14 00:00:00' '2016-12-09 00:00:00'\n",
      " '2016-09-23 00:00:00' '2016-11-17 00:00:00' '2017-07-20 00:00:00'\n",
      " '2017-06-20 00:00:00' '2016-11-07 00:00:00' '2016-10-17 00:00:00'\n",
      " '2016-09-06 00:00:00' '2017-03-10 00:00:00' '2017-04-28 00:00:00'\n",
      " '2017-06-09 00:00:00' '2017-07-14 00:00:00' '2017-03-16 00:00:00'\n",
      " '2016-09-01 00:00:00' '2017-08-17 00:00:00' '2016-09-07 00:00:00'\n",
      " '2017-08-30 00:00:00' '2017-06-21 00:00:00' '2017-01-30 00:00:00'\n",
      " '2017-07-07 00:00:00' '2017-08-04 00:00:00' '2017-01-09 00:00:00'\n",
      " '2017-04-18 00:00:00' '2017-06-19 00:00:00' '2017-08-28 00:00:00'\n",
      " '2017-05-10 00:00:00' '2016-12-02 00:00:00' '2017-01-31 00:00:00'\n",
      " '2017-06-28 00:00:00' '2016-12-07 00:00:00' '2017-08-24 00:00:00'\n",
      " '2017-06-27 00:00:00' '2017-03-17 00:00:00' '2017-06-14 00:00:00'\n",
      " '2017-01-17 00:00:00' '2017-01-11 00:00:00' '2017-04-21 00:00:00'\n",
      " '2017-06-29 00:00:00' '2016-10-05 00:00:00' '2017-02-02 00:00:00'\n",
      " '2017-03-20 00:00:00' '2017-04-13 00:00:00' '2017-06-06 00:00:00'\n",
      " '2017-07-17 00:00:00' '2016-12-06 00:00:00' '2017-07-13 00:00:00'\n",
      " '2017-05-17 00:00:00' '2017-05-31 00:00:00' '2017-07-12 00:00:00'\n",
      " '2017-01-19 00:00:00' '2017-05-03 00:00:00' '2016-09-29 00:00:00'\n",
      " '2017-08-07 00:00:00' '2017-01-20 00:00:00' '2017-02-23 00:00:00'\n",
      " '2016-09-12 00:00:00' '2017-08-09 00:00:00' '2017-04-07 00:00:00'\n",
      " '2017-05-11 00:00:00' '2016-10-13 00:00:00' '2016-10-19 00:00:00'\n",
      " '2016-12-30 00:00:00' '2017-02-24 00:00:00' '2016-09-21 00:00:00'\n",
      " '2016-11-03 00:00:00' '2017-03-31 00:00:00' '2017-05-25 00:00:00'\n",
      " '2017-02-14 00:00:00' '2017-02-01 00:00:00' '2017-05-08 00:00:00'\n",
      " '2017-08-14 00:00:00' '2017-06-23 00:00:00' '2017-03-27 00:00:00'\n",
      " '2017-04-22 00:00:00' '2017-07-06 00:00:00' '2017-06-12 00:00:00'\n",
      " '2017-06-22 00:00:00' '2017-02-17 00:00:00' '2016-09-08 00:00:00'\n",
      " '2016-12-23 00:00:00' '2017-07-24 00:00:00' '2016-10-08 00:00:00'\n",
      " '2016-12-08 00:00:00' '2017-04-25 00:00:00' '2016-12-13 00:00:00'\n",
      " '2017-01-12 00:00:00' '2017-03-03 00:00:00' '2017-01-25 00:00:00'\n",
      " '2016-12-19 00:00:00' '2016-12-16 00:00:00' '2016-12-29 00:00:00'\n",
      " '2017-01-13 00:00:00' '2016-12-21 00:00:00' '2017-03-30 00:00:00'\n",
      " '2017-04-14 00:00:00' '2017-05-22 00:00:00' '2017-05-19 00:00:00'\n",
      " '2017-02-08 00:00:00' '2016-11-08 00:00:00' '2017-03-02 00:00:00'\n",
      " '2017-01-05 00:00:00' '2016-10-11 00:00:00' '2016-11-15 00:00:00'\n",
      " '2017-04-03 00:00:00' '2016-11-28 00:00:00' '2016-11-14 00:00:00'\n",
      " '2017-04-20 00:00:00' '2017-05-05 00:00:00' '2016-11-16 00:00:00'\n",
      " '2017-07-18 00:00:00' '2017-05-15 00:00:00' '2017-07-31 00:00:00'\n",
      " '2017-06-07 00:00:00' '2016-11-02 00:00:00' '2017-04-19 00:00:00'\n",
      " '2017-07-11 00:00:00' '2016-09-28 00:00:00' '2017-01-06 00:00:00'\n",
      " '2016-10-20 00:00:00' '2017-03-28 00:00:00' '2017-04-17 00:00:00'\n",
      " '2016-10-26 00:00:00' '2017-02-06 00:00:00' '2017-03-23 00:00:00'\n",
      " '2017-08-31 00:00:00' '2017-07-27 00:00:00' '2016-11-10 00:00:00'\n",
      " '2016-10-28 00:00:00' '2016-12-05 00:00:00' '2016-11-29 00:00:00'\n",
      " '2016-11-21 00:00:00' '2017-01-27 00:00:00' '2016-09-26 00:00:00'\n",
      " '2017-02-21 00:00:00' '2016-10-06 00:00:00' '2017-08-25 00:00:00'\n",
      " '2016-11-30 00:00:00' '2017-02-16 00:00:00' '2017-03-01 00:00:00'\n",
      " '2016-10-31 00:00:00' '2016-12-20 00:00:00' '2016-11-18 00:00:00'\n",
      " '2017-04-10 00:00:00' '2016-11-23 00:00:00' '2016-12-27 00:00:00'\n",
      " '2017-05-12 00:00:00' '2017-02-15 00:00:00' '2017-07-10 00:00:00'\n",
      " '2017-03-06 00:00:00' '2017-06-30 00:00:00' '2017-07-26 00:00:00'\n",
      " '2017-03-22 00:00:00' '2017-03-08 00:00:00' '2016-09-14 00:00:00'\n",
      " '2017-04-26 00:00:00' '2016-09-27 00:00:00' '2017-04-27 00:00:00'\n",
      " '2016-12-01 00:00:00' '2017-01-23 00:00:00' '2016-11-04 00:00:00'\n",
      " '2016-10-07 00:00:00' '2017-06-05 00:00:00' '2017-05-23 00:00:00'\n",
      " '2017-01-26 00:00:00' '2016-12-28 00:00:00' '2017-05-02 00:00:00'\n",
      " '2017-03-07 00:00:00' '2017-05-01 00:00:00' '2016-10-14 00:00:00'\n",
      " '2016-12-15 00:00:00' '2016-11-01 00:00:00' '2016-09-15 00:00:00'\n",
      " '2016-10-01 00:00:00' '2016-10-24 00:00:00' '2016-11-11 00:00:00'\n",
      " '2017-02-09 00:00:00' '2017-07-25 00:00:00' '2017-03-15 00:00:00'\n",
      " '2016-09-16 00:00:00' '2017-03-29 00:00:00' '2017-06-26 00:00:00'\n",
      " '2016-10-18 00:00:00' '2016-12-22 00:00:00' '2016-09-09 00:00:00'\n",
      " '2016-11-09 00:00:00' '2017-05-04 00:00:00' '2017-06-13 00:00:00'\n",
      " '2017-02-10 00:00:00' '2017-04-24 00:00:00' '2017-05-24 00:00:00'\n",
      " '2017-02-28 00:00:00' '2017-04-11 00:00:00' '2016-10-25 00:00:00'\n",
      " '2017-08-21 00:00:00' '2017-08-29 00:00:00' '2017-08-01 00:00:00'\n",
      " '2017-06-08 00:00:00' '2017-08-23 00:00:00' '2016-10-27 00:00:00'\n",
      " '2017-06-02 00:00:00' '2017-06-16 00:00:00' '2016-11-22 00:00:00'\n",
      " '2017-07-05 00:00:00' '2016-09-13 00:00:00' '2017-03-13 00:00:00'\n",
      " '2017-01-03 00:00:00' '2017-01-04 00:00:00' '2017-01-18 00:00:00'\n",
      " '2017-05-18 00:00:00' '2017-05-30 00:00:00' '2017-01-10 00:00:00'\n",
      " '2017-08-11 00:00:00' '2017-08-02 00:00:00' '2017-07-28 00:00:00'\n",
      " '2017-06-15 00:00:00' '2017-08-22 00:00:00' '2016-09-02 00:00:00'\n",
      " '2017-02-03 00:00:00' '2017-04-06 00:00:00' '2017-02-07 00:00:00'\n",
      " '2017-05-26 00:00:00' '2017-08-10 00:00:00' '2017-01-24 00:00:00'\n",
      " '2016-12-26 00:00:00' '2017-08-18 00:00:00' '2017-02-13 00:00:00'\n",
      " '2016-09-30 00:00:00' '2017-04-12 00:00:00' '2017-05-09 00:00:00'\n",
      " '2016-10-29 00:00:00' '2017-02-27 00:00:00' '2017-01-01 00:00:00'\n",
      " '2017-06-01 00:00:00' '2016-10-03 00:00:00' '2017-08-15 00:00:00'\n",
      " '2016-12-12 00:00:00' '2016-12-17 00:00:00' '2017-08-03 00:00:00'\n",
      " '2016-09-22 00:00:00' '2016-12-31 00:00:00' '2016-10-04 00:00:00'\n",
      " '2016-09-20 00:00:00' '2017-03-21 00:00:00' '2017-08-08 00:00:00'\n",
      " '2017-04-05 00:00:00' '2017-08-16 00:00:00' '2017-02-22 00:00:00'\n",
      " '2017-02-04 00:00:00' '2017-05-16 00:00:00' '2017-03-24 00:00:00'\n",
      " '2017-03-09 00:00:00' '2017-07-21 00:00:00' '2017-04-04 00:00:00'\n",
      " '2016-09-19 00:00:00' '2017-01-07 00:00:00' '2016-10-21 00:00:00'\n",
      " '2017-04-29 00:00:00' '2017-07-22 00:00:00' '2017-02-20 00:00:00'\n",
      " '2016-10-23 00:00:00' '2017-01-02 00:00:00' '2016-10-12 00:00:00'\n",
      " '2017-07-15 00:00:00' '2016-10-16 00:00:00' '2017-03-14 00:00:00'\n",
      " '2017-04-30 00:00:00' '2017-04-09 00:00:00' '2017-03-04 00:00:00'\n",
      " '2016-09-17 00:00:00' '2017-06-03 00:00:00' '2017-05-06 00:00:00'\n",
      " '2017-07-03 00:00:00' '2017-01-28 00:00:00' '2017-03-05 00:00:00'\n",
      " '2016-11-27 00:00:00' '2017-02-11 00:00:00' '2017-06-24 00:00:00'\n",
      " '2017-01-21 00:00:00' '2016-10-22 00:00:00' '2016-10-10 00:00:00'\n",
      " '2016-11-05 00:00:00' '2017-05-20 00:00:00' '2017-08-06 00:00:00'\n",
      " '2017-05-21 00:00:00' '2016-09-10 00:00:00' '2016-11-13 00:00:00'\n",
      " '2016-10-09 00:00:00' '2016-10-15 00:00:00' '2016-11-25 00:00:00'\n",
      " '2017-02-18 00:00:00' '2016-09-25 00:00:00' '2016-11-20 00:00:00'\n",
      " '2017-04-01 00:00:00' '2017-01-16 00:00:00' '2017-05-13 00:00:00'\n",
      " '2016-11-12 00:00:00' '2017-07-01 00:00:00' '2017-03-19 00:00:00'\n",
      " '2017-07-16 00:00:00' '2016-09-05 00:00:00' '2016-10-30 00:00:00'\n",
      " '2017-02-26 00:00:00' '2017-01-15 00:00:00' '2016-11-06 00:00:00'\n",
      " '2017-03-18 00:00:00' '2017-08-27 00:00:00' '2016-11-26 00:00:00'\n",
      " '2017-01-22 00:00:00' '2017-05-29 00:00:00' '2017-04-16 00:00:00'\n",
      " '2017-01-14 00:00:00' '2017-04-15 00:00:00' '2017-07-08 00:00:00'\n",
      " '2016-11-24 00:00:00' '2017-08-26 00:00:00' '2017-02-25 00:00:00'\n",
      " '2017-05-27 00:00:00' '2016-10-02 00:00:00' '2017-03-25 00:00:00'\n",
      " '2016-11-19 00:00:00' '2017-05-14 00:00:00' '2017-02-05 00:00:00'\n",
      " '2016-09-03 00:00:00' '2017-04-08 00:00:00' '2017-06-11 00:00:00'\n",
      " '2016-12-10 00:00:00' '2017-03-11 00:00:00' '2017-03-12 00:00:00'\n",
      " '2017-01-29 00:00:00' '2017-08-05 00:00:00' '2016-09-11 00:00:00'\n",
      " '2017-06-17 00:00:00' '2017-06-25 00:00:00' '2017-03-26 00:00:00'\n",
      " '2017-07-29 00:00:00' '2017-06-18 00:00:00' '2017-05-28 00:00:00'\n",
      " '2017-05-07 00:00:00' '2017-06-10 00:00:00' '2016-12-24 00:00:00'\n",
      " '2016-09-24 00:00:00' '2016-12-18 00:00:00' '2017-04-02 00:00:00'\n",
      " '2017-08-20 00:00:00' '2017-08-12 00:00:00' '2016-12-11 00:00:00'\n",
      " '2017-08-19 00:00:00' '2016-09-18 00:00:00' '2017-02-19 00:00:00'\n",
      " '2017-07-02 00:00:00' '2017-07-30 00:00:00' '2017-01-08 00:00:00'\n",
      " '2017-07-23 00:00:00' '2017-08-13 00:00:00' '2017-07-04 00:00:00'\n",
      " '2016-12-04 00:00:00' '2017-04-23 00:00:00' '2016-12-03 00:00:00'\n",
      " '2017-07-09 00:00:00' '2016-09-04 00:00:00' '2017-02-12 00:00:00'\n",
      " '2017-06-04 00:00:00']\n",
      "===============================================================\n",
      "\n"
     ]
    }
   ],
   "source": [
    "for i in df_nyc:\n",
    "    print('Jumlah nilai unik untuk kolom {} bernilai {} \\n nilai unik = {}'.format\n",
    "          (i, len(df_nyc[i].unique()), df_nyc[i].unique()))\n",
    "    print('===============================================================\\n')"
   ]
  },
  {
   "cell_type": "markdown",
   "id": "211e5ce8",
   "metadata": {},
   "source": [
    "**Analisis:** Terdapat _Non-Standard Missing Values_, berikut ini adalah rangkumannya:\n",
    "1. Kolom \"Unnamed\" tidak diperlukan, maka akan didrop\n",
    "2. Kolom \"TAX CLASS AT PRESENT\" mengandung satu nilai (' ') yang akan diganti menggunakan nilai modus\n",
    "3. Kolom \"EASE-MENT\" hanya mengandung satu nilai (' ') yang tidak dapat memberikan informasi, maka fitur tersebut akan didrop\n",
    "4. Kolom \"BUILDING CLASS AT PRESENT\" mengandung nilai (' ') yang akan diganti menggunakan nilai modus\n",
    "5. Kolom \"APARTEMENT NUMBER\" mengandung nilai (' ') yang akan diganti menggunakan nilai modus\n",
    "6. Kolom \"ZIP CODE\" mengandung nilai (0) yang yang diidentifikasi sebagai missing values\n",
    "7. Kolom \"TOTAL UNITS\" mengandung nilai (0) yang akan diidentifikasi sebagai missing values\n",
    "8. Kolom \"YEAR BUILT\" mengandung nilai (0) yang akan diidentifikasi sebagai missing values\n",
    "9. Kolom \"SALE PRICE\" mengandung nilai ('-') yang akan diganti menjadi 0\n",
    "\n",
    "Sebelum mengganti _Non-Standard Missing Values_ menjadi data yang diharapkan, terlebih dahulu mengubah keseluruhan _Non-Standard Missing Values_ menjadi **Standard Missing Values**."
   ]
  },
  {
   "cell_type": "markdown",
   "id": "2ff4978b",
   "metadata": {},
   "source": [
    "## Data Cleaning"
   ]
  },
  {
   "cell_type": "code",
   "execution_count": 9,
   "id": "6b735962",
   "metadata": {},
   "outputs": [],
   "source": [
    "# mengumpulkan missing values dalam suatu list pada parameter missing_values\n",
    "missing_values = ['n/a', 'NA', '--', 'na', 'n-a', ' ', ' -  ']\n",
    "df_nyc = pd.read_csv('nyc-rolling-sales.csv', na_values = missing_values)"
   ]
  },
  {
   "cell_type": "code",
   "execution_count": 10,
   "id": "9a52a3c0",
   "metadata": {},
   "outputs": [],
   "source": [
    "# mengganti nilai 0 pada fitur \"ZIP CODE\", \"TOTAL UNITS\", DAN \"YEAR BUILT\" sebagai missing values\n",
    "df_nyc['ZIP CODE'].replace(0 ,np.nan, inplace = True)\n",
    "df_nyc['TOTAL UNITS'].replace(0 ,np.nan, inplace = True)\n",
    "df_nyc['YEAR BUILT'].replace(0 ,np.nan, inplace = True)"
   ]
  },
  {
   "cell_type": "code",
   "execution_count": 11,
   "id": "1e413dcc",
   "metadata": {},
   "outputs": [
    {
     "data": {
      "text/plain": [
       "Unnamed: 0                            0\n",
       "BOROUGH                               0\n",
       "NEIGHBORHOOD                          0\n",
       "BUILDING CLASS CATEGORY               0\n",
       "TAX CLASS AT PRESENT                738\n",
       "BLOCK                                 0\n",
       "LOT                                   0\n",
       "EASE-MENT                         84548\n",
       "BUILDING CLASS AT PRESENT           738\n",
       "ADDRESS                               0\n",
       "APARTMENT NUMBER                  65496\n",
       "ZIP CODE                            982\n",
       "RESIDENTIAL UNITS                     0\n",
       "COMMERCIAL UNITS                      0\n",
       "TOTAL UNITS                       19762\n",
       "LAND SQUARE FEET                  26252\n",
       "GROSS SQUARE FEET                 27612\n",
       "YEAR BUILT                         6970\n",
       "TAX CLASS AT TIME OF SALE             0\n",
       "BUILDING CLASS AT TIME OF SALE        0\n",
       "SALE PRICE                        14561\n",
       "SALE DATE                             0\n",
       "dtype: int64"
      ]
     },
     "execution_count": 11,
     "metadata": {},
     "output_type": "execute_result"
    }
   ],
   "source": [
    "# mengecek Non-Standard Missing Values yang sudah diubah menjadi Standard Missing Values\n",
    "df_nyc.isnull().sum()"
   ]
  },
  {
   "cell_type": "markdown",
   "id": "d58a5c9a",
   "metadata": {},
   "source": [
    "### Menghapus kolom-kolom yang tidak diperlukan"
   ]
  },
  {
   "cell_type": "markdown",
   "id": "4fd9bb50",
   "metadata": {},
   "source": [
    "1. Kolom **\"Unnamed: 0\"** sebagai angka int yang tidak memberikan informasi terkait dataset NYC property sales\n",
    "2. Kolom **\"EASE-MENT\"** tidak dibutuhkan untuk analis selanjutnya"
   ]
  },
  {
   "cell_type": "code",
   "execution_count": 12,
   "id": "c229472a",
   "metadata": {},
   "outputs": [],
   "source": [
    "df_nyc.drop(['Unnamed: 0', 'EASE-MENT'], axis = 1, inplace = True)"
   ]
  },
  {
   "cell_type": "markdown",
   "id": "2965460f",
   "metadata": {},
   "source": [
    "### Mengatasi missing values pada dataset"
   ]
  },
  {
   "cell_type": "markdown",
   "id": "9977bcd4",
   "metadata": {},
   "source": [
    "Digunakan dua nilai sebagai pengganti missing values, yaitu nilai **modus** untuk kolom kategorik dan nilai **median** untuk kolom numerik"
   ]
  },
  {
   "cell_type": "markdown",
   "id": "da872ff9",
   "metadata": {},
   "source": [
    "### Mengganti missing values pada kolom tipe kategorik dengan nilai modus"
   ]
  },
  {
   "cell_type": "code",
   "execution_count": 13,
   "id": "2bdc6759",
   "metadata": {},
   "outputs": [],
   "source": [
    "df_nyc['TAX CLASS AT PRESENT'].fillna(df_nyc['TAX CLASS AT PRESENT'].mode()[0], inplace = True)\n",
    "df_nyc['BUILDING CLASS AT PRESENT'].fillna(df_nyc['BUILDING CLASS AT PRESENT'].mode()[0], inplace = True)\n",
    "df_nyc['APARTMENT NUMBER'].fillna(df_nyc['APARTMENT NUMBER'].mode()[0], inplace = True)\n",
    "df_nyc['ZIP CODE'].fillna(df_nyc['ZIP CODE'].mode()[0], inplace = True)\n",
    "df_nyc['YEAR BUILT'].fillna(df_nyc['YEAR BUILT'].mode()[0], inplace = True)"
   ]
  },
  {
   "cell_type": "markdown",
   "id": "9296fc8c",
   "metadata": {},
   "source": [
    "### Mengganti missing values pada kolom tipe numerik dengan nilai median"
   ]
  },
  {
   "cell_type": "markdown",
   "id": "7737e582",
   "metadata": {},
   "source": [
    "Missing values (NaN) yang ada pada fitur \"TOTAL UNITS\" dan \"SALE PRICE\" tidak memiliki arti, maka dapat diabaikan"
   ]
  },
  {
   "cell_type": "code",
   "execution_count": 14,
   "id": "c78bde71",
   "metadata": {},
   "outputs": [],
   "source": [
    "df_nyc['LAND SQUARE FEET'].fillna(df_nyc['LAND SQUARE FEET'].median(), inplace = True)\n",
    "df_nyc['GROSS SQUARE FEET'].fillna(df_nyc['GROSS SQUARE FEET'].median(), inplace = True)"
   ]
  },
  {
   "cell_type": "code",
   "execution_count": 15,
   "id": "967542df",
   "metadata": {},
   "outputs": [],
   "source": [
    "df_nyc.dropna(inplace = True)"
   ]
  },
  {
   "cell_type": "markdown",
   "id": "56681758",
   "metadata": {},
   "source": [
    "### Mengetahui data duplikat pada baris"
   ]
  },
  {
   "cell_type": "code",
   "execution_count": 16,
   "id": "351228b1",
   "metadata": {},
   "outputs": [
    {
     "data": {
      "text/html": [
       "<div>\n",
       "<style scoped>\n",
       "    .dataframe tbody tr th:only-of-type {\n",
       "        vertical-align: middle;\n",
       "    }\n",
       "\n",
       "    .dataframe tbody tr th {\n",
       "        vertical-align: top;\n",
       "    }\n",
       "\n",
       "    .dataframe thead th {\n",
       "        text-align: right;\n",
       "    }\n",
       "</style>\n",
       "<table border=\"1\" class=\"dataframe\">\n",
       "  <thead>\n",
       "    <tr style=\"text-align: right;\">\n",
       "      <th></th>\n",
       "      <th>BOROUGH</th>\n",
       "      <th>NEIGHBORHOOD</th>\n",
       "      <th>BUILDING CLASS CATEGORY</th>\n",
       "      <th>TAX CLASS AT PRESENT</th>\n",
       "      <th>BLOCK</th>\n",
       "      <th>LOT</th>\n",
       "      <th>BUILDING CLASS AT PRESENT</th>\n",
       "      <th>ADDRESS</th>\n",
       "      <th>APARTMENT NUMBER</th>\n",
       "      <th>ZIP CODE</th>\n",
       "      <th>RESIDENTIAL UNITS</th>\n",
       "      <th>COMMERCIAL UNITS</th>\n",
       "      <th>TOTAL UNITS</th>\n",
       "      <th>LAND SQUARE FEET</th>\n",
       "      <th>GROSS SQUARE FEET</th>\n",
       "      <th>YEAR BUILT</th>\n",
       "      <th>TAX CLASS AT TIME OF SALE</th>\n",
       "      <th>BUILDING CLASS AT TIME OF SALE</th>\n",
       "      <th>SALE PRICE</th>\n",
       "      <th>SALE DATE</th>\n",
       "    </tr>\n",
       "  </thead>\n",
       "  <tbody>\n",
       "    <tr>\n",
       "      <th>208</th>\n",
       "      <td>1</td>\n",
       "      <td>CHELSEA</td>\n",
       "      <td>01 ONE FAMILY DWELLINGS</td>\n",
       "      <td>1</td>\n",
       "      <td>772</td>\n",
       "      <td>29</td>\n",
       "      <td>A4</td>\n",
       "      <td>231 WEST 22ND   STREET</td>\n",
       "      <td>4</td>\n",
       "      <td>10011.0</td>\n",
       "      <td>1</td>\n",
       "      <td>0</td>\n",
       "      <td>1.0</td>\n",
       "      <td>1588.0</td>\n",
       "      <td>5653.0</td>\n",
       "      <td>1900.0</td>\n",
       "      <td>1</td>\n",
       "      <td>A4</td>\n",
       "      <td>10.0</td>\n",
       "      <td>2017-01-30 00:00:00</td>\n",
       "    </tr>\n",
       "    <tr>\n",
       "      <th>209</th>\n",
       "      <td>1</td>\n",
       "      <td>CHELSEA</td>\n",
       "      <td>01 ONE FAMILY DWELLINGS</td>\n",
       "      <td>1</td>\n",
       "      <td>772</td>\n",
       "      <td>29</td>\n",
       "      <td>A4</td>\n",
       "      <td>231 WEST 22ND   STREET</td>\n",
       "      <td>4</td>\n",
       "      <td>10011.0</td>\n",
       "      <td>1</td>\n",
       "      <td>0</td>\n",
       "      <td>1.0</td>\n",
       "      <td>1588.0</td>\n",
       "      <td>5653.0</td>\n",
       "      <td>1900.0</td>\n",
       "      <td>1</td>\n",
       "      <td>A4</td>\n",
       "      <td>10.0</td>\n",
       "      <td>2017-01-30 00:00:00</td>\n",
       "    </tr>\n",
       "    <tr>\n",
       "      <th>683</th>\n",
       "      <td>1</td>\n",
       "      <td>CHELSEA</td>\n",
       "      <td>13 CONDOS - ELEVATOR APARTMENTS</td>\n",
       "      <td>2</td>\n",
       "      <td>774</td>\n",
       "      <td>1042</td>\n",
       "      <td>R4</td>\n",
       "      <td>252 SEVENTH AVENUE</td>\n",
       "      <td>4K</td>\n",
       "      <td>10001.0</td>\n",
       "      <td>1</td>\n",
       "      <td>0</td>\n",
       "      <td>1.0</td>\n",
       "      <td>2325.0</td>\n",
       "      <td>1680.0</td>\n",
       "      <td>1920.0</td>\n",
       "      <td>2</td>\n",
       "      <td>R4</td>\n",
       "      <td>1500000.0</td>\n",
       "      <td>2016-10-05 00:00:00</td>\n",
       "    </tr>\n",
       "    <tr>\n",
       "      <th>2296</th>\n",
       "      <td>1</td>\n",
       "      <td>FINANCIAL</td>\n",
       "      <td>13 CONDOS - ELEVATOR APARTMENTS</td>\n",
       "      <td>2</td>\n",
       "      <td>24</td>\n",
       "      <td>1123</td>\n",
       "      <td>R4</td>\n",
       "      <td>40 BROAD STREET</td>\n",
       "      <td>27A</td>\n",
       "      <td>10004.0</td>\n",
       "      <td>1</td>\n",
       "      <td>0</td>\n",
       "      <td>1.0</td>\n",
       "      <td>2325.0</td>\n",
       "      <td>1680.0</td>\n",
       "      <td>1982.0</td>\n",
       "      <td>2</td>\n",
       "      <td>R4</td>\n",
       "      <td>1200000.0</td>\n",
       "      <td>2017-04-28 00:00:00</td>\n",
       "    </tr>\n",
       "    <tr>\n",
       "      <th>3427</th>\n",
       "      <td>1</td>\n",
       "      <td>GRAMERCY</td>\n",
       "      <td>13 CONDOS - ELEVATOR APARTMENTS</td>\n",
       "      <td>2</td>\n",
       "      <td>879</td>\n",
       "      <td>1207</td>\n",
       "      <td>R4</td>\n",
       "      <td>148 EAST 24TH   STREET</td>\n",
       "      <td>3E</td>\n",
       "      <td>10010.0</td>\n",
       "      <td>1</td>\n",
       "      <td>0</td>\n",
       "      <td>1.0</td>\n",
       "      <td>2325.0</td>\n",
       "      <td>1680.0</td>\n",
       "      <td>2009.0</td>\n",
       "      <td>2</td>\n",
       "      <td>R4</td>\n",
       "      <td>716000.0</td>\n",
       "      <td>2017-04-07 00:00:00</td>\n",
       "    </tr>\n",
       "    <tr>\n",
       "      <th>...</th>\n",
       "      <td>...</td>\n",
       "      <td>...</td>\n",
       "      <td>...</td>\n",
       "      <td>...</td>\n",
       "      <td>...</td>\n",
       "      <td>...</td>\n",
       "      <td>...</td>\n",
       "      <td>...</td>\n",
       "      <td>...</td>\n",
       "      <td>...</td>\n",
       "      <td>...</td>\n",
       "      <td>...</td>\n",
       "      <td>...</td>\n",
       "      <td>...</td>\n",
       "      <td>...</td>\n",
       "      <td>...</td>\n",
       "      <td>...</td>\n",
       "      <td>...</td>\n",
       "      <td>...</td>\n",
       "      <td>...</td>\n",
       "    </tr>\n",
       "    <tr>\n",
       "      <th>83176</th>\n",
       "      <td>5</td>\n",
       "      <td>TODT HILL</td>\n",
       "      <td>01 ONE FAMILY DWELLINGS</td>\n",
       "      <td>1</td>\n",
       "      <td>908</td>\n",
       "      <td>150</td>\n",
       "      <td>A1</td>\n",
       "      <td>3 HELENA ROAD</td>\n",
       "      <td>4</td>\n",
       "      <td>10304.0</td>\n",
       "      <td>1</td>\n",
       "      <td>0</td>\n",
       "      <td>1.0</td>\n",
       "      <td>38862.0</td>\n",
       "      <td>3900.0</td>\n",
       "      <td>1920.0</td>\n",
       "      <td>1</td>\n",
       "      <td>A1</td>\n",
       "      <td>1125000.0</td>\n",
       "      <td>2017-08-02 00:00:00</td>\n",
       "    </tr>\n",
       "    <tr>\n",
       "      <th>83207</th>\n",
       "      <td>5</td>\n",
       "      <td>TOMPKINSVILLE</td>\n",
       "      <td>02 TWO FAMILY DWELLINGS</td>\n",
       "      <td>1</td>\n",
       "      <td>114</td>\n",
       "      <td>30</td>\n",
       "      <td>B2</td>\n",
       "      <td>160 CASTLETON AVENUE</td>\n",
       "      <td>4</td>\n",
       "      <td>10301.0</td>\n",
       "      <td>2</td>\n",
       "      <td>0</td>\n",
       "      <td>2.0</td>\n",
       "      <td>5781.0</td>\n",
       "      <td>844.0</td>\n",
       "      <td>1942.0</td>\n",
       "      <td>1</td>\n",
       "      <td>B2</td>\n",
       "      <td>250000.0</td>\n",
       "      <td>2017-06-22 00:00:00</td>\n",
       "    </tr>\n",
       "    <tr>\n",
       "      <th>83603</th>\n",
       "      <td>5</td>\n",
       "      <td>WEST NEW BRIGHTON</td>\n",
       "      <td>01 ONE FAMILY DWELLINGS</td>\n",
       "      <td>1</td>\n",
       "      <td>91</td>\n",
       "      <td>31</td>\n",
       "      <td>A1</td>\n",
       "      <td>3 CLINTON COURT</td>\n",
       "      <td>4</td>\n",
       "      <td>10301.0</td>\n",
       "      <td>1</td>\n",
       "      <td>0</td>\n",
       "      <td>1.0</td>\n",
       "      <td>4840.0</td>\n",
       "      <td>2400.0</td>\n",
       "      <td>2005.0</td>\n",
       "      <td>1</td>\n",
       "      <td>A1</td>\n",
       "      <td>585000.0</td>\n",
       "      <td>2016-09-21 00:00:00</td>\n",
       "    </tr>\n",
       "    <tr>\n",
       "      <th>83647</th>\n",
       "      <td>5</td>\n",
       "      <td>WEST NEW BRIGHTON</td>\n",
       "      <td>01 ONE FAMILY DWELLINGS</td>\n",
       "      <td>1</td>\n",
       "      <td>155</td>\n",
       "      <td>180</td>\n",
       "      <td>A1</td>\n",
       "      <td>441 OAKLAND AVENUE</td>\n",
       "      <td>4</td>\n",
       "      <td>10310.0</td>\n",
       "      <td>1</td>\n",
       "      <td>0</td>\n",
       "      <td>1.0</td>\n",
       "      <td>10671.0</td>\n",
       "      <td>2464.0</td>\n",
       "      <td>1899.0</td>\n",
       "      <td>1</td>\n",
       "      <td>A1</td>\n",
       "      <td>725000.0</td>\n",
       "      <td>2017-06-30 00:00:00</td>\n",
       "    </tr>\n",
       "    <tr>\n",
       "      <th>84445</th>\n",
       "      <td>5</td>\n",
       "      <td>WOODROW</td>\n",
       "      <td>01 ONE FAMILY DWELLINGS</td>\n",
       "      <td>1</td>\n",
       "      <td>6969</td>\n",
       "      <td>20</td>\n",
       "      <td>A5</td>\n",
       "      <td>1045 SHELDON AVENUE</td>\n",
       "      <td>4</td>\n",
       "      <td>10309.0</td>\n",
       "      <td>1</td>\n",
       "      <td>0</td>\n",
       "      <td>1.0</td>\n",
       "      <td>2773.0</td>\n",
       "      <td>1650.0</td>\n",
       "      <td>1999.0</td>\n",
       "      <td>1</td>\n",
       "      <td>A5</td>\n",
       "      <td>560000.0</td>\n",
       "      <td>2016-09-07 00:00:00</td>\n",
       "    </tr>\n",
       "  </tbody>\n",
       "</table>\n",
       "<p>339 rows × 20 columns</p>\n",
       "</div>"
      ],
      "text/plain": [
       "       BOROUGH       NEIGHBORHOOD  \\\n",
       "208          1            CHELSEA   \n",
       "209          1            CHELSEA   \n",
       "683          1            CHELSEA   \n",
       "2296         1          FINANCIAL   \n",
       "3427         1           GRAMERCY   \n",
       "...        ...                ...   \n",
       "83176        5          TODT HILL   \n",
       "83207        5      TOMPKINSVILLE   \n",
       "83603        5  WEST NEW BRIGHTON   \n",
       "83647        5  WEST NEW BRIGHTON   \n",
       "84445        5            WOODROW   \n",
       "\n",
       "                           BUILDING CLASS CATEGORY TAX CLASS AT PRESENT  \\\n",
       "208    01 ONE FAMILY DWELLINGS                                        1   \n",
       "209    01 ONE FAMILY DWELLINGS                                        1   \n",
       "683    13 CONDOS - ELEVATOR APARTMENTS                                2   \n",
       "2296   13 CONDOS - ELEVATOR APARTMENTS                                2   \n",
       "3427   13 CONDOS - ELEVATOR APARTMENTS                                2   \n",
       "...                                            ...                  ...   \n",
       "83176  01 ONE FAMILY DWELLINGS                                        1   \n",
       "83207  02 TWO FAMILY DWELLINGS                                        1   \n",
       "83603  01 ONE FAMILY DWELLINGS                                        1   \n",
       "83647  01 ONE FAMILY DWELLINGS                                        1   \n",
       "84445  01 ONE FAMILY DWELLINGS                                        1   \n",
       "\n",
       "       BLOCK   LOT BUILDING CLASS AT PRESENT                 ADDRESS  \\\n",
       "208      772    29                        A4  231 WEST 22ND   STREET   \n",
       "209      772    29                        A4  231 WEST 22ND   STREET   \n",
       "683      774  1042                        R4      252 SEVENTH AVENUE   \n",
       "2296      24  1123                        R4         40 BROAD STREET   \n",
       "3427     879  1207                        R4  148 EAST 24TH   STREET   \n",
       "...      ...   ...                       ...                     ...   \n",
       "83176    908   150                        A1           3 HELENA ROAD   \n",
       "83207    114    30                        B2    160 CASTLETON AVENUE   \n",
       "83603     91    31                        A1         3 CLINTON COURT   \n",
       "83647    155   180                        A1      441 OAKLAND AVENUE   \n",
       "84445   6969    20                        A5     1045 SHELDON AVENUE   \n",
       "\n",
       "      APARTMENT NUMBER  ZIP CODE  RESIDENTIAL UNITS  COMMERCIAL UNITS  \\\n",
       "208                  4   10011.0                  1                 0   \n",
       "209                  4   10011.0                  1                 0   \n",
       "683                 4K   10001.0                  1                 0   \n",
       "2296               27A   10004.0                  1                 0   \n",
       "3427                3E   10010.0                  1                 0   \n",
       "...                ...       ...                ...               ...   \n",
       "83176                4   10304.0                  1                 0   \n",
       "83207                4   10301.0                  2                 0   \n",
       "83603                4   10301.0                  1                 0   \n",
       "83647                4   10310.0                  1                 0   \n",
       "84445                4   10309.0                  1                 0   \n",
       "\n",
       "       TOTAL UNITS  LAND SQUARE FEET  GROSS SQUARE FEET  YEAR BUILT  \\\n",
       "208            1.0            1588.0             5653.0      1900.0   \n",
       "209            1.0            1588.0             5653.0      1900.0   \n",
       "683            1.0            2325.0             1680.0      1920.0   \n",
       "2296           1.0            2325.0             1680.0      1982.0   \n",
       "3427           1.0            2325.0             1680.0      2009.0   \n",
       "...            ...               ...                ...         ...   \n",
       "83176          1.0           38862.0             3900.0      1920.0   \n",
       "83207          2.0            5781.0              844.0      1942.0   \n",
       "83603          1.0            4840.0             2400.0      2005.0   \n",
       "83647          1.0           10671.0             2464.0      1899.0   \n",
       "84445          1.0            2773.0             1650.0      1999.0   \n",
       "\n",
       "       TAX CLASS AT TIME OF SALE BUILDING CLASS AT TIME OF SALE  SALE PRICE  \\\n",
       "208                            1                             A4        10.0   \n",
       "209                            1                             A4        10.0   \n",
       "683                            2                             R4   1500000.0   \n",
       "2296                           2                             R4   1200000.0   \n",
       "3427                           2                             R4    716000.0   \n",
       "...                          ...                            ...         ...   \n",
       "83176                          1                             A1   1125000.0   \n",
       "83207                          1                             B2    250000.0   \n",
       "83603                          1                             A1    585000.0   \n",
       "83647                          1                             A1    725000.0   \n",
       "84445                          1                             A5    560000.0   \n",
       "\n",
       "                 SALE DATE  \n",
       "208    2017-01-30 00:00:00  \n",
       "209    2017-01-30 00:00:00  \n",
       "683    2016-10-05 00:00:00  \n",
       "2296   2017-04-28 00:00:00  \n",
       "3427   2017-04-07 00:00:00  \n",
       "...                    ...  \n",
       "83176  2017-08-02 00:00:00  \n",
       "83207  2017-06-22 00:00:00  \n",
       "83603  2016-09-21 00:00:00  \n",
       "83647  2017-06-30 00:00:00  \n",
       "84445  2016-09-07 00:00:00  \n",
       "\n",
       "[339 rows x 20 columns]"
      ]
     },
     "execution_count": 16,
     "metadata": {},
     "output_type": "execute_result"
    }
   ],
   "source": [
    "df_nyc[df_nyc.duplicated()]"
   ]
  },
  {
   "cell_type": "code",
   "execution_count": 17,
   "id": "8a98e60a",
   "metadata": {},
   "outputs": [
    {
     "name": "stdout",
     "output_type": "stream",
     "text": [
      "339\n"
     ]
    }
   ],
   "source": [
    "# mengecek jumlah baris duplikat\n",
    "rows_of_duplicated = df_nyc.duplicated().sum()\n",
    "print(rows_of_duplicated)"
   ]
  },
  {
   "cell_type": "markdown",
   "id": "abaf3067",
   "metadata": {},
   "source": [
    "Tedapat 339 baris duplikat untuk dihapus"
   ]
  },
  {
   "cell_type": "code",
   "execution_count": 18,
   "id": "e9b6aa85",
   "metadata": {},
   "outputs": [],
   "source": [
    "# menghapus baris duplikat, kecuali baris pertama yang mewakili dari sekian baris duplikat\n",
    "df_nyc.drop_duplicates(subset=df_nyc.columns, keep='first', inplace=True)"
   ]
  },
  {
   "cell_type": "markdown",
   "id": "6fe2091e",
   "metadata": {},
   "source": [
    "### Mengubah tipe data pada fitur 'SALE DATE' menjadi tipe datetime"
   ]
  },
  {
   "cell_type": "code",
   "execution_count": 19,
   "id": "98053964",
   "metadata": {},
   "outputs": [
    {
     "data": {
      "text/plain": [
       "dtype('<M8[ns]')"
      ]
     },
     "execution_count": 19,
     "metadata": {},
     "output_type": "execute_result"
    }
   ],
   "source": [
    "df_nyc['SALE DATE'] = pd.to_datetime(df_nyc['SALE DATE'])\n",
    "df_nyc['SALE DATE'].dtypes"
   ]
  },
  {
   "cell_type": "markdown",
   "id": "e95378e6",
   "metadata": {},
   "source": [
    "### Mengubah nilai pada fitur 'BOROUGH' menjadi nilai tipe string"
   ]
  },
  {
   "cell_type": "markdown",
   "id": "0a4f09dc",
   "metadata": {},
   "source": [
    "Untuk kebutuhan analisis mengenai pembentukan **confidence intervals** terhadap **proposi populasi** penjualan properti di wilayah NYC"
   ]
  },
  {
   "cell_type": "code",
   "execution_count": 20,
   "id": "e254949b",
   "metadata": {},
   "outputs": [],
   "source": [
    "df_nyc['BOROUGH'] = df_nyc.BOROUGH.replace({1 : 'Manhattan', 2 : 'Bronx', 3 : 'Brooklyn',\n",
    "                                        4 : 'Queens', 5 : 'Staten Island'})"
   ]
  },
  {
   "cell_type": "code",
   "execution_count": 21,
   "id": "19a9f39f",
   "metadata": {},
   "outputs": [
    {
     "name": "stdout",
     "output_type": "stream",
     "text": [
      "<class 'pandas.core.frame.DataFrame'>\n",
      "Int64Index: 52024 entries, 0 to 84547\n",
      "Data columns (total 20 columns):\n",
      " #   Column                          Non-Null Count  Dtype         \n",
      "---  ------                          --------------  -----         \n",
      " 0   BOROUGH                         52024 non-null  object        \n",
      " 1   NEIGHBORHOOD                    52024 non-null  object        \n",
      " 2   BUILDING CLASS CATEGORY         52024 non-null  object        \n",
      " 3   TAX CLASS AT PRESENT            52024 non-null  object        \n",
      " 4   BLOCK                           52024 non-null  int64         \n",
      " 5   LOT                             52024 non-null  int64         \n",
      " 6   BUILDING CLASS AT PRESENT       52024 non-null  object        \n",
      " 7   ADDRESS                         52024 non-null  object        \n",
      " 8   APARTMENT NUMBER                52024 non-null  object        \n",
      " 9   ZIP CODE                        52024 non-null  float64       \n",
      " 10  RESIDENTIAL UNITS               52024 non-null  int64         \n",
      " 11  COMMERCIAL UNITS                52024 non-null  int64         \n",
      " 12  TOTAL UNITS                     52024 non-null  float64       \n",
      " 13  LAND SQUARE FEET                52024 non-null  float64       \n",
      " 14  GROSS SQUARE FEET               52024 non-null  float64       \n",
      " 15  YEAR BUILT                      52024 non-null  float64       \n",
      " 16  TAX CLASS AT TIME OF SALE       52024 non-null  int64         \n",
      " 17  BUILDING CLASS AT TIME OF SALE  52024 non-null  object        \n",
      " 18  SALE PRICE                      52024 non-null  float64       \n",
      " 19  SALE DATE                       52024 non-null  datetime64[ns]\n",
      "dtypes: datetime64[ns](1), float64(6), int64(5), object(8)\n",
      "memory usage: 8.3+ MB\n"
     ]
    }
   ],
   "source": [
    "df_nyc.info()"
   ]
  },
  {
   "cell_type": "markdown",
   "id": "0b868126",
   "metadata": {},
   "source": [
    "### Deteksi outlier dengan IQR"
   ]
  },
  {
   "cell_type": "markdown",
   "id": "7f7edc16",
   "metadata": {},
   "source": [
    "Suatu dataset dapat dikategorikan sebagai outlier jika:\n",
    "- Lebih kecil dari Q1 - 1.5 (IQR)\n",
    "- Lebih besar dari Q3 + 1.5 (IQR)"
   ]
  },
  {
   "cell_type": "code",
   "execution_count": 22,
   "id": "80869ea5",
   "metadata": {},
   "outputs": [
    {
     "name": "stdout",
     "output_type": "stream",
     "text": [
      "Kuartil 1 =  250000.0\n",
      "Kuartil 3 =  990000.0\n",
      "IQR =  740000.0\n"
     ]
    }
   ],
   "source": [
    "# Menghitung nilai Q1 dan Q3\n",
    "Q1 = np.quantile(df_nyc['SALE PRICE'], .25)\n",
    "Q3 = np.quantile(df_nyc['SALE PRICE'], .75)\n",
    "# Menghitung nilai IQR\n",
    "IQR = Q3 - Q1\n",
    "print('Kuartil 1 = ', Q1)\n",
    "print('Kuartil 3 = ', Q3)\n",
    "print('IQR = ', IQR)"
   ]
  },
  {
   "cell_type": "code",
   "execution_count": 23,
   "id": "9f3fbd1c",
   "metadata": {},
   "outputs": [
    {
     "name": "stdout",
     "output_type": "stream",
     "text": [
      "IQR minimum =  -860000.0\n",
      "IQR maksimum =  2100000.0\n"
     ]
    }
   ],
   "source": [
    "# Menghitung ambang batas outlier\n",
    "min_IQR = Q1 - 1.5 * IQR\n",
    "max_IQR = Q3 + 1.5 * IQR\n",
    "\n",
    "print('IQR minimum = ', min_IQR)\n",
    "print('IQR maksimum = ', max_IQR)"
   ]
  },
  {
   "cell_type": "code",
   "execution_count": 24,
   "id": "9c52e01b",
   "metadata": {},
   "outputs": [
    {
     "name": "stdout",
     "output_type": "stream",
     "text": [
      "Nilai minimum data =  0.0\n",
      "Nilai maksimum data =  2210000000.0\n"
     ]
    }
   ],
   "source": [
    "# Menghitung nilai minimum dan maksimum harga penjualan properti\n",
    "nilai_min = np.min(df_nyc['SALE PRICE'])\n",
    "nilai_max = np.max(df_nyc['SALE PRICE'])\n",
    "\n",
    "print('Nilai minimum data = ', nilai_min)\n",
    "print('Nilai maksimum data = ', nilai_max)"
   ]
  },
  {
   "cell_type": "markdown",
   "id": "393c9693",
   "metadata": {},
   "source": [
    "### Deteksi outlier pada fitur 'SALE PRICE '"
   ]
  },
  {
   "cell_type": "code",
   "execution_count": 25,
   "id": "9f2a6f6b",
   "metadata": {},
   "outputs": [
    {
     "name": "stdout",
     "output_type": "stream",
     "text": [
      "Low outlier :  []\n",
      "High outlier :  [6625000.0, 3936272.0, 8000000.0, 3192840.0, 16232000.0, 10350000.0, 11900000.0, 28000000.0, 52625000.0, 2295759.0, 2150000.0, 2150000.0, 2250000.0, 2611811.0, 4159551.0, 2250000.0, 2392887.0, 4552375.0, 2385000.0, 3300000.0, 7215000.0, 4750000.0, 3035000.0, 2700000.0, 3700000.0, 10800000.0, 52625000.0, 7425000.0, 7750000.0, 8300000.0, 2850000.0, 16000000.0, 5950000.0, 7375000.0, 8000000.0, 14100000.0, 29400000.0, 6450000.0, 5500000.0, 5750000.0, 3485000.0, 4600000.0, 2341975.0, 2560000.0, 2815000.0, 3699000.0, 3020000.0, 2600000.0, 7950000.0, 3210237.0, 5875000.0, 44105000.0, 4650000.0, 2685000.0, 15350000.0, 14650000.0, 2760000.0, 2853850.0, 2599287.0, 2760000.0, 6315900.0, 6875937.0, 7950000.0, 5959512.0, 10490725.0, 13435504.0, 10126700.0, 14563725.0, 10948937.0, 15139625.0, 12018100.0, 15887450.0, 11560349.0, 16466145.0, 12829362.0, 16905700.0, 13443650.0, 17809925.0, 13478450.0, 34623250.0, 33605000.0, 6300000.0, 2800000.0, 2900000.0, 2875000.0, 6000000.0, 6500000.0, 4225000.0, 3750000.0, 2900000.0, 2750000.0, 2450000.0, 4700000.0, 4000000.0, 2175000.0, 4500000.0, 2735000.0, 3815000.0, 3000000.0, 2200000.0, 2150000.0, 2657500.0, 2965000.0, 2395000.0, 3375000.0, 4250000.0, 2350000.0, 2575000.0, 2250000.0, 3175000.0, 2125000.0, 2600000.0, 2955000.0, 5250000.0, 16900000.0, 14750000.0, 10000000.0, 17500000.0, 3025000.0, 3200000.0, 3500000.0, 2700000.0, 3350000.0, 4450000.0, 3060000.0, 2788000.0, 2600000.0, 2275000.0, 2600000.0, 3100000.0, 5500000.0, 5300000.0, 4550000.0, 3050000.0, 2562500.0, 2700000.0, 2945000.0, 2550000.0, 3050000.0, 3828219.0, 3400000.0, 2270000.0, 2825000.0, 2163100.0, 2250000.0, 2750000.0, 2250000.0, 2750000.0, 4000000.0, 3225000.0, 4000000.0, 2835000.0, 2318000.0, 2550000.0, 2625000.0, 4900000.0, 3850000.0, 3540000.0, 3450000.0, 2250000.0, 2225000.0, 2235000.0, 2395000.0, 2750000.0, 2375000.0, 2615000.0, 2650000.0, 2999000.0, 10581818.0, 8250000.0, 4000000.0, 13250000.0, 8000000.0, 2450000.0, 2443800.0, 2320000.0, 3680000.0, 17300000.0, 42400000.0, 150000000.0, 10150000.0, 10750000.0, 8818181.0, 20000000.0, 107250000.0, 10600000.0, 10500000.0, 9174156.0, 33000000.0, 139725000.0, 4300000.0, 92007576.0, 50350000.0, 7995000.0, 7610000.0, 7100000.0, 7214400.0, 5100000.0, 12250000.0, 8275000.0, 4250000.0, 2400000.0, 2800000.0, 3266000.0, 2600000.0, 4100000.0, 2570000.0, 3400000.0, 3510000.0, 2291062.0, 2275000.0, 2450000.0, 19000000.0, 9375000.0, 3000000.0, 4350000.0, 2700000.0, 6780000.0, 15500000.0, 3403575.0, 4100000.0, 4306445.0, 3500000.0, 23550000.0, 141500000.0, 15000000.0, 21250000.0, 4531212.0, 2978381.0, 5091250.0, 4571942.0, 2871465.0, 4816322.0, 2891830.0, 5193075.0, 4398840.0, 3141301.0, 5585101.0, 3161666.0, 6567712.0, 5404385.0, 3532727.0, 5361086.0, 5753112.0, 5142162.0, 5019972.0, 3222761.0, 5600375.0, 3243126.0, 5854937.0, 5641287.0, 3718172.0, 7484137.0, 4683950.0, 3283856.0, 6262237.0, 5345812.0, 4724680.0, 3304221.0, 8858775.0, 6450000.0, 3767525.0, 4459935.0, 8655125.0, 6250000.0, 3808255.0, 4317380.0, 8425000.0, 6567712.0, 3848985.0, 4358110.0, 8858775.0, 6418625.0, 4169733.0, 4449752.0, 4210463.0, 4490482.0, 5065793.0, 3716612.0, 4607581.0, 9673375.0, 6771362.0, 4444661.0, 4648311.0, 8900000.0, 6975012.0, 4638128.0, 4689041.0, 9877025.0, 7178662.0, 5391633.0, 4831596.0, 9745200.0, 7129575.0, 4566851.0, 5075976.0, 7150000.0, 4760318.0, 5116706.0, 6022948.0, 5462911.0, 12982687.0, 8146000.0, 5294900.0, 13084512.0, 5345812.0, 13186337.0, 8527106.0, 5193075.0, 8400000.0, 5600375.0, 8349650.0, 5854937.0, 6118000.0, 8563500.0, 5600375.0, 8604212.0, 6567712.0, 13500000.0, 8400125.0, 6313150.0, 13600000.0, 6670000.0, 19975437.0, 15843262.0, 17210250.0, 13720918.0, 18429688.0, 30000000.0, 26626267.0, 2138325.0, 3054750.0, 3400000.0, 2150000.0, 2875000.0, 6520000.0, 3500000.0, 3475000.0, 4200000.0, 5250000.0, 2200000.0, 2575000.0, 2900000.0, 2945000.0, 2990000.0, 2600000.0, 3350000.0, 2550000.0, 2860000.0, 2985000.0, 2800000.0, 2498000.0, 2525000.0, 8100000.0, 2550000.0, 3250000.0, 2945000.0, 2750000.0, 3195000.0, 4500000.0, 5297445.0, 6139457.0, 3309312.0, 7214083.0, 3682307.0, 2835020.0, 6747584.0, 5216033.0, 3936432.0, 7052937.0, 4908960.0, 6849337.0, 6391080.0, 3250000.0, 8399689.0, 6350000.0, 7207711.0, 8429428.0, 6595000.0, 5163328.0, 4939090.0, 5163139.0, 6486932.0, 6537781.0, 5366862.0, 4625000.0, 5430045.0, 4675000.0, 5650000.0, 5468836.0, 5519731.0, 5570666.0, 6792142.0, 5671655.0, 5722747.0, 5977134.0, 5824576.0, 4648335.0, 5671492.0, 5005150.0, 6257282.0, 7300851.0, 4495897.0, 2333250.0, 5055682.0, 9222591.0, 7550000.0, 6939261.0, 9221938.0, 7458313.0, 10978315.0, 6941467.0, 7358124.0, 4238965.0, 12251134.0, 7916446.0, 4828853.0, 11396706.0, 8781854.0, 4493530.0, 13983255.0, 9444375.0, 5104506.0, 14225000.0, 11401304.0, 10622233.0, 14289224.0, 11232758.0, 13576612.0, 11996348.0, 14543793.0, 11741686.0, 15053170.0, 13014468.0, 16260815.0, 13425648.0, 29082693.0, 23982850.0, 26500000.0, 21814384.0, 29075067.0, 26781101.0, 29075835.0, 47866945.0, 10725000.0, 3498000.0, 2995000.0, 7100000.0, 2665000.0, 3150000.0, 4065000.0, 7893437.0, 3670000.0, 19031370.0, 6000000.0, 17850000.0, 3150000.0, 25000000.0, 11500000.0, 3100000.0, 12400000.0, 7000000.0, 11500000.0, 11435000.0, 15093194.0, 2189237.0, 2128142.0, 2236071.0, 2159708.0, 4816322.0, 3719612.0, 2300000.0, 3515962.0, 10185500.0, 2375000.0, 2395000.0, 2600000.0, 3075000.0, 2760000.0, 2250000.0, 3100000.0, 2150000.0, 2500000.0, 2341975.0, 2341975.0, 2189237.0, 67734101.0, 21500000.0, 18500000.0, 8010000.0, 4700000.0, 3000000.0, 6800000.0, 4000000.0, 13835000.0, 5292000.0, 5381394.0, 6354000.0, 6354000.0, 12326000.0, 10025000.0, 8300000.0, 30449204.0, 57000000.0, 2627509.0, 2400000.0, 2500000.0, 2900000.0, 3250000.0, 2600000.0, 2450000.0, 2521695.0, 4200000.0, 5825000.0, 3433525.0, 3390772.0, 3408546.0, 3360000.0, 3968583.0, 6155662.0, 16200000.0, 20302500.0, 9100000.0, 4550000.0, 11000000.0, 2200000.0, 2962500.0, 2762500.0, 3850000.0, 3000000.0, 2440000.0, 2698362.0, 4836687.0, 8146000.0, 8349650.0, 12750000.0, 108000000.0, 565000000.0, 54000000.0, 5000000.0, 105592700.0, 128177800.0, 212500000.0, 139657500.0, 51000000.0, 16540319.0, 5816666.0, 9657797.0, 48213200.0, 3100000.0, 239114603.0, 182391612.0, 2750000.0, 3767525.0, 2581263.0, 4235920.0, 2621993.0, 2662723.0, 5051332.0, 2571081.0, 2606720.0, 2199420.0, 5315265.0, 4979242.0, 2647450.0, 4673767.0, 2555807.0, 2480000.0, 5992401.0, 2856191.0, 2112868.0, 2229967.0, 6215000.0, 5274535.0, 2835826.0, 2123051.0, 5916032.0, 12651756.0, 3136210.0, 2606720.0, 6318241.0, 5956762.0, 3024202.0, 3675882.0, 3563875.0, 3721703.0, 3604605.0, 6939373.0, 2520168.0, 3828620.0, 3584240.0, 3818437.0, 3691156.0, 7056472.0, 2341975.0, 3864258.0, 3915171.0, 6400000.0, 3232943.0, 3845000.0, 3609696.0, 3767525.0, 4006813.0, 2861282.0, 4001722.0, 3975000.0, 3182031.0, 4031325.0, 4098456.0, 4134095.0, 2947833.0, 7112476.0, 2774731.0, 4190098.0, 4220646.0, 6516800.0, 4241011.0, 4057726.0, 11355000.0, 4098456.0, 3375498.0, 4337745.0, 4220646.0, 3955901.0, 4305000.0, 4388657.0, 11404400.0, 2942742.0, 4521019.0, 4302106.0, 3955901.0, 3762433.0, 2749275.0, 9775200.0, 10448221.0, 4123912.0, 2200000.0, 2140000.0, 2644370.0, 2650000.0, 2155000.0, 2555000.0, 3340000.0, 2400000.0, 2537625.0, 2850000.0, 3550000.0, 3375000.0, 4100000.0, 4920000.0, 2250000.0, 2850000.0, 3000000.0, 2220075.0, 2365000.0, 2443800.0, 2107777.0, 2550000.0, 3818437.0, 5225000.0, 3207487.0, 4100000.0, 2900000.0, 2680000.0, 2850000.0, 2275000.0, 2197310.0, 2300000.0, 26750000.0, 652000000.0, 3288000.0, 1040000000.0, 54052917.0, 12500000.0, 100107200.0, 203345000.0, 93550000.0, 51100000.0, 41321942.0, 4450000.0, 19550000.0, 2749000.0, 2460000.0, 2200000.0, 5702200.0, 5500000.0, 6213325.0, 5396725.0, 5700000.0, 3500000.0, 3300000.0, 2647450.0, 2799990.0, 2624529.0, 2599990.0, 2723808.0, 2800177.0, 2771147.0, 2851089.0, 3415000.0, 3283846.0, 3843883.0, 4900000.0, 4757762.0, 4378475.0, 4725000.0, 4600000.0, 3550000.0, 3360000.0, 5450000.0, 2360000.0, 3600000.0, 3135000.0, 2725000.0, 2700000.0, 12578137.0, 3025000.0, 5500000.0, 4888512.0, 3563875.0, 3003837.0, 7062072.0, 7382312.0, 5600375.0, 4938512.0, 2749275.0, 4327562.0, 8095087.0, 7127750.0, 4582125.0, 5142162.0, 3714066.0, 3563875.0, 7521875.0, 5702200.0, 4450000.0, 6100000.0, 2250000.0, 2241600.0, 2189237.0, 7935000.0, 6720450.0, 5294900.0, 4454843.0, 13980937.0, 8326975.0, 7280487.0, 2138325.0, 13621140.0, 11007282.0, 11709875.0, 5250000.0, 12728125.0, 12168087.0, 7636875.0, 15782875.0, 10691625.0, 33093125.0, 36573875.0, 10850000.0, 7013418.0, 4327562.0, 11000000.0, 6666250.0, 4378475.0, 6669537.0, 3971175.0, 10797637.0, 6420000.0, 4200000.0, 10900000.0, 6975012.0, 4039058.0, 11000000.0, 4140883.0, 11100000.0, 4242708.0, 11300000.0, 4440150.0, 11800000.0, 8756950.0, 15782875.0, 9367900.0, 15647690.0, 28225000.0, 3390000.0, 3450000.0, 3525000.0, 2475000.0, 6100000.0, 2435000.0, 2775000.0, 2850000.0, 4900000.0, 3295000.0, 3080000.0, 2570000.0, 2800187.0, 2125000.0, 2365000.0, 2300000.0, 2250000.0, 2350000.0, 2700000.0, 4900000.0, 12900000.0, 6400000.0, 2675000.0, 3925000.0, 3850000.0, 2900000.0, 3250000.0, 7500000.0, 2200000.0, 3125000.0, 2200000.0, 3737500.0, 3650000.0, 4900000.0, 5200000.0, 3994990.0, 5339990.0, 4000000.0, 4046581.0, 12219000.0, 6625000.0, 3700000.0, 3871895.0, 3945718.0, 3885131.0, 4050000.0, 4300000.0, 5375000.0, 2200000.0, 126000000.0, 26500000.0, 29500000.0, 13500000.0, 4650000.0, 5100000.0, 97500000.0, 5300000.0, 3700000.0, 7350000.0, 7000000.0, 13500000.0, 13600000.0, 23094093.0, 8700000.0, 13100000.0, 19000000.0, 11800000.0, 2500000.0, 2430000.0, 2450000.0, 4125000.0, 13000000.0, 15750000.0, 2200000.0, 2425000.0, 3229000.0, 2450000.0, 2995000.0, 2847090.0, 2945855.0, 3076401.0, 3128332.0, 3242836.0, 3168274.0, 4369104.0, 4544306.0, 3476017.0, 3086230.0, 5512550.0, 4433286.0, 5602734.0, 2152794.0, 3222529.0, 3001855.0, 2154923.0, 2165222.0, 7299515.0, 3490144.0, 3535691.0, 2823264.0, 5992945.0, 5033040.0, 2275000.0, 2163781.0, 2400000.0, 7700000.0, 2575000.0, 6593168.0, 6389518.0, 7076837.0, 7102293.0, 15000000.0, 52400621.0, 9999999.0, 12500000.0, 14000000.0, 20650000.0, 21000000.0, 11800000.0, 9500000.0, 5250000.0, 10500000.0, 10182500.0, 22112000.0, 72200000.0, 10250000.0, 8500000.0, 25001000.0, 37750000.0, 5640000.0, 7200000.0, 2575000.0, 4050000.0, 8400562.0, 5100000.0, 2200000.0, 2275000.0, 2800000.0, 2175000.0, 2350000.0, 2344000.0, 2900000.0, 3700000.0, 3248000.0, 2499000.0, 2275000.0, 3350000.0, 3995000.0, 4600000.0, 4585000.0, 44735365.0, 2500000.0, 2665000.0, 9200000.0, 4200000.0, 5350000.0, 5000000.0, 9500000.0, 2900000.0, 9167000.0, 2125000.0, 2300000.0, 3000000.0, 8000000.0, 3550000.0, 6750000.0, 6675000.0, 6975000.0, 7232575.0, 9225000.0, 8300000.0, 7644121.0, 8050000.0, 8316000.0, 9139000.0, 9150000.0, 9500000.0, 15086418.0, 6327000.0, 2300000.0, 4825000.0, 109000000.0, 153000000.0, 3781000.0, 9300000.0, 60000000.0, 32250000.0, 9500000.0, 2975000.0, 6060000.0, 24625000.0, 7800000.0, 4065000.0, 19000000.0, 11139450.0, 5550000.0, 6800000.0, 9750000.0, 5570000.0, 9600000.0, 14000000.0, 3950000.0, 15000000.0, 8900000.0, 7000000.0, 7400000.0, 11300000.0, 27400000.0, 6500000.0, 18000000.0, 7500000.0, 6260000.0, 15700000.0, 21000000.0, 9000000.0, 18000000.0, 20000000.0, 12750000.0, 31000000.0, 12576515.0, 24991000.0, 2200000.0, 2225000.0, 9800000.0, 3835000.0, 3520000.0, 3800000.0, 4836687.0, 2902012.0, 10600000.0, 3600000.0, 3900000.0, 5850000.0, 2450000.0, 7150000.0, 3800000.0, 24409940.0, 25044282.0, 16323425.0, 14915472.0, 17084352.0, 4796230.0, 3529671.0, 6556417.0, 4898107.0, 6631745.0, 2933987.0, 16571565.0, 11269149.0, 11748835.0, 5152776.0, 13522992.0, 7652429.0, 6468689.0, 5554043.0, 7805146.0, 6498686.0, 5330077.0, 18355981.0, 8416267.0, 6722761.0, 5299576.0, 16852122.0, 8416342.0, 6845010.0, 5401448.0, 17081351.0, 6967260.0, 6170273.0, 17870617.0, 7830083.0, 6548785.0, 6365000.0, 6272080.0, 18583501.0, 9435799.0, 6997350.0, 6394382.0, 18940564.0, 8251359.0, 29560366.0, 12797205.0, 40039069.0, 8758750.0, 7965616.0, 33641696.0, 17794024.0, 16376715.0, 5921476.0, 6525000.0, 6709375.0, 4550000.0, 9350000.0, 13513488.0, 3385000.0, 2982500.0, 2111250.0, 2650000.0, 2400000.0, 2275000.0, 2650000.0, 2650000.0, 2900000.0, 4295000.0, 4728000.0, 4850000.0, 3200000.0, 10354275.0, 6975012.0, 10650000.0, 7100000.0, 9200000.0, 7150000.0, 5850000.0, 7350000.0, 4963968.0, 9300000.0, 4950000.0, 6975012.0, 5187983.0, 4836687.0, 9724287.0, 12450000.0, 12795000.0, 12225937.0, 6771362.0, 9650000.0, 12092000.0, 8400000.0, 9400000.0, 6150000.0, 6722995.0, 5949125.0, 6300000.0, 5727656.0, 10589800.0, 24183437.0, 4100000.0, 2500000.0, 6100000.0, 8600000.0, 7350000.0, 4500000.0, 2700000.0, 14000000.0, 3150000.0, 3145000.0, 20605000.0, 205961801.0, 10200000.0, 6800000.0, 6856750.0, 29163200.0, 2200000.0, 2300000.0, 3050000.0, 2200000.0, 3200000.0, 3535000.0, 3750000.0, 2450000.0, 2800000.0, 3500000.0, 3650000.0, 2175000.0, 2460000.0, 2950000.0, 3450000.0, 4300000.0, 2685000.0, 2505000.0, 3250000.0, 2390000.0, 2200000.0, 2675000.0, 13650000.0, 6438317.0, 2125000.0, 4400000.0, 2150000.0, 2675000.0, 2597000.0, 3250000.0, 2450000.0, 2165000.0, 4433033.0, 3000000.0, 2298307.0, 2795000.0, 5128650.0, 2820000.0, 3003837.0, 2525000.0, 3760000.0, 3350000.0, 3205500.0, 4325000.0, 23000000.0, 7400000.0, 6700000.0, 10800000.0, 2495000.0, 7300000.0, 18000000.0, 18000000.0, 18000000.0, 18000000.0, 18000000.0, 18000000.0, 5020000.0, 5020000.0, 5020000.0, 5020000.0, 5020000.0, 23000000.0, 67500000.0, 10000000.0, 17000000.0, 2490000.0, 2260000.0, 2130000.0, 2132000.0, 4200000.0, 2850000.0, 2930000.0, 6000000.0, 2575000.0, 2125000.0, 2624000.0, 2700000.0, 2880000.0, 3550000.0, 3880000.0, 27000000.0, 6800000.0, 15453750.0, 17800000.0, 8000000.0, 6750000.0, 10100000.0, 2255000.0, 3006000.0, 6814720.0, 6414359.0, 2430000.0, 7061250.0, 3438750.0, 3850000.0, 2250000.0, 2500000.0, 3826858.0, 12125000.0, 14275000.0, 15000000.0, 11500000.0, 3730232.0, 6250000.0, 7750000.0, 10625000.0, 10825000.0, 7300000.0, 7525000.0, 8800000.0, 10875000.0, 6800000.0, 5280000.0, 2150000.0, 5325000.0, 2245945.0, 2550000.0, 2300000.0, 2470000.0, 5925000.0, 5375000.0, 9000000.0, 4373570.0, 3425000.0, 3450000.0, 3300000.0, 12000000.0, 2300000.0, 9150000.0, 9250000.0, 8725000.0, 11050000.0, 10250000.0, 9325000.0, 8925000.0, 9839200.0, 5925000.0, 5175000.0, 4500000.0, 8825000.0, 10850000.0, 5050000.0, 5525000.0, 3300000.0, 15750000.0, 5850000.0, 6850000.0, 2250000.0, 2450000.0, 2225000.0, 3112400.0, 4300000.0, 3376775.0, 7850000.0, 8550000.0, 9575000.0, 22600000.0, 14700000.0, 7300000.0, 14800000.0, 25000000.0, 7200000.0, 11700000.0, 6726800.0, 2925000.0, 2600000.0, 2550000.0, 3700000.0, 6925000.0, 4650000.0, 3395000.0, 2800000.0, 3175000.0, 3000000.0, 3125000.0, 2600000.0, 2450000.0, 2420000.0, 2650000.0, 2475000.0, 2400000.0, 2350000.0, 2650000.0, 2395000.0, 2420000.0, 14000000.0, 2250000.0, 6539584.0, 25000000.0, 32000000.0, 3500000.0, 2600000.0, 15600000.0, 8000000.0, 2890000.0, 2260000.0, 6800000.0, 6800000.0, 14500000.0, 7630400.0, 3450000.0, 2110000.0, 3470000.0, 5700000.0, 63600000.0, 5832500.0, 2850000.0, 10350000.0, 6900000.0, 12900000.0, 19200000.0, 17700000.0, 6100000.0, 7950000.0, 4840000.0, 2900000.0, 124700000.0, 5000000.0, 9180000.0, 330000000.0, 5300000.0, 18500000.0, 4600000.0, 3900000.0, 5750000.0, 6650000.0, 7200000.0, 620000000.0, 52000000.0, 2250000.0, 2695000.0, 2140000.0, 2562500.0, 2617000.0, 2150000.0, 3150000.0, 2696000.0, 2657500.0, 2310000.0, 2270000.0, 2470000.0, 2735503.0, 2250000.0, 2700000.0, 2925000.0, 3016565.0, 3200000.0, 174000000.0, 13000000.0, 46500000.0, 27500000.0, 14700000.0, 7090000.0, 15200000.0, 9500000.0, 3350000.0, 6500000.0, 3810000.0, 4010000.0, 2900000.0, 2125000.0, 2300000.0, 3150000.0, 3750000.0, 20860000.0, 10500000.0, 3900000.0, 5600375.0, 3750000.0, 23500000.0, 11000000.0, 5060000.0, 9200000.0, 4400000.0, 11400000.0, 9600000.0, 7550000.0, 12900000.0, 10000000.0, 5500000.0, 61500000.0, 21200000.0, 5250000.0, 9800000.0, 5150000.0, 2392887.0, 5500000.0, 6988000.0, 3800000.0, 6000000.0, 9000000.0, 8000000.0, 8700000.0, 8000000.0, 9575000.0, 3600000.0, 15500000.0, 30750000.0, 16750000.0, 31500000.0, 11350000.0, 4121000.0, 3075000.0, 4454843.0, 3053731.0, 2350000.0, 10350000.0, 9400000.0, 4554000.0, 7595000.0, 17000000.0, 8600000.0, 2200000.0, 7150000.0, 38250000.0, 12750000.0, 17052000.0, 2400000.0, 4450000.0, 2525000.0, 3150000.0, 3700000.0, 2800000.0, 3057375.0, 4340000.0, 3250000.0, 2450000.0, 4222500.0, 2400000.0, 3100000.0, 2800000.0, 4425000.0, 2700000.0, 2200000.0, 3600000.0, 2942761.0, 16489758.0, 4914988.0, 21150779.0, 17348621.0, 17137682.0, 23874942.0, 14303392.0, 29042362.0, 27128425.0, 30951145.0, 31466270.0, 30122241.0, 19629467.0, 18967711.0, 21156842.0, 37745776.0, 18572987.0, 43329148.0, 65163580.0, 44606622.0, 65661755.0, 32712457.0, 32881795.0, 60893873.0, 87660898.0, 2400000.0, 3275000.0, 5800000.0, 3000000.0, 6764375.0, 10375000.0, 90000000.0, 30000000.0, 155000000.0, 2210000000.0, 62750000.0, 15250000.0, 131667000.0, 7500000.0, 84250000.0, 2421087.0, 19653377.0, 4500000.0, 5100000.0, 5000000.0, 5200000.0, 7000000.0, 5700000.0, 4500000.0, 7250000.0, 5500000.0, 7100000.0, 4625000.0, 2950000.0, 86000000.0, 16975000.0, 2575000.0, 2380000.0, 2160000.0, 3250000.0, 2150000.0, 2800000.0, 8000000.0, 2750000.0, 2400000.0, 2362500.0, 3150000.0, 2700000.0, 2600000.0, 2260000.0, 3821437.0, 4381475.0, 4228737.0, 4916056.0, 3948718.0, 4480300.0, 4104511.0, 4381475.0, 4686950.0, 4076000.0, 4381475.0, 4274558.0, 5857937.0, 4320380.0, 5735747.0, 3643243.0, 4300754.0, 3795981.0, 5959762.0, 3790890.0, 5603375.0, 5895612.0, 4413040.0, 6214325.0, 3821437.0, 6386206.0, 4427296.0, 4961877.0, 4330562.0, 4475298.0, 8979946.0, 6265237.0, 5399725.0, 6112500.0, 5450637.0, 8658125.0, 6938303.0, 5348812.0, 6392518.0, 12629300.0, 12782037.0, 3850000.0, 2578672.0, 2263015.0, 3775116.0, 3780207.0, 2625000.0, 2341975.0, 2497212.0, 2548125.0, 5651287.0, 5243987.0, 5450137.0, 7435725.0, 5300000.0, 5399225.0, 3400000.0, 3050000.0, 3100000.0, 3725000.0, 3700000.0, 7100000.0, 3200000.0, 5000000.0, 2675000.0, 3006087.0, 2730910.0, 3087500.0, 3400000.0, 3175000.0, 3650000.0, 3500000.0, 3300000.0, 3575000.0, 8800000.0, 2450000.0, 2775000.0, 2250000.0, 2362508.0, 2542485.0, 2750000.0, 2900000.0, 3640622.0, 5400000.0, 4650000.0, 4700000.0, 3225000.0, 2562125.0, 2850000.0, 3100000.0, 3150000.0, 2390169.0, 4072989.0, 2331782.0, 3945708.0, 2459063.0, 3299990.0, 2364990.0, 2560888.0, 3390762.0, 2394990.0, 2499803.0, 3421309.0, 2469246.0, 2672896.0, 3580000.0, 2359794.0, 2550952.0, 3742058.0, 2504884.0, 2657622.0, 3808244.0, 2514990.0, 2713626.0, 2539990.0, 2650000.0, 3800000.0, 2754356.0, 2655000.0, 2907093.0, 5427481.0, 2708534.0, 2861272.0, 2815451.0, 3019101.0, 3999000.0, 5725000.0, 4210453.0, 4266457.0, 4281731.0, 2375000.0, 2555000.0, 2332000.0, 3975000.0, 2360000.0, 2360000.0, 3600000.0, 2119162.0, 4200000.0, 2900000.0, 2239000.0, 2200000.0, 3000000.0, 2600000.0, 4600000.0, 5200000.0, 5500000.0, 2900000.0, 4500000.0, 5500000.0, 4636125.0, 6817500.0, 16750000.0, 4762672.0, 24755490.0, 12197000.0, 12400000.0, 217500000.0, 3807022.0, 18256500.0, 2215318.0, 4952637.0, 5000000.0, 16900552.0, 8250000.0, 12500000.0, 12075000.0, 5400000.0, 62390625.0, 34000000.0, 2220000.0, 2850000.0, 5050000.0, 5300000.0, 5050000.0, 8800000.0, 3725000.0, 5100000.0, 4100000.0, 2450000.0, 2387500.0, 3150000.0, 15950000.0, 4255000.0, 3800000.0, 16550062.0, 23500000.0, 22500000.0, 21641312.0, 45824750.0, 3641751.0, 3252045.0, 3707937.0, 3099308.0, 4397918.0, 6402159.0, 8607712.0, 6605809.0, 9832440.0, 4700732.0, 9447386.0, 6605809.0, 2400000.0, 2190000.0, 2492538.0, 2130000.0, 2300000.0, 2900000.0, 2950000.0, 3156575.0, 3000000.0, 2800000.0, 7200000.0, 5700000.0, 3900000.0, 6250000.0, 2297500.0, 2300000.0, 2320000.0, 2300000.0, 2230000.0, 2760000.0, 2423138.0, 2466757.0, 2300000.0, 3250000.0, 2622500.0, 2950000.0, 3860000.0, 2145000.0, 2580000.0, 2675000.0, 5250000.0, 4500000.0, 14000000.0, 9200000.0, 9950000.0, 3860000.0, 5000000.0, 5200000.0, 8400000.0, 8950000.0, 38900000.0, 2675000.0, 12250000.0, 5400000.0, 19346750.0, 2235000.0, 3000000.0, 3200000.0, 3150000.0, 6042000.0, 3450000.0, 2250000.0, 2200000.0, 20500000.0, 10150000.0, 4400000.0, 13900000.0, 83126000.0, 268124175.0, 30937500.0, 8171775.0, 68000000.0, 50000000.0, 43100000.0, 10675000.0, 13010500.0, 53000000.0, 83000000.0, 5000000.0, 3165120.0, 3656610.0, 4442200.0, 2696485.0, 4484000.0, 3995000.0, 3800000.0, 4395000.0, 2195000.0, 2545000.0, 7370000.0, 3850000.0, 2650000.0, 2140000.0, 4584000.0, 13500000.0, 4800000.0, 4225000.0, 7037500.0, 6052000.0, 5600000.0, 7200000.0, 7463000.0, 27500000.0, 3584743.0, 2775000.0, 2600000.0, 3700000.0, 4075000.0, 2650000.0, 2500000.0, 2200000.0, 3600000.0, 2585000.0, 2450000.0, 2300000.0, 2525000.0, 2900000.0, 2530000.0, 2800000.0, 2900000.0, 2325000.0, 2150000.0, 2512500.0, 2150000.0, 2160000.0, 2580000.0, 2142287.0, 12000000.0, 12000000.0, 7150000.0, 2350000.0, 2189000.0, 20000000.0, 36153620.0, 14500000.0, 9900000.0, 5700000.0, 8250000.0, 6050000.0, 37000000.0, 118000000.0, 93500000.0, 14100000.0, 23900000.0, 23296741.0, 8000000.0, 43500000.0, 21055000.0, 15750000.0, 14500000.0, 12000000.0, 10250000.0, 8146000.0, 3100000.0, 2700000.0, 26948580.0, 4200000.0, 3725000.0, 2462265.0, 4350000.0, 3850000.0, 2490000.0, 4549716.0, 3971175.0, 2545625.0, 4793343.0, 4047543.0, 2725000.0, 4950000.0, 7150000.0, 5000000.0, 7789612.0, 19855875.0, 8298737.0, 17310375.0, 16546562.0, 6775000.0, 4200000.0, 2500000.0, 3100000.0, 2250000.0, 2800187.0, 2700000.0, 5600375.0, 2443800.0, 2800187.0, 2545625.0, 4450000.0, 4500000.0, 3818437.0, 2965000.0, 10150000.0, 25456250.0, 5000000.0, 3000000.0, 3800000.0, 4085000.0, 2950000.0, 5000000.0, 6000000.0, 6600000.0, 5857462.0, 5500000.0, 14767150.0, 2880000.0, 2945272.0, 8200000.0, 3050000.0, 3300000.0, 4650000.0, 2207500.0, 2860000.0, 3200000.0, 3312367.0, 3005000.0, 3317458.0, 2800000.0, 2154053.0, 3668754.0, 6519854.0, 10503000.0, 2650000.0, 3625000.0, 2150000.0, 2195000.0, 2650000.0, 4550000.0, 6049704.0, 9850000.0, 7400000.0, 6000000.0, 5300000.0, 6750000.0, 3670000.0, 2800000.0, 2600000.0, 7600000.0, 9300000.0, 28000000.0, 11330648.0, 13226118.0, 17340000.0, 64900000.0, 10500000.0, 5400000.0, 28000000.0, 8400000.0, 23565000.0, 93000000.0, 2497602.0, 2506348.0, 19000000.0, 2719591.0, 2846008.0, 2771214.0, 2785185.0, 2900000.0, 3355133.0, 2900000.0, 2119162.0, 2978381.0, 3131118.0, 2902012.0, 3131118.0, 3784218.0, 3380000.0, 2635000.0, 2800000.0, 5000000.0, 6000000.0, 2675000.0, 3750000.0, 2310000.0, 3898000.0, 2550000.0, 2500000.0, 2225000.0, 3675000.0, 2625000.0, 2920000.0, 2357500.0, 3500000.0, 3300000.0, 3695000.0, 2725000.0, 2775000.0, 2950000.0, 6200000.0, 4175000.0, 4275000.0, 4350000.0, 3450000.0, 4350000.0, 3000000.0, 2575000.0, 2197383.0, 3920000.0, 2960000.0, 2695000.0, 3640000.0, 3195000.0, 3245000.0, 2450000.0, 11175000.0, 4024250.0, 2900000.0, 6262237.0, 3054750.0, 3258400.0, 3105662.0, 4926802.0, 3197305.0, 3411137.0, 3603077.0, 2443800.0, 2115000.0, 2514059.0, 2785932.0, 4123912.0, 3000000.0, 2749275.0, 3022675.0, 4092000.0, 2700000.0, 3139264.0, 2734510.0, 4205083.0, 3775000.0, 2698362.0, 2927468.0, 3232943.0, 2978381.0, 4353018.0, 2760475.0, 11862612.0, 4126650.0, 3825000.0, 2800187.0, 2495221.0, 2800187.0, 3818437.0, 2902012.0, 3550000.0, 7400000.0, 4368475.0, 2672906.0, 6335551.0, 3950000.0, 3103626.0, 2545625.0, 2800187.0, 3563875.0, 2418343.0, 6750000.0, 4582125.0, 3309312.0, 3950000.0, 2902012.0, 3054750.0, 3575000.0, 4200000.0, 3074605.0, 4530703.0, 3205451.0, 3300000.0, 4429387.0, 4734862.0, 3175987.0, 8807862.0, 14803395.0, 6250000.0, 5078521.0, 4887600.0, 6700000.0, 6150000.0, 5376360.0, 5450000.0, 11193750.0, 2550000.0, 2875000.0, 2550000.0, 2905000.0, 6300000.0, 5650000.0, 3999999.0, 2272500.0, 12500000.0, 5726000.0, 2550000.0, 3070000.0, 2240000.0, 2995000.0, 3300000.0, 3700000.0, 3250000.0, 2558500.0, 3300000.0, 3618000.0, 3050000.0, 2700000.0, 3753750.0, 3400000.0, 3477000.0, 13150000.0, 5700000.0, 4850000.0, 3375000.0, 6100000.0, 6112500.0, 6500000.0, 3250000.0, 4175000.0, 2964634.0, 2800000.0, 2850000.0, 3950000.0, 2995000.0, 3620000.0, 3649500.0, 3500000.0, 4650000.0, 7000000.0, 7400000.0, 4650000.0, 8750000.0, 2300000.0, 2450000.0, 4900000.0, 2495000.0, 3100000.0, 3125000.0, 2950000.0, 3800000.0, 4300000.0, 4525000.0, 6771362.0, 6380000.0, 6771362.0, 8350000.0, 5396725.0, 6300000.0, 5498550.0, 7076837.0, 7280487.0, 8800000.0, 6007675.0, 7355000.0, 10250000.0, 3550000.0, 4500000.0, 3550000.0, 3250000.0, 3100000.0, 4375000.0, 3600000.0, 3300000.0, 3150000.0, 3700000.0, 3400000.0, 3250000.0, 4900000.0, 3750000.0, 5300000.0, 5350000.0, 5575000.0, 5150000.0, 4115000.0, 5100000.0, 5150000.0, 11500000.0, 4800000.0, 6500000.0, 4407500.0, 4300000.0, 8600000.0, 4100000.0, 10750000.0, 7350000.0, 4325000.0, 3500000.0, 10727000.0, 2950000.0, 8500000.0, 5500000.0, 5075000.0, 5995000.0, 4970000.0, 4500000.0, 4505000.0, 5400000.0, 5250000.0, 4643225.0, 6950000.0, 6112554.0, 2953000.0, 3052713.0, 13240304.0, 6562339.0, 8440917.0, 7663349.0, 13566676.0, 3729849.0, 8403617.0, 13753000.0, 10923786.0, 8753000.0, 8361731.0, 8143963.0, 7275233.0, 8632723.0, 14000000.0, 14675019.0, 11070414.0, 11814754.0, 11860066.0, 13749429.0, 8631046.0, 11203804.0, 9387889.0, 9034696.0, 11261845.0, 10755774.0, 24441054.0, 14235135.0, 20185527.0, 14258554.0, 20185527.0, 43991454.0, 3300000.0, 7050000.0, 17750000.0, 6000000.0, 3075000.0, 3200000.0, 3047500.0, 7127750.0, 2750000.0, 5360000.0, 2810000.0, 2450000.0, 3700000.0, 2250000.0, 4278690.0, 4220000.0, 4240000.0, 4200000.0, 3484785.0, 3600000.0, 4500000.0, 3563875.0, 7568437.0, 4149368.0, 4228487.0, 4350000.0, 7636875.0, 5200000.0, 6602500.0, 8650000.0, 2480000.0, 2200000.0, 2400000.0, 3400000.0, 11718500.0, 4600000.0, 4500000.0, 90000000.0, 109915000.0, 10850000.0, 2500000.0, 135000000.0, 3500000.0, 3800000.0, 18000000.0, 3500000.0, 11500000.0, 24175000.0, 20400000.0, 41000000.0, 8300000.0, 33200000.0, 14000000.0, 10500000.0, 19000000.0, 9350000.0, 9900000.0, 4250000.0, 18500000.0, 6000000.0, 6350000.0, 4000000.0, 17500000.0, 6000000.0, 11200000.0, 10500000.0, 18000000.0, 7245000.0, 7050000.0, 8000000.0, 3850000.0, 6982500.0, 7220500.0, 5650000.0, 5850000.0, 8500000.0, 9890400.0, 15000000.0, 26000000.0, 8500000.0, 10422691.0, 16500000.0, 11657442.0, 9800000.0, 5400000.0, 6724153.0, 11200000.0, 13000000.0, 6600000.0, 15893500.0, 2950000.0, 6015000.0, 5200000.0, 7100000.0, 2719400.0, 9450000.0, 18250000.0, 37443583.0, 8500000.0, 5500000.0, 5200000.0, 5250000.0, 6515000.0, 4100000.0, 4000000.0, 6500000.0, 14965729.0, 25456250.0, 3450000.0, 2900000.0, 3600000.0, 3113912.0, 9400000.0, 22166084.0, 3900000.0, 3700000.0, 3900000.0, 2119162.0, 5900000.0, 3200000.0, 3125000.0, 3000000.0, 2527500.0, 3150000.0, 4400000.0, 6750000.0, 2950000.0, 2900000.0, 2600000.0, 6050000.0, 9960528.0, 9520637.0, 20445725.0, 10020866.0, 11449204.0, 2625000.0, 6000000.0, 2800000.0, 3150000.0, 3000000.0, 4400000.0, 3016721.0, 2950000.0, 2400000.0, 2300000.0, 2950000.0, 2155000.0, 4975000.0, 6480000.0, 5600000.0, 4800000.0, 5950000.0, 2910000.0, 2494712.0, 2120000.0, 2327000.0, 2675000.0, 2500000.0, 2647450.0, 2800000.0, 3900000.0, 2219785.0, 2896921.0, 4095000.0, 3225000.0, 3100000.0, 3300000.0, 3375000.0, 2300000.0, 3351264.0, 3225000.0, 3645000.0, 6879708.0, 3475000.0, 3100000.0, 2700000.0, 6250000.0, 2740000.0, 2682578.0, 2750000.0, 4996841.0, 4900000.0, 3350000.0, 2400000.0, 2900000.0, 3100000.0, 2900000.0, 2978381.0, 4210000.0, 4250000.0, 3500000.0, 3000000.0, 3235000.0, 3325000.0, 2425000.0, 3650000.0, 2820000.0, 4446000.0, 4450000.0, 4600000.0, 4800000.0, 7600000.0, 4500000.0, 2750000.0, 2851100.0, 2363876.0, 2150000.0, 3300000.0, 2405570.0, 2450000.0, 2275000.0, 2175000.0, 3000000.0, 2375000.0, 5900000.0, 10870000.0, 2325000.0, 7215000.0, 4315000.0, 2475000.0, 2750000.0, 2850000.0, 4516000.0, 6700000.0, 4200000.0, 3800000.0, 2195000.0, 2200000.0, 2200000.0, 3035000.0, 4900000.0, 6175000.0, 2695000.0, 2400000.0, 2250000.0, 2900000.0, 5390000.0, 2500000.0, 2275000.0, 4800000.0, 5447000.0, 2127000.0, 2128000.0, 2127500.0, 2700000.0, 2402500.0, 2600000.0, 2265000.0, 61500000.0, 5950000.0, 5500000.0, 7500000.0, 2500000.0, 32000000.0, 79500000.0, 28000000.0, 19250000.0, 5200000.0, 17000000.0, 17000000.0, 25000000.0, 11623000.0, 5500000.0, 9148120.0, 8950000.0, 18500000.0, 8900000.0, 5925000.0, 6210000.0, 12500000.0, 7000000.0, 7000000.0, 5750000.0, 7450000.0, 6500000.0, 4495000.0, 21000000.0, 6787500.0, 6895000.0, 9850000.0, 6500000.0, 19400000.0, 5075000.0, 20000000.0, 4450000.0, 6000000.0, 9100000.0, 8000000.0, 5400000.0, 8551835.0, 6600000.0, 4850000.0, 5310000.0, 6500000.0, 6200000.0, 22795500.0, 10750000.0, 6175000.0, 6800000.0, 6500000.0, 11200000.0, 5828968.0, 8140000.0, 10350000.0, 12500000.0, 15800000.0, 34340699.0, 7314907.0, 3250000.0, 3087500.0, 3400000.0, 5200000.0, 3015000.0, 18544500.0, 5091250.0, 11500000.0, 5550000.0, 12050000.0, 5900000.0, 2160000.0, 2200000.0, 2900000.0, 17310250.0, 4200000.0, 2350000.0, 2195000.0, 2330000.0, 5880000.0, 2615000.0, 7950000.0, 5865000.0, 3999000.0, 10200000.0, 2800000.0, 2495000.0, 3070000.0, 3700000.0, 4750000.0, 3925000.0, 2300000.0, 3250000.0, 2950000.0, 6100000.0, 5200000.0, 2425000.0, 2550000.0, 2393550.0, 2200000.0, 2220000.0, 2550000.0, 2500000.0, 2600000.0, 2995000.0, 3300000.0, 5800000.0, 2500000.0, 5850000.0, 5044000.0, 5400000.0, 3713000.0, 2215000.0, 2749865.0, 2902012.0, 3190608.0, 4416209.0, 3405028.0, 3600000.0, 3238038.0, 3805492.0, 2911744.0, 5088539.0, 3001555.0, 6665152.0, 2180250.0, 3150000.0, 3750000.0, 2875000.0, 2547500.0, 3500000.0, 2375000.0, 2900000.0, 3950000.0, 2191987.0, 2375272.0, 2718727.0, 2125801.0, 2823302.0, 2344725.0, 2141075.0, 2853850.0, 2365090.0, 2171622.0, 2436367.0, 2202170.0, 2996405.0, 2456732.0, 2232717.0, 2507645.0, 2528010.0, 2558557.0, 2609470.0, 2309086.0, 2640017.0, 2300000.0, 2600000.0, 2340000.0, 2300000.0, 3400000.0, 2567500.0, 2110000.0, 6275000.0, 7000468.0, 6511708.0, 7127750.0, 4577033.0, 6610777.0, 6945483.0, 8064540.0, 4714497.0, 8572646.0, 7970861.0, 7771284.0, 8039083.0, 7725000.0, 8152109.0, 7800000.0, 8145000.0, 5564736.0, 8451475.0, 5646196.0, 8159237.0, 8629668.0, 14784990.0, 10157043.0, 14601705.0, 8767132.0, 12267876.0, 9103155.0, 11149837.0, 3065000.0, 6150000.0, 2985000.0, 6600000.0, 2300000.0, 4500000.0, 9237500.0, 4900000.0, 8050000.0, 42000000.0, 4862500.0, 6924100.0, 17000000.0, 13491812.0, 19800000.0, 11000000.0, 12577637.0, 2975000.0, 3300000.0, 2300000.0, 3300000.0, 17100000.0, 18200000.0, 11100000.0, 35000000.0, 9975000.0, 6000000.0, 9734400.0, 6827200.0, 10140400.0, 2700000.0, 3531937.0, 2210000.0, 2950000.0, 3250000.0, 15500000.0, 7075000.0, 15800000.0, 6450000.0, 5400000.0, 6750000.0, 14900000.0, 5100000.0, 5100000.0, 5700000.0, 6550000.0, 5500000.0, 5550000.0, 3000000.0, 9050000.0, 9200000.0, 3125000.0, 2300000.0, 7600000.0, 6750000.0, 27500000.0, 17650000.0, 28000000.0, 20625000.0, 50550000.0, 13500000.0, 12250000.0, 3500000.0, 2800000.0, 2450000.0, 3400000.0, 2125000.0, 3800000.0, 5275000.0, 2582282.0, 5550187.0, 5651287.0, 2550000.0, 2240150.0, 3450000.0, 2318518.0, 7789612.0, 3910000.0, 9011512.0, 3050000.0, 6200000.0, 3600000.0, 2250000.0, 5950000.0, 2875000.0, 8800000.0, 8500000.0, 16000000.0, 13300000.0, 2650000.0, 2495000.0, 4800000.0, 4500000.0, 2245000.0, 2300000.0, 2650000.0, 2900000.0, 3150000.0, 2250000.0, 3759375.0, 3995000.0, 3225000.0, 6900000.0, 2837500.0, 4350000.0, 2650000.0, 4100000.0, 2900000.0, 3038000.0, 2700000.0, 4325000.0, 2775000.0, 5495000.0, 2330000.0, 15040000.0, 5700000.0, 2325000.0, 2200000.0, 2750000.0, 11275000.0, 3670000.0, 3150000.0, 2200000.0, 2250000.0, 3200000.0, 4300000.0, 3100000.0, 3635000.0, 5150000.0, 2237500.0, 2365000.0, 2410000.0, 2250000.0, 2420000.0, 2520000.0, 2500000.0, 2530000.0, 6550000.0, 8700000.0, 9000000.0, 3450000.0, 2650000.0, 3499000.0, 2250000.0, 2168888.0, 2125000.0, 2150000.0, 3450000.0, 6310000.0, 4750000.0, 2746000.0, 11800000.0, 4707774.0, 3040943.0, 2598632.0, 7500467.0, 5896717.0, 2167886.0, 2337164.0, 5993559.0, 2480000.0, 2690000.0, 3837500.0, 2725000.0, 4125000.0, 2525000.0, 5600000.0, 11604937.0, 10131587.0, 6160412.0, 4607581.0, 4836687.0, 6163003.0, 4811231.0, 6618625.0, 5000000.0, 6465887.0, 6669828.0, 5167618.0, 6669537.0, 5243987.0, 6710681.0, 5142162.0, 6873187.0, 5371268.0, 12597789.0, 10131587.0, 9673375.0, 20000000.0, 5050000.0, 6150000.0, 4825000.0, 6200000.0, 4875000.0, 4036500.0, 4050000.0, 6761137.0, 5269443.0, 6800000.0, 5150000.0, 7013418.0, 5250000.0, 5498550.0, 10182500.0, 98525704.0, 6500000.0, 5400000.0, 4150000.0, 5500000.0, 2700000.0, 2590000.0, 2700000.0, 2600000.0, 2220075.0, 2150000.0, 3330000.0, 2150000.0, 12000000.0, 3675000.0, 3625000.0, 2425000.0, 2975000.0, 3875000.0, 2500000.0, 3575000.0, 7365000.0, 7280724.0, 4700000.0, 3400000.0, 3200000.0, 7104000.0, 7335400.0, 7462681.0, 8811862.0, 19695500.0, 16296000.0, 3100000.0, 6858859.0, 15074100.0, 7182662.0, 7233575.0, 7742700.0, 7386312.0, 7742700.0, 6000000.0, 6924100.0, 3914000.0, 2388000.0, 2340000.0, 2200000.0, 2300000.0, 2310000.0, 3000000.0, 2415000.0, 3995000.0, 3600000.0, 3650000.0, 8400000.0, 2785000.0, 2925000.0, 3925000.0, 5100000.0, 8885000.0, 7500000.0, 7700000.0, 145000000.0, 2677400.0, 3900000.0, 13000000.0, 3500000.0, 9400000.0, 5100000.0, 5500000.0, 11850000.0, 12235640.0, 8000000.0, 5125000.0, 9475000.0, 2482893.0, 5510000.0, 3195000.0, 5950000.0, 11650000.0, 6990000.0, 10000000.0, 5100000.0, 10500000.0, 5275000.0, 7600000.0, 5700000.0, 4240000.0, 3045000.0, 6500000.0, 3788000.0, 6696625.0, 11700000.0, 172500000.0, 9001000.0, 41000000.0, 2875000.0, 3450000.0, 3425000.0, 3195000.0, 5800000.0, 5800000.0, 7500000.0, 3600000.0, 5150000.0, 3800000.0, 2199000.0, 4175000.0, 2450000.0, 61250000.0, 2320000.0, 2225000.0, 2300000.0, 4100000.0, 4000000.0, 2700000.0, 5746784.0, 4350000.0, 3300000.0, 7195000.0, 2618679.0, 3100000.0, 2550000.0, 2545000.0, 2365000.0, 2610036.0, 2150000.0, 2600000.0, 2260000.0, 2375000.0, 2605000.0, 4969940.0, 2850000.0, 2610000.0, 12147722.0, 42000000.0, 4250000.0, 13000000.0, 7340000.0, 7250000.0, 5000000.0, 6350000.0, 7500000.0, 5243000.0, 4000000.0, 2650000.0, 4550000.0, 4775000.0, 23500000.0, 86500000.0, 3050000.0, 2700000.0, 2522812.0, 3550000.0, 3595000.0, 4275000.0, 6600000.0, 2750000.0, 3035000.0, 3100000.0, 2675000.0, 4575000.0, 3400000.0, 2575000.0, 2565000.0, 2202500.0, 3253308.0, 4734862.0, 5391633.0, 3462050.0, 2800000.0, 2422300.0, 3040000.0, 3075000.0, 2900000.0, 3175000.0, 3600000.0, 2200000.0, 2200000.0, 2350000.0, 9000000.0, 5355000.0, 5500000.0, 4000000.0, 3900000.0, 4100000.0, 2850000.0, 13000000.0, 14100000.0, 9850000.0, 15150000.0, 14650000.0, 21150000.0, 12000000.0, 17500000.0, 18200000.0, 11600000.0, 23738428.0, 20441978.0, 23009004.0, 18000000.0, 16310588.0, 41000000.0, 36161535.0, 5075000.0, 4500000.0, 7900000.0, 7900000.0, 12350000.0, 4400000.0, 7100000.0, 12225000.0, 6550000.0, 6975000.0, 7500000.0, 16185560.0, 20800000.0, 7750000.0, 11925000.0, 32000000.0, 40100000.0, 5650000.0, 4052000.0, 4461000.0, 3000000.0, 4750000.0, 2500000.0, 2250000.0, 3000000.0, 3600000.0, 5900000.0, 4960000.0, 7000000.0, 4500000.0, 5200000.0, 11118000.0, 4500000.0, 4450000.0, 6500000.0, 4300000.0, 7375000.0, 2525000.0, 5085000.0, 26500000.0, 5173000.0, 4825000.0, 3340000.0, 16575000.0, 23901449.0, 2400000.0, 4100000.0, 51250000.0, 11015000.0, 2460000.0, 25000000.0, 2170000.0, 5887500.0, 34875820.0, 7573500.0, 7000000.0, 5000000.0, 2700000.0, 2400000.0, 3750000.0, 3600000.0, 11200000.0, 5050000.0, 10700000.0, 4040000.0, 10500000.0, 6070362.0, 3900000.0, 3075000.0, 2300000.0, 6250000.0, 9500000.0, 3100000.0, 2600000.0, 2940000.0, 2160000.0, 10470000.0, 5600000.0, 6450000.0, 6525000.0, 4500000.0, 2190000.0, 7700000.0, 7774000.0, 10150000.0, 5250000.0, 9440662.0, 9787375.0, 4400000.0, 6990000.0, 12795181.0, 5300000.0, 9200000.0, 3307000.0, 6600000.0, 6155000.0, 38391184.0, 10500000.0, 6300000.0, 5000000.0, 3500000.0, 2875000.0, 14000000.0, 8700000.0, 7325000.0, 7480000.0, 7480000.0, 3000000.0, 2190000.0, 3580000.0, 3660000.0, 6850000.0, 5450000.0, 8298000.0, 4650000.0, 2350000.0, 4450000.0, 14900000.0, 8450000.0, 5500000.0, 6475000.0, 110000000.0, 14000000.0, 20000000.0, 2190000.0, 13500000.0, 14000000.0, 2295000.0, 5160000.0, 3650000.0, 2738650.0, 2627233.0, 5259736.0, 3825263.0, 9292249.0, 7571300.0, 5750000.0, 5650000.0, 6810000.0, 5200000.0, 10000000.0, 78137536.0, 5500000.0, 28000000.0, 12383705.0, 5700000.0, 2680000.0, 3295000.0, 17500000.0, 7540000.0, 11000000.0, 12303058.0, 4752467.0, 4400000.0, 7000000.0, 2396480.0, 2690374.0, 2670472.0, 2260672.0, 6200000.0, 6250000.0, 3975000.0, 2950000.0, 12000000.0, 8800000.0, 3000000.0, 5700000.0, 9000000.0, 3700000.0, 4500000.0, 5000000.0, 3200000.0, 9950000.0, 3259250.0, 16000000.0, 5000000.0, 2645000.0, 3650000.0, 2597252.0, 4025000.0, 3416385.0, 5750000.0, 2600000.0, 2582000.0, 17500000.0, 3618000.0, 2400000.0, 2400000.0, 7000000.0, 17000000.0, 5000000.0, 11000000.0, 2350000.0, 11750000.0, 3500000.0, 5600000.0, 5000000.0, 19086600.0, 8524937.0, 5016310.0, 4900000.0, 4700000.0, 6240000.0, 5726700.0, 19100000.0, 7720000.0, 7450000.0, 4940000.0, 38100000.0, 26000000.0, 4500000.0, 6250000.0, 2750000.0, 4350000.0, 10000000.0, 5100000.0, 5700000.0, 2400000.0, 2942500.0, 2320000.0, 4950000.0, 15000000.0, 86375000.0, 24800000.0, 2784765.0, 33000000.0, 10000000.0, 2884700.0, 70936348.0, 14183750.0, 2300000.0, 2649900.0, 17057053.0, 11235534.0, 5000000.0, 4630000.0, 4305000.0, 2900000.0, 3000000.0, 4255000.0, 3080000.0, 2500000.0, 7000000.0, 7200000.0, 2200000.0, 2300000.0, 3340000.0, 5625000.0, 8150000.0, 3275000.0, 3240000.0, 14500000.0, 4680000.0, 2375000.0, 3850000.0, 2300000.0, 2950000.0, 3000000.0, 2500000.0, 2200000.0, 2150000.0, 3350000.0, 2139900.0, 2150000.0, 2150000.0, 3410000.0, 5300000.0, 6100000.0, 3400000.0, 2600000.0, 3385000.0, 4600000.0, 2600000.0, 15000000.0, 4000000.0, 2500000.0, 4000000.0, 2450000.0, 2510000.0, 2315000.0, 2300000.0, 2150000.0, 2400000.0, 2499000.0, 2350000.0, 2400000.0, 2175000.0, 2395000.0, 2150000.0, 2550000.0, 2495000.0, 3300000.0, 2525000.0, 2190000.0, 2520000.0, 3900000.0, 2135000.0, 2350000.0, 2700000.0, 2470000.0, 2500000.0, 2219000.0, 2275000.0, 2300000.0, 2186250.0, 2145000.0, 2300000.0, 2200000.0, 2800000.0, 2550000.0, 4830000.0, 4900000.0, 2900000.0, 2142858.0, 4457142.0, 3811925.0, 3385000.0, 4200000.0, 2300000.0, 2300000.0, 2750000.0, 10200000.0, 2185000.0, 5500000.0, 5100000.0, 7500000.0, 7465000.0, 3500000.0, 2120000.0, 3400000.0, 3500000.0, 2500000.0, 15000000.0, 2800000.0, 7900000.0, 3400000.0, 3160000.0, 4740000.0, 2675000.0, 2900000.0, 2825000.0, 3781557.0, 8750000.0, 14200000.0, 2675000.0, 2500000.0, 2720000.0, 3250000.0, 5800000.0, 11375000.0, 6500000.0, 6000000.0, 12000000.0, 4500000.0, 9300000.0, 4300000.0, 2500000.0, 9936761.0, 52350000.0, 3000000.0, 3950000.0, 3955000.0, 2300000.0, 2600000.0, 2200000.0, 2138325.0, 3100000.0, 3500000.0, 10800000.0, 6700000.0, 2800000.0, 5850000.0, 10700000.0, 2600000.0, 3800000.0, 4400000.0, 4600000.0, 4692431.0, 4650000.0, 5091250.0, 2250000.0, 3750000.0, 2600000.0, 4030000.0, 2850000.0, 4000000.0, 2645000.0, 5000000.0, 4950000.0, 5375000.0, 2500000.0, 3600000.0, 2300000.0, 4100000.0, 4450000.0, 2300000.0, 2750000.0, 3025000.0, 2990000.0, 3825000.0, 13600000.0, 3750000.0, 5850000.0, 2150000.0, 3200000.0, 2695000.0, 2185000.0, 3140000.0, 3300000.0, 3325000.0, 2300000.0, 2215075.0, 6000000.0, 3295000.0, 5850000.0, 2550000.0, 3850000.0, 2487500.0, 2325000.0, 2520168.0, 3156575.0, 2336883.0, 2438708.0, 2316518.0, 2438708.0, 2647459.0, 2123051.0, 3825000.0, 2336883.0, 2158690.0, 3563875.0, 4938512.0, 2825000.0, 10300000.0, 2900000.0, 8750000.0, 2200000.0, 2673000.0, 5950000.0, 4000000.0, 3300000.0, 4800000.0, 10000000.0, 30500000.0, 2800000.0, 13000000.0, 36000000.0, 3500000.0, 3515000.0, 2550000.0, 3000000.0, 2537000.0, 2152250.0, 5000000.0, 2500000.0, 2900000.0, 2200000.0, 4100000.0, 4100000.0, 2375000.0, 3300000.0, 2350000.0, 2700500.0, 2100500.0, 2200000.0, 2300000.0, 2600000.0, 2705000.0, 6739666.0, 7900000.0, 9000000.0, 7500000.0, 2320000.0, 2530000.0, 3500000.0, 6925000.0, 2450000.0, 4650000.0, 15000000.0, 8000000.0, 2280000.0, 2325000.0, 4000000.0, 5900000.0, 8100000.0, 2990000.0, 5000000.0, 6500000.0, 3400000.0, 7625000.0, 3800000.0, 4000000.0, 8880000.0, 2300000.0, 2800000.0, 11375174.0, 2675000.0, 4900000.0, 3500000.0, 12900000.0, 7750000.0, 2350000.0, 4500000.0, 5499000.0, 8350000.0, 5650000.0, 5135000.0, 5200000.0, 7150000.0, 3050000.0, 7630000.0, 6600000.0, 9400000.0, 4950000.0, 5500000.0, 5500000.0, 7000000.0, 5400000.0, 6600000.0, 4600000.0, 10300000.0, 7100000.0, 28625000.0, 2599948.0, 2701773.0, 2752686.0, 2905423.0, 4127323.0, 3770936.0, 2678350.0, 3093799.0, 3770936.0, 3057397.0, 3669111.0, 2650861.0, 4483711.0, 3516373.0, 3872761.0, 3898217.0, 7426453.0, 2549036.0, 3408439.0, 2116279.0, 4076411.0, 3464320.0, 3090872.0, 4025498.0, 2418191.0, 3974586.0, 3740388.0, 4229148.0, 3541829.0, 5018292.0, 3941493.0, 4469455.0, 4483507.0, 2981792.0, 3923673.0, 5043748.0, 7691198.0, 2447211.0, 3567286.0, 2645769.0, 3128420.0, 2803598.0, 6978423.0, 3465461.0, 4903746.0, 2879967.0, 4432798.0, 3287267.0, 4539714.0, 2798507.0, 2111188.0, 3374938.0, 3363636.0, 4325882.0, 2849419.0, 2370842.0, 4076411.0, 3312112.0, 3109073.0, 2602494.0, 3598989.0, 10669579.0, 5603786.0, 5400136.0, 7046841.0, 6472607.0, 6051816.0, 6838414.0, 2370842.0, 4432798.0, 3047978.0, 2447211.0, 2854511.0, 3109073.0, 3720023.0, 10248024.0, 5196486.0, 5909261.0, 7789612.0, 6112911.0, 2450000.0, 2549250.0, 4315343.0, 3500000.0, 3105662.0, 3207487.0, 3767525.0, 3920262.0, 5660000.0, 2500000.0, 3550000.0, 3700000.0, 3700000.0, 3542500.0, 3700000.0, 4320000.0, 87500000.0, 11100000.0, 2599340.0, 52000000.0, 4325000.0, 5500000.0, 2800000.0, 5250000.0, 5600000.0, 3000000.0, 15500000.0, 3280000.0, 4600000.0, 2450000.0, 3000000.0, 2350000.0, 2300000.0, 3075000.0, 3200000.0, 2300000.0, 4300000.0, 2525000.0, 11700000.0, 2500000.0, 2450000.0, 2700000.0, 3600000.0, 5075000.0, 7200000.0, 6000000.0, 10250000.0, 3700000.0, 2500000.0, 2375000.0, 2700000.0, 2460000.0, 2700000.0, 4325000.0, 3075000.0, 2800000.0, 2700000.0, 3200000.0, 3287500.0, 2250000.0, 3400000.0, 2950000.0, 4000000.0, 3600000.0, 3300000.0, 2500000.0, 4400000.0, 3045000.0, 2350000.0, 3050000.0, 3000000.0, 3050000.0, 2535000.0, 2375000.0, 2850000.0, 2400000.0, 3250000.0, 3250000.0, 2631800.0, 3125000.0, 2545625.0, 2494712.0, 2112868.0, 3229200.0, 2138325.0, 2750000.0, 2283750.0, 2825000.0, 3150000.0, 3450000.0, 3900000.0, 6000000.0, 4550000.0, 4450000.0, 3860000.0, 2700000.0, 3030000.0, 3050000.0, 2250000.0, 2250000.0, 3750000.0, 3300000.0, 2550000.0, 2980000.0, 3500000.0, 2750000.0, 3100000.0, 2749275.0, 4000000.0, 3175000.0, 2875000.0, 2695000.0, 3850000.0, 2550000.0, 2400000.0, 2200000.0, 3650000.0, 2240000.0, 5398255.0, 3089000.0, 2925000.0, 2785000.0, 2575000.0, 2800000.0, 2176157.0, 2575000.0, 3500000.0, 2410000.0, 2752000.0, 3125000.0, 2600000.0, 3108000.0, 2950000.0, 2500000.0, 2400000.0, 2850000.0, 2450000.0, 2600000.0, 13300000.0, 23087103.0, 2500000.0, 2850000.0, 3200000.0, 24200000.0, 35250000.0, 12412896.0, 22000000.0, 2209093.0, 4800000.0, 5800000.0, 3200000.0, 2803994.0, 5100000.0, 7500000.0, 6400000.0, 5581000.0, 2500000.0, 3950000.0, 4100000.0, 3350000.0, 6750000.0, 3299000.0, 3900000.0, 3100000.0, 3900000.0, 3315000.0, 3500000.0, 4215000.0, 2625000.0, 2700000.0, 4975000.0, 3875000.0, 2490000.0, 2900000.0, 2500000.0, 2650000.0, 3250000.0, 3200000.0, 3200000.0, 3600000.0, 3100000.0, 13500000.0, 3762234.0, 13175224.0, 9000000.0, 3100000.0, 2262500.0, 3000000.0, 2650000.0, 2674000.0, 2200000.0, 2270000.0, 2200000.0, 2294000.0, 2500000.0, 2200000.0, 2267377.0, 2870000.0, 3100000.0, 3475528.0, 3350000.0, 2200000.0, 5200000.0, 10550000.0, 3500000.0, 2200000.0, 4200000.0, 8900000.0, 3050000.0, 4100000.0, 6000000.0, 2900000.0, 3100000.0, 2260000.0, 5000000.0, 3000000.0, 2400000.0, 5000000.0, 2815589.0, 4726360.0, 52000000.0, 3700000.0, 3375000.0, 9500000.0, 6075000.0, 2750000.0, 5500000.0, 3100000.0, 2200000.0, 2795000.0, 4618441.0, 2571113.0, 3878160.0, 5677506.0, 4756335.0, 4065241.0, 7249026.0, 5765428.0, 5956721.0, 8148500.0, 5042103.0, 4400000.0, 3590000.0, 4575000.0, 2950000.0, 2145000.0, 15273750.0, 4260000.0, 2766000.0, 2750000.0, 2175000.0, 2726873.0, 2523223.0, 2324664.0, 2268000.0, 3592386.0, 2319573.0, 2828698.0, 2645413.0, 3503000.0, 2248296.0, 2599592.0, 2265606.0, 3178976.0, 2227931.0, 2238113.0, 3172000.0, 2428000.0, 2418342.0, 2263569.0, 2326701.0, 3281819.0, 2190255.0, 2304299.0, 2207379.0, 3288947.0, 3303000.0, 2772694.0, 2100649.0, 2472311.0, 2375577.0, 2167000.0, 2158000.0, 2314482.0, 2574136.0, 6083005.0, 5908904.0, 2700000.0, 2250000.0, 2650000.0, 2510000.0, 2300000.0, 2425000.0, 5976252.0, 65000000.0, 3995000.0, 154250000.0, 2810370.0, 34680000.0, 2647450.0, 2123051.0, 2163781.0, 2240150.0, 2153598.0, 2326701.0, 2184146.0, 2123051.0, 2357248.0, 2221585.0, 2189237.0, 2392887.0, 2278789.0, 2189237.0, 2545625.0, 2331792.0, 2301245.0, 2647450.0, 2494712.0, 2382705.0, 2229967.0, 2621993.0, 2469256.0, 2347066.0, 3792981.0, 3665700.0, 2693271.0, 3494458.0, 3767525.0, 3563875.0, 3156575.0, 3207487.0, 4327562.0, 3665700.0, 3258400.0, 4327562.0, 3920262.0, 3767525.0, 3360225.0, 3966083.0, 4123912.0, 4022087.0, 3742068.0, 4075000.0, 2200000.0, 2400000.0, 76500000.0, 10000000.0, 11100000.0, 25000000.0, 52962546.0, 88000000.0, 12500000.0, 138106368.0, 50584955.0, 98463962.0, 121313223.0, 102873750.0, 54000000.0, 135000000.0, 3150000.0, 2340000.0, 2250000.0, 13000000.0, 8000000.0, 3100000.0, 3100000.0, 2500000.0, 3700000.0, 3500000.0, 5350000.0, 5096568.0, 7750184.0, 3450000.0, 2695000.0, 2350000.0, 2500000.0, 2750000.0, 2150000.0, 2520000.0, 4250000.0, 2115000.0, 2700000.0, 2500000.0, 2499000.0, 2386150.0, 2325000.0, 2200000.0, 2400000.0, 3600000.0, 9450000.0, 9450000.0, 2200000.0, 5060000.0, 2600000.0, 2410000.0, 2700000.0, 6000000.0, 16250000.0, 10500000.0, 3925000.0, 9000000.0, 11000000.0, 11171520.0, 2500000.0, 3705000.0, 3565000.0, 2685000.0, 3966875.0, 5000000.0, 11750000.0, 31000000.0, 11500000.0, 2900000.0, 2950000.0, 3250000.0, 6065280.0, 6065280.0, 2200000.0, 3650000.0, 12125000.0, 2627500.0, 2115000.0, 2350000.0, 2800000.0, 20025000.0, 10460000.0, 23806625.0, 21250000.0, 14250000.0, 2635000.0, 5497920.0, 25000000.0, 2125000.0, 2615000.0, 2700000.0, 4500000.0, 2237500.0, 2500000.0, 4150000.0, 5237500.0, 3850000.0, 2500000.0, 2500000.0, 4541500.0, 2250000.0, 2650000.0, 2950000.0, 4500000.0, 2695000.0, 2500000.0, 4700000.0, 5000000.0, 2500000.0, 3500000.0, 2615270.0, 3825000.0, 2550000.0, 3300000.0, 6145934.0, 2623000.0, 2500000.0, 68000000.0, 7400000.0, 3506000.0, 3525000.0, 3595000.0, 2535000.0, 2200000.0, 3250000.0, 2615000.0, 2150000.0, 2150000.0, 3800000.0, 2400000.0, 3000000.0, 3700000.0, 2560000.0, 4000000.0, 2818461.0, 2253332.0, 2803187.0, 2879006.0, 3108662.0, 2475000.0, 2156598.0, 2370431.0, 2640000.0, 2192237.0, 2411161.0, 2375522.0, 2222785.0, 2404717.0, 2273697.0, 2360248.0, 3276673.0, 3505780.0, 2971198.0, 3276673.0, 3429411.0, 3200000.0, 9500000.0, 9500000.0, 3200000.0, 2300000.0, 2500000.0, 2350000.0, 6700000.0, 4900000.0, 14000000.0, 3000000.0, 6090750.0, 7000000.0, 2200000.0, 2550000.0, 2350000.0, 2875000.0, 2575000.0, 2800000.0, 2400000.0, 2200000.0, 2700000.0, 2345000.0, 2250000.0, 2226000.0, 2275000.0, 2175000.0, 2175000.0, 2450000.0, 2400000.0, 2125000.0, 2511406.0, 2795000.0, 2522812.0, 2550000.0, 2250000.0, 2400000.0, 2571081.0, 2647450.0, 3450000.0, 2300000.0, 2600000.0, 3125000.0, 2800000.0, 2200000.0, 2200000.0, 2200000.0, 6600000.0, 2900000.0, 2600000.0, 3100000.0, 2750000.0, 2450000.0, 3500000.0, 3850000.0, 4000000.0, 3740000.0, 3700000.0, 4000000.0, 3300000.0, 5900000.0, 3000000.0, 5638900.0, 6000000.0, 16000000.0, 3460000.0, 6000000.0, 3284000.0, 4725000.0, 2362500.0, 18000000.0, 2425000.0, 3775000.0, 2500000.0, 10564030.0, 6125000.0, 5937880.0, 2602039.0, 2575417.0, 33000000.0, 20250000.0, 4450000.0, 5625000.0, 5950000.0, 2650000.0, 5300000.0, 7600000.0, 2375000.0, 3600000.0, 2400000.0, 2325000.0, 12100000.0, 2267500.0, 2500000.0, 2450000.0, 2200000.0, 2600000.0, 2200000.0, 2300000.0, 2250500.0, 2250000.0, 6750000.0, 3600000.0, 3090000.0, 3900000.0, 3200000.0, 3575000.0, 3200000.0, 6800000.0, 2825000.0, 2250000.0, 4800000.0, 5200000.0, 8200000.0, 8200000.0, 4350000.0, 2750000.0, 2200000.0, 2138325.0, 2195000.0, 2215000.0, 2185000.0, 2112868.0, 2195000.0, 2215029.0, 2215029.0, 2235058.0, 2235058.0, 2175000.0, 2150000.0, 8500000.0, 3300000.0, 2450000.0, 3800000.0, 5400000.0, 4200000.0, 2295000.0, 2168000.0, 2600000.0, 2400000.0, 3100000.0, 3000000.0, 3960000.0, 3500000.0, 3300000.0, 3800000.0, 3550000.0, 3000000.0, 2700000.0, 4200000.0, 3300000.0, 3450000.0, 3450000.0, 2250000.0, 2400000.0, 2950000.0, 2500000.0, 2400000.0, 2970000.0, 2717000.0, 3225000.0, 8500000.0, 22750000.0, 4100000.0, 4500000.0, 3200000.0, 2700000.0, 10000000.0, 4400000.0, 2300000.0, 2200000.0, 2750000.0, 5200000.0, 4330000.0, 3250000.0, 3716612.0, 3600000.0, 5000000.0, 4500000.0, 2250000.0, 2549000.0, 2400000.0, 3752000.0, 3500000.0, 2850000.0, 2825000.0, 3000000.0, 2500000.0, 4170000.0, 3760412.0, 4000000.0, 2638000.0, 14500000.0, 7700000.0, 4795000.0, 3325000.0, 7500000.0, 2750000.0, 3450000.0, 4025000.0, 12600000.0, 4900000.0, 5975000.0, 5400000.0, 6850000.0, 4200000.0, 6129000.0, 3600000.0, 3550000.0, 4495000.0, 3300000.0, 4600000.0, 3400000.0, 2760000.0, 3125000.0, 2300000.0, 4030000.0, 3700000.0, 3525000.0, 2615000.0, 2475000.0, 2925000.0, 2479000.0, 3495000.0, 4875000.0, 3200000.0, 3150000.0, 2937500.0, 2150000.0, 3495000.0, 2525000.0, 2225000.0, 2500000.0, 3300000.0, 3050000.0, 2500000.0, 2550000.0, 4300000.0, 3300000.0, 3350000.0, 3995000.0, 2300000.0, 4000000.0, 3750000.0, 3650000.0, 3650000.0, 3250000.0, 3250000.0, 3275000.0, 3400000.0, 2926000.0, 3550000.0, 2670000.0, 2905000.0, 2600000.0, 4100000.0, 2195000.0, 2400000.0, 2200000.0, 2700000.0, 2570000.0, 4400000.0, 3594500.0, 2550000.0, 2700000.0, 3252000.0, 2650000.0, 16000000.0, 2215000.0, 3300000.0, 2950000.0, 3499000.0, 3300000.0, 2650000.0, 2250000.0, 3080000.0, 4250000.0, 6492500.0, 3782000.0, 2200000.0, 5400000.0, 3750000.0, 3400000.0, 7250000.0, 22000000.0, 2410000.0, 2350000.0, 2247000.0, 2138325.0, 2495000.0, 3232943.0, 2600000.0, 2416854.0, 3027375.0, 2200000.0, 2195000.0, 2200000.0, 2270000.0, 3534000.0, 3577000.0, 3600000.0, 4100000.0, 4200000.0, 2600000.0, 2290793.0, 2438708.0, 2175000.0, 2336883.0, 2341975.0, 2494712.0, 3250000.0, 2540533.0, 2112868.0, 3375000.0, 3400000.0, 3725000.0, 4500000.0, 2320000.0, 2821500.0, 3700000.0, 45680625.0, 3600000.0, 5757500.0, 3400000.0, 84000000.0, 2405000.0, 2160000.0, 3900000.0, 2550000.0, 3200000.0, 2650000.0, 2350000.0, 2500000.0, 2289000.0, 2510000.0, 2400000.0, 2200000.0, 2900000.0, 2300000.0, 2295000.0, 3258400.0, 3250000.0, 2995000.0, 2200000.0, 3820000.0, 2525000.0, 2400000.0, 2334000.0, 2125000.0, 3350000.0, 3650000.0, 2700000.0, 2925000.0, 2150000.0, 3625000.0, 2165000.0, 3300000.0, 2749000.0, 2400000.0, 2299000.0, 2900000.0, 2576000.0, 2465000.0, 2494712.0, 2300000.0, 2120000.0, 2875000.0, 3000000.0, 2300000.0, 2440000.0, 3990000.0, 3965000.0, 3790705.0, 6300000.0, 30000000.0, 2204511.0, 2321610.0, 2163150.0, 2168100.0, 3550000.0, 3217500.0, 2357000.0, 2418343.0, 3000000.0, 2725000.0, 2698362.0, 2800187.0, 2800187.0, 2265000.0, 2250000.0, 2300000.0, 2360000.0, 3250000.0, 2575625.0, 7250000.0, 5000000.0, 13600000.0, 42400000.0, 3500000.0, 2267500.0, 3350000.0, 13000000.0, 37000000.0, 46900000.0, 5300000.0, 12000000.0, 7000000.0, 12200000.0, 2600000.0, 2500000.0, 27813450.0, 9250000.0, 4550000.0, 2300000.0, 2755000.0, 3000000.0, 2400000.0, 3100000.0, 2500000.0, 5800000.0, 3400000.0, 36279474.0, 2775000.0, 3338000.0, 6850000.0, 2288000.0, 45839605.0, 11030921.0, 2175000.0, 2200000.0, 2370000.0, 2300000.0, 2107777.0, 2600000.0, 5500000.0, 3300000.0, 3800000.0, 5000000.0, 9900000.0, 6180000.0, 3300000.0, 2400000.0, 3500000.0, 3704000.0, 11150000.0, 7800000.0, 2559999.0, 2900000.0, 2350000.0, 2125000.0, 2745000.0, 3100000.0, 2525000.0, 2800000.0, 2174000.0, 2300000.0, 3800000.0, 2399888.0, 2280000.0, 2250000.0, 2175000.0, 3200000.0, 2650000.0, 4600000.0, 4750000.0, 11400000.0, 2350000.0, 3694340.0, 2600000.0, 5863222.0, 5350000.0, 26889525.0, 9300000.0, 3300000.0, 4230000.0, 2800000.0, 10500000.0, 5500000.0, 23250000.0, 2950000.0, 30000000.0, 12550000.0, 12000000.0, 14500000.0, 4150000.0, 2500000.0, 3000000.0, 2550000.0, 3600000.0, 3850000.0, 5650000.0, 2900000.0, 5600000.0, 4450000.0, 3500000.0, 7000000.0, 68875000.0, 45352000.0, 2183500.0, 2150000.0, 2715000.0, 2335000.0, 2149000.0, 2475000.0, 3800000.0, 2760000.0, 2985000.0, 2300000.0, 2376000.0, 2150000.0, 2200000.0, 2800000.0, 2525000.0, 2446900.0, 2175000.0, 5686980.0, 4900000.0, 2545625.0, 2698362.0, 30000000.0, 3600000.0, 8500000.0, 6165000.0, 20248000.0, 37410000.0, 35500000.0, 42500000.0, 8392687.0, 3100000.0, 2950000.0, 2269450.0, 2269450.0, 2695000.0, 3075000.0, 2425000.0, 3200000.0, 3150000.0, 2520168.0, 4200000.0, 3600000.0, 2650000.0, 2750000.0, 4000000.0, 2215000.0, 23000000.0, 55675000.0, 16900000.0, 22850000.0, 5100000.0, 2649000.0, 3701338.0, 3762433.0, 3785000.0, 3890000.0, 3895000.0, 2189237.0, 2555807.0, 2352157.0, 3655000.0, 2435000.0, 2560898.0, 2718727.0, 2565990.0, 2718727.0, 2718727.0, 2565990.0, 2718727.0, 2565990.0, 2545625.0, 6608442.0, 3000000.0, 2300000.0, 2520000.0, 2500000.0, 4000000.0, 29950000.0, 6500000.0, 5400000.0, 2433600.0, 2245000.0, 2750000.0, 2250000.0, 2495000.0, 2138500.0, 2200000.0, 2295000.0, 2260000.0, 4500000.0, 6000000.0, 2200000.0, 2225000.0, 3425000.0, 2500000.0, 2400000.0, 3100000.0, 2225000.0, 2420000.0, 2800000.0, 3400000.0, 2600000.0, 3100000.0, 4800000.0, 3000000.0, 21500000.0, 18250000.0, 18250000.0, 3750000.0, 2600000.0, 8875000.0, 9500000.0, 2592000.0, 7250000.0, 20500000.0, 5500000.0, 5500000.0, 2500000.0, 12225000.0, 5532703.0, 23000000.0, 11375000.0, 4100000.0, 6183000.0, 2700000.0, 2200000.0, 2300000.0, 8500000.0, 12500000.0, 12500000.0, 7250000.0, 4900000.0, 7250000.0, 13550000.0, 2300000.0, 2520000.0, 2700000.0, 5000000.0, 8500000.0, 4000000.0, 2750000.0, 13000000.0, 3000000.0, 6000000.0, 2139000.0, 2750000.0, 2450000.0, 2225000.0, 5100000.0, 9285447.0, 4750000.0, 2400000.0, 2300000.0, 2450000.0, 3780000.0, 24400000.0, 3215000.0, 2550000.0, 7500000.0, 2138325.0, 2900000.0, 2300000.0, 5000000.0, 4100000.0, 2700000.0, 2400000.0, 3000000.0, 2607500.0, 27000000.0, 3296800.0, 5850000.0, 16000000.0, 2318062.0, 2153222.0, 2820000.0, 2260000.0, 4000000.0, 2650000.0, 2520000.0, 10200000.0, 2840000.0, 5004641.0, 33663600.0, 4215000.0, 16000000.0, 2550000.0, 3250000.0, 11546512.0, 2325000.0, 2700000.0, 3600000.0, 9350000.0, 9862645.0, 20650000.0, 23350000.0, 125000000.0, 2400000.0, 11800000.0, 2375000.0, 3800000.0, 27000000.0, 29350000.0, 3100000.0, 3000000.0, 3000000.0, 2700000.0, 2500000.0, 3700000.0, 6000000.0, 2350000.0, 14255280.0, 4500000.0, 3300000.0, 12268169.0, 2627137.0, 27650000.0, 14910997.0, 29870000.0, 18522529.0, 4000000.0, 26000000.0, 4000000.0, 2900153.0, 2482902.0, 3850000.0, 2730000.0, 8680000.0, 2700000.0, 3400000.0, 3350000.0, 2500000.0, 2530000.0, 3950000.0, 2600000.0, 11200000.0, 9320000.0, 2300000.0, 2500000.0, 12500000.0, 7595518.0, 13250000.0, 3400000.0, 5100000.0, 2900000.0, 21000000.0, 3000000.0, 9272250.0, 17000000.0, 4500000.0, 6000000.0, 2500000.0, 11750000.0, 2640000.0, 3296800.0, 3908226.0, 2215037.0, 2365784.0, 2527987.0, 2434275.0, 2901380.0, 2579830.0, 3353588.0, 2262973.0, 2830096.0, 3672925.0, 3476168.0, 2498356.0, 3970583.0, 4444705.0, 4110697.0, 2729156.0, 2693710.0, 2484035.0, 2208536.0, 2323213.0, 2320123.0, 7136197.0, 2335576.0, 2727971.0, 2505826.0, 2759867.0, 2346909.0, 2469509.0, 2549406.0, 2532011.0, 2732361.0, 2769940.0, 2730938.0, 2323213.0, 2320123.0, 2335576.0, 2199583.0, 2210916.0, 3975000.0, 2600000.0, 5330000.0, 3914950.0, 2375000.0, 2300000.0, 3350000.0, 2370000.0, 2655000.0, 2492000.0, 2831000.0, 2165000.0, 2375000.0, 2399999.0, 2500000.0, 4500000.0, 3300000.0, 8300000.0, 2500000.0, 2475000.0, 3750000.0, 2350000.0, 15275000.0, 5300000.0, 3800000.0, 78000000.0, 20900000.0, 9150000.0, 19652905.0, 18000000.0, 3600000.0, 31500000.0, 85091472.0, 3200000.0, 2800000.0, 4000000.0, 5700000.0, 3000000.0, 11000000.0, 9000000.0, 3400000.0, 12250000.0, 9229853.0, 3100000.0, 3900000.0, 5500000.0, 7300000.0, 4600000.0, 2500000.0, 3500000.0, 2200000.0, 2140000.0, 3475000.0, 4240000.0, 3500000.0, 4310000.0, 3000000.0, 2128500.0, 2275000.0, 4000000.0, 2900000.0, 5129161.0, 5620838.0, 6800000.0, 10000000.0, 13993156.0, 2900000.0, 2400000.0, 2224000.0, 2372522.0, 23000000.0, 16500000.0, 24000000.0, 2900000.0, 5000000.0, 257500000.0, 8900000.0, 8000000.0, 3750000.0, 25000000.0, 54000000.0, 5480000.0, 2686500.0, 13950000.0, 65831493.0, 4100000.0, 4175000.0, 23000000.0, 6500000.0, 2200000.0, 3504422.0, 3750000.0, 2969000.0, 54990000.0, 27050000.0, 5000000.0, 2775000.0, 3200000.0, 2825000.0, 5350000.0, 4400000.0, 6000000.0, 2200000.0, 7100000.0, 3500000.0, 9900000.0, 10000000.0, 19000000.0, 15075000.0, 2607500.0, 28088888.0, 11411111.0, 2366714.0, 139874900.0, 4733286.0, 3700000.0, 3090000.0, 18100000.0, 2750000.0, 2150000.0, 2232500.0, 3700000.0, 2613000.0, 2530000.0, 3000000.0, 3400000.0, 58070000.0, 3800000.0, 5150000.0, 2500000.0, 2850000.0, 4050000.0, 4100000.0, 4100000.0, 9000000.0, 3100000.0, 2950000.0, 11546512.0, 8980000.0, 4388000.0, 13470930.0, 14996374.0, 14946999.0, 3230000.0, 4100000.0, 3500000.0, 2125000.0, 3595164.0, 2230227.0, 5200000.0, 2804340.0, 12850000.0, 14500000.0, 13230900.0, 12921574.0, 2800000.0, 5500000.0, 2700000.0, 2925000.0, 3541753.0, 2185531.0, 2400000.0, 9275000.0, 3700000.0, 3400000.0, 6150000.0, 2300000.0, 8050000.0, 3700000.0, 2800000.0, 8500000.0, 2348842.0, 4223025.0, 4346648.0, 2725000.0, 3200000.0, 3300000.0, 2800000.0, 2550000.0, 3700000.0, 2740000.0, 3100000.0, 11900000.0, 11700000.0, 9500000.0, 8250000.0, 2575625.0, 2400000.0, 2350000.0, 2900000.0, 11693337.0]\n"
     ]
    }
   ],
   "source": [
    "low_out = []\n",
    "high_out = []\n",
    "\n",
    "for i in df_nyc['SALE PRICE']:\n",
    "    if (i < min_IQR):\n",
    "        low_out.append(i)\n",
    "    if (i > max_IQR):\n",
    "        high_out.append(i)\n",
    "\n",
    "print('Low outlier : ', low_out)\n",
    "print('High outlier : ', high_out)"
   ]
  },
  {
   "cell_type": "code",
   "execution_count": 26,
   "id": "beba3066",
   "metadata": {},
   "outputs": [
    {
     "name": "stdout",
     "output_type": "stream",
     "text": [
      "3900000.0\n"
     ]
    }
   ],
   "source": [
    "median_ = np.median(high_out)\n",
    "print(median_)"
   ]
  },
  {
   "cell_type": "markdown",
   "id": "9810524f",
   "metadata": {},
   "source": [
    "**Analisis:** Terdapat nilai-nilai yang melebihi ambang batas atas (Q3 + 1.5 * IQR), maka dapat dikategorikan sebagai outliers"
   ]
  },
  {
   "cell_type": "code",
   "execution_count": 27,
   "id": "416d31fe",
   "metadata": {},
   "outputs": [],
   "source": [
    "# mengubah data dalam list menjadi bentuk array untuk memvisualisasikan keberadaan outliers\n",
    "data_high_outlier = np.array(high_out)"
   ]
  },
  {
   "cell_type": "code",
   "execution_count": 28,
   "id": "51932d9e",
   "metadata": {},
   "outputs": [
    {
     "data": {
      "image/png": "[encoded data removed]",
      "text/plain": [
       "<Figure size 432x288 with 1 Axes>"
      ]
     },
     "metadata": {
      "needs_background": "light"
     },
     "output_type": "display_data"
    }
   ],
   "source": [
    "plt.boxplot(data_high_outlier, vert=False) \n",
    "# vert merepresentasikan vertikal\n",
    "\n",
    "plt.title('Horisontal Box Plot')\n",
    "plt.xlabel('Sumbu x')\n",
    "plt.ylabel('Sumbu Y')\n",
    "\n",
    "plt.show()"
   ]
  },
  {
   "cell_type": "markdown",
   "id": "c6845662",
   "metadata": {},
   "source": [
    "**Analisis:** Terdapat nilai-nilai yang melebihi ambang batas atas (Q3 + 1.5 * IQR), maka dapat dikategorikan sebagai outliers"
   ]
  },
  {
   "cell_type": "code",
   "execution_count": 29,
   "id": "e6a063c5",
   "metadata": {},
   "outputs": [],
   "source": [
    "# melakukan seleksi baris untuk mengatasi data pencilan\n",
    "df_nyc = df_nyc[(df_nyc['SALE PRICE'] > 10000) & (df_nyc['SALE PRICE'] < 875875)]"
   ]
  },
  {
   "cell_type": "markdown",
   "id": "ed203cfa",
   "metadata": {},
   "source": [
    "### Deteksi outlier pada fitur 'LAND SQUARE FEET'"
   ]
  },
  {
   "cell_type": "code",
   "execution_count": 30,
   "id": "b50258c7",
   "metadata": {},
   "outputs": [
    {
     "name": "stdout",
     "output_type": "stream",
     "text": [
      "Low outlier :  []\n",
      "High outlier :  [4228300.0]\n"
     ]
    }
   ],
   "source": [
    "low_out_land = []\n",
    "high_out_land = []\n",
    "\n",
    "for i in df_nyc['LAND SQUARE FEET']:\n",
    "    if (i < min_IQR):\n",
    "        low_out_land.append(i)\n",
    "    if (i > max_IQR):\n",
    "        high_out_land.append(i)\n",
    "\n",
    "print('Low outlier : ', low_out_land)\n",
    "print('High outlier : ', high_out_land)"
   ]
  },
  {
   "cell_type": "markdown",
   "id": "f2956fef",
   "metadata": {},
   "source": [
    "**Analisis:**  Terdapat nilai yang melebihi ambang batas atas (Q3 + 1.5 * IQR), maka dapat dikategorikan sebagai outliers"
   ]
  },
  {
   "cell_type": "code",
   "execution_count": 31,
   "id": "27f2df34",
   "metadata": {},
   "outputs": [],
   "source": [
    "# melakukan seleksi baris untuk tidak menyertakan nilai di atas ambang atas (Q3 + 1.5 (IQR))\n",
    "df_nyc = df_nyc[df_nyc['LAND SQUARE FEET'] <  4228300]"
   ]
  },
  {
   "cell_type": "markdown",
   "id": "e92fa725",
   "metadata": {},
   "source": [
    "### Deteksi outlier pada fitur 'GROSS SQUARE FEET '"
   ]
  },
  {
   "cell_type": "code",
   "execution_count": 32,
   "id": "36f055ec",
   "metadata": {},
   "outputs": [
    {
     "name": "stdout",
     "output_type": "stream",
     "text": [
      "Low outlier :  []\n",
      "High outlier :  []\n"
     ]
    }
   ],
   "source": [
    "low_out_gross = []\n",
    "high_out_gross = []\n",
    "\n",
    "for i in df_nyc['GROSS SQUARE FEET']:\n",
    "    if (i < min_IQR):\n",
    "        low_out_gross.append(i)\n",
    "    if (i > max_IQR):\n",
    "        high_out_gross.append(i)\n",
    "\n",
    "print('Low outlier : ', low_out_gross)\n",
    "print('High outlier : ', high_out_gross)"
   ]
  },
  {
   "cell_type": "markdown",
   "id": "9e670fca",
   "metadata": {},
   "source": [
    "**Analisis:** Tidak terdapat data pencilan baik pada ambang batas bawah (Q1 - 1.5 * IQR) ataupun ambang batas atas (Q3 + 1.5 * IQR)"
   ]
  },
  {
   "cell_type": "markdown",
   "id": "500eda35",
   "metadata": {},
   "source": [
    "## Menampilkan DataFrame baru untuk kebutuhan analisis dalam merangkum dan menarik kesimpulan dataset NYC property sales"
   ]
  },
  {
   "cell_type": "code",
   "execution_count": 33,
   "id": "24036b50",
   "metadata": {},
   "outputs": [
    {
     "data": {
      "text/plain": [
       "BOROUGH                           0\n",
       "NEIGHBORHOOD                      0\n",
       "BUILDING CLASS CATEGORY           0\n",
       "TAX CLASS AT PRESENT              0\n",
       "BLOCK                             0\n",
       "LOT                               0\n",
       "BUILDING CLASS AT PRESENT         0\n",
       "ADDRESS                           0\n",
       "APARTMENT NUMBER                  0\n",
       "ZIP CODE                          0\n",
       "RESIDENTIAL UNITS                 0\n",
       "COMMERCIAL UNITS                  0\n",
       "TOTAL UNITS                       0\n",
       "LAND SQUARE FEET                  0\n",
       "GROSS SQUARE FEET                 0\n",
       "YEAR BUILT                        0\n",
       "TAX CLASS AT TIME OF SALE         0\n",
       "BUILDING CLASS AT TIME OF SALE    0\n",
       "SALE PRICE                        0\n",
       "SALE DATE                         0\n",
       "dtype: int64"
      ]
     },
     "execution_count": 33,
     "metadata": {},
     "output_type": "execute_result"
    }
   ],
   "source": [
    "# mengecek data tidak ada yang missing values\n",
    "df_nyc.isnull().sum()"
   ]
  },
  {
   "cell_type": "code",
   "execution_count": 34,
   "id": "4ae6daf0",
   "metadata": {},
   "outputs": [
    {
     "data": {
      "text/html": [
       "<div>\n",
       "<style scoped>\n",
       "    .dataframe tbody tr th:only-of-type {\n",
       "        vertical-align: middle;\n",
       "    }\n",
       "\n",
       "    .dataframe tbody tr th {\n",
       "        vertical-align: top;\n",
       "    }\n",
       "\n",
       "    .dataframe thead th {\n",
       "        text-align: right;\n",
       "    }\n",
       "</style>\n",
       "<table border=\"1\" class=\"dataframe\">\n",
       "  <thead>\n",
       "    <tr style=\"text-align: right;\">\n",
       "      <th></th>\n",
       "      <th>BOROUGH</th>\n",
       "      <th>NEIGHBORHOOD</th>\n",
       "      <th>BUILDING CLASS CATEGORY</th>\n",
       "      <th>TAX CLASS AT PRESENT</th>\n",
       "      <th>BLOCK</th>\n",
       "      <th>LOT</th>\n",
       "      <th>BUILDING CLASS AT PRESENT</th>\n",
       "      <th>ADDRESS</th>\n",
       "      <th>APARTMENT NUMBER</th>\n",
       "      <th>ZIP CODE</th>\n",
       "      <th>RESIDENTIAL UNITS</th>\n",
       "      <th>COMMERCIAL UNITS</th>\n",
       "      <th>TOTAL UNITS</th>\n",
       "      <th>LAND SQUARE FEET</th>\n",
       "      <th>GROSS SQUARE FEET</th>\n",
       "      <th>YEAR BUILT</th>\n",
       "      <th>TAX CLASS AT TIME OF SALE</th>\n",
       "      <th>BUILDING CLASS AT TIME OF SALE</th>\n",
       "      <th>SALE PRICE</th>\n",
       "      <th>SALE DATE</th>\n",
       "    </tr>\n",
       "  </thead>\n",
       "  <tbody>\n",
       "    <tr>\n",
       "      <th>76</th>\n",
       "      <td>Manhattan</td>\n",
       "      <td>ALPHABET CITY</td>\n",
       "      <td>12 CONDOS - WALKUP APARTMENTS</td>\n",
       "      <td>2</td>\n",
       "      <td>386</td>\n",
       "      <td>1002</td>\n",
       "      <td>R2</td>\n",
       "      <td>211 EAST 3RD   STREET</td>\n",
       "      <td>1B</td>\n",
       "      <td>10009.0</td>\n",
       "      <td>1</td>\n",
       "      <td>0</td>\n",
       "      <td>1.0</td>\n",
       "      <td>2325.0</td>\n",
       "      <td>1680.0</td>\n",
       "      <td>1920.0</td>\n",
       "      <td>2</td>\n",
       "      <td>R2</td>\n",
       "      <td>620000.0</td>\n",
       "      <td>2016-12-30</td>\n",
       "    </tr>\n",
       "    <tr>\n",
       "      <th>79</th>\n",
       "      <td>Manhattan</td>\n",
       "      <td>ALPHABET CITY</td>\n",
       "      <td>13 CONDOS - ELEVATOR APARTMENTS</td>\n",
       "      <td>2</td>\n",
       "      <td>373</td>\n",
       "      <td>1003</td>\n",
       "      <td>R4</td>\n",
       "      <td>324 EAST 4TH STREET</td>\n",
       "      <td>3A</td>\n",
       "      <td>10009.0</td>\n",
       "      <td>1</td>\n",
       "      <td>0</td>\n",
       "      <td>1.0</td>\n",
       "      <td>2325.0</td>\n",
       "      <td>1680.0</td>\n",
       "      <td>1920.0</td>\n",
       "      <td>2</td>\n",
       "      <td>R4</td>\n",
       "      <td>762669.0</td>\n",
       "      <td>2016-09-21</td>\n",
       "    </tr>\n",
       "    <tr>\n",
       "      <th>80</th>\n",
       "      <td>Manhattan</td>\n",
       "      <td>ALPHABET CITY</td>\n",
       "      <td>13 CONDOS - ELEVATOR APARTMENTS</td>\n",
       "      <td>2</td>\n",
       "      <td>373</td>\n",
       "      <td>1004</td>\n",
       "      <td>R4</td>\n",
       "      <td>324 EAST 4TH STREET</td>\n",
       "      <td>3B</td>\n",
       "      <td>10009.0</td>\n",
       "      <td>1</td>\n",
       "      <td>0</td>\n",
       "      <td>1.0</td>\n",
       "      <td>2325.0</td>\n",
       "      <td>1680.0</td>\n",
       "      <td>1920.0</td>\n",
       "      <td>2</td>\n",
       "      <td>R4</td>\n",
       "      <td>772851.0</td>\n",
       "      <td>2016-09-12</td>\n",
       "    </tr>\n",
       "    <tr>\n",
       "      <th>85</th>\n",
       "      <td>Manhattan</td>\n",
       "      <td>ALPHABET CITY</td>\n",
       "      <td>13 CONDOS - ELEVATOR APARTMENTS</td>\n",
       "      <td>2</td>\n",
       "      <td>373</td>\n",
       "      <td>1009</td>\n",
       "      <td>R4</td>\n",
       "      <td>324 EAST 4TH STREET</td>\n",
       "      <td>6A</td>\n",
       "      <td>10009.0</td>\n",
       "      <td>1</td>\n",
       "      <td>0</td>\n",
       "      <td>1.0</td>\n",
       "      <td>2325.0</td>\n",
       "      <td>1680.0</td>\n",
       "      <td>1920.0</td>\n",
       "      <td>2</td>\n",
       "      <td>R4</td>\n",
       "      <td>800000.0</td>\n",
       "      <td>2016-09-07</td>\n",
       "    </tr>\n",
       "    <tr>\n",
       "      <th>87</th>\n",
       "      <td>Manhattan</td>\n",
       "      <td>ALPHABET CITY</td>\n",
       "      <td>13 CONDOS - ELEVATOR APARTMENTS</td>\n",
       "      <td>2</td>\n",
       "      <td>375</td>\n",
       "      <td>1004</td>\n",
       "      <td>R4</td>\n",
       "      <td>754 EAST 6TH   STREET</td>\n",
       "      <td>2B</td>\n",
       "      <td>10009.0</td>\n",
       "      <td>1</td>\n",
       "      <td>0</td>\n",
       "      <td>1.0</td>\n",
       "      <td>2325.0</td>\n",
       "      <td>1680.0</td>\n",
       "      <td>1920.0</td>\n",
       "      <td>2</td>\n",
       "      <td>R4</td>\n",
       "      <td>875000.0</td>\n",
       "      <td>2017-03-31</td>\n",
       "    </tr>\n",
       "  </tbody>\n",
       "</table>\n",
       "</div>"
      ],
      "text/plain": [
       "      BOROUGH   NEIGHBORHOOD                      BUILDING CLASS CATEGORY  \\\n",
       "76  Manhattan  ALPHABET CITY  12 CONDOS - WALKUP APARTMENTS                 \n",
       "79  Manhattan  ALPHABET CITY  13 CONDOS - ELEVATOR APARTMENTS               \n",
       "80  Manhattan  ALPHABET CITY  13 CONDOS - ELEVATOR APARTMENTS               \n",
       "85  Manhattan  ALPHABET CITY  13 CONDOS - ELEVATOR APARTMENTS               \n",
       "87  Manhattan  ALPHABET CITY  13 CONDOS - ELEVATOR APARTMENTS               \n",
       "\n",
       "   TAX CLASS AT PRESENT  BLOCK   LOT BUILDING CLASS AT PRESENT  \\\n",
       "76                    2    386  1002                        R2   \n",
       "79                    2    373  1003                        R4   \n",
       "80                    2    373  1004                        R4   \n",
       "85                    2    373  1009                        R4   \n",
       "87                    2    375  1004                        R4   \n",
       "\n",
       "                  ADDRESS APARTMENT NUMBER  ZIP CODE  RESIDENTIAL UNITS  \\\n",
       "76  211 EAST 3RD   STREET               1B   10009.0                  1   \n",
       "79    324 EAST 4TH STREET               3A   10009.0                  1   \n",
       "80    324 EAST 4TH STREET               3B   10009.0                  1   \n",
       "85    324 EAST 4TH STREET               6A   10009.0                  1   \n",
       "87  754 EAST 6TH   STREET               2B   10009.0                  1   \n",
       "\n",
       "    COMMERCIAL UNITS  TOTAL UNITS  LAND SQUARE FEET  GROSS SQUARE FEET  \\\n",
       "76                 0          1.0            2325.0             1680.0   \n",
       "79                 0          1.0            2325.0             1680.0   \n",
       "80                 0          1.0            2325.0             1680.0   \n",
       "85                 0          1.0            2325.0             1680.0   \n",
       "87                 0          1.0            2325.0             1680.0   \n",
       "\n",
       "    YEAR BUILT  TAX CLASS AT TIME OF SALE BUILDING CLASS AT TIME OF SALE  \\\n",
       "76      1920.0                          2                             R2   \n",
       "79      1920.0                          2                             R4   \n",
       "80      1920.0                          2                             R4   \n",
       "85      1920.0                          2                             R4   \n",
       "87      1920.0                          2                             R4   \n",
       "\n",
       "    SALE PRICE  SALE DATE  \n",
       "76    620000.0 2016-12-30  \n",
       "79    762669.0 2016-09-21  \n",
       "80    772851.0 2016-09-12  \n",
       "85    800000.0 2016-09-07  \n",
       "87    875000.0 2017-03-31  "
      ]
     },
     "execution_count": 34,
     "metadata": {},
     "output_type": "execute_result"
    }
   ],
   "source": [
    "# menampilkan 5 baris pertama DataFrame\n",
    "df_nyc.head()"
   ]
  },
  {
   "cell_type": "code",
   "execution_count": 35,
   "id": "481741e6",
   "metadata": {
    "scrolled": true
   },
   "outputs": [
    {
     "data": {
      "text/html": [
       "<div>\n",
       "<style scoped>\n",
       "    .dataframe tbody tr th:only-of-type {\n",
       "        vertical-align: middle;\n",
       "    }\n",
       "\n",
       "    .dataframe tbody tr th {\n",
       "        vertical-align: top;\n",
       "    }\n",
       "\n",
       "    .dataframe thead th {\n",
       "        text-align: right;\n",
       "    }\n",
       "</style>\n",
       "<table border=\"1\" class=\"dataframe\">\n",
       "  <thead>\n",
       "    <tr style=\"text-align: right;\">\n",
       "      <th></th>\n",
       "      <th>BOROUGH</th>\n",
       "      <th>NEIGHBORHOOD</th>\n",
       "      <th>BUILDING CLASS CATEGORY</th>\n",
       "      <th>TAX CLASS AT PRESENT</th>\n",
       "      <th>BLOCK</th>\n",
       "      <th>LOT</th>\n",
       "      <th>BUILDING CLASS AT PRESENT</th>\n",
       "      <th>ADDRESS</th>\n",
       "      <th>APARTMENT NUMBER</th>\n",
       "      <th>ZIP CODE</th>\n",
       "      <th>RESIDENTIAL UNITS</th>\n",
       "      <th>COMMERCIAL UNITS</th>\n",
       "      <th>TOTAL UNITS</th>\n",
       "      <th>LAND SQUARE FEET</th>\n",
       "      <th>GROSS SQUARE FEET</th>\n",
       "      <th>YEAR BUILT</th>\n",
       "      <th>TAX CLASS AT TIME OF SALE</th>\n",
       "      <th>BUILDING CLASS AT TIME OF SALE</th>\n",
       "      <th>SALE PRICE</th>\n",
       "      <th>SALE DATE</th>\n",
       "    </tr>\n",
       "  </thead>\n",
       "  <tbody>\n",
       "    <tr>\n",
       "      <th>84541</th>\n",
       "      <td>Staten Island</td>\n",
       "      <td>WOODROW</td>\n",
       "      <td>02 TWO FAMILY DWELLINGS</td>\n",
       "      <td>1</td>\n",
       "      <td>7317</td>\n",
       "      <td>126</td>\n",
       "      <td>B2</td>\n",
       "      <td>112 ROBIN COURT</td>\n",
       "      <td>4</td>\n",
       "      <td>10309.0</td>\n",
       "      <td>2</td>\n",
       "      <td>0</td>\n",
       "      <td>2.0</td>\n",
       "      <td>11088.0</td>\n",
       "      <td>2160.0</td>\n",
       "      <td>1994.0</td>\n",
       "      <td>1</td>\n",
       "      <td>B2</td>\n",
       "      <td>648000.0</td>\n",
       "      <td>2016-12-07</td>\n",
       "    </tr>\n",
       "    <tr>\n",
       "      <th>84543</th>\n",
       "      <td>Staten Island</td>\n",
       "      <td>WOODROW</td>\n",
       "      <td>02 TWO FAMILY DWELLINGS</td>\n",
       "      <td>1</td>\n",
       "      <td>7349</td>\n",
       "      <td>34</td>\n",
       "      <td>B9</td>\n",
       "      <td>37 QUAIL LANE</td>\n",
       "      <td>4</td>\n",
       "      <td>10309.0</td>\n",
       "      <td>2</td>\n",
       "      <td>0</td>\n",
       "      <td>2.0</td>\n",
       "      <td>2400.0</td>\n",
       "      <td>2575.0</td>\n",
       "      <td>1998.0</td>\n",
       "      <td>1</td>\n",
       "      <td>B9</td>\n",
       "      <td>450000.0</td>\n",
       "      <td>2016-11-28</td>\n",
       "    </tr>\n",
       "    <tr>\n",
       "      <th>84544</th>\n",
       "      <td>Staten Island</td>\n",
       "      <td>WOODROW</td>\n",
       "      <td>02 TWO FAMILY DWELLINGS</td>\n",
       "      <td>1</td>\n",
       "      <td>7349</td>\n",
       "      <td>78</td>\n",
       "      <td>B9</td>\n",
       "      <td>32 PHEASANT LANE</td>\n",
       "      <td>4</td>\n",
       "      <td>10309.0</td>\n",
       "      <td>2</td>\n",
       "      <td>0</td>\n",
       "      <td>2.0</td>\n",
       "      <td>2498.0</td>\n",
       "      <td>2377.0</td>\n",
       "      <td>1998.0</td>\n",
       "      <td>1</td>\n",
       "      <td>B9</td>\n",
       "      <td>550000.0</td>\n",
       "      <td>2017-04-21</td>\n",
       "    </tr>\n",
       "    <tr>\n",
       "      <th>84545</th>\n",
       "      <td>Staten Island</td>\n",
       "      <td>WOODROW</td>\n",
       "      <td>02 TWO FAMILY DWELLINGS</td>\n",
       "      <td>1</td>\n",
       "      <td>7351</td>\n",
       "      <td>60</td>\n",
       "      <td>B2</td>\n",
       "      <td>49 PITNEY AVENUE</td>\n",
       "      <td>4</td>\n",
       "      <td>10309.0</td>\n",
       "      <td>2</td>\n",
       "      <td>0</td>\n",
       "      <td>2.0</td>\n",
       "      <td>4000.0</td>\n",
       "      <td>1496.0</td>\n",
       "      <td>1925.0</td>\n",
       "      <td>1</td>\n",
       "      <td>B2</td>\n",
       "      <td>460000.0</td>\n",
       "      <td>2017-07-05</td>\n",
       "    </tr>\n",
       "    <tr>\n",
       "      <th>84547</th>\n",
       "      <td>Staten Island</td>\n",
       "      <td>WOODROW</td>\n",
       "      <td>35 INDOOR PUBLIC AND CULTURAL FACILITIES</td>\n",
       "      <td>4</td>\n",
       "      <td>7105</td>\n",
       "      <td>679</td>\n",
       "      <td>P9</td>\n",
       "      <td>155 CLAY PIT ROAD</td>\n",
       "      <td>4</td>\n",
       "      <td>10309.0</td>\n",
       "      <td>0</td>\n",
       "      <td>1</td>\n",
       "      <td>1.0</td>\n",
       "      <td>10796.0</td>\n",
       "      <td>2400.0</td>\n",
       "      <td>2006.0</td>\n",
       "      <td>4</td>\n",
       "      <td>P9</td>\n",
       "      <td>69300.0</td>\n",
       "      <td>2016-10-27</td>\n",
       "    </tr>\n",
       "  </tbody>\n",
       "</table>\n",
       "</div>"
      ],
      "text/plain": [
       "             BOROUGH NEIGHBORHOOD  \\\n",
       "84541  Staten Island      WOODROW   \n",
       "84543  Staten Island      WOODROW   \n",
       "84544  Staten Island      WOODROW   \n",
       "84545  Staten Island      WOODROW   \n",
       "84547  Staten Island      WOODROW   \n",
       "\n",
       "                           BUILDING CLASS CATEGORY TAX CLASS AT PRESENT  \\\n",
       "84541  02 TWO FAMILY DWELLINGS                                        1   \n",
       "84543  02 TWO FAMILY DWELLINGS                                        1   \n",
       "84544  02 TWO FAMILY DWELLINGS                                        1   \n",
       "84545  02 TWO FAMILY DWELLINGS                                        1   \n",
       "84547  35 INDOOR PUBLIC AND CULTURAL FACILITIES                       4   \n",
       "\n",
       "       BLOCK  LOT BUILDING CLASS AT PRESENT            ADDRESS  \\\n",
       "84541   7317  126                        B2    112 ROBIN COURT   \n",
       "84543   7349   34                        B9      37 QUAIL LANE   \n",
       "84544   7349   78                        B9   32 PHEASANT LANE   \n",
       "84545   7351   60                        B2   49 PITNEY AVENUE   \n",
       "84547   7105  679                        P9  155 CLAY PIT ROAD   \n",
       "\n",
       "      APARTMENT NUMBER  ZIP CODE  RESIDENTIAL UNITS  COMMERCIAL UNITS  \\\n",
       "84541                4   10309.0                  2                 0   \n",
       "84543                4   10309.0                  2                 0   \n",
       "84544                4   10309.0                  2                 0   \n",
       "84545                4   10309.0                  2                 0   \n",
       "84547                4   10309.0                  0                 1   \n",
       "\n",
       "       TOTAL UNITS  LAND SQUARE FEET  GROSS SQUARE FEET  YEAR BUILT  \\\n",
       "84541          2.0           11088.0             2160.0      1994.0   \n",
       "84543          2.0            2400.0             2575.0      1998.0   \n",
       "84544          2.0            2498.0             2377.0      1998.0   \n",
       "84545          2.0            4000.0             1496.0      1925.0   \n",
       "84547          1.0           10796.0             2400.0      2006.0   \n",
       "\n",
       "       TAX CLASS AT TIME OF SALE BUILDING CLASS AT TIME OF SALE  SALE PRICE  \\\n",
       "84541                          1                             B2    648000.0   \n",
       "84543                          1                             B9    450000.0   \n",
       "84544                          1                             B9    550000.0   \n",
       "84545                          1                             B2    460000.0   \n",
       "84547                          4                             P9     69300.0   \n",
       "\n",
       "       SALE DATE  \n",
       "84541 2016-12-07  \n",
       "84543 2016-11-28  \n",
       "84544 2017-04-21  \n",
       "84545 2017-07-05  \n",
       "84547 2016-10-27  "
      ]
     },
     "execution_count": 35,
     "metadata": {},
     "output_type": "execute_result"
    }
   ],
   "source": [
    "# menampilkan 5 baris terakhir DataFrame\n",
    "df_nyc.tail()"
   ]
  },
  {
   "cell_type": "markdown",
   "id": "e73f543d",
   "metadata": {},
   "source": [
    "## Mengubah index dataframe"
   ]
  },
  {
   "cell_type": "markdown",
   "id": "bfc2a8e3",
   "metadata": {},
   "source": [
    "Index mengalami perubahan karena preproses data sebelumnya, maka dilakukan reset index dataframe"
   ]
  },
  {
   "cell_type": "code",
   "execution_count": 36,
   "id": "01468ded",
   "metadata": {},
   "outputs": [
    {
     "data": {
      "text/html": [
       "<div>\n",
       "<style scoped>\n",
       "    .dataframe tbody tr th:only-of-type {\n",
       "        vertical-align: middle;\n",
       "    }\n",
       "\n",
       "    .dataframe tbody tr th {\n",
       "        vertical-align: top;\n",
       "    }\n",
       "\n",
       "    .dataframe thead th {\n",
       "        text-align: right;\n",
       "    }\n",
       "</style>\n",
       "<table border=\"1\" class=\"dataframe\">\n",
       "  <thead>\n",
       "    <tr style=\"text-align: right;\">\n",
       "      <th></th>\n",
       "      <th>BOROUGH</th>\n",
       "      <th>NEIGHBORHOOD</th>\n",
       "      <th>BUILDING CLASS CATEGORY</th>\n",
       "      <th>TAX CLASS AT PRESENT</th>\n",
       "      <th>BLOCK</th>\n",
       "      <th>LOT</th>\n",
       "      <th>BUILDING CLASS AT PRESENT</th>\n",
       "      <th>ADDRESS</th>\n",
       "      <th>APARTMENT NUMBER</th>\n",
       "      <th>ZIP CODE</th>\n",
       "      <th>RESIDENTIAL UNITS</th>\n",
       "      <th>COMMERCIAL UNITS</th>\n",
       "      <th>TOTAL UNITS</th>\n",
       "      <th>LAND SQUARE FEET</th>\n",
       "      <th>GROSS SQUARE FEET</th>\n",
       "      <th>YEAR BUILT</th>\n",
       "      <th>TAX CLASS AT TIME OF SALE</th>\n",
       "      <th>BUILDING CLASS AT TIME OF SALE</th>\n",
       "      <th>SALE PRICE</th>\n",
       "      <th>SALE DATE</th>\n",
       "    </tr>\n",
       "  </thead>\n",
       "  <tbody>\n",
       "    <tr>\n",
       "      <th>0</th>\n",
       "      <td>Manhattan</td>\n",
       "      <td>ALPHABET CITY</td>\n",
       "      <td>12 CONDOS - WALKUP APARTMENTS</td>\n",
       "      <td>2</td>\n",
       "      <td>386</td>\n",
       "      <td>1002</td>\n",
       "      <td>R2</td>\n",
       "      <td>211 EAST 3RD   STREET</td>\n",
       "      <td>1B</td>\n",
       "      <td>10009.0</td>\n",
       "      <td>1</td>\n",
       "      <td>0</td>\n",
       "      <td>1.0</td>\n",
       "      <td>2325.0</td>\n",
       "      <td>1680.0</td>\n",
       "      <td>1920.0</td>\n",
       "      <td>2</td>\n",
       "      <td>R2</td>\n",
       "      <td>620000.0</td>\n",
       "      <td>2016-12-30</td>\n",
       "    </tr>\n",
       "    <tr>\n",
       "      <th>1</th>\n",
       "      <td>Manhattan</td>\n",
       "      <td>ALPHABET CITY</td>\n",
       "      <td>13 CONDOS - ELEVATOR APARTMENTS</td>\n",
       "      <td>2</td>\n",
       "      <td>373</td>\n",
       "      <td>1003</td>\n",
       "      <td>R4</td>\n",
       "      <td>324 EAST 4TH STREET</td>\n",
       "      <td>3A</td>\n",
       "      <td>10009.0</td>\n",
       "      <td>1</td>\n",
       "      <td>0</td>\n",
       "      <td>1.0</td>\n",
       "      <td>2325.0</td>\n",
       "      <td>1680.0</td>\n",
       "      <td>1920.0</td>\n",
       "      <td>2</td>\n",
       "      <td>R4</td>\n",
       "      <td>762669.0</td>\n",
       "      <td>2016-09-21</td>\n",
       "    </tr>\n",
       "    <tr>\n",
       "      <th>2</th>\n",
       "      <td>Manhattan</td>\n",
       "      <td>ALPHABET CITY</td>\n",
       "      <td>13 CONDOS - ELEVATOR APARTMENTS</td>\n",
       "      <td>2</td>\n",
       "      <td>373</td>\n",
       "      <td>1004</td>\n",
       "      <td>R4</td>\n",
       "      <td>324 EAST 4TH STREET</td>\n",
       "      <td>3B</td>\n",
       "      <td>10009.0</td>\n",
       "      <td>1</td>\n",
       "      <td>0</td>\n",
       "      <td>1.0</td>\n",
       "      <td>2325.0</td>\n",
       "      <td>1680.0</td>\n",
       "      <td>1920.0</td>\n",
       "      <td>2</td>\n",
       "      <td>R4</td>\n",
       "      <td>772851.0</td>\n",
       "      <td>2016-09-12</td>\n",
       "    </tr>\n",
       "    <tr>\n",
       "      <th>3</th>\n",
       "      <td>Manhattan</td>\n",
       "      <td>ALPHABET CITY</td>\n",
       "      <td>13 CONDOS - ELEVATOR APARTMENTS</td>\n",
       "      <td>2</td>\n",
       "      <td>373</td>\n",
       "      <td>1009</td>\n",
       "      <td>R4</td>\n",
       "      <td>324 EAST 4TH STREET</td>\n",
       "      <td>6A</td>\n",
       "      <td>10009.0</td>\n",
       "      <td>1</td>\n",
       "      <td>0</td>\n",
       "      <td>1.0</td>\n",
       "      <td>2325.0</td>\n",
       "      <td>1680.0</td>\n",
       "      <td>1920.0</td>\n",
       "      <td>2</td>\n",
       "      <td>R4</td>\n",
       "      <td>800000.0</td>\n",
       "      <td>2016-09-07</td>\n",
       "    </tr>\n",
       "    <tr>\n",
       "      <th>4</th>\n",
       "      <td>Manhattan</td>\n",
       "      <td>ALPHABET CITY</td>\n",
       "      <td>13 CONDOS - ELEVATOR APARTMENTS</td>\n",
       "      <td>2</td>\n",
       "      <td>375</td>\n",
       "      <td>1004</td>\n",
       "      <td>R4</td>\n",
       "      <td>754 EAST 6TH   STREET</td>\n",
       "      <td>2B</td>\n",
       "      <td>10009.0</td>\n",
       "      <td>1</td>\n",
       "      <td>0</td>\n",
       "      <td>1.0</td>\n",
       "      <td>2325.0</td>\n",
       "      <td>1680.0</td>\n",
       "      <td>1920.0</td>\n",
       "      <td>2</td>\n",
       "      <td>R4</td>\n",
       "      <td>875000.0</td>\n",
       "      <td>2017-03-31</td>\n",
       "    </tr>\n",
       "  </tbody>\n",
       "</table>\n",
       "</div>"
      ],
      "text/plain": [
       "     BOROUGH   NEIGHBORHOOD                      BUILDING CLASS CATEGORY  \\\n",
       "0  Manhattan  ALPHABET CITY  12 CONDOS - WALKUP APARTMENTS                 \n",
       "1  Manhattan  ALPHABET CITY  13 CONDOS - ELEVATOR APARTMENTS               \n",
       "2  Manhattan  ALPHABET CITY  13 CONDOS - ELEVATOR APARTMENTS               \n",
       "3  Manhattan  ALPHABET CITY  13 CONDOS - ELEVATOR APARTMENTS               \n",
       "4  Manhattan  ALPHABET CITY  13 CONDOS - ELEVATOR APARTMENTS               \n",
       "\n",
       "  TAX CLASS AT PRESENT  BLOCK   LOT BUILDING CLASS AT PRESENT  \\\n",
       "0                    2    386  1002                        R2   \n",
       "1                    2    373  1003                        R4   \n",
       "2                    2    373  1004                        R4   \n",
       "3                    2    373  1009                        R4   \n",
       "4                    2    375  1004                        R4   \n",
       "\n",
       "                 ADDRESS APARTMENT NUMBER  ZIP CODE  RESIDENTIAL UNITS  \\\n",
       "0  211 EAST 3RD   STREET               1B   10009.0                  1   \n",
       "1    324 EAST 4TH STREET               3A   10009.0                  1   \n",
       "2    324 EAST 4TH STREET               3B   10009.0                  1   \n",
       "3    324 EAST 4TH STREET               6A   10009.0                  1   \n",
       "4  754 EAST 6TH   STREET               2B   10009.0                  1   \n",
       "\n",
       "   COMMERCIAL UNITS  TOTAL UNITS  LAND SQUARE FEET  GROSS SQUARE FEET  \\\n",
       "0                 0          1.0            2325.0             1680.0   \n",
       "1                 0          1.0            2325.0             1680.0   \n",
       "2                 0          1.0            2325.0             1680.0   \n",
       "3                 0          1.0            2325.0             1680.0   \n",
       "4                 0          1.0            2325.0             1680.0   \n",
       "\n",
       "   YEAR BUILT  TAX CLASS AT TIME OF SALE BUILDING CLASS AT TIME OF SALE  \\\n",
       "0      1920.0                          2                             R2   \n",
       "1      1920.0                          2                             R4   \n",
       "2      1920.0                          2                             R4   \n",
       "3      1920.0                          2                             R4   \n",
       "4      1920.0                          2                             R4   \n",
       "\n",
       "   SALE PRICE  SALE DATE  \n",
       "0    620000.0 2016-12-30  \n",
       "1    762669.0 2016-09-21  \n",
       "2    772851.0 2016-09-12  \n",
       "3    800000.0 2016-09-07  \n",
       "4    875000.0 2017-03-31  "
      ]
     },
     "execution_count": 36,
     "metadata": {},
     "output_type": "execute_result"
    }
   ],
   "source": [
    "df_nyc.reset_index(drop = True, inplace = True)\n",
    "df_nyc.head()"
   ]
  },
  {
   "cell_type": "markdown",
   "id": "f4dbc21f",
   "metadata": {},
   "source": [
    "---\n",
    "# Measure of Central Tendency "
   ]
  },
  {
   "cell_type": "markdown",
   "id": "0c4da5b7",
   "metadata": {},
   "source": [
    "---\n",
    "## A. Measure of Central Tendency : Mean"
   ]
  },
  {
   "cell_type": "markdown",
   "id": "5ec15468",
   "metadata": {},
   "source": [
    "**Question** "
   ]
  },
  {
   "cell_type": "markdown",
   "id": "e7e1fe76",
   "metadata": {},
   "source": [
    "Hitunglah rata-rata dari harga penjualan properti untuk setiap wilayah!"
   ]
  },
  {
   "cell_type": "markdown",
   "id": "a09d5ee1",
   "metadata": {},
   "source": [
    "**Pre-processing as needed**"
   ]
  },
  {
   "cell_type": "code",
   "execution_count": 37,
   "id": "144ca465",
   "metadata": {},
   "outputs": [
    {
     "data": {
      "text/html": [
       "<div>\n",
       "<style scoped>\n",
       "    .dataframe tbody tr th:only-of-type {\n",
       "        vertical-align: middle;\n",
       "    }\n",
       "\n",
       "    .dataframe tbody tr th {\n",
       "        vertical-align: top;\n",
       "    }\n",
       "\n",
       "    .dataframe thead th {\n",
       "        text-align: right;\n",
       "    }\n",
       "</style>\n",
       "<table border=\"1\" class=\"dataframe\">\n",
       "  <thead>\n",
       "    <tr style=\"text-align: right;\">\n",
       "      <th></th>\n",
       "      <th>SALE PRICE</th>\n",
       "    </tr>\n",
       "    <tr>\n",
       "      <th>BOROUGH</th>\n",
       "      <th></th>\n",
       "    </tr>\n",
       "  </thead>\n",
       "  <tbody>\n",
       "    <tr>\n",
       "      <th>Bronx</th>\n",
       "      <td>432462.585933</td>\n",
       "    </tr>\n",
       "    <tr>\n",
       "      <th>Staten Island</th>\n",
       "      <td>465880.435604</td>\n",
       "    </tr>\n",
       "    <tr>\n",
       "      <th>Queens</th>\n",
       "      <td>526772.834011</td>\n",
       "    </tr>\n",
       "    <tr>\n",
       "      <th>Brooklyn</th>\n",
       "      <td>542160.236547</td>\n",
       "    </tr>\n",
       "    <tr>\n",
       "      <th>Manhattan</th>\n",
       "      <td>605662.067498</td>\n",
       "    </tr>\n",
       "  </tbody>\n",
       "</table>\n",
       "</div>"
      ],
      "text/plain": [
       "                  SALE PRICE\n",
       "BOROUGH                     \n",
       "Bronx          432462.585933\n",
       "Staten Island  465880.435604\n",
       "Queens         526772.834011\n",
       "Brooklyn       542160.236547\n",
       "Manhattan      605662.067498"
      ]
     },
     "execution_count": 37,
     "metadata": {},
     "output_type": "execute_result"
    }
   ],
   "source": [
    "sale_prices_mean = df_nyc.groupby('BOROUGH')['SALE PRICE'].mean().to_frame()\n",
    "sale_prices_mean.sort_values(by='SALE PRICE', ascending = True)"
   ]
  },
  {
   "cell_type": "markdown",
   "id": "5ff446f5",
   "metadata": {},
   "source": [
    "Berdasarkan tabel di atas, harga penjualan di wilayah Manhattan merupakan properti dengan harga rata-rata tertinggi "
   ]
  },
  {
   "cell_type": "markdown",
   "id": "1b51b7d9",
   "metadata": {},
   "source": [
    "**Question**"
   ]
  },
  {
   "cell_type": "markdown",
   "id": "785b6415",
   "metadata": {},
   "source": [
    "Hitunglah rata-rata dari luas tanah dan luas bangunan properti untuk wilayah Queens!"
   ]
  },
  {
   "cell_type": "markdown",
   "id": "add340bd",
   "metadata": {},
   "source": [
    "**Pre-processing as needed**"
   ]
  },
  {
   "cell_type": "code",
   "execution_count": 38,
   "id": "20842f5c",
   "metadata": {},
   "outputs": [
    {
     "data": {
      "text/html": [
       "<div>\n",
       "<style scoped>\n",
       "    .dataframe tbody tr th:only-of-type {\n",
       "        vertical-align: middle;\n",
       "    }\n",
       "\n",
       "    .dataframe tbody tr th {\n",
       "        vertical-align: top;\n",
       "    }\n",
       "\n",
       "    .dataframe thead th {\n",
       "        text-align: right;\n",
       "    }\n",
       "</style>\n",
       "<table border=\"1\" class=\"dataframe\">\n",
       "  <thead>\n",
       "    <tr style=\"text-align: right;\">\n",
       "      <th></th>\n",
       "      <th>LAND SQUARE FEET</th>\n",
       "    </tr>\n",
       "    <tr>\n",
       "      <th>BOROUGH</th>\n",
       "      <th></th>\n",
       "    </tr>\n",
       "  </thead>\n",
       "  <tbody>\n",
       "    <tr>\n",
       "      <th>Queens</th>\n",
       "      <td>3004.828929</td>\n",
       "    </tr>\n",
       "  </tbody>\n",
       "</table>\n",
       "</div>"
      ],
      "text/plain": [
       "         LAND SQUARE FEET\n",
       "BOROUGH                  \n",
       "Queens        3004.828929"
      ]
     },
     "execution_count": 38,
     "metadata": {},
     "output_type": "execute_result"
    }
   ],
   "source": [
    "# menghitung rata-rata luas tanah properti untuk wilayah Queens\n",
    "sale_land_square = df_nyc.groupby('BOROUGH')\n",
    "sale_land_square2 = sale_land_square.get_group('Queens')\n",
    "sale_land_square2.groupby('BOROUGH')['LAND SQUARE FEET'].mean().to_frame()"
   ]
  },
  {
   "cell_type": "markdown",
   "id": "bd91187d",
   "metadata": {},
   "source": [
    "Diperoleh nilai rata-rata dari luas tanah dan luas bangunan properti untuk wilayah Queens adalah 3004,82"
   ]
  },
  {
   "cell_type": "code",
   "execution_count": 39,
   "id": "60ba064d",
   "metadata": {},
   "outputs": [
    {
     "data": {
      "text/html": [
       "<div>\n",
       "<style scoped>\n",
       "    .dataframe tbody tr th:only-of-type {\n",
       "        vertical-align: middle;\n",
       "    }\n",
       "\n",
       "    .dataframe tbody tr th {\n",
       "        vertical-align: top;\n",
       "    }\n",
       "\n",
       "    .dataframe thead th {\n",
       "        text-align: right;\n",
       "    }\n",
       "</style>\n",
       "<table border=\"1\" class=\"dataframe\">\n",
       "  <thead>\n",
       "    <tr style=\"text-align: right;\">\n",
       "      <th></th>\n",
       "      <th>GROSS SQUARE FEET</th>\n",
       "    </tr>\n",
       "    <tr>\n",
       "      <th>BOROUGH</th>\n",
       "      <th></th>\n",
       "    </tr>\n",
       "  </thead>\n",
       "  <tbody>\n",
       "    <tr>\n",
       "      <th>Queens</th>\n",
       "      <td>1827.822728</td>\n",
       "    </tr>\n",
       "  </tbody>\n",
       "</table>\n",
       "</div>"
      ],
      "text/plain": [
       "         GROSS SQUARE FEET\n",
       "BOROUGH                   \n",
       "Queens         1827.822728"
      ]
     },
     "execution_count": 39,
     "metadata": {},
     "output_type": "execute_result"
    }
   ],
   "source": [
    "# menghitung rata-rata luas bangunan properti untuk wilayah Queens\n",
    "sale_gross_square = df_nyc.groupby('BOROUGH')\n",
    "sale_gross_square2 = sale_land_square.get_group('Queens')\n",
    "sale_gross_square2.groupby('BOROUGH')['GROSS SQUARE FEET'].mean().to_frame()"
   ]
  },
  {
   "cell_type": "markdown",
   "id": "e29f1c2c",
   "metadata": {},
   "source": [
    "Diperoleh nilai rata-rata dari luas luas bangunan properti untuk wilayah Queens adalah 1827,82 satuan luas"
   ]
  },
  {
   "cell_type": "markdown",
   "id": "b8c0ded0",
   "metadata": {},
   "source": [
    "**Implement statistical method**"
   ]
  },
  {
   "cell_type": "markdown",
   "id": "c44d9e4d",
   "metadata": {},
   "source": [
    "Perhitungan rata-rata di atas dilakukan dengan mengimplementasikan data spesifik menggunakan **Pandas**"
   ]
  },
  {
   "cell_type": "markdown",
   "id": "23b470c0",
   "metadata": {},
   "source": [
    "---\n",
    "## B. Measure of Central Tendency : Median"
   ]
  },
  {
   "cell_type": "markdown",
   "id": "02184dce",
   "metadata": {},
   "source": [
    "**Question** \n",
    "Hitunglah median dari harga penjualan properti untuk setiap wilayah!"
   ]
  },
  {
   "cell_type": "markdown",
   "id": "31808d4a",
   "metadata": {},
   "source": [
    "**Pre-processing as needed**"
   ]
  },
  {
   "cell_type": "code",
   "execution_count": 40,
   "id": "8c9ee74f",
   "metadata": {},
   "outputs": [
    {
     "data": {
      "text/html": [
       "<div>\n",
       "<style scoped>\n",
       "    .dataframe tbody tr th:only-of-type {\n",
       "        vertical-align: middle;\n",
       "    }\n",
       "\n",
       "    .dataframe tbody tr th {\n",
       "        vertical-align: top;\n",
       "    }\n",
       "\n",
       "    .dataframe thead th {\n",
       "        text-align: right;\n",
       "    }\n",
       "</style>\n",
       "<table border=\"1\" class=\"dataframe\">\n",
       "  <thead>\n",
       "    <tr style=\"text-align: right;\">\n",
       "      <th></th>\n",
       "      <th>SALE PRICE</th>\n",
       "    </tr>\n",
       "    <tr>\n",
       "      <th>BOROUGH</th>\n",
       "      <th></th>\n",
       "    </tr>\n",
       "  </thead>\n",
       "  <tbody>\n",
       "    <tr>\n",
       "      <th>Bronx</th>\n",
       "      <td>437625.0</td>\n",
       "    </tr>\n",
       "    <tr>\n",
       "      <th>Staten Island</th>\n",
       "      <td>465000.0</td>\n",
       "    </tr>\n",
       "    <tr>\n",
       "      <th>Queens</th>\n",
       "      <td>525000.0</td>\n",
       "    </tr>\n",
       "    <tr>\n",
       "      <th>Brooklyn</th>\n",
       "      <td>570000.0</td>\n",
       "    </tr>\n",
       "    <tr>\n",
       "      <th>Manhattan</th>\n",
       "      <td>664917.0</td>\n",
       "    </tr>\n",
       "  </tbody>\n",
       "</table>\n",
       "</div>"
      ],
      "text/plain": [
       "               SALE PRICE\n",
       "BOROUGH                  \n",
       "Bronx            437625.0\n",
       "Staten Island    465000.0\n",
       "Queens           525000.0\n",
       "Brooklyn         570000.0\n",
       "Manhattan        664917.0"
      ]
     },
     "execution_count": 40,
     "metadata": {},
     "output_type": "execute_result"
    }
   ],
   "source": [
    "sale_prices_median = df_nyc.groupby('BOROUGH')['SALE PRICE'].median().to_frame()\n",
    "sale_prices_median.sort_values(by='SALE PRICE', ascending = True)"
   ]
  },
  {
   "cell_type": "markdown",
   "id": "b80859b4",
   "metadata": {},
   "source": [
    "Berdasarkan perhitungan di atas, harga penjualan di wilayah Manhattan merupakan properti dengan nilai median tertinggi "
   ]
  },
  {
   "cell_type": "markdown",
   "id": "1f49c1e0",
   "metadata": {},
   "source": [
    "**Implement statistical method**"
   ]
  },
  {
   "cell_type": "markdown",
   "id": "71c5b2df",
   "metadata": {},
   "source": [
    "Perhitungan median di atas dilakukan dengan mengimplementasikan data spesifik menggunakan **Pandas**"
   ]
  },
  {
   "cell_type": "markdown",
   "id": "d0f8b147",
   "metadata": {},
   "source": [
    "---\n",
    "## C. Measure of Central Tendency : Modus"
   ]
  },
  {
   "cell_type": "markdown",
   "id": "5e278407",
   "metadata": {},
   "source": [
    "**Question**"
   ]
  },
  {
   "cell_type": "markdown",
   "id": "9a36cb43",
   "metadata": {},
   "source": [
    "Tentukan klasifikasi bangunan yang paling sering terjual!"
   ]
  },
  {
   "cell_type": "markdown",
   "id": "2376891f",
   "metadata": {},
   "source": [
    "**Pre-processing as needed**"
   ]
  },
  {
   "cell_type": "markdown",
   "id": "e7a8db44",
   "metadata": {},
   "source": [
    "Fitur 'BUILDING CLASS AT PRESENT' menunjukkan klasifikasi bangunan, maka dapat melakukan fungsi agregasi terhadap fitur tersebut"
   ]
  },
  {
   "cell_type": "code",
   "execution_count": 41,
   "id": "c33176a0",
   "metadata": {},
   "outputs": [
    {
     "data": {
      "text/plain": [
       "'A1'"
      ]
     },
     "execution_count": 41,
     "metadata": {},
     "output_type": "execute_result"
    }
   ],
   "source": [
    "df_nyc['BUILDING CLASS AT PRESENT'].mode()[0]"
   ]
  },
  {
   "cell_type": "markdown",
   "id": "74d68dc4",
   "metadata": {},
   "source": [
    "Klasifikasi bangunan (A1) menjadi tempat tinggal paling sering terjual dibandingkan jenis bangunan lainnya"
   ]
  },
  {
   "cell_type": "markdown",
   "id": "dfdf40f1",
   "metadata": {},
   "source": [
    "**Implement statistical method**"
   ]
  },
  {
   "cell_type": "markdown",
   "id": "545cf2cf",
   "metadata": {},
   "source": [
    "Perhitungan median di atas dilakukan dengan mengimplementasikan data spesifik menggunakan **Pandas**"
   ]
  },
  {
   "cell_type": "markdown",
   "id": "a35721f7",
   "metadata": {},
   "source": [
    "---\n",
    "# Measure of Spread"
   ]
  },
  {
   "cell_type": "markdown",
   "id": "31ffb805",
   "metadata": {},
   "source": [
    "## A. Measure of Spread : Range"
   ]
  },
  {
   "cell_type": "markdown",
   "id": "d201ce69",
   "metadata": {},
   "source": [
    "**Question** "
   ]
  },
  {
   "cell_type": "markdown",
   "id": "f76179fb",
   "metadata": {},
   "source": [
    "Tentukan selisih antara nilai tertinggi dan terendah pada luas tanah dan luas bangunan properti!"
   ]
  },
  {
   "cell_type": "markdown",
   "id": "0b8af379",
   "metadata": {},
   "source": [
    "**Pre-processing if needed**"
   ]
  },
  {
   "cell_type": "code",
   "execution_count": 42,
   "id": "0af88760",
   "metadata": {},
   "outputs": [
    {
     "name": "stdout",
     "output_type": "stream",
     "text": [
      "1865243.0   683200.0\n"
     ]
    }
   ],
   "source": [
    "range_of_lands = np.ptp(df_nyc['LAND SQUARE FEET'])\n",
    "range_of_gross = np.ptp(df_nyc['GROSS SQUARE FEET'])\n",
    "\n",
    "print(range_of_lands, ' ', range_of_gross)"
   ]
  },
  {
   "cell_type": "code",
   "execution_count": 43,
   "id": "9a9f2317",
   "metadata": {},
   "outputs": [
    {
     "data": {
      "text/plain": [
       "True"
      ]
     },
     "execution_count": 43,
     "metadata": {},
     "output_type": "execute_result"
    }
   ],
   "source": [
    "range_of_lands > range_of_gross"
   ]
  },
  {
   "cell_type": "markdown",
   "id": "f55bf8da",
   "metadata": {},
   "source": [
    "Jangkauan dari luas tanah properti lebih besar jika dibandingkan dengan luas bangunan properti"
   ]
  },
  {
   "cell_type": "markdown",
   "id": "cca84e2f",
   "metadata": {},
   "source": [
    "**Implement statistical method**"
   ]
  },
  {
   "cell_type": "markdown",
   "id": "8f03416e",
   "metadata": {},
   "source": [
    "Perhitungan median di atas dilakukan dengan mengimplementasikan data spesifik menggunakan **NumPy**"
   ]
  },
  {
   "cell_type": "markdown",
   "id": "66a73a5f",
   "metadata": {},
   "source": [
    "---\n",
    "## B. Measure of Spread : Variance"
   ]
  },
  {
   "cell_type": "markdown",
   "id": "8fa7c96b",
   "metadata": {},
   "source": [
    "**Question** "
   ]
  },
  {
   "cell_type": "markdown",
   "id": "738334f8",
   "metadata": {},
   "source": [
    "Tentukan variance (variansi) dari harga penjualan total properti untuk semua wilayah di Kota New York!"
   ]
  },
  {
   "cell_type": "markdown",
   "id": "3101cf16",
   "metadata": {},
   "source": [
    "**Pre-processing if needed**"
   ]
  },
  {
   "cell_type": "code",
   "execution_count": 44,
   "id": "810d0756",
   "metadata": {},
   "outputs": [
    {
     "data": {
      "text/plain": [
       "40467856093.36794"
      ]
     },
     "execution_count": 44,
     "metadata": {},
     "output_type": "execute_result"
    }
   ],
   "source": [
    "var_of_sale = df_nyc['SALE PRICE'].var(ddof=1)\n",
    "var_of_sale"
   ]
  },
  {
   "cell_type": "markdown",
   "id": "3160c416",
   "metadata": {},
   "source": [
    "Hasil variansi dari harga penjualan total properti menunjukkan angka yang sangat besar, hal ini menunjukkan bahwa setiap datapoints (nilai) memiliki sebaran data yang luas"
   ]
  },
  {
   "cell_type": "markdown",
   "id": "d7afb344",
   "metadata": {},
   "source": [
    "**Implement statistical method**"
   ]
  },
  {
   "cell_type": "markdown",
   "id": "bccce4d1",
   "metadata": {},
   "source": [
    "Perhitungan median di atas dilakukan dengan mengimplementasikan data spesifik menggunakan **Pandas**"
   ]
  },
  {
   "cell_type": "markdown",
   "id": "0213990a",
   "metadata": {},
   "source": [
    "---\n",
    "## C. Measure of Spread : Standard Deviation"
   ]
  },
  {
   "cell_type": "markdown",
   "id": "ecca77c6",
   "metadata": {},
   "source": [
    "**Question** "
   ]
  },
  {
   "cell_type": "markdown",
   "id": "f94d6f17",
   "metadata": {},
   "source": [
    "Tentukan standar deviasi dari harga penjualan total properti untuk semua wilayah di Kota New York!"
   ]
  },
  {
   "cell_type": "markdown",
   "id": "88b95844",
   "metadata": {},
   "source": [
    "**Pre-processing if needed**"
   ]
  },
  {
   "cell_type": "code",
   "execution_count": 45,
   "id": "4e7e6fb0",
   "metadata": {},
   "outputs": [
    {
     "data": {
      "text/plain": [
       "201166.23994440006"
      ]
     },
     "execution_count": 45,
     "metadata": {},
     "output_type": "execute_result"
    }
   ],
   "source": [
    "std_sale_price = np.std( df_nyc['SALE PRICE'], ddof=1)\n",
    "std_sale_price"
   ]
  },
  {
   "cell_type": "markdown",
   "id": "19494326",
   "metadata": {},
   "source": [
    "Nilai standar deviasi menunjukkan angka yang besar, maka persebaran datanya terhadap nilai rata-rata sangat beragam."
   ]
  },
  {
   "cell_type": "markdown",
   "id": "24d800ab",
   "metadata": {},
   "source": [
    "**Implement statistical method**"
   ]
  },
  {
   "cell_type": "markdown",
   "id": "068a8fec",
   "metadata": {},
   "source": [
    "Perhitungan median di atas dilakukan dengan mengimplementasikan data spesifik menggunakan NumPy"
   ]
  },
  {
   "cell_type": "markdown",
   "id": "1c294f3f",
   "metadata": {},
   "source": [
    "---\n",
    "# Probability Distribution"
   ]
  },
  {
   "cell_type": "markdown",
   "id": "ea48eb55",
   "metadata": {},
   "source": [
    "**Question**"
   ]
  },
  {
   "cell_type": "raw",
   "id": "1a1dd835",
   "metadata": {},
   "source": [
    "Buatlah distribusi normal untuk penjualan properti di seluruh wilayah kota New York City!"
   ]
  },
  {
   "cell_type": "markdown",
   "id": "9af3be99",
   "metadata": {},
   "source": [
    "**Pre-processing if needed**"
   ]
  },
  {
   "cell_type": "markdown",
   "id": "39e2a345",
   "metadata": {},
   "source": [
    "Mengimplementasikan **central limit theorm** agar bisa membentuk distribusi normal dengan jumlah sample (n) = 333"
   ]
  },
  {
   "cell_type": "code",
   "execution_count": 46,
   "id": "f851915e",
   "metadata": {},
   "outputs": [],
   "source": [
    "df_sample_means = [df_nyc['SALE PRICE']]\n",
    "sample_means = []\n",
    "n = 333\n",
    "for sample in range(0, 2500):\n",
    "    # mengambil nilai n acak dari fitur 'SALE PRICE'\n",
    "    sample_values = np.random.choice(a=df_nyc['SALE PRICE'], size=n)    \n",
    "    # menghitung rata-rata sample\n",
    "    sample_mean = np.mean(sample_values)\n",
    "    # menginput rata-rata sample ke sample_means\n",
    "    sample_means.append(sample_mean)"
   ]
  },
  {
   "cell_type": "code",
   "execution_count": 48,
   "id": "240f7bf3",
   "metadata": {
    "scrolled": false
   },
   "outputs": [
    {
     "data": {
      "image/png": "[encoded data removed]",
      "text/plain": [
       "<Figure size 1368x648 with 1 Axes>"
      ]
     },
     "metadata": {
      "needs_background": "light"
     },
     "output_type": "display_data"
    }
   ],
   "source": [
    "np.random.seed()\n",
    "count, bin_edges = np.histogram(sample_means, bins=20)\n",
    "fig = plt.figure(figsize=(19,9))\n",
    "ax = fig.add_subplot(1,1,1)\n",
    "sns.histplot(sample_means,kde=True, bins=20, color='darkslategrey')\n",
    "ax.set_title('Distribusi Sampel Mean Gross Square Feet Properti di tahun 2016 dan 2017')\n",
    "ax.set_xlabel('Rata-rata Sampel Gross Square Feet Properti')\n",
    "ax.set_xticks(bin_edges)\n",
    "ax.set_ylabel('Frekuensi')\n",
    "ax.tick_params(axis='x', labelrotation=90)"
   ]
  },
  {
   "cell_type": "markdown",
   "id": "86fd1adb",
   "metadata": {},
   "source": [
    "Grafik di atas menunjukkan distribusi normal karena perbedaan nilai dari setiap ukuran central tendency (mean, median, modus) tidak terlalu signifikan dan grafik tersebut sudah dalam bentuk bell-shaped atau simetris"
   ]
  },
  {
   "cell_type": "markdown",
   "id": "030b547e",
   "metadata": {},
   "source": [
    "**Question**"
   ]
  },
  {
   "cell_type": "markdown",
   "id": "1c58b10d",
   "metadata": {},
   "source": [
    "Buatlah grafik distribusi probabilitas dari penjualan properti di wilayah Queens!"
   ]
  },
  {
   "cell_type": "code",
   "execution_count": 49,
   "id": "0ca052e9",
   "metadata": {},
   "outputs": [
    {
     "data": {
      "text/plain": [
       "array(['Manhattan', 'Bronx', 'Brooklyn', 'Queens', 'Staten Island'],\n",
       "      dtype=object)"
      ]
     },
     "execution_count": 49,
     "metadata": {},
     "output_type": "execute_result"
    }
   ],
   "source": [
    "df_nyc['BOROUGH'].unique()"
   ]
  },
  {
   "cell_type": "code",
   "execution_count": 50,
   "id": "082a0d06",
   "metadata": {},
   "outputs": [],
   "source": [
    "data_staten = df_nyc[df_nyc['BOROUGH'] == 'Queens']"
   ]
  },
  {
   "cell_type": "code",
   "execution_count": 51,
   "id": "1a7dc95d",
   "metadata": {},
   "outputs": [
    {
     "name": "stderr",
     "output_type": "stream",
     "text": [
      "C:\\Users\\ACER\\anaconda3\\lib\\site-packages\\seaborn\\distributions.py:2619: FutureWarning: `distplot` is a deprecated function and will be removed in a future version. Please adapt your code to use either `displot` (a figure-level function with similar flexibility) or `histplot` (an axes-level function for histograms).\n",
      "  warnings.warn(msg, FutureWarning)\n"
     ]
    },
    {
     "data": {
      "image/png": "[encoded data removed]",
      "text/plain": [
       "<Figure size 1368x648 with 1 Axes>"
      ]
     },
     "metadata": {
      "needs_background": "light"
     },
     "output_type": "display_data"
    }
   ],
   "source": [
    "count, bin_ = np.histogram(sample_means, bins=20)\n",
    "fig = plt.figure(figsize=(19,9))\n",
    "ax = fig.add_subplot(1,1,1)\n",
    "ax = sns.distplot(data_staten['SALE PRICE'], bins=100, kde=True, color='skyblue',\n",
    "hist_kws={'linewidth': 15, 'alpha':1})\n",
    "ax.set(xlabel='Normal Distribution', ylabel='Frequency')\n",
    "plt.show()"
   ]
  },
  {
   "cell_type": "markdown",
   "id": "5331e010",
   "metadata": {},
   "source": [
    "Grafik di atas menunjukkan bukan merupakan distribusi normal karena grafik tersebut tidak dalam bentuk bell-shaped atau tidak simetris"
   ]
  },
  {
   "cell_type": "markdown",
   "id": "af87801a",
   "metadata": {},
   "source": [
    "---\n",
    "# Confidence Intervals"
   ]
  },
  {
   "cell_type": "markdown",
   "id": "e02c174d",
   "metadata": {},
   "source": [
    "**Question**"
   ]
  },
  {
   "cell_type": "markdown",
   "id": "68e1559e",
   "metadata": {},
   "source": [
    "Buatlah confidence intervals (CI) sebesar 95% dari rata-rata harga penjualan properti di New York pada tahun 2016 - 2017!"
   ]
  },
  {
   "cell_type": "markdown",
   "id": "371c7f57",
   "metadata": {},
   "source": [
    "**Pre-processing if needed** "
   ]
  },
  {
   "cell_type": "code",
   "execution_count": 52,
   "id": "07e18f11",
   "metadata": {},
   "outputs": [
    {
     "data": {
      "text/plain": [
       "201166.23994440006"
      ]
     },
     "execution_count": 52,
     "metadata": {},
     "output_type": "execute_result"
    }
   ],
   "source": [
    "# menghitung standar deviasi populasi\n",
    "pop_std_dev_mass = df_nyc['SALE PRICE'].std()\n",
    "pop_std_dev_mass"
   ]
  },
  {
   "cell_type": "code",
   "execution_count": 53,
   "id": "fb99e1ec",
   "metadata": {},
   "outputs": [],
   "source": [
    "# menghitung jumlah populasi\n",
    "number_of_population = len(df_nyc)"
   ]
  },
  {
   "cell_type": "code",
   "execution_count": 54,
   "id": "44f23617",
   "metadata": {},
   "outputs": [],
   "source": [
    "# menghitung nilai mean dan standar deviasi dari sampel\n",
    "mean_of_sampel_mean = np.mean(sample_means)\n",
    "std_of_sampel_mean = np.std(sample_means)"
   ]
  },
  {
   "cell_type": "code",
   "execution_count": 55,
   "id": "bebf5199",
   "metadata": {},
   "outputs": [],
   "source": [
    "# batas critical z_score dengan CI 95%\n",
    "z_score = 1.96"
   ]
  },
  {
   "cell_type": "code",
   "execution_count": 56,
   "id": "8ce4fab9",
   "metadata": {},
   "outputs": [],
   "source": [
    "# menghitung standard error sampel\n",
    "standard_error_of_sample_mean = pop_std_dev_mass/np.sqrt(number_of_population)"
   ]
  },
  {
   "cell_type": "code",
   "execution_count": 57,
   "id": "b37985a4",
   "metadata": {},
   "outputs": [
    {
     "name": "stdout",
     "output_type": "stream",
     "text": [
      "Left End Point : 507772.68939267244\n",
      "Right End Point : 512655.32225417433\n"
     ]
    }
   ],
   "source": [
    "# menghitung batas CI yang tepat\n",
    "lower_bound_gross_square = np.mean(sample_means) - z_score*standard_error_of_sample_mean\n",
    "upper_bound_gross_square = np.mean(sample_means) + z_score*standard_error_of_sample_mean\n",
    "print(f'Left End Point : {lower_bound_gross_square}')\n",
    "print(f'Right End Point : {upper_bound_gross_square}')"
   ]
  },
  {
   "cell_type": "markdown",
   "id": "7c30ca95",
   "metadata": {},
   "source": [
    "**Analisis :**\n",
    "- Dengan keyakinan 95%, dapat diklaim bahwa penjualan properti rata-rata di New York adalah antara 507312.55 dan 512195,18 US Dollar.\n",
    "- “Dengan keyakinan 95%, rata-rata berada pada interval (507312.5, 512195,18).”\n",
    "- Ini berarti bahwa ketika sejumlah besar sampel dikumpulkan dan interval keyakinan dibuat untuk setiap sampel, sekitar 95% dari interval ini akan berisi $\\mu$."
   ]
  },
  {
   "cell_type": "code",
   "execution_count": 58,
   "id": "c4228d32",
   "metadata": {},
   "outputs": [],
   "source": [
    "# membentuk fitur baru yaitu kolom 'SALE DATE' yang diurut secara ascending\n",
    "df_nyc_sort_sale_date = df_nyc.copy()\n",
    "df_nyc_sort_sale_date['SORTED SALE DATE'] = df_nyc['SALE DATE']\n",
    "df_nyc_sort_sale_date.sort_values(by=['SORTED SALE DATE'], ascending=True, inplace = True)"
   ]
  },
  {
   "cell_type": "code",
   "execution_count": 59,
   "id": "b0503a5c",
   "metadata": {},
   "outputs": [],
   "source": [
    "df_nyc_selection = df_nyc_sort_sale_date[(df_nyc_sort_sale_date['SORTED SALE DATE'] < '2016-10-01') & \n",
    "                      (df_nyc_sort_sale_date['BOROUGH'] == 'Queens')]\n",
    "df_nyc_selection2 = df_nyc_selection[['SALE PRICE']]"
   ]
  },
  {
   "cell_type": "markdown",
   "id": "26624e3b",
   "metadata": {},
   "source": [
    "---\n",
    "# Hypothesis Testing"
   ]
  },
  {
   "cell_type": "markdown",
   "id": "aa7a56e0",
   "metadata": {},
   "source": [
    "**Question**"
   ]
  },
  {
   "cell_type": "markdown",
   "id": "16db922e",
   "metadata": {},
   "source": [
    "Apakah rata-rata harga jual bangunan di New York City selama 6 bulan kedepan sejak september 2016 membentuk distribusi normal?"
   ]
  },
  {
   "cell_type": "markdown",
   "id": "83bd2da7",
   "metadata": {},
   "source": [
    "**Pre-processing if needed** "
   ]
  },
  {
   "cell_type": "markdown",
   "id": "309b2382",
   "metadata": {},
   "source": [
    "Populasi : Harga jual bangunan di New York City selama 6 bulan kedepan\n",
    "Parameter of interest : p\n",
    "\n",
    "Null Hypothesis (H0) : membentuk normal distribusi\n",
    "Alternative Hypothesis (H1) : tidak membentuk normal distribusi"
   ]
  },
  {
   "cell_type": "code",
   "execution_count": 60,
   "id": "e8d65d89",
   "metadata": {},
   "outputs": [
    {
     "name": "stdout",
     "output_type": "stream",
     "text": [
      "Statistics=0.980, p=0.000\n",
      "Sampel tidak membentuk distribusi normal (menolak H0)\n"
     ]
    }
   ],
   "source": [
    "# menggunakan Shapiro-Wilk Test\n",
    "from scipy.stats import shapiro\n",
    "# normality test\n",
    "stat, p = shapiro(df_nyc_selection2)\n",
    "print('Statistics=%.3f, p=%.3f' % (stat, p))\n",
    "# interpret results\n",
    "alpha = 0.05\n",
    "if p > alpha:\n",
    "    print('Sampel membentuk distribusi normal (tidak menolak H0)')\n",
    "else:\n",
    "    print('Sampel tidak membentuk distribusi normal (menolak H0)')"
   ]
  },
  {
   "cell_type": "markdown",
   "id": "d157c72f",
   "metadata": {},
   "source": [
    "**Analisis:** p-value lebih kecil dari 0.05 (alpha), maka terjadi keputusan untuk menolak H0"
   ]
  },
  {
   "cell_type": "markdown",
   "id": "7259d6e9",
   "metadata": {},
   "source": [
    "---\n",
    "# Overall Analysis"
   ]
  },
  {
   "cell_type": "markdown",
   "id": "6f0f0b66",
   "metadata": {},
   "source": [
    "1. Dataset mengandung banyak sekali _Non-Standard Missing Values_ sehingga diperlukan proses EDA yang teliti\n",
    "2. Dengan keyakinan 95%, dapat diklaim bahwa penjualan properti rata-rata di New York adalah antara 507312.55 dan 512195,18 US Dollar.\n",
    "3. Dataset cenderung tidak membentuk Distribusi Normal dikarenakan data yang sangat beragam ditunjukkan dengan besarnya nilai dari standar deviasi, sehingga persebaran data setiap nilai terhadap nilai rata-rata sangat beragam."
   ]
  }
 ],
 "metadata": {
  "kernelspec": {
   "display_name": "Python 3 (ipykernel)",
   "language": "python",
   "name": "python3"
  },
  "language_info": {
   "codemirror_mode": {
    "name": "ipython",
    "version": 3
   },
   "file_extension": ".py",
   "mimetype": "text/x-python",
   "name": "python",
   "nbconvert_exporter": "python",
   "pygments_lexer": "ipython3",
   "version": "3.9.12"
  }
 },
 "nbformat": 4,
 "nbformat_minor": 5
}
