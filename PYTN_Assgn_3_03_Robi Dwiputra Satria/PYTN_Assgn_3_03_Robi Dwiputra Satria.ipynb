{
 "cells": [
  {
   "cell_type": "markdown",
   "id": "23fb26b9",
   "metadata": {},
   "source": [
    "# Assignment Python 3"
   ]
  },
  {
   "cell_type": "markdown",
   "id": "03800993",
   "metadata": {},
   "source": [
    "Robi Dwiputra Satria\n",
    "\n",
    "PYTN-KS09-024\n",
    "\n",
    "Studi Independen - Kampus Merdeka"
   ]
  },
  {
   "cell_type": "markdown",
   "id": "e566fd0c",
   "metadata": {},
   "source": [
    "---"
   ]
  },
  {
   "cell_type": "markdown",
   "id": "1a2c81c8",
   "metadata": {},
   "source": [
    "## Project Overview"
   ]
  },
  {
   "cell_type": "markdown",
   "id": "e60a4069",
   "metadata": {},
   "source": [
    "Tujuan dari Assignment 3 ini adalah untuk melakukan prediksi data menggunakan berbagai model machine learning dengan Python sekonsisten mungkin. Dataset ini merupakan catatan kampanye pemasaran langsung dari lembaga perbankan Portugis.\n",
    "> **Masalah yang dihadapi:** Proyek ini ditujukan untuk menganalisis data kampanye pemasaran sebelumnya dari lembaga perbankan Portugis dan untuk memprediksi apakah pelanggan akan berlangganan produk deposito berjangka yang ditawarkan bank."
   ]
  },
  {
   "cell_type": "markdown",
   "id": "1600eda6",
   "metadata": {},
   "source": [
    "## Import Library"
   ]
  },
  {
   "cell_type": "code",
   "execution_count": 1,
   "id": "f7dd86b7",
   "metadata": {},
   "outputs": [],
   "source": [
    "import numpy as np\n",
    "import pandas as pd\n",
    "from scipy import stats\n",
    "from matplotlib import pyplot as plt\n",
    "%matplotlib inline\n",
    "import seaborn as sns\n",
    "import warnings\n",
    "warnings.filterwarnings(\"ignore\")\n",
    "from sklearn.linear_model import SGDClassifier\n",
    "from sklearn.preprocessing import LabelBinarizer, LabelEncoder, MinMaxScaler, StandardScaler\n",
    "from sklearn.model_selection import train_test_split, cross_val_score, GridSearchCV\n",
    "from sklearn.metrics import accuracy_score, precision_score, recall_score, f1_score, classification_report, roc_auc_score\n",
    "from sklearn.metrics import confusion_matrix"
   ]
  },
  {
   "cell_type": "markdown",
   "id": "58c1b4f3",
   "metadata": {},
   "source": [
    "## Dataset"
   ]
  },
  {
   "cell_type": "markdown",
   "id": "5e68b54a",
   "metadata": {},
   "source": [
    "### Deskripsi Singkat Dataset "
   ]
  },
  {
   "cell_type": "markdown",
   "id": "ec6232c8",
   "metadata": {},
   "source": [
    "**Dataset:** Data tersebut terkait dengan kampanye pemasaran langsung dari lembaga perbankan Portugis. Kampanye pemasaran didasarkan pada panggilan telepon. Seringkali, lebih dari satu kontak ke klien yang sama diperlukan, untuk mengakses apakah produk (deposito berjangka bank) akan \"yes\" (ya) atau \"no\" (tidak) berlangganan. <br>"
   ]
  },
  {
   "cell_type": "markdown",
   "id": "0525117a",
   "metadata": {},
   "source": [
    "### Import Dataset"
   ]
  },
  {
   "cell_type": "markdown",
   "id": "77ae6d74",
   "metadata": {},
   "source": [
    "Dataset kampanye pemasaran langsung dari lembaga perbankan Portugis dapat diakses pada [link](https://archive.ics.uci.edu/ml/datasets/Bank+Marketing) berikut ini."
   ]
  },
  {
   "cell_type": "code",
   "execution_count": 2,
   "id": "b4096ba9",
   "metadata": {},
   "outputs": [
    {
     "data": {
      "text/html": [
       "<div>\n",
       "<style scoped>\n",
       "    .dataframe tbody tr th:only-of-type {\n",
       "        vertical-align: middle;\n",
       "    }\n",
       "\n",
       "    .dataframe tbody tr th {\n",
       "        vertical-align: top;\n",
       "    }\n",
       "\n",
       "    .dataframe thead th {\n",
       "        text-align: right;\n",
       "    }\n",
       "</style>\n",
       "<table border=\"1\" class=\"dataframe\">\n",
       "  <thead>\n",
       "    <tr style=\"text-align: right;\">\n",
       "      <th></th>\n",
       "      <th>age</th>\n",
       "      <th>job</th>\n",
       "      <th>marital</th>\n",
       "      <th>education</th>\n",
       "      <th>default</th>\n",
       "      <th>housing</th>\n",
       "      <th>loan</th>\n",
       "      <th>contact</th>\n",
       "      <th>month</th>\n",
       "      <th>day_of_week</th>\n",
       "      <th>...</th>\n",
       "      <th>campaign</th>\n",
       "      <th>pdays</th>\n",
       "      <th>previous</th>\n",
       "      <th>poutcome</th>\n",
       "      <th>emp.var.rate</th>\n",
       "      <th>cons.price.idx</th>\n",
       "      <th>cons.conf.idx</th>\n",
       "      <th>euribor3m</th>\n",
       "      <th>nr.employed</th>\n",
       "      <th>y</th>\n",
       "    </tr>\n",
       "  </thead>\n",
       "  <tbody>\n",
       "    <tr>\n",
       "      <th>0</th>\n",
       "      <td>56</td>\n",
       "      <td>housemaid</td>\n",
       "      <td>married</td>\n",
       "      <td>basic.4y</td>\n",
       "      <td>no</td>\n",
       "      <td>no</td>\n",
       "      <td>no</td>\n",
       "      <td>telephone</td>\n",
       "      <td>may</td>\n",
       "      <td>mon</td>\n",
       "      <td>...</td>\n",
       "      <td>1</td>\n",
       "      <td>999</td>\n",
       "      <td>0</td>\n",
       "      <td>nonexistent</td>\n",
       "      <td>1.1</td>\n",
       "      <td>93.994</td>\n",
       "      <td>-36.4</td>\n",
       "      <td>4.857</td>\n",
       "      <td>5191.0</td>\n",
       "      <td>no</td>\n",
       "    </tr>\n",
       "    <tr>\n",
       "      <th>1</th>\n",
       "      <td>57</td>\n",
       "      <td>services</td>\n",
       "      <td>married</td>\n",
       "      <td>high.school</td>\n",
       "      <td>unknown</td>\n",
       "      <td>no</td>\n",
       "      <td>no</td>\n",
       "      <td>telephone</td>\n",
       "      <td>may</td>\n",
       "      <td>mon</td>\n",
       "      <td>...</td>\n",
       "      <td>1</td>\n",
       "      <td>999</td>\n",
       "      <td>0</td>\n",
       "      <td>nonexistent</td>\n",
       "      <td>1.1</td>\n",
       "      <td>93.994</td>\n",
       "      <td>-36.4</td>\n",
       "      <td>4.857</td>\n",
       "      <td>5191.0</td>\n",
       "      <td>no</td>\n",
       "    </tr>\n",
       "    <tr>\n",
       "      <th>2</th>\n",
       "      <td>37</td>\n",
       "      <td>services</td>\n",
       "      <td>married</td>\n",
       "      <td>high.school</td>\n",
       "      <td>no</td>\n",
       "      <td>yes</td>\n",
       "      <td>no</td>\n",
       "      <td>telephone</td>\n",
       "      <td>may</td>\n",
       "      <td>mon</td>\n",
       "      <td>...</td>\n",
       "      <td>1</td>\n",
       "      <td>999</td>\n",
       "      <td>0</td>\n",
       "      <td>nonexistent</td>\n",
       "      <td>1.1</td>\n",
       "      <td>93.994</td>\n",
       "      <td>-36.4</td>\n",
       "      <td>4.857</td>\n",
       "      <td>5191.0</td>\n",
       "      <td>no</td>\n",
       "    </tr>\n",
       "    <tr>\n",
       "      <th>3</th>\n",
       "      <td>40</td>\n",
       "      <td>admin.</td>\n",
       "      <td>married</td>\n",
       "      <td>basic.6y</td>\n",
       "      <td>no</td>\n",
       "      <td>no</td>\n",
       "      <td>no</td>\n",
       "      <td>telephone</td>\n",
       "      <td>may</td>\n",
       "      <td>mon</td>\n",
       "      <td>...</td>\n",
       "      <td>1</td>\n",
       "      <td>999</td>\n",
       "      <td>0</td>\n",
       "      <td>nonexistent</td>\n",
       "      <td>1.1</td>\n",
       "      <td>93.994</td>\n",
       "      <td>-36.4</td>\n",
       "      <td>4.857</td>\n",
       "      <td>5191.0</td>\n",
       "      <td>no</td>\n",
       "    </tr>\n",
       "    <tr>\n",
       "      <th>4</th>\n",
       "      <td>56</td>\n",
       "      <td>services</td>\n",
       "      <td>married</td>\n",
       "      <td>high.school</td>\n",
       "      <td>no</td>\n",
       "      <td>no</td>\n",
       "      <td>yes</td>\n",
       "      <td>telephone</td>\n",
       "      <td>may</td>\n",
       "      <td>mon</td>\n",
       "      <td>...</td>\n",
       "      <td>1</td>\n",
       "      <td>999</td>\n",
       "      <td>0</td>\n",
       "      <td>nonexistent</td>\n",
       "      <td>1.1</td>\n",
       "      <td>93.994</td>\n",
       "      <td>-36.4</td>\n",
       "      <td>4.857</td>\n",
       "      <td>5191.0</td>\n",
       "      <td>no</td>\n",
       "    </tr>\n",
       "  </tbody>\n",
       "</table>\n",
       "<p>5 rows × 21 columns</p>\n",
       "</div>"
      ],
      "text/plain": [
       "   age        job  marital    education  default housing loan    contact  \\\n",
       "0   56  housemaid  married     basic.4y       no      no   no  telephone   \n",
       "1   57   services  married  high.school  unknown      no   no  telephone   \n",
       "2   37   services  married  high.school       no     yes   no  telephone   \n",
       "3   40     admin.  married     basic.6y       no      no   no  telephone   \n",
       "4   56   services  married  high.school       no      no  yes  telephone   \n",
       "\n",
       "  month day_of_week  ...  campaign  pdays  previous     poutcome emp.var.rate  \\\n",
       "0   may         mon  ...         1    999         0  nonexistent          1.1   \n",
       "1   may         mon  ...         1    999         0  nonexistent          1.1   \n",
       "2   may         mon  ...         1    999         0  nonexistent          1.1   \n",
       "3   may         mon  ...         1    999         0  nonexistent          1.1   \n",
       "4   may         mon  ...         1    999         0  nonexistent          1.1   \n",
       "\n",
       "   cons.price.idx  cons.conf.idx  euribor3m  nr.employed   y  \n",
       "0          93.994          -36.4      4.857       5191.0  no  \n",
       "1          93.994          -36.4      4.857       5191.0  no  \n",
       "2          93.994          -36.4      4.857       5191.0  no  \n",
       "3          93.994          -36.4      4.857       5191.0  no  \n",
       "4          93.994          -36.4      4.857       5191.0  no  \n",
       "\n",
       "[5 rows x 21 columns]"
      ]
     },
     "execution_count": 2,
     "metadata": {},
     "output_type": "execute_result"
    }
   ],
   "source": [
    "df = pd.read_csv('bank-additional-full.csv', sep=\";\")\n",
    "df.head()"
   ]
  },
  {
   "cell_type": "code",
   "execution_count": 3,
   "id": "eceab276",
   "metadata": {
    "scrolled": true
   },
   "outputs": [
    {
     "name": "stdout",
     "output_type": "stream",
     "text": [
      "Ukuran dimensi data : (41188, 21)\n"
     ]
    }
   ],
   "source": [
    "# menentukan dimensi (baris, kolom) dataset\n",
    "print(f'Ukuran dimensi data : {df.shape}')"
   ]
  },
  {
   "cell_type": "markdown",
   "id": "dcfab5fb",
   "metadata": {},
   "source": [
    "### Penjelasan Atribut/Fitur Dataset"
   ]
  },
  {
   "cell_type": "markdown",
   "id": "5caec813",
   "metadata": {},
   "source": [
    "Dataset memiliki 21 atribut dan terdapat 41188 instance/datapoints. Jadi terdapat 20 atribut prediktor/independen dan 1 atribut dependen.\n",
    "\n",
    "* __Atribut klien bank__:\n",
    "    1. age: umur klien (numerik)\n",
    "    2. job : jenis pekerjaan (kategorik: 'admin.','blue-collar','entrepreneur','housemaid','management','retired','self-employed','services','student','technician','unemployed','unknown')\n",
    "    3. marital : status perkawinan (kategorik: 'divorced','married','single','unknown')\n",
    "    4. education : pendidikan tertinggi klien (kategorik: 'basic.4y','basic.6y','basic.9y','high.school','illiterate','professional.course','university.degree','unknown')\n",
    "    5. default: apakah memiliki default kredit? (kategorik: 'no','yes','unknown')\n",
    "    6. housing: apakah memiliki pinjaman rumah? (kategorik: 'no','yes','unknown')\n",
    "    7. loan: apakah memiliki pinjaman pribadi? (kategorik: 'no','yes','unknown') \n",
    "    \n",
    "    \n",
    "* __Atribut yang terkait dengan kontak terakhir dari kampanye saat ini__:\n",
    "    1. contact: jenis alat komunikasi (kategorik: 'cellular','telephone')\n",
    "    2. day_of_week: hari kontak terakhir dalam seminggu (kategorik: 'mon','tue','wed','thu','fri')\n",
    "    3. month: kontak terakhir berdasarkan bulan (kategorik: 'mar', 'apr', 'mei', ..., 'nov', 'dec')\n",
    "    4. duration: durasi kontak terakhir, dalam detik (numerik).\n",
    "    \n",
    "    \n",
    "* __Atribut lainnya:__\n",
    "    1. campaign: jumlah kontak yang dilakukan selama kampanye ini dan untuk klien ini (numerik, termasuk kontak terakhir)\n",
    "    2. pdays: jumlah hari yang berlalu setelah klien terakhir dihubungi dari kampanye sebelumnya (numerik; -999 mengartikan klien sebelumnya tidak dihubungi)\n",
    "    3. previous: jumlah kontak yang dilakukan sebelum kampanye ini dan untuk klien ini (numerik)\n",
    "    4. poutcome: hasil dari kampanye pemasaran sebelumnya (kategorik: 'failure','nonexistent','success')\n",
    "    \n",
    "    \n",
    "* __Atribut konteks sosial dan ekonomi:__\n",
    "    1. emp.var.rate: tingkat variasi pekerjaan - indikator triwulanan (numerik)\n",
    "    2. cons.price.idx: indeks harga konsumen - indikator bulanan (numerik)\n",
    "    3. cons.conf.idx: indeks kepercayaan konsumen - indikator bulanan (numerik)\n",
    "    4. euribor3m: biaya euribor 3 bulan - indikator harian (numerik)\n",
    "    5. nr.employed: jumlah karyawan - indikator triwulanan (numerik)\n",
    "    \n",
    "    \n",
    "* __Variabel output (target yang diinginkan)__:\n",
    "    1. y: apakah pelanggan akan berlangganan produk deposito berjangka? (biner: yes('ya'), no('tidak'))"
   ]
  },
  {
   "cell_type": "markdown",
   "id": "1b5074e6",
   "metadata": {},
   "source": [
    "## EDA"
   ]
  },
  {
   "cell_type": "markdown",
   "id": "4eb565ec",
   "metadata": {},
   "source": [
    "### Klasifikasi Tipe data"
   ]
  },
  {
   "cell_type": "code",
   "execution_count": 4,
   "id": "0f74cc15",
   "metadata": {},
   "outputs": [
    {
     "name": "stdout",
     "output_type": "stream",
     "text": [
      "<class 'pandas.core.frame.DataFrame'>\n",
      "RangeIndex: 41188 entries, 0 to 41187\n",
      "Data columns (total 21 columns):\n",
      " #   Column          Non-Null Count  Dtype  \n",
      "---  ------          --------------  -----  \n",
      " 0   age             41188 non-null  int64  \n",
      " 1   job             41188 non-null  object \n",
      " 2   marital         41188 non-null  object \n",
      " 3   education       41188 non-null  object \n",
      " 4   default         41188 non-null  object \n",
      " 5   housing         41188 non-null  object \n",
      " 6   loan            41188 non-null  object \n",
      " 7   contact         41188 non-null  object \n",
      " 8   month           41188 non-null  object \n",
      " 9   day_of_week     41188 non-null  object \n",
      " 10  duration        41188 non-null  int64  \n",
      " 11  campaign        41188 non-null  int64  \n",
      " 12  pdays           41188 non-null  int64  \n",
      " 13  previous        41188 non-null  int64  \n",
      " 14  poutcome        41188 non-null  object \n",
      " 15  emp.var.rate    41188 non-null  float64\n",
      " 16  cons.price.idx  41188 non-null  float64\n",
      " 17  cons.conf.idx   41188 non-null  float64\n",
      " 18  euribor3m       41188 non-null  float64\n",
      " 19  nr.employed     41188 non-null  float64\n",
      " 20  y               41188 non-null  object \n",
      "dtypes: float64(5), int64(5), object(11)\n",
      "memory usage: 6.6+ MB\n"
     ]
    }
   ],
   "source": [
    "df.info()"
   ]
  },
  {
   "cell_type": "markdown",
   "id": "0e4f4a5f",
   "metadata": {},
   "source": [
    "Berikut ini daftar atribut kategorikal dan numerikal berdasarkan informasi DataFrame:"
   ]
  },
  {
   "cell_type": "markdown",
   "id": "b0caa1a9",
   "metadata": {},
   "source": [
    "__Daftar atribut numerikal :__\n",
    "1. age \n",
    "2. duration\n",
    "3. campaign\n",
    "4. pdays\n",
    "5. previous\n",
    "6. emp.var.rate\n",
    "7. cons.price.idex\n",
    "8. cons.conf.idx\n",
    "9. euribor3m\n",
    "10. nr.employed\n",
    "\n",
    "__Daftar atribut kategorikal :__\n",
    "1. job\n",
    "2. marital \n",
    "3. education\n",
    "4. default\n",
    "5. housing\n",
    "6. loan\n",
    "7. contact\n",
    "8. month\n",
    "9. day_of_week\n",
    "10. poutcome\n",
    "11. y (target)"
   ]
  },
  {
   "cell_type": "markdown",
   "id": "93165111",
   "metadata": {},
   "source": [
    "### Mengelompokkan kolom sesuai dengan tipe data (numerikal, kategorikal)"
   ]
  },
  {
   "cell_type": "code",
   "execution_count": 5,
   "id": "1abc9699",
   "metadata": {},
   "outputs": [
    {
     "name": "stdout",
     "output_type": "stream",
     "text": [
      "Fitur numerikal :\n",
      "['age', 'campaign', 'cons.conf.idx', 'cons.price.idx', 'duration', 'emp.var.rate', 'euribor3m', 'nr.employed', 'pdays', 'previous']\n",
      "Fitur kategorikal :\n",
      "['job', 'marital', 'education', 'default', 'housing', 'loan', 'contact', 'month', 'day_of_week', 'poutcome', 'y']\n"
     ]
    }
   ],
   "source": [
    "# membuat list 'num_cols' untuk menampung tipe data numerikal\n",
    "num_cols = [\"age\",\"duration\",\"campaign\", \"pdays\", \"previous\",\"emp.var.rate\", \"cons.price.idx\", \"cons.conf.idx\",\n",
    "            \"euribor3m\", \"nr.employed\"]\n",
    "\n",
    "# membuat list 'cat_cols' untuk menampung tipe data kategorikal\n",
    "cat_cols = ['job', 'marital', 'education', 'default', 'housing', 'loan', 'contact', 'month', 'day_of_week',\n",
    "            'poutcome','y']\n",
    "\n",
    "# menggabungkan keseluruhan tipe data numerik yang tersimpan pada list 'num_cols'\n",
    "num_cols = list(df.select_dtypes(include=['int64']) + df.select_dtypes(include=['float64']))\n",
    "\n",
    "cat_cols = list(df.select_dtypes(include=['object']))\n",
    "\n",
    "print(f\"Fitur numerikal :\\n{num_cols}\")\n",
    "print(f\"Fitur kategorikal :\\n{cat_cols}\")"
   ]
  },
  {
   "cell_type": "markdown",
   "id": "e8c1d556",
   "metadata": {},
   "source": [
    "### Deskripsi Statistik"
   ]
  },
  {
   "cell_type": "code",
   "execution_count": 6,
   "id": "adfb2b0f",
   "metadata": {},
   "outputs": [
    {
     "data": {
      "text/html": [
       "<div>\n",
       "<style scoped>\n",
       "    .dataframe tbody tr th:only-of-type {\n",
       "        vertical-align: middle;\n",
       "    }\n",
       "\n",
       "    .dataframe tbody tr th {\n",
       "        vertical-align: top;\n",
       "    }\n",
       "\n",
       "    .dataframe thead th {\n",
       "        text-align: right;\n",
       "    }\n",
       "</style>\n",
       "<table border=\"1\" class=\"dataframe\">\n",
       "  <thead>\n",
       "    <tr style=\"text-align: right;\">\n",
       "      <th></th>\n",
       "      <th>age</th>\n",
       "      <th>campaign</th>\n",
       "      <th>cons.conf.idx</th>\n",
       "      <th>cons.price.idx</th>\n",
       "      <th>duration</th>\n",
       "      <th>emp.var.rate</th>\n",
       "      <th>euribor3m</th>\n",
       "      <th>nr.employed</th>\n",
       "      <th>pdays</th>\n",
       "      <th>previous</th>\n",
       "    </tr>\n",
       "  </thead>\n",
       "  <tbody>\n",
       "    <tr>\n",
       "      <th>count</th>\n",
       "      <td>41188.00000</td>\n",
       "      <td>41188.000000</td>\n",
       "      <td>41188.000000</td>\n",
       "      <td>41188.000000</td>\n",
       "      <td>41188.000000</td>\n",
       "      <td>41188.000000</td>\n",
       "      <td>41188.000000</td>\n",
       "      <td>41188.000000</td>\n",
       "      <td>41188.000000</td>\n",
       "      <td>41188.000000</td>\n",
       "    </tr>\n",
       "    <tr>\n",
       "      <th>mean</th>\n",
       "      <td>40.02406</td>\n",
       "      <td>2.567593</td>\n",
       "      <td>-40.502600</td>\n",
       "      <td>93.575664</td>\n",
       "      <td>258.285010</td>\n",
       "      <td>0.081886</td>\n",
       "      <td>3.621291</td>\n",
       "      <td>5167.035911</td>\n",
       "      <td>962.475454</td>\n",
       "      <td>0.172963</td>\n",
       "    </tr>\n",
       "    <tr>\n",
       "      <th>std</th>\n",
       "      <td>10.42125</td>\n",
       "      <td>2.770014</td>\n",
       "      <td>4.628198</td>\n",
       "      <td>0.578840</td>\n",
       "      <td>259.279249</td>\n",
       "      <td>1.570960</td>\n",
       "      <td>1.734447</td>\n",
       "      <td>72.251528</td>\n",
       "      <td>186.910907</td>\n",
       "      <td>0.494901</td>\n",
       "    </tr>\n",
       "    <tr>\n",
       "      <th>min</th>\n",
       "      <td>17.00000</td>\n",
       "      <td>1.000000</td>\n",
       "      <td>-50.800000</td>\n",
       "      <td>92.201000</td>\n",
       "      <td>0.000000</td>\n",
       "      <td>-3.400000</td>\n",
       "      <td>0.634000</td>\n",
       "      <td>4963.600000</td>\n",
       "      <td>0.000000</td>\n",
       "      <td>0.000000</td>\n",
       "    </tr>\n",
       "    <tr>\n",
       "      <th>25%</th>\n",
       "      <td>32.00000</td>\n",
       "      <td>1.000000</td>\n",
       "      <td>-42.700000</td>\n",
       "      <td>93.075000</td>\n",
       "      <td>102.000000</td>\n",
       "      <td>-1.800000</td>\n",
       "      <td>1.344000</td>\n",
       "      <td>5099.100000</td>\n",
       "      <td>999.000000</td>\n",
       "      <td>0.000000</td>\n",
       "    </tr>\n",
       "    <tr>\n",
       "      <th>50%</th>\n",
       "      <td>38.00000</td>\n",
       "      <td>2.000000</td>\n",
       "      <td>-41.800000</td>\n",
       "      <td>93.749000</td>\n",
       "      <td>180.000000</td>\n",
       "      <td>1.100000</td>\n",
       "      <td>4.857000</td>\n",
       "      <td>5191.000000</td>\n",
       "      <td>999.000000</td>\n",
       "      <td>0.000000</td>\n",
       "    </tr>\n",
       "    <tr>\n",
       "      <th>75%</th>\n",
       "      <td>47.00000</td>\n",
       "      <td>3.000000</td>\n",
       "      <td>-36.400000</td>\n",
       "      <td>93.994000</td>\n",
       "      <td>319.000000</td>\n",
       "      <td>1.400000</td>\n",
       "      <td>4.961000</td>\n",
       "      <td>5228.100000</td>\n",
       "      <td>999.000000</td>\n",
       "      <td>0.000000</td>\n",
       "    </tr>\n",
       "    <tr>\n",
       "      <th>max</th>\n",
       "      <td>98.00000</td>\n",
       "      <td>56.000000</td>\n",
       "      <td>-26.900000</td>\n",
       "      <td>94.767000</td>\n",
       "      <td>4918.000000</td>\n",
       "      <td>1.400000</td>\n",
       "      <td>5.045000</td>\n",
       "      <td>5228.100000</td>\n",
       "      <td>999.000000</td>\n",
       "      <td>7.000000</td>\n",
       "    </tr>\n",
       "  </tbody>\n",
       "</table>\n",
       "</div>"
      ],
      "text/plain": [
       "               age      campaign  cons.conf.idx  cons.price.idx      duration  \\\n",
       "count  41188.00000  41188.000000   41188.000000    41188.000000  41188.000000   \n",
       "mean      40.02406      2.567593     -40.502600       93.575664    258.285010   \n",
       "std       10.42125      2.770014       4.628198        0.578840    259.279249   \n",
       "min       17.00000      1.000000     -50.800000       92.201000      0.000000   \n",
       "25%       32.00000      1.000000     -42.700000       93.075000    102.000000   \n",
       "50%       38.00000      2.000000     -41.800000       93.749000    180.000000   \n",
       "75%       47.00000      3.000000     -36.400000       93.994000    319.000000   \n",
       "max       98.00000     56.000000     -26.900000       94.767000   4918.000000   \n",
       "\n",
       "       emp.var.rate     euribor3m   nr.employed         pdays      previous  \n",
       "count  41188.000000  41188.000000  41188.000000  41188.000000  41188.000000  \n",
       "mean       0.081886      3.621291   5167.035911    962.475454      0.172963  \n",
       "std        1.570960      1.734447     72.251528    186.910907      0.494901  \n",
       "min       -3.400000      0.634000   4963.600000      0.000000      0.000000  \n",
       "25%       -1.800000      1.344000   5099.100000    999.000000      0.000000  \n",
       "50%        1.100000      4.857000   5191.000000    999.000000      0.000000  \n",
       "75%        1.400000      4.961000   5228.100000    999.000000      0.000000  \n",
       "max        1.400000      5.045000   5228.100000    999.000000      7.000000  "
      ]
     },
     "execution_count": 6,
     "metadata": {},
     "output_type": "execute_result"
    }
   ],
   "source": [
    "# Menampilkan deskripsi statistik data numerik\n",
    "df[num_cols].describe()"
   ]
  },
  {
   "cell_type": "code",
   "execution_count": 7,
   "id": "e0932f29",
   "metadata": {},
   "outputs": [
    {
     "data": {
      "text/html": [
       "<div>\n",
       "<style scoped>\n",
       "    .dataframe tbody tr th:only-of-type {\n",
       "        vertical-align: middle;\n",
       "    }\n",
       "\n",
       "    .dataframe tbody tr th {\n",
       "        vertical-align: top;\n",
       "    }\n",
       "\n",
       "    .dataframe thead th {\n",
       "        text-align: right;\n",
       "    }\n",
       "</style>\n",
       "<table border=\"1\" class=\"dataframe\">\n",
       "  <thead>\n",
       "    <tr style=\"text-align: right;\">\n",
       "      <th></th>\n",
       "      <th>job</th>\n",
       "      <th>marital</th>\n",
       "      <th>education</th>\n",
       "      <th>default</th>\n",
       "      <th>housing</th>\n",
       "      <th>loan</th>\n",
       "      <th>contact</th>\n",
       "      <th>month</th>\n",
       "      <th>day_of_week</th>\n",
       "      <th>poutcome</th>\n",
       "      <th>y</th>\n",
       "    </tr>\n",
       "  </thead>\n",
       "  <tbody>\n",
       "    <tr>\n",
       "      <th>count</th>\n",
       "      <td>41188</td>\n",
       "      <td>41188</td>\n",
       "      <td>41188</td>\n",
       "      <td>41188</td>\n",
       "      <td>41188</td>\n",
       "      <td>41188</td>\n",
       "      <td>41188</td>\n",
       "      <td>41188</td>\n",
       "      <td>41188</td>\n",
       "      <td>41188</td>\n",
       "      <td>41188</td>\n",
       "    </tr>\n",
       "    <tr>\n",
       "      <th>unique</th>\n",
       "      <td>12</td>\n",
       "      <td>4</td>\n",
       "      <td>8</td>\n",
       "      <td>3</td>\n",
       "      <td>3</td>\n",
       "      <td>3</td>\n",
       "      <td>2</td>\n",
       "      <td>10</td>\n",
       "      <td>5</td>\n",
       "      <td>3</td>\n",
       "      <td>2</td>\n",
       "    </tr>\n",
       "    <tr>\n",
       "      <th>top</th>\n",
       "      <td>admin.</td>\n",
       "      <td>married</td>\n",
       "      <td>university.degree</td>\n",
       "      <td>no</td>\n",
       "      <td>yes</td>\n",
       "      <td>no</td>\n",
       "      <td>cellular</td>\n",
       "      <td>may</td>\n",
       "      <td>thu</td>\n",
       "      <td>nonexistent</td>\n",
       "      <td>no</td>\n",
       "    </tr>\n",
       "    <tr>\n",
       "      <th>freq</th>\n",
       "      <td>10422</td>\n",
       "      <td>24928</td>\n",
       "      <td>12168</td>\n",
       "      <td>32588</td>\n",
       "      <td>21576</td>\n",
       "      <td>33950</td>\n",
       "      <td>26144</td>\n",
       "      <td>13769</td>\n",
       "      <td>8623</td>\n",
       "      <td>35563</td>\n",
       "      <td>36548</td>\n",
       "    </tr>\n",
       "  </tbody>\n",
       "</table>\n",
       "</div>"
      ],
      "text/plain": [
       "           job  marital          education default housing   loan   contact  \\\n",
       "count    41188    41188              41188   41188   41188  41188     41188   \n",
       "unique      12        4                  8       3       3      3         2   \n",
       "top     admin.  married  university.degree      no     yes     no  cellular   \n",
       "freq     10422    24928              12168   32588   21576  33950     26144   \n",
       "\n",
       "        month day_of_week     poutcome      y  \n",
       "count   41188       41188        41188  41188  \n",
       "unique     10           5            3      2  \n",
       "top       may         thu  nonexistent     no  \n",
       "freq    13769        8623        35563  36548  "
      ]
     },
     "execution_count": 7,
     "metadata": {},
     "output_type": "execute_result"
    }
   ],
   "source": [
    "# # Menampilkan deskripsi statistik data kategorik\n",
    "df[cat_cols].describe(include='O')"
   ]
  },
  {
   "cell_type": "markdown",
   "id": "caf8c054",
   "metadata": {},
   "source": [
    "## Data Cleansing"
   ]
  },
  {
   "cell_type": "markdown",
   "id": "68d8c671",
   "metadata": {},
   "source": [
    "### Mengetahui Non-Standard Missing Values pada tipe data kategorikal"
   ]
  },
  {
   "cell_type": "code",
   "execution_count": 8,
   "id": "06b1a361",
   "metadata": {},
   "outputs": [
    {
     "name": "stdout",
     "output_type": "stream",
     "text": [
      "Jumlah nilai unik untuk kolom job bernilai 12 \n",
      " nilai unik = ['housemaid' 'services' 'admin.' 'blue-collar' 'technician' 'retired'\n",
      " 'management' 'unemployed' 'self-employed' 'unknown' 'entrepreneur'\n",
      " 'student']\n",
      "========================================\n",
      "Jumlah nilai unik untuk kolom marital bernilai 4 \n",
      " nilai unik = ['married' 'single' 'divorced' 'unknown']\n",
      "========================================\n",
      "Jumlah nilai unik untuk kolom education bernilai 8 \n",
      " nilai unik = ['basic.4y' 'high.school' 'basic.6y' 'basic.9y' 'professional.course'\n",
      " 'unknown' 'university.degree' 'illiterate']\n",
      "========================================\n",
      "Jumlah nilai unik untuk kolom default bernilai 3 \n",
      " nilai unik = ['no' 'unknown' 'yes']\n",
      "========================================\n",
      "Jumlah nilai unik untuk kolom housing bernilai 3 \n",
      " nilai unik = ['no' 'yes' 'unknown']\n",
      "========================================\n",
      "Jumlah nilai unik untuk kolom loan bernilai 3 \n",
      " nilai unik = ['no' 'yes' 'unknown']\n",
      "========================================\n",
      "Jumlah nilai unik untuk kolom contact bernilai 2 \n",
      " nilai unik = ['telephone' 'cellular']\n",
      "========================================\n",
      "Jumlah nilai unik untuk kolom month bernilai 10 \n",
      " nilai unik = ['may' 'jun' 'jul' 'aug' 'oct' 'nov' 'dec' 'mar' 'apr' 'sep']\n",
      "========================================\n",
      "Jumlah nilai unik untuk kolom day_of_week bernilai 5 \n",
      " nilai unik = ['mon' 'tue' 'wed' 'thu' 'fri']\n",
      "========================================\n",
      "Jumlah nilai unik untuk kolom poutcome bernilai 3 \n",
      " nilai unik = ['nonexistent' 'failure' 'success']\n",
      "========================================\n",
      "Jumlah nilai unik untuk kolom y bernilai 2 \n",
      " nilai unik = ['no' 'yes']\n",
      "========================================\n"
     ]
    }
   ],
   "source": [
    "# Mengetahui jumlah nilai unik setiap kolom kategorik\n",
    "\n",
    "for i in cat_cols:\n",
    "    print('Jumlah nilai unik untuk kolom {} bernilai {} \\n nilai unik = {}'.format\n",
    "          (i, len(df[i].unique()), df[i].unique()))\n",
    "    print('='*40)"
   ]
  },
  {
   "cell_type": "markdown",
   "id": "5575053a",
   "metadata": {},
   "source": [
    "### Prediksi kesesuaian data berdasarkan pekerjaan dan pendidikan"
   ]
  },
  {
   "cell_type": "markdown",
   "id": "a028c308",
   "metadata": {},
   "source": [
    "**Analisis:** untuk memperoleh nilai 'unknown' dalam 'pekerjaan' dan 'pendidikan'\n",
    "\n",
    "\n",
    "Untuk menyimpulkan nilai-nilai yang hilang dalam 'pekerjaan' dan 'pendidikan', dapat digunakan tabulasi antara 'pekerjaan' dan 'pendidikan'. Diperkirakan bahwa 'pekerjaan' dipengaruhi oleh 'pendidikan' seseorang. Oleh karena itu, dapat ditentukan bahwa 'pekerjaan' berdasarkan pendidikan orang tersebut."
   ]
  },
  {
   "cell_type": "code",
   "execution_count": 9,
   "id": "55830064",
   "metadata": {},
   "outputs": [],
   "source": [
    "# membuat tabulasi antara 'job' dan 'education'\n",
    "def cross_tab(df,f_1,f_2):\n",
    "    jobs=list(df[f_1].unique())\n",
    "    edu=list(df[f_2].unique())\n",
    "    edu_for_jobs =[]\n",
    "    for e in edu:\n",
    "        dfe=df[df[f_2]==e]\n",
    "        dfejob=dfe.groupby(f_1).count()[f_2]\n",
    "        edu_for_jobs.append(dfejob)\n",
    "    ct=pd.concat(edu_for_jobs,axis=1)\n",
    "    ct.columns=edu\n",
    "    ct=ct.fillna(0)\n",
    "    return ct"
   ]
  },
  {
   "cell_type": "code",
   "execution_count": 10,
   "id": "5071c8ec",
   "metadata": {},
   "outputs": [
    {
     "data": {
      "text/html": [
       "<div>\n",
       "<style scoped>\n",
       "    .dataframe tbody tr th:only-of-type {\n",
       "        vertical-align: middle;\n",
       "    }\n",
       "\n",
       "    .dataframe tbody tr th {\n",
       "        vertical-align: top;\n",
       "    }\n",
       "\n",
       "    .dataframe thead th {\n",
       "        text-align: right;\n",
       "    }\n",
       "</style>\n",
       "<table border=\"1\" class=\"dataframe\">\n",
       "  <thead>\n",
       "    <tr style=\"text-align: right;\">\n",
       "      <th></th>\n",
       "      <th>basic.4y</th>\n",
       "      <th>high.school</th>\n",
       "      <th>basic.6y</th>\n",
       "      <th>basic.9y</th>\n",
       "      <th>professional.course</th>\n",
       "      <th>unknown</th>\n",
       "      <th>university.degree</th>\n",
       "      <th>illiterate</th>\n",
       "    </tr>\n",
       "    <tr>\n",
       "      <th>job</th>\n",
       "      <th></th>\n",
       "      <th></th>\n",
       "      <th></th>\n",
       "      <th></th>\n",
       "      <th></th>\n",
       "      <th></th>\n",
       "      <th></th>\n",
       "      <th></th>\n",
       "    </tr>\n",
       "  </thead>\n",
       "  <tbody>\n",
       "    <tr>\n",
       "      <th>admin.</th>\n",
       "      <td>77</td>\n",
       "      <td>3329</td>\n",
       "      <td>151</td>\n",
       "      <td>499</td>\n",
       "      <td>363</td>\n",
       "      <td>249</td>\n",
       "      <td>5753</td>\n",
       "      <td>1.0</td>\n",
       "    </tr>\n",
       "    <tr>\n",
       "      <th>blue-collar</th>\n",
       "      <td>2318</td>\n",
       "      <td>878</td>\n",
       "      <td>1426</td>\n",
       "      <td>3623</td>\n",
       "      <td>453</td>\n",
       "      <td>454</td>\n",
       "      <td>94</td>\n",
       "      <td>8.0</td>\n",
       "    </tr>\n",
       "    <tr>\n",
       "      <th>entrepreneur</th>\n",
       "      <td>137</td>\n",
       "      <td>234</td>\n",
       "      <td>71</td>\n",
       "      <td>210</td>\n",
       "      <td>135</td>\n",
       "      <td>57</td>\n",
       "      <td>610</td>\n",
       "      <td>2.0</td>\n",
       "    </tr>\n",
       "    <tr>\n",
       "      <th>housemaid</th>\n",
       "      <td>474</td>\n",
       "      <td>174</td>\n",
       "      <td>77</td>\n",
       "      <td>94</td>\n",
       "      <td>59</td>\n",
       "      <td>42</td>\n",
       "      <td>139</td>\n",
       "      <td>1.0</td>\n",
       "    </tr>\n",
       "    <tr>\n",
       "      <th>management</th>\n",
       "      <td>100</td>\n",
       "      <td>298</td>\n",
       "      <td>85</td>\n",
       "      <td>166</td>\n",
       "      <td>89</td>\n",
       "      <td>123</td>\n",
       "      <td>2063</td>\n",
       "      <td>0.0</td>\n",
       "    </tr>\n",
       "    <tr>\n",
       "      <th>retired</th>\n",
       "      <td>597</td>\n",
       "      <td>276</td>\n",
       "      <td>75</td>\n",
       "      <td>145</td>\n",
       "      <td>241</td>\n",
       "      <td>98</td>\n",
       "      <td>285</td>\n",
       "      <td>3.0</td>\n",
       "    </tr>\n",
       "    <tr>\n",
       "      <th>self-employed</th>\n",
       "      <td>93</td>\n",
       "      <td>118</td>\n",
       "      <td>25</td>\n",
       "      <td>220</td>\n",
       "      <td>168</td>\n",
       "      <td>29</td>\n",
       "      <td>765</td>\n",
       "      <td>3.0</td>\n",
       "    </tr>\n",
       "    <tr>\n",
       "      <th>services</th>\n",
       "      <td>132</td>\n",
       "      <td>2682</td>\n",
       "      <td>226</td>\n",
       "      <td>388</td>\n",
       "      <td>218</td>\n",
       "      <td>150</td>\n",
       "      <td>173</td>\n",
       "      <td>0.0</td>\n",
       "    </tr>\n",
       "    <tr>\n",
       "      <th>student</th>\n",
       "      <td>26</td>\n",
       "      <td>357</td>\n",
       "      <td>13</td>\n",
       "      <td>99</td>\n",
       "      <td>43</td>\n",
       "      <td>167</td>\n",
       "      <td>170</td>\n",
       "      <td>0.0</td>\n",
       "    </tr>\n",
       "    <tr>\n",
       "      <th>technician</th>\n",
       "      <td>58</td>\n",
       "      <td>873</td>\n",
       "      <td>87</td>\n",
       "      <td>384</td>\n",
       "      <td>3320</td>\n",
       "      <td>212</td>\n",
       "      <td>1809</td>\n",
       "      <td>0.0</td>\n",
       "    </tr>\n",
       "    <tr>\n",
       "      <th>unemployed</th>\n",
       "      <td>112</td>\n",
       "      <td>259</td>\n",
       "      <td>34</td>\n",
       "      <td>186</td>\n",
       "      <td>142</td>\n",
       "      <td>19</td>\n",
       "      <td>262</td>\n",
       "      <td>0.0</td>\n",
       "    </tr>\n",
       "    <tr>\n",
       "      <th>unknown</th>\n",
       "      <td>52</td>\n",
       "      <td>37</td>\n",
       "      <td>22</td>\n",
       "      <td>31</td>\n",
       "      <td>12</td>\n",
       "      <td>131</td>\n",
       "      <td>45</td>\n",
       "      <td>0.0</td>\n",
       "    </tr>\n",
       "  </tbody>\n",
       "</table>\n",
       "</div>"
      ],
      "text/plain": [
       "               basic.4y  high.school  basic.6y  basic.9y  professional.course  \\\n",
       "job                                                                             \n",
       "admin.               77         3329       151       499                  363   \n",
       "blue-collar        2318          878      1426      3623                  453   \n",
       "entrepreneur        137          234        71       210                  135   \n",
       "housemaid           474          174        77        94                   59   \n",
       "management          100          298        85       166                   89   \n",
       "retired             597          276        75       145                  241   \n",
       "self-employed        93          118        25       220                  168   \n",
       "services            132         2682       226       388                  218   \n",
       "student              26          357        13        99                   43   \n",
       "technician           58          873        87       384                 3320   \n",
       "unemployed          112          259        34       186                  142   \n",
       "unknown              52           37        22        31                   12   \n",
       "\n",
       "               unknown  university.degree  illiterate  \n",
       "job                                                    \n",
       "admin.             249               5753         1.0  \n",
       "blue-collar        454                 94         8.0  \n",
       "entrepreneur        57                610         2.0  \n",
       "housemaid           42                139         1.0  \n",
       "management         123               2063         0.0  \n",
       "retired             98                285         3.0  \n",
       "self-employed       29                765         3.0  \n",
       "services           150                173         0.0  \n",
       "student            167                170         0.0  \n",
       "technician         212               1809         0.0  \n",
       "unemployed          19                262         0.0  \n",
       "unknown            131                 45         0.0  "
      ]
     },
     "execution_count": 10,
     "metadata": {},
     "output_type": "execute_result"
    }
   ],
   "source": [
    "cross_tab(df,'job','education')"
   ]
  },
  {
   "cell_type": "markdown",
   "id": "2fc2c3da",
   "metadata": {},
   "source": [
    "**Analisis:** Berdasarkan hipotesis kesesuaian data pekerjaan dan pendidikan, maka dapat suatu keadaan dapat dinyatakan sebagai berikut:\n",
    "- Jika usia seseorang melebihi 60 maka data 'unknown' dianggap sebagai pensiunan\n",
    "- Jika pendidikan seseorang tidak diketahui dan dia bekerja sebagai housemaid (pembantu) maka dianggap sebagai pendidikan seseorang tersebut adalah basic.4y\n",
    "- Jika pendidikan seseorang tidak diketahui dan dia bekerja sebagai service (customer service) maka dianggap sebagai pendidikan seseorang tersebut adalah high school (pendidikan menengah)\n",
    "- Jika pendidikan seseorang tidak diketahui dan dia bekerja sebagai manajer maka dianggap sebagai pendidikan seseorang tersebut adalah university degree (pendidikan tinggi)\n",
    "- Jika pekerjaan seseorang tidak diketahui dan dia berpendidikan sebagai basic.4y, basic.6y dan basic.9y maka dianggap sebagai pekerjaan seseorang tersebut adalah blue-collar (pekerja kerah biru)\n",
    "- Jika pekerjaan seseorang tidak diketahui dan dia berlatar belakang pendidikan sebagai profesional course maka dianggap sebagai pekerjaan seseorang tersebut adalah teknisi"
   ]
  },
  {
   "cell_type": "code",
   "execution_count": 11,
   "id": "cf2fd7d1",
   "metadata": {},
   "outputs": [],
   "source": [
    "# melakukan seleksi baris berdasarkan hipotesis kesesuaian data pekerjaan dan pendidikan\n",
    "\n",
    "df.loc[(df['age']>60) & (df['job']=='unknown'), 'job'] = 'retired'\n",
    "df.loc[(df['education']=='unknown') & (df['job']=='housemaid'), 'education'] = 'basic.4y'\n",
    "df.loc[(df['education']=='unknown') & (df['job']=='services'), 'education'] = 'high.school'\n",
    "df.loc[(df['education']=='unknown') & (df['job']=='management'), 'education'] = 'university.degree'\n",
    "df.loc[(df['job'] == 'unknown') & (df['education']=='basic.4y'), 'job'] = 'blue-collar'\n",
    "df.loc[(df['job'] == 'unknown') & (df['education']=='basic.6y'), 'job'] = 'blue-collar'\n",
    "df.loc[(df['job'] == 'unknown') & (df['education']=='basic.9y'), 'job'] = 'blue-collar'\n",
    "df.loc[(df['job']=='unknown') & (df['education']=='professional.course'), 'job'] = 'technician'"
   ]
  },
  {
   "cell_type": "code",
   "execution_count": 12,
   "id": "47d116b7",
   "metadata": {},
   "outputs": [
    {
     "data": {
      "text/html": [
       "<div>\n",
       "<style scoped>\n",
       "    .dataframe tbody tr th:only-of-type {\n",
       "        vertical-align: middle;\n",
       "    }\n",
       "\n",
       "    .dataframe tbody tr th {\n",
       "        vertical-align: top;\n",
       "    }\n",
       "\n",
       "    .dataframe thead th {\n",
       "        text-align: right;\n",
       "    }\n",
       "</style>\n",
       "<table border=\"1\" class=\"dataframe\">\n",
       "  <thead>\n",
       "    <tr style=\"text-align: right;\">\n",
       "      <th></th>\n",
       "      <th>basic.4y</th>\n",
       "      <th>high.school</th>\n",
       "      <th>basic.6y</th>\n",
       "      <th>basic.9y</th>\n",
       "      <th>professional.course</th>\n",
       "      <th>unknown</th>\n",
       "      <th>university.degree</th>\n",
       "      <th>illiterate</th>\n",
       "    </tr>\n",
       "    <tr>\n",
       "      <th>job</th>\n",
       "      <th></th>\n",
       "      <th></th>\n",
       "      <th></th>\n",
       "      <th></th>\n",
       "      <th></th>\n",
       "      <th></th>\n",
       "      <th></th>\n",
       "      <th></th>\n",
       "    </tr>\n",
       "  </thead>\n",
       "  <tbody>\n",
       "    <tr>\n",
       "      <th>admin.</th>\n",
       "      <td>77.0</td>\n",
       "      <td>3329</td>\n",
       "      <td>151.0</td>\n",
       "      <td>499.0</td>\n",
       "      <td>363.0</td>\n",
       "      <td>249.0</td>\n",
       "      <td>5753</td>\n",
       "      <td>1.0</td>\n",
       "    </tr>\n",
       "    <tr>\n",
       "      <th>blue-collar</th>\n",
       "      <td>2366.0</td>\n",
       "      <td>878</td>\n",
       "      <td>1448.0</td>\n",
       "      <td>3654.0</td>\n",
       "      <td>453.0</td>\n",
       "      <td>454.0</td>\n",
       "      <td>94</td>\n",
       "      <td>8.0</td>\n",
       "    </tr>\n",
       "    <tr>\n",
       "      <th>entrepreneur</th>\n",
       "      <td>137.0</td>\n",
       "      <td>234</td>\n",
       "      <td>71.0</td>\n",
       "      <td>210.0</td>\n",
       "      <td>135.0</td>\n",
       "      <td>57.0</td>\n",
       "      <td>610</td>\n",
       "      <td>2.0</td>\n",
       "    </tr>\n",
       "    <tr>\n",
       "      <th>housemaid</th>\n",
       "      <td>516.0</td>\n",
       "      <td>174</td>\n",
       "      <td>77.0</td>\n",
       "      <td>94.0</td>\n",
       "      <td>59.0</td>\n",
       "      <td>0.0</td>\n",
       "      <td>139</td>\n",
       "      <td>1.0</td>\n",
       "    </tr>\n",
       "    <tr>\n",
       "      <th>management</th>\n",
       "      <td>100.0</td>\n",
       "      <td>298</td>\n",
       "      <td>85.0</td>\n",
       "      <td>166.0</td>\n",
       "      <td>89.0</td>\n",
       "      <td>0.0</td>\n",
       "      <td>2186</td>\n",
       "      <td>0.0</td>\n",
       "    </tr>\n",
       "    <tr>\n",
       "      <th>retired</th>\n",
       "      <td>601.0</td>\n",
       "      <td>276</td>\n",
       "      <td>75.0</td>\n",
       "      <td>145.0</td>\n",
       "      <td>243.0</td>\n",
       "      <td>112.0</td>\n",
       "      <td>286</td>\n",
       "      <td>3.0</td>\n",
       "    </tr>\n",
       "    <tr>\n",
       "      <th>self-employed</th>\n",
       "      <td>93.0</td>\n",
       "      <td>118</td>\n",
       "      <td>25.0</td>\n",
       "      <td>220.0</td>\n",
       "      <td>168.0</td>\n",
       "      <td>29.0</td>\n",
       "      <td>765</td>\n",
       "      <td>3.0</td>\n",
       "    </tr>\n",
       "    <tr>\n",
       "      <th>services</th>\n",
       "      <td>132.0</td>\n",
       "      <td>2832</td>\n",
       "      <td>226.0</td>\n",
       "      <td>388.0</td>\n",
       "      <td>218.0</td>\n",
       "      <td>0.0</td>\n",
       "      <td>173</td>\n",
       "      <td>0.0</td>\n",
       "    </tr>\n",
       "    <tr>\n",
       "      <th>student</th>\n",
       "      <td>26.0</td>\n",
       "      <td>357</td>\n",
       "      <td>13.0</td>\n",
       "      <td>99.0</td>\n",
       "      <td>43.0</td>\n",
       "      <td>167.0</td>\n",
       "      <td>170</td>\n",
       "      <td>0.0</td>\n",
       "    </tr>\n",
       "    <tr>\n",
       "      <th>technician</th>\n",
       "      <td>58.0</td>\n",
       "      <td>873</td>\n",
       "      <td>87.0</td>\n",
       "      <td>384.0</td>\n",
       "      <td>3330.0</td>\n",
       "      <td>212.0</td>\n",
       "      <td>1809</td>\n",
       "      <td>0.0</td>\n",
       "    </tr>\n",
       "    <tr>\n",
       "      <th>unemployed</th>\n",
       "      <td>112.0</td>\n",
       "      <td>259</td>\n",
       "      <td>34.0</td>\n",
       "      <td>186.0</td>\n",
       "      <td>142.0</td>\n",
       "      <td>19.0</td>\n",
       "      <td>262</td>\n",
       "      <td>0.0</td>\n",
       "    </tr>\n",
       "    <tr>\n",
       "      <th>unknown</th>\n",
       "      <td>0.0</td>\n",
       "      <td>37</td>\n",
       "      <td>0.0</td>\n",
       "      <td>0.0</td>\n",
       "      <td>0.0</td>\n",
       "      <td>117.0</td>\n",
       "      <td>44</td>\n",
       "      <td>0.0</td>\n",
       "    </tr>\n",
       "  </tbody>\n",
       "</table>\n",
       "</div>"
      ],
      "text/plain": [
       "               basic.4y  high.school  basic.6y  basic.9y  professional.course  \\\n",
       "job                                                                             \n",
       "admin.             77.0         3329     151.0     499.0                363.0   \n",
       "blue-collar      2366.0          878    1448.0    3654.0                453.0   \n",
       "entrepreneur      137.0          234      71.0     210.0                135.0   \n",
       "housemaid         516.0          174      77.0      94.0                 59.0   \n",
       "management        100.0          298      85.0     166.0                 89.0   \n",
       "retired           601.0          276      75.0     145.0                243.0   \n",
       "self-employed      93.0          118      25.0     220.0                168.0   \n",
       "services          132.0         2832     226.0     388.0                218.0   \n",
       "student            26.0          357      13.0      99.0                 43.0   \n",
       "technician         58.0          873      87.0     384.0               3330.0   \n",
       "unemployed        112.0          259      34.0     186.0                142.0   \n",
       "unknown             0.0           37       0.0       0.0                  0.0   \n",
       "\n",
       "               unknown  university.degree  illiterate  \n",
       "job                                                    \n",
       "admin.           249.0               5753         1.0  \n",
       "blue-collar      454.0                 94         8.0  \n",
       "entrepreneur      57.0                610         2.0  \n",
       "housemaid          0.0                139         1.0  \n",
       "management         0.0               2186         0.0  \n",
       "retired          112.0                286         3.0  \n",
       "self-employed     29.0                765         3.0  \n",
       "services           0.0                173         0.0  \n",
       "student          167.0                170         0.0  \n",
       "technician       212.0               1809         0.0  \n",
       "unemployed        19.0                262         0.0  \n",
       "unknown          117.0                 44         0.0  "
      ]
     },
     "execution_count": 12,
     "metadata": {},
     "output_type": "execute_result"
    }
   ],
   "source": [
    "# memastikan kembali bahwa terjadi perubahan jumlah pada fitur 'job' dan 'education'\n",
    "\n",
    "cross_tab(df,'job','education')"
   ]
  },
  {
   "cell_type": "markdown",
   "id": "19bba6aa",
   "metadata": {},
   "source": [
    "#### Mengetahui jumlah data 'unknown'"
   ]
  },
  {
   "cell_type": "code",
   "execution_count": 13,
   "id": "13e07fff",
   "metadata": {},
   "outputs": [
    {
     "name": "stdout",
     "output_type": "stream",
     "text": [
      "default           8597\n",
      "education         1416\n",
      "housing            990\n",
      "loan               990\n",
      "job                198\n",
      "marital             80\n",
      "age                  0\n",
      "poutcome             0\n",
      "nr.employed          0\n",
      "euribor3m            0\n",
      "cons.conf.idx        0\n",
      "cons.price.idx       0\n",
      "emp.var.rate         0\n",
      "duration             0\n",
      "previous             0\n",
      "pdays                0\n",
      "campaign             0\n",
      "day_of_week          0\n",
      "month                0\n",
      "contact              0\n",
      "y                    0\n",
      "dtype: int64\n"
     ]
    }
   ],
   "source": [
    "jumlah_unknown = df[df[cat_cols] == 'unknown'].count().sort_values(ascending=False)\n",
    "print(jumlah_unknown)"
   ]
  },
  {
   "cell_type": "markdown",
   "id": "3606b5e2",
   "metadata": {},
   "source": [
    "**Analisis:** Berdasarkan perhitungan data yang mengandung __'unknown'__ pada tipe data kategorikal, dapat diketahui bahwa fitur [__'default', 'education', 'housing', 'loan', 'job', 'marital'__] mengandung _unexpected missing values_, karena data yang tercatat 'unknown' merupakan data yang tidak diharapkan, sehingga data __'unknown'__ akan digantikan dengan data missing values (NaN)."
   ]
  },
  {
   "cell_type": "code",
   "execution_count": 14,
   "id": "a9f3ca8e",
   "metadata": {},
   "outputs": [],
   "source": [
    "# menghapus missing values pada default\n",
    "\n",
    "df = df[df['default'] != 'unknown']"
   ]
  },
  {
   "cell_type": "markdown",
   "id": "8547afd0",
   "metadata": {},
   "source": [
    "### Mengganti  'unknown' menjadi missing values"
   ]
  },
  {
   "cell_type": "code",
   "execution_count": 15,
   "id": "b81d8902",
   "metadata": {},
   "outputs": [],
   "source": [
    "df[df[cat_cols] == 'unknown'] = np.nan"
   ]
  },
  {
   "cell_type": "code",
   "execution_count": 16,
   "id": "d0453d62",
   "metadata": {},
   "outputs": [
    {
     "data": {
      "text/plain": [
       "age                 0\n",
       "job                95\n",
       "marital            69\n",
       "education         947\n",
       "default             0\n",
       "housing           763\n",
       "loan              763\n",
       "contact             0\n",
       "month               0\n",
       "day_of_week         0\n",
       "duration            0\n",
       "campaign            0\n",
       "pdays               0\n",
       "previous            0\n",
       "poutcome            0\n",
       "emp.var.rate        0\n",
       "cons.price.idx      0\n",
       "cons.conf.idx       0\n",
       "euribor3m           0\n",
       "nr.employed         0\n",
       "y                   0\n",
       "dtype: int64"
      ]
     },
     "execution_count": 16,
     "metadata": {},
     "output_type": "execute_result"
    }
   ],
   "source": [
    "df.isnull().sum()"
   ]
  },
  {
   "cell_type": "markdown",
   "id": "71f52b87",
   "metadata": {},
   "source": [
    "**Analisis:** Tidak terdapat 'unknown' pada tipe data kategorikal, karena data 'unknown' telah dijadikan sebagai missing values (NaN)."
   ]
  },
  {
   "cell_type": "markdown",
   "id": "314ff040",
   "metadata": {},
   "source": [
    "### Mengganti missing values pada kolom tipe kategorik dengan nilai modus"
   ]
  },
  {
   "cell_type": "code",
   "execution_count": 17,
   "id": "c120926b",
   "metadata": {},
   "outputs": [],
   "source": [
    "df['job'].fillna(df['job'].mode()[0], inplace = True)\n",
    "df['marital'].fillna(df['marital'].mode()[0], inplace = True)\n",
    "df['education'].fillna(df['education'].mode()[0], inplace = True)\n",
    "df['housing'].fillna(df['housing'].mode()[0], inplace = True)\n",
    "df['loan'].fillna(df['loan'].mode()[0], inplace = True)"
   ]
  },
  {
   "cell_type": "code",
   "execution_count": 18,
   "id": "17239a4f",
   "metadata": {
    "scrolled": false
   },
   "outputs": [
    {
     "name": "stdout",
     "output_type": "stream",
     "text": [
      "<class 'pandas.core.frame.DataFrame'>\n",
      "Int64Index: 32591 entries, 0 to 41187\n",
      "Data columns (total 21 columns):\n",
      " #   Column          Non-Null Count  Dtype  \n",
      "---  ------          --------------  -----  \n",
      " 0   age             32591 non-null  int64  \n",
      " 1   job             32591 non-null  object \n",
      " 2   marital         32591 non-null  object \n",
      " 3   education       32591 non-null  object \n",
      " 4   default         32591 non-null  object \n",
      " 5   housing         32591 non-null  object \n",
      " 6   loan            32591 non-null  object \n",
      " 7   contact         32591 non-null  object \n",
      " 8   month           32591 non-null  object \n",
      " 9   day_of_week     32591 non-null  object \n",
      " 10  duration        32591 non-null  int64  \n",
      " 11  campaign        32591 non-null  int64  \n",
      " 12  pdays           32591 non-null  int64  \n",
      " 13  previous        32591 non-null  int64  \n",
      " 14  poutcome        32591 non-null  object \n",
      " 15  emp.var.rate    32591 non-null  float64\n",
      " 16  cons.price.idx  32591 non-null  float64\n",
      " 17  cons.conf.idx   32591 non-null  float64\n",
      " 18  euribor3m       32591 non-null  float64\n",
      " 19  nr.employed     32591 non-null  float64\n",
      " 20  y               32591 non-null  object \n",
      "dtypes: float64(5), int64(5), object(11)\n",
      "memory usage: 5.5+ MB\n"
     ]
    }
   ],
   "source": [
    "df.info()"
   ]
  },
  {
   "cell_type": "code",
   "execution_count": 19,
   "id": "de9ff121",
   "metadata": {},
   "outputs": [
    {
     "data": {
      "text/plain": [
       "age               0\n",
       "job               0\n",
       "marital           0\n",
       "education         0\n",
       "default           0\n",
       "housing           0\n",
       "loan              0\n",
       "contact           0\n",
       "month             0\n",
       "day_of_week       0\n",
       "duration          0\n",
       "campaign          0\n",
       "pdays             0\n",
       "previous          0\n",
       "poutcome          0\n",
       "emp.var.rate      0\n",
       "cons.price.idx    0\n",
       "cons.conf.idx     0\n",
       "euribor3m         0\n",
       "nr.employed       0\n",
       "y                 0\n",
       "dtype: int64"
      ]
     },
     "execution_count": 19,
     "metadata": {},
     "output_type": "execute_result"
    }
   ],
   "source": [
    "df.isnull().sum()"
   ]
  },
  {
   "cell_type": "markdown",
   "id": "7a00c4f1",
   "metadata": {},
   "source": [
    "### Mengetahui Non-Standard dan Unexpected Missing Values pada tipe data numerikal"
   ]
  },
  {
   "cell_type": "code",
   "execution_count": 20,
   "id": "568c96c2",
   "metadata": {},
   "outputs": [
    {
     "name": "stdout",
     "output_type": "stream",
     "text": [
      "Jumlah nilai unik untuk kolom age bernilai 77 \n",
      " nilai unik = [56 37 40 59 24 25 29 57 35 50 30 55 41 46 49 54 34 52 58 32 38 45 39 60\n",
      " 53 51 48 44 33 31 42 36 43 28 27 47 26 22 23 20 21 61 18 70 66 76 67 73\n",
      " 88 95 19 77 68 75 63 62 65 72 82 64 71 69 78 85 80 79 83 81 74 17 87 91\n",
      " 86 94 84 92 89]\n",
      "========================================\n",
      "Jumlah nilai unik untuk kolom campaign bernilai 41 \n",
      " nilai unik = [ 1  2  3  4  5  6  7  8  9 10 12 19 11 18 23 13 14 22 25 17 15 20 39 42\n",
      " 16 28 26 32 21 24 29 31 30 35 41 37 27 40 43 34 33]\n",
      "========================================\n",
      "Jumlah nilai unik untuk kolom cons.conf.idx bernilai 26 \n",
      " nilai unik = [-36.4 -41.8 -42.7 -36.1 -40.4 -42.  -45.9 -50.  -47.1 -46.2 -40.8 -33.6\n",
      " -31.4 -29.8 -26.9 -30.1 -33.  -34.8 -34.6 -40.  -39.8 -40.3 -38.3 -37.5\n",
      " -49.5 -50.8]\n",
      "========================================\n",
      "Jumlah nilai unik untuk kolom cons.price.idx bernilai 26 \n",
      " nilai unik = [93.994 94.465 93.918 93.444 93.798 93.2   92.756 92.843 93.075 92.893\n",
      " 92.963 92.469 92.201 92.379 92.431 92.649 92.713 93.369 93.749 93.876\n",
      " 94.055 94.215 94.027 94.199 94.601 94.767]\n",
      "========================================\n",
      "Jumlah nilai unik untuk kolom duration bernilai 1464 \n",
      " nilai unik = [ 261  226  151 ... 1246 1556 1868]\n",
      "========================================\n",
      "Jumlah nilai unik untuk kolom emp.var.rate bernilai 10 \n",
      " nilai unik = [ 1.1  1.4 -0.1 -0.2 -1.8 -2.9 -3.4 -3.  -1.7 -1.1]\n",
      "========================================\n",
      "Jumlah nilai unik untuk kolom euribor3m bernilai 316 \n",
      " nilai unik = [4.857 4.856 4.855 4.859 4.86  4.858 4.864 4.865 4.866 4.967 4.961 4.959\n",
      " 4.958 4.96  4.962 4.955 4.947 4.956 4.966 4.963 4.957 4.968 4.97  4.965\n",
      " 4.964 5.045 5.    4.936 4.921 4.918 4.912 4.827 4.794 4.76  4.733 4.7\n",
      " 4.663 4.592 4.474 4.406 4.343 4.286 4.245 4.223 4.191 4.153 4.12  4.076\n",
      " 4.021 3.901 3.879 3.853 3.816 3.743 3.669 3.563 3.488 3.428 3.329 3.282\n",
      " 3.053 1.811 1.799 1.778 1.757 1.726 1.703 1.687 1.663 1.65  1.64  1.629\n",
      " 1.614 1.602 1.584 1.574 1.56  1.556 1.548 1.538 1.531 1.52  1.51  1.498\n",
      " 1.483 1.479 1.466 1.453 1.445 1.435 1.423 1.415 1.41  1.405 1.406 1.4\n",
      " 1.392 1.384 1.372 1.365 1.354 1.344 1.334 1.327 1.313 1.299 1.291 1.281\n",
      " 1.266 1.25  1.244 1.259 1.264 1.27  1.262 1.26  1.268 1.286 1.252 1.235\n",
      " 1.224 1.215 1.206 1.099 1.085 1.072 1.059 1.048 1.044 1.029 1.018 1.007\n",
      " 0.996 0.979 0.969 0.944 0.937 0.933 0.927 0.921 0.914 0.908 0.903 0.899\n",
      " 0.884 0.883 0.881 0.879 0.873 0.869 0.861 0.859 0.854 0.851 0.849 0.843\n",
      " 0.838 0.834 0.829 0.825 0.821 0.819 0.813 0.809 0.803 0.797 0.788 0.781\n",
      " 0.778 0.773 0.771 0.77  0.768 0.766 0.762 0.755 0.749 0.743 0.741 0.739\n",
      " 0.75  0.753 0.754 0.752 0.744 0.74  0.742 0.737 0.735 0.733 0.73  0.731\n",
      " 0.728 0.724 0.722 0.72  0.719 0.716 0.715 0.714 0.718 0.721 0.717 0.712\n",
      " 0.71  0.709 0.708 0.706 0.707 0.7   0.655 0.654 0.653 0.652 0.651 0.65\n",
      " 0.649 0.646 0.644 0.643 0.639 0.637 0.635 0.636 0.634 0.638 0.64  0.642\n",
      " 0.645 0.659 0.663 0.668 0.672 0.677 0.682 0.683 0.684 0.685 0.688 0.69\n",
      " 0.692 0.695 0.697 0.699 0.701 0.702 0.704 0.711 0.713 0.723 0.727 0.729\n",
      " 0.732 0.748 0.761 0.767 0.782 0.79  0.793 0.802 0.81  0.822 0.827 0.835\n",
      " 0.84  0.846 0.87  0.876 0.885 0.889 0.893 0.896 0.898 0.9   0.904 0.905\n",
      " 0.895 0.894 0.891 0.89  0.888 0.886 0.882 0.88  0.878 0.877 0.942 0.953\n",
      " 0.956 0.959 0.965 0.972 0.977 0.982 0.985 0.987 0.993 1.    1.008 1.016\n",
      " 1.025 1.032 1.037 1.043 1.045 1.047 1.05  1.049 1.046 1.041 1.04  1.039\n",
      " 1.035 1.03  1.031 1.028]\n",
      "========================================\n",
      "Jumlah nilai unik untuk kolom nr.employed bernilai 11 \n",
      " nilai unik = [5191.  5228.1 5195.8 5176.3 5099.1 5076.2 5017.5 5023.5 5008.7 4991.6\n",
      " 4963.6]\n",
      "========================================\n",
      "Jumlah nilai unik untuk kolom pdays bernilai 27 \n",
      " nilai unik = [999   6   4   5   1   0   3  10   7   8   9  11   2  12  13  14  15  16\n",
      "  21  17  18  22  25  26  19  27  20]\n",
      "========================================\n",
      "Jumlah nilai unik untuk kolom previous bernilai 8 \n",
      " nilai unik = [0 1 2 3 4 5 6 7]\n",
      "========================================\n"
     ]
    }
   ],
   "source": [
    "# Mengetahui jumlah dan nilai unik setiap kolom numerik\n",
    "\n",
    "for i in num_cols:\n",
    "    print('Jumlah nilai unik untuk kolom {} bernilai {} \\n nilai unik = {}'.format\n",
    "          (i, len(df[i].unique()), df[i].unique()))\n",
    "    print('='*40)"
   ]
  },
  {
   "cell_type": "markdown",
   "id": "313f37c6",
   "metadata": {},
   "source": [
    "**Analisis:** Terdapat _unexpected missing values_ pada fitur **pdays**, berdasarkan deskripsi dataset apabila mengandung data bernilai **999** (data yang tidak diharapkan) dan nilai tersebut sangat berbeda jika dibandingkan dengan ke-26 data lainnya pada kolom yang sama, hal ini menanandakan bahwa pelanggan tidak pernah dihubungi sebelumnya, maka nilai tersebut akan diganti menjadi 0."
   ]
  },
  {
   "cell_type": "code",
   "execution_count": 21,
   "id": "eb7d5f84",
   "metadata": {},
   "outputs": [],
   "source": [
    "## mengubah 999 menjadi 0\n",
    "df['pdays'].replace(999,0, inplace = True)"
   ]
  },
  {
   "cell_type": "code",
   "execution_count": 22,
   "id": "3ee96b9c",
   "metadata": {},
   "outputs": [],
   "source": [
    "# menghapus kolom duration == 0\n",
    "df = df[~df['duration'].isin([0])]"
   ]
  },
  {
   "cell_type": "code",
   "execution_count": 23,
   "id": "9098d0c1",
   "metadata": {},
   "outputs": [
    {
     "data": {
      "text/html": [
       "<div>\n",
       "<style scoped>\n",
       "    .dataframe tbody tr th:only-of-type {\n",
       "        vertical-align: middle;\n",
       "    }\n",
       "\n",
       "    .dataframe tbody tr th {\n",
       "        vertical-align: top;\n",
       "    }\n",
       "\n",
       "    .dataframe thead th {\n",
       "        text-align: right;\n",
       "    }\n",
       "</style>\n",
       "<table border=\"1\" class=\"dataframe\">\n",
       "  <thead>\n",
       "    <tr style=\"text-align: right;\">\n",
       "      <th></th>\n",
       "      <th>age</th>\n",
       "      <th>job</th>\n",
       "      <th>marital</th>\n",
       "      <th>education</th>\n",
       "      <th>default</th>\n",
       "      <th>housing</th>\n",
       "      <th>loan</th>\n",
       "      <th>contact</th>\n",
       "      <th>month</th>\n",
       "      <th>day_of_week</th>\n",
       "      <th>...</th>\n",
       "      <th>campaign</th>\n",
       "      <th>pdays</th>\n",
       "      <th>previous</th>\n",
       "      <th>poutcome</th>\n",
       "      <th>emp.var.rate</th>\n",
       "      <th>cons.price.idx</th>\n",
       "      <th>cons.conf.idx</th>\n",
       "      <th>euribor3m</th>\n",
       "      <th>nr.employed</th>\n",
       "      <th>y</th>\n",
       "    </tr>\n",
       "  </thead>\n",
       "  <tbody>\n",
       "    <tr>\n",
       "      <th>0</th>\n",
       "      <td>56</td>\n",
       "      <td>housemaid</td>\n",
       "      <td>married</td>\n",
       "      <td>basic.4y</td>\n",
       "      <td>no</td>\n",
       "      <td>no</td>\n",
       "      <td>no</td>\n",
       "      <td>telephone</td>\n",
       "      <td>may</td>\n",
       "      <td>mon</td>\n",
       "      <td>...</td>\n",
       "      <td>1</td>\n",
       "      <td>0</td>\n",
       "      <td>0</td>\n",
       "      <td>nonexistent</td>\n",
       "      <td>1.1</td>\n",
       "      <td>93.994</td>\n",
       "      <td>-36.4</td>\n",
       "      <td>4.857</td>\n",
       "      <td>5191.0</td>\n",
       "      <td>no</td>\n",
       "    </tr>\n",
       "    <tr>\n",
       "      <th>2</th>\n",
       "      <td>37</td>\n",
       "      <td>services</td>\n",
       "      <td>married</td>\n",
       "      <td>high.school</td>\n",
       "      <td>no</td>\n",
       "      <td>yes</td>\n",
       "      <td>no</td>\n",
       "      <td>telephone</td>\n",
       "      <td>may</td>\n",
       "      <td>mon</td>\n",
       "      <td>...</td>\n",
       "      <td>1</td>\n",
       "      <td>0</td>\n",
       "      <td>0</td>\n",
       "      <td>nonexistent</td>\n",
       "      <td>1.1</td>\n",
       "      <td>93.994</td>\n",
       "      <td>-36.4</td>\n",
       "      <td>4.857</td>\n",
       "      <td>5191.0</td>\n",
       "      <td>no</td>\n",
       "    </tr>\n",
       "    <tr>\n",
       "      <th>3</th>\n",
       "      <td>40</td>\n",
       "      <td>admin.</td>\n",
       "      <td>married</td>\n",
       "      <td>basic.6y</td>\n",
       "      <td>no</td>\n",
       "      <td>no</td>\n",
       "      <td>no</td>\n",
       "      <td>telephone</td>\n",
       "      <td>may</td>\n",
       "      <td>mon</td>\n",
       "      <td>...</td>\n",
       "      <td>1</td>\n",
       "      <td>0</td>\n",
       "      <td>0</td>\n",
       "      <td>nonexistent</td>\n",
       "      <td>1.1</td>\n",
       "      <td>93.994</td>\n",
       "      <td>-36.4</td>\n",
       "      <td>4.857</td>\n",
       "      <td>5191.0</td>\n",
       "      <td>no</td>\n",
       "    </tr>\n",
       "    <tr>\n",
       "      <th>4</th>\n",
       "      <td>56</td>\n",
       "      <td>services</td>\n",
       "      <td>married</td>\n",
       "      <td>high.school</td>\n",
       "      <td>no</td>\n",
       "      <td>no</td>\n",
       "      <td>yes</td>\n",
       "      <td>telephone</td>\n",
       "      <td>may</td>\n",
       "      <td>mon</td>\n",
       "      <td>...</td>\n",
       "      <td>1</td>\n",
       "      <td>0</td>\n",
       "      <td>0</td>\n",
       "      <td>nonexistent</td>\n",
       "      <td>1.1</td>\n",
       "      <td>93.994</td>\n",
       "      <td>-36.4</td>\n",
       "      <td>4.857</td>\n",
       "      <td>5191.0</td>\n",
       "      <td>no</td>\n",
       "    </tr>\n",
       "    <tr>\n",
       "      <th>6</th>\n",
       "      <td>59</td>\n",
       "      <td>admin.</td>\n",
       "      <td>married</td>\n",
       "      <td>professional.course</td>\n",
       "      <td>no</td>\n",
       "      <td>no</td>\n",
       "      <td>no</td>\n",
       "      <td>telephone</td>\n",
       "      <td>may</td>\n",
       "      <td>mon</td>\n",
       "      <td>...</td>\n",
       "      <td>1</td>\n",
       "      <td>0</td>\n",
       "      <td>0</td>\n",
       "      <td>nonexistent</td>\n",
       "      <td>1.1</td>\n",
       "      <td>93.994</td>\n",
       "      <td>-36.4</td>\n",
       "      <td>4.857</td>\n",
       "      <td>5191.0</td>\n",
       "      <td>no</td>\n",
       "    </tr>\n",
       "  </tbody>\n",
       "</table>\n",
       "<p>5 rows × 21 columns</p>\n",
       "</div>"
      ],
      "text/plain": [
       "   age        job  marital            education default housing loan  \\\n",
       "0   56  housemaid  married             basic.4y      no      no   no   \n",
       "2   37   services  married          high.school      no     yes   no   \n",
       "3   40     admin.  married             basic.6y      no      no   no   \n",
       "4   56   services  married          high.school      no      no  yes   \n",
       "6   59     admin.  married  professional.course      no      no   no   \n",
       "\n",
       "     contact month day_of_week  ...  campaign  pdays  previous     poutcome  \\\n",
       "0  telephone   may         mon  ...         1      0         0  nonexistent   \n",
       "2  telephone   may         mon  ...         1      0         0  nonexistent   \n",
       "3  telephone   may         mon  ...         1      0         0  nonexistent   \n",
       "4  telephone   may         mon  ...         1      0         0  nonexistent   \n",
       "6  telephone   may         mon  ...         1      0         0  nonexistent   \n",
       "\n",
       "  emp.var.rate  cons.price.idx  cons.conf.idx  euribor3m  nr.employed   y  \n",
       "0          1.1          93.994          -36.4      4.857       5191.0  no  \n",
       "2          1.1          93.994          -36.4      4.857       5191.0  no  \n",
       "3          1.1          93.994          -36.4      4.857       5191.0  no  \n",
       "4          1.1          93.994          -36.4      4.857       5191.0  no  \n",
       "6          1.1          93.994          -36.4      4.857       5191.0  no  \n",
       "\n",
       "[5 rows x 21 columns]"
      ]
     },
     "execution_count": 23,
     "metadata": {},
     "output_type": "execute_result"
    }
   ],
   "source": [
    "# menampilkan 5 baris pertama\n",
    "df.head()"
   ]
  },
  {
   "cell_type": "code",
   "execution_count": 24,
   "id": "4b9126ff",
   "metadata": {},
   "outputs": [
    {
     "data": {
      "text/plain": [
       "(32587, 21)"
      ]
     },
     "execution_count": 24,
     "metadata": {},
     "output_type": "execute_result"
    }
   ],
   "source": [
    "df.shape"
   ]
  },
  {
   "cell_type": "markdown",
   "id": "20645ed4",
   "metadata": {},
   "source": [
    "## Jumlah total missing values"
   ]
  },
  {
   "cell_type": "code",
   "execution_count": 25,
   "id": "b585af90",
   "metadata": {
    "scrolled": true
   },
   "outputs": [
    {
     "name": "stdout",
     "output_type": "stream",
     "text": [
      "Jumlah missing values fitur kategorikal = 0\n",
      "Jumlah missing values fitur numerikal = 0\n"
     ]
    }
   ],
   "source": [
    "# mengetahui jumlah keseluruhan missing values \n",
    "\n",
    "print('Jumlah missing values fitur kategorikal =', \n",
    "      df[cat_cols].isnull().sum().sum())\n",
    "\n",
    "print('Jumlah missing values fitur numerikal =', \n",
    "      df[num_cols].isnull().sum().sum())"
   ]
  },
  {
   "cell_type": "markdown",
   "id": "f9f3c2af",
   "metadata": {},
   "source": [
    "**Analisis:** Missing values pada kolom kategorikal akan diisi dengan nilai modus"
   ]
  },
  {
   "cell_type": "markdown",
   "id": "fb544a20",
   "metadata": {},
   "source": [
    "### Menangani outliers (data pencilan)"
   ]
  },
  {
   "cell_type": "code",
   "execution_count": 26,
   "id": "5c951eb2",
   "metadata": {},
   "outputs": [
    {
     "data": {
      "image/png": "[encoded data removed]",
      "text/plain": [
       "<Figure size 1440x1440 with 1 Axes>"
      ]
     },
     "metadata": {
      "needs_background": "light"
     },
     "output_type": "display_data"
    },
    {
     "data": {
      "image/png": "[encoded data removed]",
      "text/plain": [
       "<Figure size 1440x1440 with 1 Axes>"
      ]
     },
     "metadata": {
      "needs_background": "light"
     },
     "output_type": "display_data"
    },
    {
     "data": {
      "image/png": "[encoded data removed]",
      "text/plain": [
       "<Figure size 1440x1440 with 1 Axes>"
      ]
     },
     "metadata": {
      "needs_background": "light"
     },
     "output_type": "display_data"
    },
    {
     "data": {
      "image/png": "[encoded data removed]",
      "text/plain": [
       "<Figure size 1440x1440 with 1 Axes>"
      ]
     },
     "metadata": {
      "needs_background": "light"
     },
     "output_type": "display_data"
    },
    {
     "data": {
      "image/png": "[encoded data removed]",
      "text/plain": [
       "<Figure size 1440x1440 with 1 Axes>"
      ]
     },
     "metadata": {
      "needs_background": "light"
     },
     "output_type": "display_data"
    },
    {
     "data": {
      "image/png": "[encoded data removed]",
      "text/plain": [
       "<Figure size 1440x1440 with 1 Axes>"
      ]
     },
     "metadata": {
      "needs_background": "light"
     },
     "output_type": "display_data"
    },
    {
     "data": {
      "image/png": "[encoded data removed]",
      "text/plain": [
       "<Figure size 1440x1440 with 1 Axes>"
      ]
     },
     "metadata": {
      "needs_background": "light"
     },
     "output_type": "display_data"
    },
    {
     "data": {
      "image/png": "[encoded data removed]",
      "text/plain": [
       "<Figure size 1440x1440 with 1 Axes>"
      ]
     },
     "metadata": {
      "needs_background": "light"
     },
     "output_type": "display_data"
    },
    {
     "data": {
      "image/png": "[encoded data removed]",
      "text/plain": [
       "<Figure size 1440x1440 with 1 Axes>"
      ]
     },
     "metadata": {
      "needs_background": "light"
     },
     "output_type": "display_data"
    },
    {
     "data": {
      "image/png": "[encoded data removed]",
      "text/plain": [
       "<Figure size 1440x1440 with 1 Axes>"
      ]
     },
     "metadata": {
      "needs_background": "light"
     },
     "output_type": "display_data"
    }
   ],
   "source": [
    "# melakukan seleksi kolom untuk kolom numerik\n",
    "col=df[[\"age\",\"duration\",\"campaign\", \"pdays\", \"previous\",\"emp.var.rate\",\n",
    "        \"cons.price.idx\", \"cons.conf.idx\", \"euribor3m\", \"nr.employed\"]]\n",
    "\n",
    "# melakukan plotting boxplot untuk setiap numerik\n",
    "for i in col:\n",
    "    n=1\n",
    "    plt.figure(figsize=(20,20))\n",
    "    plt.subplot(4,3,1)\n",
    "    sns.boxplot(df[i])\n",
    "    plt.title(i)\n",
    "    plt.show()\n",
    "    n=n+1"
   ]
  },
  {
   "cell_type": "markdown",
   "id": "b44e9985",
   "metadata": {},
   "source": [
    "### Mengatasi outliers dengan Z-score"
   ]
  },
  {
   "cell_type": "code",
   "execution_count": 27,
   "id": "d4ea7d62",
   "metadata": {},
   "outputs": [
    {
     "name": "stdout",
     "output_type": "stream",
     "text": [
      "            age  campaign  cons.conf.idx  cons.price.idx  duration  \\\n",
      "0      1.609317  0.561508       0.866916        0.795832  0.004367   \n",
      "2      0.204283  0.561508       0.866916        0.795832  0.129703   \n",
      "3      0.082075  0.561508       0.866916        0.795832  0.416995   \n",
      "4      1.609317  0.561508       0.866916        0.795832  0.180573   \n",
      "6      1.895675  0.561508       0.866916        0.795832  0.462962   \n",
      "...         ...       ...            ...             ...       ...   \n",
      "41183  3.232011  0.561508       2.130252        2.109320  0.283998   \n",
      "41184  0.654791  0.561508       2.130252        2.109320  0.471696   \n",
      "41185  1.609317  0.192183       2.130252        2.109320  0.271434   \n",
      "41186  0.463886  0.561508       2.130252        2.109320  0.697699   \n",
      "41187  3.327464  0.177143       2.130252        2.109320  0.079906   \n",
      "\n",
      "       emp.var.rate  euribor3m  nr.employed     pdays  previous  \n",
      "0          0.730768   0.790208     0.409046  0.180753  0.373766  \n",
      "2          0.730768   0.790208     0.409046  0.180753  0.373766  \n",
      "3          0.730768   0.790208     0.409046  0.180753  0.373766  \n",
      "4          0.730768   0.790208     0.409046  0.180753  0.373766  \n",
      "6          0.730768   0.790208     0.409046  0.180753  0.373766  \n",
      "...             ...        ...          ...       ...       ...  \n",
      "41183      0.629313   1.356287     2.591134  0.180753  0.373766  \n",
      "41184      0.629313   1.356287     2.591134  0.180753  0.373766  \n",
      "41185      0.629313   1.356287     2.591134  0.180753  0.373766  \n",
      "41186      0.629313   1.356287     2.591134  0.180753  0.373766  \n",
      "41187      0.629313   1.356287     2.591134  0.180753  1.503822  \n",
      "\n",
      "[32587 rows x 10 columns]\n"
     ]
    }
   ],
   "source": [
    "#mengatasi dengan z-score\n",
    "z = np.abs(stats.zscore(df[num_cols]))\n",
    "print(z)\n",
    "df=df[(z<3).all(axis=1)]"
   ]
  },
  {
   "cell_type": "code",
   "execution_count": 28,
   "id": "2558a193",
   "metadata": {},
   "outputs": [
    {
     "data": {
      "image/png": "[encoded data removed]",
      "text/plain": [
       "<Figure size 1440x720 with 1 Axes>"
      ]
     },
     "metadata": {
      "needs_background": "light"
     },
     "output_type": "display_data"
    }
   ],
   "source": [
    "# mengecek kembali outliers\n",
    "plt.figure(figsize=(20,10))\n",
    "plt.subplot(3,3,1)\n",
    "sns.boxplot(df['age'])\n",
    "plt.title(\"Age\")\n",
    "plt.show()"
   ]
  },
  {
   "cell_type": "markdown",
   "id": "72054af7",
   "metadata": {},
   "source": [
    "## Visualisasi Data"
   ]
  },
  {
   "cell_type": "code",
   "execution_count": 29,
   "id": "c2a8e487",
   "metadata": {},
   "outputs": [
    {
     "data": {
      "image/png": "[encoded data removed]",
      "text/plain": [
       "<Figure size 432x288 with 1 Axes>"
      ]
     },
     "metadata": {
      "needs_background": "light"
     },
     "output_type": "display_data"
    }
   ],
   "source": [
    "sns.countplot(y='job', data=df)\n",
    "plt.show()"
   ]
  },
  {
   "cell_type": "markdown",
   "id": "dfd50684",
   "metadata": {},
   "source": [
    "Pelanggan dengan profesi sebagai **admin** merupakan populasi terbanyak dalam proses kampanye yang diselenggarakan oleh lembaga perbankan Portugis"
   ]
  },
  {
   "cell_type": "code",
   "execution_count": 30,
   "id": "f3c8ea7e",
   "metadata": {},
   "outputs": [
    {
     "data": {
      "image/png": "[encoded data removed]",
      "text/plain": [
       "<Figure size 432x288 with 1 Axes>"
      ]
     },
     "metadata": {
      "needs_background": "light"
     },
     "output_type": "display_data"
    }
   ],
   "source": [
    "sns.countplot(y='education', data=df)\n",
    "plt.show()"
   ]
  },
  {
   "cell_type": "markdown",
   "id": "9edd5086",
   "metadata": {},
   "source": [
    "Pelanggan dengan pendidikan sebagai **sarjana/pendidikan tinggi** merupakan populasi terbanyak dalam proses kampanye yang diselenggarakan oleh lembaga perbankan Portugis"
   ]
  },
  {
   "cell_type": "markdown",
   "id": "c51c00b6",
   "metadata": {},
   "source": [
    "### Memishakan variabel independen (fitur) dan variabel dependen (target)"
   ]
  },
  {
   "cell_type": "code",
   "execution_count": 31,
   "id": "f5e28581",
   "metadata": {},
   "outputs": [
    {
     "data": {
      "text/plain": [
       "no     26678\n",
       "yes     2869\n",
       "Name: y, dtype: int64"
      ]
     },
     "execution_count": 31,
     "metadata": {},
     "output_type": "execute_result"
    }
   ],
   "source": [
    "# X merupakan variabel independen\n",
    "X=df.drop(['y'],axis=1)\n",
    "# y merupakan variabel dependen\n",
    "y=df['y']          \n",
    "df['y'].value_counts()"
   ]
  },
  {
   "cell_type": "code",
   "execution_count": 32,
   "id": "f370da26",
   "metadata": {},
   "outputs": [
    {
     "name": "stdout",
     "output_type": "stream",
     "text": [
      "Ukuran dimensi fitur X: (29547, 20)\n",
      "jumlah data target y: (29547,)\n"
     ]
    }
   ],
   "source": [
    "print(f'Ukuran dimensi fitur X: {X.shape}')\n",
    "print(f'jumlah data target y: {y.shape}')"
   ]
  },
  {
   "cell_type": "markdown",
   "id": "ec5ef46d",
   "metadata": {},
   "source": [
    "### Mengganti fitur y menjadi bilangan biner"
   ]
  },
  {
   "cell_type": "code",
   "execution_count": 33,
   "id": "f63f763a",
   "metadata": {},
   "outputs": [],
   "source": [
    "from sklearn.preprocessing import LabelBinarizer\n",
    "\n",
    "# melakukan perubahan data kategorik ('no' dan 'yes') menjadi ('0' dan '1')\n",
    "lb = LabelBinarizer()\n",
    "y = lb.fit_transform(y)\n",
    "y = pd.DataFrame(y)"
   ]
  },
  {
   "cell_type": "code",
   "execution_count": 34,
   "id": "f96624b1",
   "metadata": {},
   "outputs": [
    {
     "name": "stdout",
     "output_type": "stream",
     "text": [
      "(29547, 20)\n",
      "(29547, 1)\n"
     ]
    }
   ],
   "source": [
    "print(X.shape)\n",
    "print(y.shape)"
   ]
  },
  {
   "cell_type": "code",
   "execution_count": 35,
   "id": "22775f3c",
   "metadata": {},
   "outputs": [
    {
     "data": {
      "text/plain": [
       "array([0, 0, 0, ..., 0, 0, 1])"
      ]
     },
     "execution_count": 35,
     "metadata": {},
     "output_type": "execute_result"
    }
   ],
   "source": [
    "# mereduksi dimensi target menjadi 1 dimensi\n",
    "y = np.array(y)\n",
    "y = y.flatten()\n",
    "y"
   ]
  },
  {
   "cell_type": "code",
   "execution_count": 36,
   "id": "286abf7f",
   "metadata": {},
   "outputs": [
    {
     "name": "stdout",
     "output_type": "stream",
     "text": [
      "29547\n"
     ]
    }
   ],
   "source": [
    "# mengetahui jumlah data kelas target\n",
    "print(len(y))"
   ]
  },
  {
   "cell_type": "code",
   "execution_count": 37,
   "id": "a985a2a0",
   "metadata": {},
   "outputs": [],
   "source": [
    "# konversi data kategori menjadi kolom\n",
    "X_dummy = pd.get_dummies(X, drop_first=True)\n",
    "X_test = pd.get_dummies(X, drop_first = True)"
   ]
  },
  {
   "cell_type": "code",
   "execution_count": 38,
   "id": "450ca6af",
   "metadata": {},
   "outputs": [],
   "source": [
    "#mengubah dataframe menjadi array\n",
    "X = X_dummy.values"
   ]
  },
  {
   "cell_type": "markdown",
   "id": "30045a41",
   "metadata": {},
   "source": [
    "## Melakukan proses training dan testing data"
   ]
  },
  {
   "cell_type": "code",
   "execution_count": 39,
   "id": "7b3f462a",
   "metadata": {},
   "outputs": [],
   "source": [
    "from sklearn.model_selection import train_test_split\n",
    "\n",
    "X_train, X_test, y_train, y_test = train_test_split(X, y, test_size = 0.3, random_state = 1)"
   ]
  },
  {
   "cell_type": "code",
   "execution_count": 40,
   "id": "a5ec69df",
   "metadata": {},
   "outputs": [
    {
     "name": "stdout",
     "output_type": "stream",
     "text": [
      "Dimensi atribut data latih = (20682, 47)\n",
      "Dimensi target data latih = (20682,)\n",
      "Dimensi atribut data uji = (8865, 47)\n",
      "Dimensi target data uji = (8865,)\n"
     ]
    }
   ],
   "source": [
    "# mengetahui dimensi dari data atribut dan target\n",
    "\n",
    "print(f\"Dimensi atribut data latih = {X_train.shape}\")\n",
    "print(f\"Dimensi target data latih = {y_train.shape}\")\n",
    "print(f\"Dimensi atribut data uji = {X_test.shape}\")\n",
    "print(f\"Dimensi target data uji = {y_test.shape}\")"
   ]
  },
  {
   "cell_type": "markdown",
   "id": "0e2c949d",
   "metadata": {},
   "source": [
    "### Melakukan standarisasi data menggunakan StandardScaler"
   ]
  },
  {
   "cell_type": "code",
   "execution_count": 41,
   "id": "53b7e706",
   "metadata": {},
   "outputs": [],
   "source": [
    "# instansiasi kelas StandardScaler\n",
    "standard_scaler = StandardScaler()\n",
    "\n",
    "# fit scaler ke train data\n",
    "standard_scaler.fit(X_train)\n",
    "\n",
    "# transform data dengan menggunakan scaler\n",
    "X_train = standard_scaler.transform(X_train)\n",
    "X_test = standard_scaler.transform(X_test)"
   ]
  },
  {
   "cell_type": "markdown",
   "id": "3457b6e9",
   "metadata": {},
   "source": [
    "## Model Machine Learning"
   ]
  },
  {
   "cell_type": "markdown",
   "id": "37311259",
   "metadata": {},
   "source": [
    "### Logistic Regression"
   ]
  },
  {
   "cell_type": "markdown",
   "id": "9f6dfc79",
   "metadata": {},
   "source": [
    "#### Hyperparameter tuning Logistic Regression"
   ]
  },
  {
   "cell_type": "code",
   "execution_count": 42,
   "id": "feb817a0",
   "metadata": {},
   "outputs": [
    {
     "name": "stdout",
     "output_type": "stream",
     "text": [
      "Parameter terbaik:  {'C': 0.30000000000000004}\n",
      "Skor terbaik: 0.9270076805720657\n"
     ]
    }
   ],
   "source": [
    "from sklearn.linear_model import LogisticRegression\n",
    "\n",
    "parameters = {'C':[(10**i)*x for i in range(-4, 1) for x in [1,3,5]]}\n",
    "from sklearn.model_selection import RandomizedSearchCV\n",
    "\n",
    "model_lr = LogisticRegression(class_weight='balanced')\n",
    "clf = RandomizedSearchCV(model_lr, parameters, cv=5, random_state=1, scoring='roc_auc', return_train_score=True, n_jobs=-1)\n",
    "clf.fit(X_train, y_train)\n",
    "print('Parameter terbaik:  {}'.format(clf.best_params_))\n",
    "print('Skor terbaik: {}'.format(clf.best_score_))"
   ]
  },
  {
   "cell_type": "markdown",
   "id": "9e52140b",
   "metadata": {},
   "source": [
    "#### Training Logistic Regression dengan hyperparameter terbaik"
   ]
  },
  {
   "cell_type": "code",
   "execution_count": 43,
   "id": "136c0624",
   "metadata": {},
   "outputs": [
    {
     "data": {
      "text/plain": [
       "LogisticRegression(C=0.3)"
      ]
     },
     "execution_count": 43,
     "metadata": {},
     "output_type": "execute_result"
    }
   ],
   "source": [
    "model_lr = LogisticRegression(C=0.3)\n",
    "model_lr.fit(X_train, y_train)"
   ]
  },
  {
   "cell_type": "code",
   "execution_count": 44,
   "id": "1d9c3526",
   "metadata": {},
   "outputs": [
    {
     "name": "stdout",
     "output_type": "stream",
     "text": [
      "Accuracy:  0.9191201353637902\n"
     ]
    }
   ],
   "source": [
    "y_pred1 = model_lr.predict(X_test)\n",
    "print(\"Accuracy: \", accuracy_score(y_test, y_pred1))"
   ]
  },
  {
   "cell_type": "code",
   "execution_count": 45,
   "id": "23b51974",
   "metadata": {},
   "outputs": [
    {
     "data": {
      "text/plain": [
       "array([[7860,  180],\n",
       "       [ 537,  288]], dtype=int64)"
      ]
     },
     "execution_count": 45,
     "metadata": {},
     "output_type": "execute_result"
    }
   ],
   "source": [
    "# Evaluasi model Logistic Regression\n",
    "\n",
    "acc_lr=accuracy_score(y_test,y_pred1)\n",
    "recall_lr=recall_score(y_test,y_pred1)\n",
    "precision_lr=precision_score(y_test,y_pred1)\n",
    "f1score_lr=f1_score(y_test,y_pred1)\n",
    "\n",
    "matrix_1 = confusion_matrix(y_test, y_pred1)\n",
    "matrix_1"
   ]
  },
  {
   "cell_type": "code",
   "execution_count": 46,
   "id": "6843ef46",
   "metadata": {},
   "outputs": [
    {
     "name": "stdout",
     "output_type": "stream",
     "text": [
      "TN: 7860\n",
      "FP: 180\n",
      "FN: 537\n",
      "TP: 288\n"
     ]
    }
   ],
   "source": [
    "tn, fp, fn, tp = matrix_1.ravel()\n",
    "\n",
    "print(f'TN: {tn}')\n",
    "print(f'FP: {fp}')\n",
    "print(f'FN: {fn}')\n",
    "print(f'TP: {tp}')"
   ]
  },
  {
   "cell_type": "code",
   "execution_count": 47,
   "id": "8184d4b7",
   "metadata": {
    "scrolled": true
   },
   "outputs": [
    {
     "name": "stdout",
     "output_type": "stream",
     "text": [
      "[[7860  180]\n",
      " [ 537  288]]\n"
     ]
    },
    {
     "data": {
      "image/png": "[encoded data removed]",
      "text/plain": [
       "<Figure size 432x288 with 2 Axes>"
      ]
     },
     "metadata": {
      "needs_background": "light"
     },
     "output_type": "display_data"
    }
   ],
   "source": [
    "cm=confusion_matrix(y_test,y_pred1)\n",
    "print(cm)\n",
    "sns.heatmap(cm,annot=True)\n",
    "plt.show()"
   ]
  },
  {
   "cell_type": "markdown",
   "id": "0f6e842d",
   "metadata": {},
   "source": [
    "### K-Nearest Neighbors"
   ]
  },
  {
   "cell_type": "code",
   "execution_count": 48,
   "id": "0c312873",
   "metadata": {},
   "outputs": [
    {
     "data": {
      "text/plain": [
       "KNeighborsClassifier(n_neighbors=7)"
      ]
     },
     "execution_count": 48,
     "metadata": {},
     "output_type": "execute_result"
    }
   ],
   "source": [
    "from sklearn.neighbors import KNeighborsClassifier\n",
    "\n",
    "model_neighbors = KNeighborsClassifier(n_neighbors=7)\n",
    "model_neighbors.fit(X_train, y_train)"
   ]
  },
  {
   "cell_type": "code",
   "execution_count": 49,
   "id": "e788e613",
   "metadata": {},
   "outputs": [
    {
     "name": "stdout",
     "output_type": "stream",
     "text": [
      "Accuracy:  0.9093062605752961\n"
     ]
    }
   ],
   "source": [
    "y_pred1_ = model_neighbors.predict(X_test)\n",
    "print(\"Accuracy: \", accuracy_score(y_test, y_pred1_))"
   ]
  },
  {
   "cell_type": "code",
   "execution_count": 50,
   "id": "d753b384",
   "metadata": {},
   "outputs": [
    {
     "data": {
      "text/plain": [
       "array([[7890,  150],\n",
       "       [ 654,  171]], dtype=int64)"
      ]
     },
     "execution_count": 50,
     "metadata": {},
     "output_type": "execute_result"
    }
   ],
   "source": [
    "# Evaluasi model K-Nearest Neighbors\n",
    "\n",
    "acc_kNN=accuracy_score(y_test,y_pred1_)\n",
    "recall_kNN=recall_score(y_test,y_pred1_)\n",
    "precision_kNN=precision_score(y_test,y_pred1_)\n",
    "f1_score_kNN=f1_score(y_test,y_pred1_)\n",
    "\n",
    "matrix1_ = confusion_matrix(y_test, y_pred1_)\n",
    "matrix1_"
   ]
  },
  {
   "cell_type": "code",
   "execution_count": 51,
   "id": "c2b82820",
   "metadata": {},
   "outputs": [
    {
     "name": "stdout",
     "output_type": "stream",
     "text": [
      "TN: 7890\n",
      "FP: 150\n",
      "FN: 654\n",
      "TP: 171\n"
     ]
    }
   ],
   "source": [
    "tn1_, fp1_, fn1_, tp1_ = matrix1_.ravel()\n",
    "\n",
    "print(f'TN: {tn1_}')\n",
    "print(f'FP: {fp1_}')\n",
    "print(f'FN: {fn1_}')\n",
    "print(f'TP: {tp1_}')"
   ]
  },
  {
   "cell_type": "code",
   "execution_count": 52,
   "id": "9cffbabe",
   "metadata": {},
   "outputs": [
    {
     "name": "stdout",
     "output_type": "stream",
     "text": [
      "[[7890  150]\n",
      " [ 654  171]]\n"
     ]
    },
    {
     "data": {
      "image/png": "[encoded data removed]",
      "text/plain": [
       "<Figure size 432x288 with 2 Axes>"
      ]
     },
     "metadata": {
      "needs_background": "light"
     },
     "output_type": "display_data"
    }
   ],
   "source": [
    "cm1_=confusion_matrix(y_test,y_pred1_)\n",
    "print(cm1_)\n",
    "sns.heatmap(cm1_,annot=True)\n",
    "plt.show()"
   ]
  },
  {
   "cell_type": "markdown",
   "id": "32d34d1b",
   "metadata": {},
   "source": [
    "### SVC"
   ]
  },
  {
   "cell_type": "markdown",
   "id": "da497850",
   "metadata": {},
   "source": [
    "#### Hyperparameter tuning SVC"
   ]
  },
  {
   "cell_type": "code",
   "execution_count": 53,
   "id": "20c24ce5",
   "metadata": {},
   "outputs": [
    {
     "name": "stdout",
     "output_type": "stream",
     "text": [
      "parameter terbaik:  {'alpha': 0.01}\n",
      "skor terbaik: 0.924970209531579\n"
     ]
    }
   ],
   "source": [
    "from sklearn.linear_model import SGDClassifier\n",
    "\n",
    "params = {'alpha': [10**i for i in range(-4, 5)]}\n",
    "CV_model_svc = SGDClassifier(class_weight='balanced', n_jobs=-1)\n",
    "clf = RandomizedSearchCV(CV_model_svc, param_distributions=params, cv=5, scoring='roc_auc', random_state=1, n_jobs=-1, return_train_score=True)\n",
    "clf.fit(X_train, y_train)\n",
    "print('parameter terbaik:  {}'.format(clf.best_params_))\n",
    "print('skor terbaik: {}'.format(clf.best_score_))"
   ]
  },
  {
   "cell_type": "markdown",
   "id": "b54b956e",
   "metadata": {},
   "source": [
    "#### Training SVC dengan hyperparameter terbaik"
   ]
  },
  {
   "cell_type": "code",
   "execution_count": 54,
   "id": "dd8b73a1",
   "metadata": {},
   "outputs": [
    {
     "name": "stdout",
     "output_type": "stream",
     "text": [
      "Accuracy:  0.8341793570219966\n"
     ]
    }
   ],
   "source": [
    "from sklearn.svm import SVC\n",
    "CV_model_svc = SGDClassifier(alpha=0.01, class_weight='balanced', n_jobs=-1)\n",
    "CV_model_svc.fit(X_train, y_train)\n",
    "\n",
    "y_pred2 = CV_model_svc.predict(X_test)\n",
    "print(\"Accuracy: \", accuracy_score(y_test, y_pred2))"
   ]
  },
  {
   "cell_type": "code",
   "execution_count": 55,
   "id": "6c19d3b4",
   "metadata": {},
   "outputs": [
    {
     "data": {
      "text/plain": [
       "array([[6656, 1384],\n",
       "       [  86,  739]], dtype=int64)"
      ]
     },
     "execution_count": 55,
     "metadata": {},
     "output_type": "execute_result"
    }
   ],
   "source": [
    "# Melakukan evaluasi model K-Nearest Neighbors\n",
    "\n",
    "acc_SVC=accuracy_score(y_test,y_pred2)\n",
    "recall_SVC=recall_score(y_test,y_pred2)\n",
    "precision_SVC=precision_score(y_test,y_pred2)\n",
    "f1score_SVC=f1_score(y_test,y_pred2)\n",
    "\n",
    "matrix_2 = confusion_matrix(y_test, y_pred2)\n",
    "matrix_2"
   ]
  },
  {
   "cell_type": "code",
   "execution_count": 56,
   "id": "4789add6",
   "metadata": {},
   "outputs": [
    {
     "name": "stdout",
     "output_type": "stream",
     "text": [
      "TN: 6656\n",
      "FP: 1384\n",
      "FN: 86\n",
      "TP: 739\n"
     ]
    }
   ],
   "source": [
    "tn2, fp2, fn2, tp2 = matrix_2.ravel()\n",
    "\n",
    "print(f'TN: {tn2}')\n",
    "print(f'FP: {fp2}')\n",
    "print(f'FN: {fn2}')\n",
    "print(f'TP: {tp2}')"
   ]
  },
  {
   "cell_type": "code",
   "execution_count": 57,
   "id": "ee84cfc1",
   "metadata": {},
   "outputs": [
    {
     "name": "stdout",
     "output_type": "stream",
     "text": [
      "[[7860  180]\n",
      " [ 537  288]]\n"
     ]
    },
    {
     "data": {
      "image/png": "[encoded data removed]",
      "text/plain": [
       "<Figure size 432x288 with 2 Axes>"
      ]
     },
     "metadata": {
      "needs_background": "light"
     },
     "output_type": "display_data"
    }
   ],
   "source": [
    "cm_2=confusion_matrix(y_test,y_pred2)\n",
    "print(cm)\n",
    "sns.heatmap(cm_2,annot=True)\n",
    "plt.show()"
   ]
  },
  {
   "cell_type": "markdown",
   "id": "ed65fb52",
   "metadata": {},
   "source": [
    "### Decision Tree"
   ]
  },
  {
   "cell_type": "code",
   "execution_count": 58,
   "id": "22855005",
   "metadata": {},
   "outputs": [
    {
     "name": "stdout",
     "output_type": "stream",
     "text": [
      "Accuracy:  0.8979131415679639\n"
     ]
    }
   ],
   "source": [
    "from sklearn.tree import DecisionTreeClassifier\n",
    "model_tree = DecisionTreeClassifier(max_depth=25)\n",
    "model_tree.fit(X_train, y_train)\n",
    "\n",
    "y_pred3 = model_tree.predict(X_test)\n",
    "print(\"Accuracy: \", accuracy_score(y_test, y_pred3))"
   ]
  },
  {
   "cell_type": "code",
   "execution_count": 59,
   "id": "8994d2fb",
   "metadata": {},
   "outputs": [
    {
     "data": {
      "text/plain": [
       "array([[7558,  482],\n",
       "       [ 423,  402]], dtype=int64)"
      ]
     },
     "execution_count": 59,
     "metadata": {},
     "output_type": "execute_result"
    }
   ],
   "source": [
    "# Evaluasi model Decision Tree\n",
    "\n",
    "acc_tree=accuracy_score(y_test,y_pred3)\n",
    "recall_tree=recall_score(y_test,y_pred3)\n",
    "precision_tree=precision_score(y_test,y_pred3)\n",
    "f1score_tree=f1_score(y_test,y_pred3)\n",
    "\n",
    "matrix_3 = confusion_matrix(y_test, y_pred3)\n",
    "matrix_3"
   ]
  },
  {
   "cell_type": "code",
   "execution_count": 60,
   "id": "72710c87",
   "metadata": {},
   "outputs": [
    {
     "name": "stdout",
     "output_type": "stream",
     "text": [
      "TN: 7558\n",
      "FP: 482\n",
      "FN: 423\n",
      "TP: 402\n"
     ]
    }
   ],
   "source": [
    "tn3, fp3, fn3, tp3 = matrix_3.ravel()\n",
    "\n",
    "print(f'TN: {tn3}')\n",
    "print(f'FP: {fp3}')\n",
    "print(f'FN: {fn3}')\n",
    "print(f'TP: {tp3}')"
   ]
  },
  {
   "cell_type": "code",
   "execution_count": 61,
   "id": "d8d2bc30",
   "metadata": {},
   "outputs": [
    {
     "name": "stdout",
     "output_type": "stream",
     "text": [
      "[[7558  482]\n",
      " [ 423  402]]\n"
     ]
    },
    {
     "data": {
      "image/png": "[encoded data removed]",
      "text/plain": [
       "<Figure size 432x288 with 2 Axes>"
      ]
     },
     "metadata": {
      "needs_background": "light"
     },
     "output_type": "display_data"
    }
   ],
   "source": [
    "cm_3=confusion_matrix(y_test,y_pred3)\n",
    "print(cm_3)\n",
    "sns.heatmap(cm_3,annot=True)\n",
    "plt.show()"
   ]
  },
  {
   "cell_type": "markdown",
   "id": "62ee5f9c",
   "metadata": {},
   "source": [
    "### Random Forest"
   ]
  },
  {
   "cell_type": "markdown",
   "id": "b9a18cc9",
   "metadata": {},
   "source": [
    "#### Hyperparameter Tuning Random Forest"
   ]
  },
  {
   "cell_type": "code",
   "execution_count": 62,
   "id": "68bb20af",
   "metadata": {},
   "outputs": [
    {
     "name": "stdout",
     "output_type": "stream",
     "text": [
      "Best parameters:  {'n_estimators': 250, 'max_depth': 15}\n",
      "Best score: 0.9316332665920142\n"
     ]
    }
   ],
   "source": [
    "from sklearn.ensemble import RandomForestClassifier\n",
    "\n",
    "params = {'n_estimators':[75, 100, 250, 500], 'max_depth':[3, 5, 10, 15, 25]}\n",
    "model = RandomForestClassifier(class_weight='balanced', n_jobs=-1)\n",
    "clf_rFs = RandomizedSearchCV(model, param_distributions=params, cv=5, scoring='roc_auc', random_state=1, n_jobs=-1, return_train_score=True)\n",
    "clf_rFs.fit(X_train, y_train)\n",
    "print('Best parameters:  {}'.format(clf_rFs.best_params_))\n",
    "print('Best score: {}'.format(clf_rFs.best_score_))"
   ]
  },
  {
   "cell_type": "markdown",
   "id": "4a11df6f",
   "metadata": {},
   "source": [
    "#### Training Random Forest dengan hyperparameter terbaik"
   ]
  },
  {
   "cell_type": "code",
   "execution_count": 63,
   "id": "bed82f36",
   "metadata": {
    "scrolled": true
   },
   "outputs": [
    {
     "name": "stdout",
     "output_type": "stream",
     "text": [
      "Accuracy:  0.9219402143260012\n"
     ]
    }
   ],
   "source": [
    "from sklearn.ensemble import RandomForestClassifier\n",
    "model_rFs = RandomForestClassifier(n_estimators = 250, max_depth = 15)\n",
    "model_rFs.fit(X_train, y_train)\n",
    "\n",
    "y_pred4 = model_rFs.predict(X_test)\n",
    "print(\"Accuracy: \", accuracy_score(y_test, y_pred4))"
   ]
  },
  {
   "cell_type": "code",
   "execution_count": 64,
   "id": "b86a69ae",
   "metadata": {},
   "outputs": [
    {
     "data": {
      "text/plain": [
       "array([[7886,  154],\n",
       "       [ 538,  287]], dtype=int64)"
      ]
     },
     "execution_count": 64,
     "metadata": {},
     "output_type": "execute_result"
    }
   ],
   "source": [
    "y_pred4 = model_rFs.predict(X_test)\n",
    "acc_rFs=accuracy_score(y_test,y_pred4)\n",
    "recall_rFs=recall_score(y_test,y_pred4)\n",
    "precision_rFs=precision_score(y_test,y_pred4)\n",
    "f1score_rFs=f1_score(y_test,y_pred4)\n",
    "\n",
    "matrix_4 = confusion_matrix(y_test, y_pred4)\n",
    "matrix_4"
   ]
  },
  {
   "cell_type": "code",
   "execution_count": 65,
   "id": "fef52455",
   "metadata": {},
   "outputs": [
    {
     "name": "stdout",
     "output_type": "stream",
     "text": [
      "TN: 7886\n",
      "FP: 154\n",
      "FN: 538\n",
      "TP: 287\n"
     ]
    }
   ],
   "source": [
    "tn4, fp4, fn4, tp4 = matrix_4.ravel()\n",
    "\n",
    "print(f'TN: {tn4}')\n",
    "print(f'FP: {fp4}')\n",
    "print(f'FN: {fn4}')\n",
    "print(f'TP: {tp4}')"
   ]
  },
  {
   "cell_type": "code",
   "execution_count": 66,
   "id": "7721419f",
   "metadata": {},
   "outputs": [
    {
     "name": "stdout",
     "output_type": "stream",
     "text": [
      "[[7886  154]\n",
      " [ 538  287]]\n"
     ]
    },
    {
     "data": {
      "image/png": "[encoded data removed]",
      "text/plain": [
       "<Figure size 432x288 with 2 Axes>"
      ]
     },
     "metadata": {
      "needs_background": "light"
     },
     "output_type": "display_data"
    }
   ],
   "source": [
    "cm_4=confusion_matrix(y_test,y_pred4)\n",
    "print(cm_4)\n",
    "sns.heatmap(cm_4,annot=True)\n",
    "plt.show()"
   ]
  },
  {
   "cell_type": "markdown",
   "id": "d44b2b9a",
   "metadata": {},
   "source": [
    "### Naive Bayes"
   ]
  },
  {
   "cell_type": "code",
   "execution_count": 67,
   "id": "f6c6e4e5",
   "metadata": {},
   "outputs": [
    {
     "name": "stdout",
     "output_type": "stream",
     "text": [
      "Accuracy:  0.7208121827411168\n"
     ]
    }
   ],
   "source": [
    "from sklearn.naive_bayes import GaussianNB\n",
    "model_naive_bayes = GaussianNB()\n",
    "model_naive_bayes.fit(X_train, y_train)\n",
    "\n",
    "y_pred5 = model_naive_bayes.predict(X_test)\n",
    "print(\"Accuracy: \", accuracy_score(y_test, y_pred5))"
   ]
  },
  {
   "cell_type": "code",
   "execution_count": 68,
   "id": "c393eeb5",
   "metadata": {},
   "outputs": [
    {
     "data": {
      "text/plain": [
       "array([[5720, 2320],\n",
       "       [ 155,  670]], dtype=int64)"
      ]
     },
     "execution_count": 68,
     "metadata": {},
     "output_type": "execute_result"
    }
   ],
   "source": [
    "# evaluasi model Naive Bayes\n",
    "\n",
    "acc_naive_bayes=accuracy_score(y_test,y_pred5)\n",
    "recall_naive_bayes=recall_score(y_test,y_pred5)\n",
    "precision_naive_bayes=precision_score(y_test,y_pred5)\n",
    "f1_score_naive_bayes=f1_score(y_test,y_pred5)\n",
    "\n",
    "matrix_5 = confusion_matrix(y_test, y_pred5)\n",
    "matrix_5"
   ]
  },
  {
   "cell_type": "code",
   "execution_count": 69,
   "id": "d5cfaf76",
   "metadata": {},
   "outputs": [
    {
     "name": "stdout",
     "output_type": "stream",
     "text": [
      "TN: 5720\n",
      "FP: 2320\n",
      "FN: 155\n",
      "TP: 670\n"
     ]
    }
   ],
   "source": [
    "tn5, fp5, fn5, tp5 = matrix_5.ravel()\n",
    "\n",
    "print(f'TN: {tn5}')\n",
    "print(f'FP: {fp5}')\n",
    "print(f'FN: {fn5}')\n",
    "print(f'TP: {tp5}')"
   ]
  },
  {
   "cell_type": "code",
   "execution_count": 70,
   "id": "1a8d38a6",
   "metadata": {},
   "outputs": [
    {
     "name": "stdout",
     "output_type": "stream",
     "text": [
      "[[5720 2320]\n",
      " [ 155  670]]\n"
     ]
    },
    {
     "data": {
      "image/png": "[encoded data removed]",
      "text/plain": [
       "<Figure size 432x288 with 2 Axes>"
      ]
     },
     "metadata": {
      "needs_background": "light"
     },
     "output_type": "display_data"
    }
   ],
   "source": [
    "cm_5=confusion_matrix(y_test,y_pred5)\n",
    "print(cm_5)\n",
    "sns.heatmap(cm_5,annot=True)\n",
    "plt.show()"
   ]
  },
  {
   "cell_type": "markdown",
   "id": "3a259eeb",
   "metadata": {},
   "source": [
    "## Model terbaik"
   ]
  },
  {
   "cell_type": "code",
   "execution_count": 71,
   "id": "782a168e",
   "metadata": {},
   "outputs": [
    {
     "data": {
      "text/html": [
       "<div>\n",
       "<style scoped>\n",
       "    .dataframe tbody tr th:only-of-type {\n",
       "        vertical-align: middle;\n",
       "    }\n",
       "\n",
       "    .dataframe tbody tr th {\n",
       "        vertical-align: top;\n",
       "    }\n",
       "\n",
       "    .dataframe thead th {\n",
       "        text-align: right;\n",
       "    }\n",
       "</style>\n",
       "<table border=\"1\" class=\"dataframe\">\n",
       "  <thead>\n",
       "    <tr style=\"text-align: right;\">\n",
       "      <th></th>\n",
       "      <th>Accuracy</th>\n",
       "      <th>Recall</th>\n",
       "      <th>Precision</th>\n",
       "      <th>F1_Score</th>\n",
       "    </tr>\n",
       "  </thead>\n",
       "  <tbody>\n",
       "    <tr>\n",
       "      <th>Logistic Regression</th>\n",
       "      <td>0.919120</td>\n",
       "      <td>0.349091</td>\n",
       "      <td>0.615385</td>\n",
       "      <td>0.445476</td>\n",
       "    </tr>\n",
       "    <tr>\n",
       "      <th>KNeighbors</th>\n",
       "      <td>0.909306</td>\n",
       "      <td>0.207273</td>\n",
       "      <td>0.532710</td>\n",
       "      <td>0.298429</td>\n",
       "    </tr>\n",
       "    <tr>\n",
       "      <th>SVM</th>\n",
       "      <td>0.834179</td>\n",
       "      <td>0.895758</td>\n",
       "      <td>0.348092</td>\n",
       "      <td>0.501357</td>\n",
       "    </tr>\n",
       "    <tr>\n",
       "      <th>Decision Tree</th>\n",
       "      <td>0.897913</td>\n",
       "      <td>0.487273</td>\n",
       "      <td>0.454751</td>\n",
       "      <td>0.470451</td>\n",
       "    </tr>\n",
       "    <tr>\n",
       "      <th>Random Forest</th>\n",
       "      <td>0.921940</td>\n",
       "      <td>0.347879</td>\n",
       "      <td>0.650794</td>\n",
       "      <td>0.453397</td>\n",
       "    </tr>\n",
       "    <tr>\n",
       "      <th>Naive Bayes</th>\n",
       "      <td>0.720812</td>\n",
       "      <td>0.812121</td>\n",
       "      <td>0.224080</td>\n",
       "      <td>0.351245</td>\n",
       "    </tr>\n",
       "  </tbody>\n",
       "</table>\n",
       "</div>"
      ],
      "text/plain": [
       "                     Accuracy    Recall  Precision  F1_Score\n",
       "Logistic Regression  0.919120  0.349091   0.615385  0.445476\n",
       "KNeighbors           0.909306  0.207273   0.532710  0.298429\n",
       "SVM                  0.834179  0.895758   0.348092  0.501357\n",
       "Decision Tree        0.897913  0.487273   0.454751  0.470451\n",
       "Random Forest        0.921940  0.347879   0.650794  0.453397\n",
       "Naive Bayes          0.720812  0.812121   0.224080  0.351245"
      ]
     },
     "execution_count": 71,
     "metadata": {},
     "output_type": "execute_result"
    }
   ],
   "source": [
    "index_data=['Logistic Regression', 'KNeighbors', 'SVM','Decision Tree', 'Random Forest', 'Naive Bayes']\n",
    "data={\"Accuracy\":[acc_lr,acc_kNN,acc_SVC,acc_tree,acc_rFs,acc_naive_bayes],\n",
    "      \"Recall\":[recall_lr,recall_kNN,recall_SVC,recall_tree,recall_rFs,recall_naive_bayes],\n",
    "      \"Precision\":[precision_lr,precision_kNN,precision_SVC,precision_tree,precision_rFs,precision_naive_bayes],\n",
    "      \"F1_Score\":[f1score_lr,f1_score_kNN,f1score_SVC,f1score_tree,f1score_rFs,f1_score_naive_bayes]}\n",
    "result=pd.DataFrame(data=data,index=index_data)\n",
    "result"
   ]
  },
  {
   "cell_type": "markdown",
   "id": "645c3ded",
   "metadata": {},
   "source": [
    "### Overall Analysis:"
   ]
  },
  {
   "cell_type": "markdown",
   "id": "82449245",
   "metadata": {},
   "source": [
    "Model dengan Random Forest dianggap sebagai model terbaik. Dari 6 model diatas, Random Forest memiliki akurasi tertinggi 0.921940"
   ]
  }
 ],
 "metadata": {
  "kernelspec": {
   "display_name": "Python 3 (ipykernel)",
   "language": "python",
   "name": "python3"
  },
  "language_info": {
   "codemirror_mode": {
    "name": "ipython",
    "version": 3
   },
   "file_extension": ".py",
   "mimetype": "text/x-python",
   "name": "python",
   "nbconvert_exporter": "python",
   "pygments_lexer": "ipython3",
   "version": "3.9.12"
  }
 },
 "nbformat": 4,
 "nbformat_minor": 5
}
