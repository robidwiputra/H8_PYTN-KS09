{
 "cells": [
  {
   "cell_type": "code",
   "execution_count": 5,
   "id": "bf9aa22d",
   "metadata": {},
   "outputs": [
    {
     "name": "stdout",
     "output_type": "stream",
     "text": [
      "doni pesan sate\n",
      "doni pesan ayam\n",
      "doni pesan bakso\n"
     ]
    }
   ],
   "source": [
    "makanan = (\"sate\", \"ayam\", \"bakso\")\n",
    "i = 0\n",
    "while (i < 3):\n",
    "    print(\"doni pesan {}\". format(makanan[i]))\n",
    "    i = i + 1"
   ]
  },
  {
   "cell_type": "code",
   "execution_count": 13,
   "id": "63fd6a5e",
   "metadata": {},
   "outputs": [
    {
     "name": "stdout",
     "output_type": "stream",
     "text": [
      "doni pesan sate\n",
      "doni pesan ayam\n",
      "doni pesan bakso\n",
      "doni pesan bihun\n"
     ]
    }
   ],
   "source": [
    "makanan = (\"sate\", \"ayam\", \"bakso\", \"bihun\")\n",
    "i = 0\n",
    "while i < len(makanan):\n",
    "    print(\"doni pesan {}\". format(makanan[i]))\n",
    "    i = i + 1"
   ]
  },
  {
   "cell_type": "code",
   "execution_count": 19,
   "id": "f97f8d37",
   "metadata": {},
   "outputs": [
    {
     "name": "stdout",
     "output_type": "stream",
     "text": [
      "hello world!\n",
      "hello world!\n"
     ]
    }
   ],
   "source": [
    "for x in range(2):\n",
    "    print(\"hello world!\")\n",
    "\n"
   ]
  },
  {
   "cell_type": "code",
   "execution_count": 32,
   "id": "99af8604",
   "metadata": {},
   "outputs": [
    {
     "name": "stdout",
     "output_type": "stream",
     "text": [
      "doni pesan sate\n",
      "doni pesan ayam\n",
      "doni pesan bakso\n",
      "doni pesan bihun\n"
     ]
    }
   ],
   "source": [
    "makanan = (\"sate\", \"ayam\", \"bakso\", \"bihun\")\n",
    "i = 0\n",
    "for x in range(4):\n",
    "    print(\"doni pesan {}\". format(makanan[i]))\n",
    "    i = i + 1"
   ]
  },
  {
   "cell_type": "code",
   "execution_count": 40,
   "id": "4e730cec",
   "metadata": {},
   "outputs": [
    {
     "name": "stdout",
     "output_type": "stream",
     "text": [
      "Anda memesan ayam\n",
      "Anda memesan kentang\n",
      "Anda memesan bihun\n",
      "Anda memesan udang\n"
     ]
    }
   ],
   "source": [
    "pesanan = (\"ayam\", \"kentang\", \"bihun\", \"udang\")\n",
    "for pesan in pesanan:\n",
    "    print(f\"Anda memesan {pesan}\")"
   ]
  },
  {
   "cell_type": "code",
   "execution_count": 48,
   "id": "22715af9",
   "metadata": {},
   "outputs": [
    {
     "name": "stdout",
     "output_type": "stream",
     "text": [
      "Anda memesan ayam\n",
      "Anda memesan kentang\n",
      "Anda memesan bihun\n",
      "Anda memesan udang\n"
     ]
    }
   ],
   "source": [
    "pesanan = (\"ayam\", \"kentang\", \"bihun\", \"udang\")\n",
    "i = 0\n",
    "for pesan in pesanan:\n",
    "    print(\"Anda memesan {}\". format(pesanan[i]))\n",
    "    i = i + 1"
   ]
  },
  {
   "cell_type": "code",
   "execution_count": null,
   "id": "817571ec",
   "metadata": {},
   "outputs": [],
   "source": []
  }
 ],
 "metadata": {
  "kernelspec": {
   "display_name": "Python 3 (ipykernel)",
   "language": "python",
   "name": "python3"
  },
  "language_info": {
   "codemirror_mode": {
    "name": "ipython",
    "version": 3
   },
   "file_extension": ".py",
   "mimetype": "text/x-python",
   "name": "python",
   "nbconvert_exporter": "python",
   "pygments_lexer": "ipython3",
   "version": "3.9.12"
  }
 },
 "nbformat": 4,
 "nbformat_minor": 5
}
